{
  "nbformat": 4,
  "nbformat_minor": 0,
  "metadata": {
    "colab": {
      "name": "Max Profit with K Transactions.ipynb",
      "provenance": [],
      "collapsed_sections": []
    },
    "kernelspec": {
      "name": "python3",
      "display_name": "Python 3"
    }
  },
  "cells": [
    {
      "cell_type": "code",
      "metadata": {
        "id": "wkH75Pwiq2HJ"
      },
      "source": [
        "\"\"\"\r\n",
        "You’re given an array of positive integers representing the prices of a single stock on various days (each index in the array represents a different day).\r\n",
        "You’re also given an integer K, which represents the number of transactions you’re allowed to make.\r\n",
        "One transaction consists of buying the stock on a given day and selling it on another, later day.\r\n",
        "You’re asked to write a function that returns the maximum profit that you can make by buying and selling the stock given K transactions.\r\n",
        "Note you can only hold one share of the stock at a time; in other words, you cant buy more than one share of the stock on any given day,\r\n",
        "and you cant buy more than one share of the stock on any given day, and you cant buy a share of the stock if you’re still holding another share.\r\n",
        "Also, you don’t need to use all K transactions that you’re allowed.\r\n",
        "\"\"\""
      ],
      "execution_count": null,
      "outputs": []
    },
    {
      "cell_type": "code",
      "metadata": {
        "id": "0ZMz0pSfq_fL",
        "colab": {
          "base_uri": "https://localhost:8080/"
        },
        "outputId": "9277236e-ad4a-4da3-b461-bb7363dae919"
      },
      "source": [
        "values = [5, 11, 3, 50, 60, 90]\r\n",
        "\r\n",
        "records = []\r\n",
        "for i, v in enumerate(values):\r\n",
        "  array = values[i + 1:]\r\n",
        "  for j, a_v in enumerate(array, start = i + 1):\r\n",
        "    print(i, v - a_v, j)\r\n",
        "    records.append([i, v - a_v, j])"
      ],
      "execution_count": 80,
      "outputs": [
        {
          "output_type": "stream",
          "text": [
            "0 -6 1\n",
            "0 2 2\n",
            "0 -45 3\n",
            "0 -55 4\n",
            "0 -85 5\n",
            "1 8 2\n",
            "1 -39 3\n",
            "1 -49 4\n",
            "1 -79 5\n",
            "2 -47 3\n",
            "2 -57 4\n",
            "2 -87 5\n",
            "3 -10 4\n",
            "3 -40 5\n",
            "4 -30 5\n"
          ],
          "name": "stdout"
        }
      ]
    },
    {
      "cell_type": "code",
      "metadata": {
        "id": "TvEUqans3eEW",
        "colab": {
          "base_uri": "https://localhost:8080/"
        },
        "outputId": "f557a87e-f1b6-4aa5-f745-0f0656afae72"
      },
      "source": [
        "valid_transactions = []\r\n",
        "for i, r in enumerate(records):\r\n",
        "  valid_transactions.append([r])\r\n",
        "  array = records[i + 1:]\r\n",
        "  for a_v in array:\r\n",
        "    if a_v[0] > valid_transactions[-1][-1][-1]:\r\n",
        "      valid_transactions[-1].append(a_v)\r\n",
        "\r\n",
        "valid_transactions"
      ],
      "execution_count": 82,
      "outputs": [
        {
          "output_type": "execute_result",
          "data": {
            "text/plain": [
              "[[[0, -6, 1], [2, -47, 3], [4, -30, 5]],\n",
              " [[0, 2, 2], [3, -10, 4]],\n",
              " [[0, -45, 3], [4, -30, 5]],\n",
              " [[0, -55, 4]],\n",
              " [[0, -85, 5]],\n",
              " [[1, 8, 2], [3, -10, 4]],\n",
              " [[1, -39, 3], [4, -30, 5]],\n",
              " [[1, -49, 4]],\n",
              " [[1, -79, 5]],\n",
              " [[2, -47, 3], [4, -30, 5]],\n",
              " [[2, -57, 4]],\n",
              " [[2, -87, 5]],\n",
              " [[3, -10, 4]],\n",
              " [[3, -40, 5]],\n",
              " [[4, -30, 5]]]"
            ]
          },
          "metadata": {
            "tags": []
          },
          "execution_count": 82
        }
      ]
    },
    {
      "cell_type": "code",
      "metadata": {
        "id": "rbRLV2_T4DEU",
        "colab": {
          "base_uri": "https://localhost:8080/"
        },
        "outputId": "6e5077e4-34de-4720-997f-598a8c0b137d"
      },
      "source": [
        "valid_transactions = []\r\n",
        "for i, r in enumerate(records):\r\n",
        "  valid_transactions.append(r)\r\n",
        "  array = records[i + 1:]\r\n",
        "  for a_v in array:\r\n",
        "    if a_v[0] > r[2]:\r\n",
        "      valid_transactions.append((r, a_v))\r\n",
        "\r\n",
        "valid_transactions"
      ],
      "execution_count": 84,
      "outputs": [
        {
          "output_type": "execute_result",
          "data": {
            "text/plain": [
              "[[0, -6, 1],\n",
              " ([0, -6, 1], [2, -47, 3]),\n",
              " ([0, -6, 1], [2, -57, 4]),\n",
              " ([0, -6, 1], [2, -87, 5]),\n",
              " ([0, -6, 1], [3, -10, 4]),\n",
              " ([0, -6, 1], [3, -40, 5]),\n",
              " ([0, -6, 1], [4, -30, 5]),\n",
              " [0, 2, 2],\n",
              " ([0, 2, 2], [3, -10, 4]),\n",
              " ([0, 2, 2], [3, -40, 5]),\n",
              " ([0, 2, 2], [4, -30, 5]),\n",
              " [0, -45, 3],\n",
              " ([0, -45, 3], [4, -30, 5]),\n",
              " [0, -55, 4],\n",
              " [0, -85, 5],\n",
              " [1, 8, 2],\n",
              " ([1, 8, 2], [3, -10, 4]),\n",
              " ([1, 8, 2], [3, -40, 5]),\n",
              " ([1, 8, 2], [4, -30, 5]),\n",
              " [1, -39, 3],\n",
              " ([1, -39, 3], [4, -30, 5]),\n",
              " [1, -49, 4],\n",
              " [1, -79, 5],\n",
              " [2, -47, 3],\n",
              " ([2, -47, 3], [4, -30, 5]),\n",
              " [2, -57, 4],\n",
              " [2, -87, 5],\n",
              " [3, -10, 4],\n",
              " [3, -40, 5],\n",
              " [4, -30, 5]]"
            ]
          },
          "metadata": {
            "tags": []
          },
          "execution_count": 84
        }
      ]
    },
    {
      "cell_type": "markdown",
      "metadata": {
        "id": "rXBUbOI2r6Fj"
      },
      "source": [
        "# Algoexpert.io"
      ]
    },
    {
      "cell_type": "code",
      "metadata": {
        "id": "Psn3RF5UKp7Z",
        "colab": {
          "base_uri": "https://localhost:8080/"
        },
        "outputId": "7816386f-3216-43a4-beb1-d668295e4464"
      },
      "source": [
        "days = [5, 11, 3, 50, 60, 90]\r\n",
        "max_transactions = 5\r\n",
        "#profits = [[0] * len(days) for k in range(k + 1)]\r\n",
        "profits = []\r\n",
        "for k in range(max_transactions + 1):\r\n",
        "  idx = 0\r\n",
        "  maxThusFar = float(\"-inf\")\r\n",
        "  if k == 0:\r\n",
        "    profits.append([0] * len(days))\r\n",
        "  else:\r\n",
        "    for i, d in enumerate(days):\r\n",
        "      if i == 0:\r\n",
        "        profits.append([0])\r\n",
        "      else:\r\n",
        "        temp_days = days[idx]\r\n",
        "        temp_profits = profits[0][idx]\r\n",
        "        temp_offset = temp_profits - temp_days\r\n",
        "        #print(temp_profits, temp_days)\r\n",
        "        if temp_offset > maxThusFar:\r\n",
        "          maxThusFar = temp_offset\r\n",
        "        profits[-1].append(max(profits[-1][-1], days[i] + maxThusFar))\r\n",
        "        idx += 1\r\n",
        "    if k <= max_transactions - 1:\r\n",
        "      del profits[0]\r\n",
        "print(profits)\r\n",
        "print(max(profits[-1]))"
      ],
      "execution_count": 79,
      "outputs": [
        {
          "output_type": "stream",
          "text": [
            "[[0, 6, 6, 53, 63, 93], [0, 6, 6, 53, 63, 93]]\n",
            "93\n"
          ],
          "name": "stdout"
        }
      ]
    },
    {
      "cell_type": "code",
      "metadata": {
        "colab": {
          "base_uri": "https://localhost:8080/"
        },
        "id": "EYuhnk_Tv7K2",
        "outputId": "a08cdf76-4149-400f-9231-d45e3509f310"
      },
      "source": [
        "days = [5, 11, 3, 50, 60, 90]\r\n",
        "max_transactions = 5\r\n",
        "profits = []\r\n",
        "for k in range(max_transactions + 1):\r\n",
        "  if k == 0:\r\n",
        "    profits.append([0] * len(days))\r\n",
        "  else:\r\n",
        "    for i, d in enumerate(days):\r\n",
        "      if i == 0:\r\n",
        "        profits.append([0])\r\n",
        "      else:\r\n",
        "        temp_days = days[0:i]\r\n",
        "        temp_profits = profits[0][0:i]\r\n",
        "        temp_offset = []\r\n",
        "        for idx, p in enumerate(temp_profits):\r\n",
        "          temp_offset.append(p - temp_days[idx])\r\n",
        "        max_offset = max(temp_offset)\r\n",
        "        profits[-1].append(max(profits[-1][-1], days[i] + max_offset))\r\n",
        "    if k <= max_transactions - 1:\r\n",
        "      del profits[0]\r\n",
        "print(profits)\r\n",
        "print(max(profits[-1]))"
      ],
      "execution_count": 77,
      "outputs": [
        {
          "output_type": "stream",
          "text": [
            "[[0, 6, 6, 53, 63, 93], [0, 6, 6, 53, 63, 93]]\n",
            "93\n"
          ],
          "name": "stdout"
        }
      ]
    },
    {
      "cell_type": "code",
      "metadata": {
        "id": "ewdp6GFcnRaq"
      },
      "source": [
        ""
      ],
      "execution_count": null,
      "outputs": []
    }
  ]
}
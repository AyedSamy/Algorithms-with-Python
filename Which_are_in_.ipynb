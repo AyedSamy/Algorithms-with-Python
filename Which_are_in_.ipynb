{
  "nbformat": 4,
  "nbformat_minor": 0,
  "metadata": {
    "colab": {
      "name": "Which are in?",
      "provenance": [],
      "collapsed_sections": []
    },
    "kernelspec": {
      "name": "python3",
      "display_name": "Python 3"
    },
    "language_info": {
      "name": "python"
    }
  },
  "cells": [
    {
      "cell_type": "code",
      "metadata": {
        "id": "3sdImmXUn4yq"
      },
      "source": [
        "\"\"\"\n",
        "Given two arrays of strings a1 and a2 return a sorted array r in lexicographical order of the strings of a1 which are substrings of strings of a2.\n",
        "\n",
        "Example 1:\n",
        "a1 = [\"arp\", \"live\", \"strong\"]\n",
        "\n",
        "a2 = [\"lively\", \"alive\", \"harp\", \"sharp\", \"armstrong\"]\n",
        "\n",
        "returns [\"arp\", \"live\", \"strong\"]\n",
        "\n",
        "Example 2:\n",
        "a1 = [\"tarp\", \"mice\", \"bull\"]\n",
        "\n",
        "a2 = [\"lively\", \"alive\", \"harp\", \"sharp\", \"armstrong\"]\n",
        "\n",
        "returns []\n",
        "\n",
        "Notes:\n",
        "Arrays are written in \"general\" notation. See \"Your Test Cases\" for examples in your language.\n",
        "\n",
        "In Shell bash a1 and a2 are strings. The return is a string where words are separated by commas.\n",
        "\n",
        "Beware: r must be without duplicates.\n",
        "\"\"\""
      ],
      "execution_count": null,
      "outputs": []
    },
    {
      "cell_type": "code",
      "metadata": {
        "id": "ZSOds8fWmgaS"
      },
      "source": [
        "a1 = [\"arp\", \"live\", \"strong\"]\n",
        "\n",
        "a2 = [\"lively\", \"alive\", \"harp\", \"sharp\", \"armstrong\"]\n",
        "\n",
        "result = []"
      ],
      "execution_count": 6,
      "outputs": []
    },
    {
      "cell_type": "code",
      "metadata": {
        "id": "PAMxRNEWmjWC"
      },
      "source": [
        "def in_array(array1, array2):\n",
        "    a2 = array2\n",
        "    a1 = array1\n",
        "    result = []\n",
        "    for e in a2:\n",
        "        for e2 in a1:\n",
        "            if e2 in e:\n",
        "                result.append(e2) \n",
        "    return sorted(set(result))"
      ],
      "execution_count": 7,
      "outputs": []
    },
    {
      "cell_type": "code",
      "metadata": {
        "colab": {
          "base_uri": "https://localhost:8080/"
        },
        "id": "--t-KZxKm1YV",
        "outputId": "70ae7df5-4325-4be8-e159-11d29dba116e"
      },
      "source": [
        "result"
      ],
      "execution_count": 8,
      "outputs": [
        {
          "output_type": "execute_result",
          "data": {
            "text/plain": [
              "['live', 'arp', 'strong']"
            ]
          },
          "metadata": {
            "tags": []
          },
          "execution_count": 8
        }
      ]
    },
    {
      "cell_type": "code",
      "metadata": {
        "id": "QjyKVsQWnPOO"
      },
      "source": [
        ""
      ],
      "execution_count": null,
      "outputs": []
    }
  ]
}
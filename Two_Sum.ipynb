{
  "nbformat": 4,
  "nbformat_minor": 0,
  "metadata": {
    "colab": {
      "name": "Two Sum",
      "provenance": [],
      "collapsed_sections": []
    },
    "kernelspec": {
      "name": "python3",
      "display_name": "Python 3"
    },
    "language_info": {
      "name": "python"
    }
  },
  "cells": [
    {
      "cell_type": "code",
      "metadata": {
        "id": "UpfLpeUwxOnx"
      },
      "source": [
        "\"\"\"\n",
        "1. Two Sum\n",
        "Easy\n",
        "\n",
        "22300\n",
        "\n",
        "757\n",
        "\n",
        "Add to List\n",
        "\n",
        "Share\n",
        "Given an array of integers nums and an integer target, return indices of the two numbers such that they add up to target.\n",
        "\n",
        "You may assume that each input would have exactly one solution, and you may not use the same element twice.\n",
        "\n",
        "You can return the answer in any order.\n",
        "\n",
        " \n",
        "\n",
        "Example 1:\n",
        "\n",
        "Input: nums = [2,7,11,15], target = 9\n",
        "Output: [0,1]\n",
        "Output: Because nums[0] + nums[1] == 9, we return [0, 1].\n",
        "Example 2:\n",
        "\n",
        "Input: nums = [3,2,4], target = 6\n",
        "Output: [1,2]\n",
        "Example 3:\n",
        "\n",
        "Input: nums = [3,3], target = 6\n",
        "Output: [0,1]\n",
        " \n",
        "\n",
        "Constraints:\n",
        "\n",
        "2 <= nums.length <= 104\n",
        "-109 <= nums[i] <= 109\n",
        "-109 <= target <= 109\n",
        "Only one valid answer exists.\n",
        "\"\"\""
      ],
      "execution_count": null,
      "outputs": []
    },
    {
      "cell_type": "code",
      "metadata": {
        "colab": {
          "base_uri": "https://localhost:8080/"
        },
        "id": "KQaUbGFplL99",
        "outputId": "3c4b1f0f-0193-4a47-8ffb-5c18c6e6125b"
      },
      "source": [
        "nums = [3,3]\n",
        "target = 6\n",
        "\n",
        "\n",
        "for i, n in enumerate(nums):\n",
        "  if target-n in nums[i+1:]:\n",
        "    print(i, nums[i+1:].index(target-n)+i+1)\n"
      ],
      "execution_count": 8,
      "outputs": [
        {
          "output_type": "stream",
          "text": [
            "0 1\n"
          ],
          "name": "stdout"
        }
      ]
    },
    {
      "cell_type": "code",
      "metadata": {
        "id": "FpzwISpUr9Vg"
      },
      "source": [
        ""
      ],
      "execution_count": null,
      "outputs": []
    }
  ]
}
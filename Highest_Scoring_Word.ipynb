{
  "nbformat": 4,
  "nbformat_minor": 0,
  "metadata": {
    "colab": {
      "name": "Highest Scoring Word",
      "provenance": [],
      "collapsed_sections": []
    },
    "kernelspec": {
      "name": "python3",
      "display_name": "Python 3"
    },
    "language_info": {
      "name": "python"
    }
  },
  "cells": [
    {
      "cell_type": "code",
      "metadata": {
        "id": "dbjNIFkvbKp7"
      },
      "source": [
        "\"\"\"\n",
        "Given a string of words, you need to find the highest scoring word.\n",
        "\n",
        "Each letter of a word scores points according to its position in the alphabet: a = 1, b = 2, c = 3 etc.\n",
        "\n",
        "You need to return the highest scoring word as a string.\n",
        "\n",
        "If two words score the same, return the word that appears earliest in the original string.\n",
        "\n",
        "All letters will be lowercase and all inputs will be valid.\n",
        "\"\"\""
      ],
      "execution_count": null,
      "outputs": []
    },
    {
      "cell_type": "code",
      "metadata": {
        "id": "FQLGuxelbuYt"
      },
      "source": [
        "import string"
      ],
      "execution_count": 1,
      "outputs": []
    },
    {
      "cell_type": "code",
      "metadata": {
        "colab": {
          "base_uri": "https://localhost:8080/"
        },
        "id": "43OWVLDgb2Di",
        "outputId": "0c71d801-bfa4-4f33-f380-9369363c02fb"
      },
      "source": [
        "alphabet_string = string.ascii_lowercase\n",
        "\n",
        "alphabet_list = list(alphabet_string)\n",
        "num_list = list(range(1, 27))\n",
        "\n",
        "score_dict = {}\n",
        "\n",
        "for a, b in zip(alphabet_list, num_list):\n",
        "  score_dict[a] = b\n",
        "\n",
        "score_dict"
      ],
      "execution_count": 6,
      "outputs": [
        {
          "output_type": "execute_result",
          "data": {
            "text/plain": [
              "{'a': 1,\n",
              " 'b': 2,\n",
              " 'c': 3,\n",
              " 'd': 4,\n",
              " 'e': 5,\n",
              " 'f': 6,\n",
              " 'g': 7,\n",
              " 'h': 8,\n",
              " 'i': 9,\n",
              " 'j': 10,\n",
              " 'k': 11,\n",
              " 'l': 12,\n",
              " 'm': 13,\n",
              " 'n': 14,\n",
              " 'o': 15,\n",
              " 'p': 16,\n",
              " 'q': 17,\n",
              " 'r': 18,\n",
              " 's': 19,\n",
              " 't': 20,\n",
              " 'u': 21,\n",
              " 'v': 22,\n",
              " 'w': 23,\n",
              " 'x': 24,\n",
              " 'y': 25,\n",
              " 'z': 26}"
            ]
          },
          "metadata": {
            "tags": []
          },
          "execution_count": 6
        }
      ]
    },
    {
      "cell_type": "code",
      "metadata": {
        "id": "6qupcTC1Wj3w"
      },
      "source": [
        "def high(x):\n",
        "    score_dict = {\"a\":1,\"b\":2,\"c\":3,\"d\":4,\"e\":5,\"f\":6,\"g\":7,\"h\":8,\"i\":9,\"j\":10,\"k\":11,\"l\":12,\"m\":13,\"n\":14,\"o\":15,\"p\":16,\"q\":17,\"r\":18,\"s\":19,\"t\":20,\"u\":21,\"v\":22,\"w\":23,\"x\":24,\"y\":25,\"z\":26}\n",
        "    x_split = x.split(\" \")\n",
        "    highest_score = 0\n",
        "    result = \"\"\n",
        "    for w in x_split:\n",
        "        current = 0\n",
        "        for l in w:\n",
        "            current += score_dict[l]\n",
        "        if current > highest_score:\n",
        "            highest_score = current\n",
        "            result = w\n",
        "    return result"
      ],
      "execution_count": null,
      "outputs": []
    }
  ]
}
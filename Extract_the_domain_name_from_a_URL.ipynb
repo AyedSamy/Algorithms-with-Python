{
  "nbformat": 4,
  "nbformat_minor": 0,
  "metadata": {
    "colab": {
      "name": "Extract the domain name from a URL",
      "provenance": [],
      "collapsed_sections": []
    },
    "kernelspec": {
      "name": "python3",
      "display_name": "Python 3"
    },
    "language_info": {
      "name": "python"
    }
  },
  "cells": [
    {
      "cell_type": "code",
      "metadata": {
        "id": "bFoVkEEzAffY"
      },
      "source": [
        "\"\"\"\n",
        "Write a function that when given a URL as a string, parses out just the domain name and returns it as a string. For example:\n",
        "\n",
        "domain_name(\"http://github.com/carbonfive/raygun\") == \"github\" \n",
        "domain_name(\"http://www.zombie-bites.com\") == \"zombie-bites\"\n",
        "domain_name(\"https://www.cnet.com\") == \"cnet\"\n",
        "\"\"\""
      ],
      "execution_count": null,
      "outputs": []
    },
    {
      "cell_type": "code",
      "metadata": {
        "id": "WBbYrjUF-IzT"
      },
      "source": [
        "def domain_name(url):\n",
        "  url = url.split(\"//\")\n",
        "  url = url[-1].split(\".\")\n",
        "  if url[0] == \"www\":\n",
        "    domain = url[1]\n",
        "  else:\n",
        "    domain = url[0]\n",
        "  return domain"
      ],
      "execution_count": 11,
      "outputs": []
    },
    {
      "cell_type": "code",
      "metadata": {
        "colab": {
          "base_uri": "https://localhost:8080/"
        },
        "id": "6xCH_O5n-Qp_",
        "outputId": "0a1e4723-561d-4a8d-89a9-20b002e871b3"
      },
      "source": [
        "print(domain_name(\"http://github.com/carbonfive/raygun\") == \"github\")\n",
        "print(domain_name(\"http://www.zombie-bites.com\") == \"zombie-bites\")\n",
        "print(domain_name(\"https://www.cnet.com\") == \"cnet\")"
      ],
      "execution_count": 12,
      "outputs": [
        {
          "output_type": "stream",
          "text": [
            "True\n",
            "True\n",
            "True\n"
          ],
          "name": "stdout"
        }
      ]
    }
  ]
}
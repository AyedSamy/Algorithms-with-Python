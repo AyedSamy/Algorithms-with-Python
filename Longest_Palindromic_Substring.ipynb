{
  "nbformat": 4,
  "nbformat_minor": 0,
  "metadata": {
    "colab": {
      "name": "Longest Palindromic Substring",
      "provenance": [],
      "collapsed_sections": []
    },
    "kernelspec": {
      "name": "python3",
      "display_name": "Python 3"
    },
    "language_info": {
      "name": "python"
    }
  },
  "cells": [
    {
      "cell_type": "code",
      "metadata": {
        "id": "N7VmyOthf5lv"
      },
      "source": [
        "\"\"\"\n",
        "Given a string s, return the longest palindromic substring in s.\n",
        "\n",
        " \n",
        "\n",
        "Example 1:\n",
        "\n",
        "Input: s = \"babad\"\n",
        "Output: \"bab\"\n",
        "Note: \"aba\" is also a valid answer.\n",
        "Example 2:\n",
        "\n",
        "Input: s = \"cbbd\"\n",
        "Output: \"bb\"\n",
        "Example 3:\n",
        "\n",
        "Input: s = \"a\"\n",
        "Output: \"a\"\n",
        "Example 4:\n",
        "\n",
        "Input: s = \"ac\"\n",
        "Output: \"a\"\n",
        " \n",
        "\n",
        "Constraints:\n",
        "\n",
        "1 <= s.length <= 1000\n",
        "s consist of only digits and English letters (lower-case and/or upper-case),\n",
        "\"\"\""
      ],
      "execution_count": null,
      "outputs": []
    },
    {
      "cell_type": "code",
      "metadata": {
        "id": "8HYhUoxKf4KV"
      },
      "source": [
        "class Solution:\n",
        "    def longestPalindrome(self, s: str) -> str:\n",
        "        \n",
        "        best_palindrome = s[0]\n",
        "        char_indexes = {}\n",
        "        \n",
        "        for i, c in enumerate(s):\n",
        "            if c not in char_indexes.keys():\n",
        "                char_indexes[c] = [i]\n",
        "            else:\n",
        "                char_indexes[c].insert(0,i)\n",
        "\n",
        "        if len(char_indexes) == len(s):\n",
        "            return best_palindrome\n",
        "        \n",
        "        max_len = 0\n",
        "\n",
        "        for i, c in enumerate(s):\n",
        "            for n in char_indexes[c]:\n",
        "                if n > i and len(s[i:n+1]) > max_len:\n",
        "                    current_sub = s[i:n+1]\n",
        "                    current_sub_rev = ''.join(list(reversed(current_sub)))\n",
        "                    is_palindrome = True\n",
        "                    l = len(current_sub)\n",
        "                    j = 0\n",
        "                    while j < l:\n",
        "                        if current_sub[j] != current_sub_rev[j]:\n",
        "                            is_palindrome = False\n",
        "                        j += 1\n",
        "                    if is_palindrome and len(current_sub) > max_len:\n",
        "                        max_len = len(current_sub)\n",
        "                        best_palindrome = current_sub\n",
        "                else:\n",
        "                    break\n",
        "                    \n",
        "        return best_palindrome"
      ],
      "execution_count": null,
      "outputs": []
    },
    {
      "cell_type": "code",
      "metadata": {
        "id": "cq5B4orbs1DR"
      },
      "source": [
        "s = \"aacabdkacaa\"\n",
        "\n",
        "char_indexes = {}\n",
        "for i, c in enumerate(s):\n",
        "  if c not in char_indexes.keys():\n",
        "    char_indexes[c] = [i]\n",
        "  else:\n",
        "    char_indexes[c].insert(0,i)\n",
        "\n",
        "if len(char_indexes) == len(s):\n",
        "  print(s[0])"
      ],
      "execution_count": 67,
      "outputs": []
    },
    {
      "cell_type": "code",
      "metadata": {
        "colab": {
          "base_uri": "https://localhost:8080/"
        },
        "id": "fnoznciRtQkX",
        "outputId": "c3dc9b27-d32e-4e14-c87b-4f189e83efe6"
      },
      "source": [
        "char_indexes"
      ],
      "execution_count": 64,
      "outputs": [
        {
          "output_type": "execute_result",
          "data": {
            "text/plain": [
              "{'a': [2, 0], 'b': [1]}"
            ]
          },
          "metadata": {
            "tags": []
          },
          "execution_count": 64
        }
      ]
    },
    {
      "cell_type": "code",
      "metadata": {
        "colab": {
          "base_uri": "https://localhost:8080/"
        },
        "id": "cMrRrDvSv_ZM",
        "outputId": "541f3e3e-37ae-4de0-e952-49bf5f2d97e5"
      },
      "source": [
        "max_len = 0\n",
        "\n",
        "for i, c in enumerate(s):\n",
        "  for n in char_indexes[c]:\n",
        "    if n > i:\n",
        "      current_sub = s[i:n+1]\n",
        "      current_sub_rev = ''.join(list(reversed(current_sub)))\n",
        "      is_palindrome = True\n",
        "      l = len(current_sub)\n",
        "      j = 0\n",
        "      while j < l:\n",
        "        if current_sub[j] != current_sub_rev[j]:\n",
        "          is_palindrome = False\n",
        "        j += 1\n",
        "      if is_palindrome and len(current_sub) > max_len:\n",
        "        print(current_sub, \"is palindrom\")\n",
        "        max_len = len(current_sub)\n",
        "        best_palindrome = current_sub\n",
        "      else:\n",
        "        print(current_sub)\n",
        "    else:\n",
        "      break"
      ],
      "execution_count": 69,
      "outputs": [
        {
          "output_type": "stream",
          "text": [
            "aacabdkacaa\n",
            "aacabdkaca\n",
            "aacabdka\n",
            "aaca\n",
            "aa is palindrom\n",
            "acabdkacaa\n",
            "acabdkaca\n",
            "acabdka\n",
            "aca is palindrom\n",
            "cabdkac\n",
            "abdkacaa\n",
            "abdkaca\n",
            "abdka\n",
            "acaa\n",
            "aca\n",
            "aa\n"
          ],
          "name": "stdout"
        }
      ]
    },
    {
      "cell_type": "code",
      "metadata": {
        "colab": {
          "base_uri": "https://localhost:8080/",
          "height": 35
        },
        "id": "o_jQUkjJSq_N",
        "outputId": "601a2ad2-ef09-4b5a-df23-3d441930bce3"
      },
      "source": [
        "best_palindrome"
      ],
      "execution_count": 66,
      "outputs": [
        {
          "output_type": "execute_result",
          "data": {
            "application/vnd.google.colaboratory.intrinsic+json": {
              "type": "string"
            },
            "text/plain": [
              "'aba'"
            ]
          },
          "metadata": {
            "tags": []
          },
          "execution_count": 66
        }
      ]
    },
    {
      "cell_type": "code",
      "metadata": {
        "id": "und6sT4YcQjj"
      },
      "source": [
        ""
      ],
      "execution_count": null,
      "outputs": []
    }
  ]
}
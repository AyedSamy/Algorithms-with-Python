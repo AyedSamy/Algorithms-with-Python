{
  "nbformat": 4,
  "nbformat_minor": 0,
  "metadata": {
    "colab": {
      "name": "Naughty or Nice",
      "provenance": []
    },
    "kernelspec": {
      "name": "python3",
      "display_name": "Python 3"
    }
  },
  "cells": [
    {
      "cell_type": "code",
      "metadata": {
        "id": "UVJbuA-gb55e"
      },
      "source": [
        "\"\"\"\r\n",
        "In this kata, you will write a function that receives an array of string and returns a string that is either 'naughty' or 'nice'.\r\n",
        "Strings that start with the letters b, f, or k are naughty. Strings that start with the letters g, s, or n are nice. Other strings are neither naughty nor nice.\r\n",
        "\r\n",
        "If there is an equal amount of bad and good actions, return 'naughty'\r\n",
        "\r\n",
        "Examples:\r\n",
        "\r\n",
        "bad_actions = ['broke someone\\'s window', 'fought over a toaster', 'killed a bug']\r\n",
        "whatListAmIOn(bad_actions)\r\n",
        "#-> 'naughty'\r\n",
        "good_actions = ['got someone a new car', 'saved a man from drowning', 'never got into a fight']\r\n",
        "what_list_am_i_on(good_actions)\r\n",
        "#-> 'nice'\r\n",
        "actions = ['broke a vending machine', 'never got into a fight', 'tied someone\\'s shoes']\r\n",
        "what_list_am_i_on(actions)\r\n",
        "#-> 'naughty'\r\n",
        "\"\"\""
      ],
      "execution_count": null,
      "outputs": []
    },
    {
      "cell_type": "code",
      "metadata": {
        "id": "liSEb0QNdxt2"
      },
      "source": [
        "def whatListAmIOn(actions):\r\n",
        "  naughty_letters = ['b', 'f', 'k']\r\n",
        "  nice_letters = ['g', 's', 'n']\r\n",
        "  naughty = 0\r\n",
        "  nice = 0\r\n",
        "  for a in actions:\r\n",
        "    if a[0] in naughty_letters:\r\n",
        "      naughty += 1\r\n",
        "    elif a[0] in nice_letters:\r\n",
        "      nice += 1\r\n",
        "  if naughty >= nice:\r\n",
        "    return 'naughty'\r\n",
        "  else:\r\n",
        "    return 'nice'"
      ],
      "execution_count": 4,
      "outputs": []
    },
    {
      "cell_type": "code",
      "metadata": {
        "colab": {
          "base_uri": "https://localhost:8080/"
        },
        "id": "v0-x-9kvcMgn",
        "outputId": "3e95decf-fbad-499f-dc82-37bdd2532d89"
      },
      "source": [
        "print(whatListAmIOn(['broke someone\\'s window', 'fought over a toaster', 'killed a bug']))\r\n",
        "print(whatListAmIOn(['got someone a new car', 'saved a man from drowning', 'never got into a fight']))\r\n",
        "print(whatListAmIOn(['broke a vending machine', 'never got into a fight', 'tied someone\\'s shoes']))"
      ],
      "execution_count": 5,
      "outputs": [
        {
          "output_type": "stream",
          "text": [
            "naughty\n",
            "nice\n",
            "naughty\n"
          ],
          "name": "stdout"
        }
      ]
    }
  ]
}
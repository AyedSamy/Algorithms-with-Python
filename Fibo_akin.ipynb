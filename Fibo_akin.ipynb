{
  "nbformat": 4,
  "nbformat_minor": 0,
  "metadata": {
    "colab": {
      "name": "Fibo akin",
      "provenance": [],
      "collapsed_sections": []
    },
    "kernelspec": {
      "name": "python3",
      "display_name": "Python 3"
    },
    "language_info": {
      "name": "python"
    }
  },
  "cells": [
    {
      "cell_type": "code",
      "metadata": {
        "id": "LyqVNpNk-2Zl"
      },
      "source": [
        "\"\"\"\n",
        "Be u(n) a sequence beginning with:\n",
        "\n",
        "u[1]  = 1,  u[2]  = 1,  u[3]  = 2,  u[4]  = 3,  u[5]  = 3,  u[6] = 4,\n",
        "\n",
        "u[7]  = 5,  u[8]  = 5,  u[9]  = 6,  u[10] = 6,  u[11] = 6,  u[12] = 8,\n",
        "\n",
        "u[13] = 8,  u[14] = 8,  u[15] = 10, u[16] = 9,  u[17] = 10, u[18] = 11,\n",
        "\n",
        "u[19] = 11, u[20] = 12, u[21] = 12, u[22] = 12, u[23] = 12 etc...\n",
        "How isu[8] calculated?\n",
        "We have u[7] = 5 and u[6] = 4. These numbers tell us that we have to go backwards from index 8 to index 8 - 5 = 3 and to index 8 - 4 = 4 so to index 3 and 4.\n",
        "\n",
        "u[3] = 2 and u[4] = 3 hence u[8] = u[3] + u[4] = 2 + 3 = 5.\n",
        "\n",
        "Another example: let us calculate u[13]. At indexes 12 and 11 we have 8 and 6. Going backwards of 8 and 6 from 13 we get indexes 13 - 8 = 5 and 13 - 6 = 7.\n",
        "u[5] = 3 and u[7] = 5 so u[13] = u[5] + u[7] = 3 + 5 = 8 .\n",
        "\n",
        "Task\n",
        "Express u(n) as a function of n, u[n - 1], u[n - 2]. (not tested).\n",
        "Given two numbers n, k (integers > 2) write the function length_sup_u_k(n, k) or lengthSupUK or length-sup-u-k returning the number of terms u[i] >= k with 1 <= i <= n. If we look above we can see that between u[1] and u[23] we have four u[i] greater or equal to 12: length_sup_u_k(23, 12) => 4\n",
        "Given n (integer > 2) write the function comp(n) returning the number of times where a term of u is less than its predecessor up to and including u[n].\n",
        "Examples:\n",
        "u(900) => 455 (not tested)\n",
        "u(90000) => 44337 (not tested)\n",
        "\n",
        "length_sup_u_k(23, 12) => 4\n",
        "length_sup_u_k(50, 10) => 35\n",
        "length_sup_u_k(500, 100) => 304\n",
        "\n",
        "comp(23) => 1 (since only u(16) < u(15))\n",
        "comp(100) => 22\n",
        "comp(200) => 63\n",
        "\"\"\""
      ],
      "execution_count": null,
      "outputs": []
    },
    {
      "cell_type": "code",
      "metadata": {
        "colab": {
          "base_uri": "https://localhost:8080/"
        },
        "id": "DiZ8enUg7cFJ",
        "outputId": "b8018170-0885-4dc6-fdc3-abc9d2280088"
      },
      "source": [
        "ls = [[1,1],[2,1]]\n",
        "\n",
        "n = 23\n",
        "\n",
        "for i in range(2,n):\n",
        "  s1 = (i+1) - ls[i-1][1]\n",
        "  s2 = (i+1) - ls[i-2][1]\n",
        "  total = ls[s1-1][1] + ls[s2-1][1]\n",
        "  ls.append([i+1,total])\n",
        "\n",
        "ls"
      ],
      "execution_count": 3,
      "outputs": [
        {
          "output_type": "execute_result",
          "data": {
            "text/plain": [
              "[[1, 1],\n",
              " [2, 1],\n",
              " [3, 2],\n",
              " [4, 3],\n",
              " [5, 3],\n",
              " [6, 4],\n",
              " [7, 5],\n",
              " [8, 5],\n",
              " [9, 6],\n",
              " [10, 6],\n",
              " [11, 6],\n",
              " [12, 8],\n",
              " [13, 8],\n",
              " [14, 8],\n",
              " [15, 10],\n",
              " [16, 9],\n",
              " [17, 10],\n",
              " [18, 11],\n",
              " [19, 11],\n",
              " [20, 12],\n",
              " [21, 12],\n",
              " [22, 12],\n",
              " [23, 12]]"
            ]
          },
          "metadata": {
            "tags": []
          },
          "execution_count": 3
        }
      ]
    },
    {
      "cell_type": "code",
      "metadata": {
        "colab": {
          "base_uri": "https://localhost:8080/"
        },
        "id": "0ReYGKJ3-hAx",
        "outputId": "730169f7-3a75-4394-fbc7-b670e9c5a843"
      },
      "source": [
        "u = 23\n",
        "counter = 0\n",
        "for t in ls[:u]:\n",
        "  if t[1] >= ls[u-1][1]:\n",
        "    counter += 1\n",
        "\n",
        "counter"
      ],
      "execution_count": 6,
      "outputs": [
        {
          "output_type": "execute_result",
          "data": {
            "text/plain": [
              "4"
            ]
          },
          "metadata": {
            "tags": []
          },
          "execution_count": 6
        }
      ]
    },
    {
      "cell_type": "code",
      "metadata": {
        "colab": {
          "base_uri": "https://localhost:8080/"
        },
        "id": "-4HlkUIqDLw1",
        "outputId": "9bfc7271-7385-4127-8542-3fcf0121deb1"
      },
      "source": [
        "u = 23\n",
        "counter = 0\n",
        "for i, t in enumerate(ls[:u]):\n",
        "  if i < len(ls) - 1:\n",
        "    if ls[i][1] > ls[i+1][1]:\n",
        "      counter += 1\n",
        "\n",
        "counter"
      ],
      "execution_count": 8,
      "outputs": [
        {
          "output_type": "execute_result",
          "data": {
            "text/plain": [
              "1"
            ]
          },
          "metadata": {
            "tags": []
          },
          "execution_count": 8
        }
      ]
    },
    {
      "cell_type": "code",
      "metadata": {
        "id": "Gj-GFvq6EXZ3"
      },
      "source": [
        ""
      ],
      "execution_count": null,
      "outputs": []
    }
  ]
}
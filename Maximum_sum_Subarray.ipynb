{
  "nbformat": 4,
  "nbformat_minor": 0,
  "metadata": {
    "colab": {
      "name": "Maximum sum Subarray",
      "provenance": [],
      "collapsed_sections": []
    },
    "kernelspec": {
      "name": "python3",
      "display_name": "Python 3"
    },
    "language_info": {
      "name": "python"
    }
  },
  "cells": [
    {
      "cell_type": "code",
      "metadata": {
        "colab": {
          "base_uri": "https://localhost:8080/"
        },
        "id": "Q8EWE91xCVqz",
        "outputId": "56b1b153-349b-4530-d0f7-f60185bedb13"
      },
      "source": [
        "ls = [5,4,-1,7,8]\n",
        "\n",
        "left_pointer = 0\n",
        "right_pointer = 1\n",
        "max_sum =  ls[0]\n",
        "records = []\n",
        "\n",
        "while left_pointer < len(ls) and right_pointer < len(ls):\n",
        "  current_sum = sum(ls[left_pointer:right_pointer])\n",
        "  print(current_sum)\n",
        "  if current_sum + ls[left_pointer] < current_sum and left_pointer < right_pointer:\n",
        "    left_pointer += 1\n",
        "  if current_sum + ls[right_pointer] < 0:\n",
        "    records.append([current_sum, ls[left_pointer], ls[right_pointer-1]])\n",
        "    if right_pointer < len(ls)-1:\n",
        "      left_pointer = right_pointer + 1\n",
        "      right_pointer = left_pointer + 1\n",
        "      current_sum = sum(ls[left_pointer:right_pointer+1])\n",
        "      if current_sum > max_sum:\n",
        "        max_sum = current_sum\n",
        "        max_sub = [left_pointer,right_pointer]\n",
        "  else:\n",
        "    current_sum = sum(ls[left_pointer:right_pointer+1])\n",
        "    if current_sum > max_sum:\n",
        "      max_sum = current_sum\n",
        "      max_sub = [left_pointer,right_pointer]\n",
        "    right_pointer += 1\n",
        "  print(left_pointer, right_pointer)\n"
      ],
      "execution_count": null,
      "outputs": [
        {
          "output_type": "stream",
          "text": [
            "5\n",
            "0 2\n",
            "9\n",
            "0 3\n",
            "8\n",
            "0 4\n",
            "15\n",
            "0 5\n"
          ],
          "name": "stdout"
        }
      ]
    },
    {
      "cell_type": "code",
      "metadata": {
        "colab": {
          "base_uri": "https://localhost:8080/"
        },
        "id": "kp8eIeLQcyqA",
        "outputId": "a2c94f60-f467-4ff4-dcdb-8d23b24baeff"
      },
      "source": [
        "max_sum"
      ],
      "execution_count": null,
      "outputs": [
        {
          "output_type": "execute_result",
          "data": {
            "text/plain": [
              "23"
            ]
          },
          "metadata": {
            "tags": []
          },
          "execution_count": 86
        }
      ]
    },
    {
      "cell_type": "code",
      "metadata": {
        "colab": {
          "base_uri": "https://localhost:8080/"
        },
        "id": "W3orBXcb5iGO",
        "outputId": "fdcf75bd-93dc-4c35-8949-0a0c55e6c9c8"
      },
      "source": [
        ""
      ],
      "execution_count": null,
      "outputs": [
        {
          "output_type": "execute_result",
          "data": {
            "text/plain": [
              "25"
            ]
          },
          "metadata": {
            "tags": []
          },
          "execution_count": 74
        }
      ]
    },
    {
      "cell_type": "code",
      "metadata": {
        "colab": {
          "base_uri": "https://localhost:8080/"
        },
        "id": "4DgZKTGs_gXN",
        "outputId": "3b65b08e-ed35-4f8a-d13a-befb48048115"
      },
      "source": [
        "sum(ls[left_pointer:right_pointer])"
      ],
      "execution_count": null,
      "outputs": [
        {
          "output_type": "execute_result",
          "data": {
            "text/plain": [
              "30"
            ]
          },
          "metadata": {
            "tags": []
          },
          "execution_count": 19
        }
      ]
    },
    {
      "cell_type": "code",
      "metadata": {
        "colab": {
          "base_uri": "https://localhost:8080/"
        },
        "id": "zHqa8_a7EjIa",
        "outputId": "61172e1f-e129-4a90-9cc0-75730cd139a2"
      },
      "source": [
        "records"
      ],
      "execution_count": null,
      "outputs": [
        {
          "output_type": "execute_result",
          "data": {
            "text/plain": [
              "[[7, 2, 5], [26, 6, 20]]"
            ]
          },
          "metadata": {
            "tags": []
          },
          "execution_count": 26
        }
      ]
    },
    {
      "cell_type": "code",
      "metadata": {
        "colab": {
          "base_uri": "https://localhost:8080/",
          "height": 131
        },
        "id": "Zf15FofsEoC5",
        "outputId": "e1c7abd2-2152-45ce-85c3-92f0494420a2"
      },
      "source": [
        "0>*[-1,5]"
      ],
      "execution_count": null,
      "outputs": [
        {
          "output_type": "error",
          "ename": "SyntaxError",
          "evalue": "ignored",
          "traceback": [
            "\u001b[0;36m  File \u001b[0;32m\"<ipython-input-70-c6a98778e663>\"\u001b[0;36m, line \u001b[0;32m1\u001b[0m\n\u001b[0;31m    0>*[-1,5]\u001b[0m\n\u001b[0m      ^\u001b[0m\n\u001b[0;31mSyntaxError\u001b[0m\u001b[0;31m:\u001b[0m invalid syntax\n"
          ]
        }
      ]
    },
    {
      "cell_type": "code",
      "metadata": {
        "id": "2l7dGIURgnoA"
      },
      "source": [
        ""
      ],
      "execution_count": null,
      "outputs": []
    }
  ]
}
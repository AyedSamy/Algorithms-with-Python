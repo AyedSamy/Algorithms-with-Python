{
  "nbformat": 4,
  "nbformat_minor": 0,
  "metadata": {
    "colab": {
      "name": "Min Cost Climbing Stairs",
      "provenance": [],
      "collapsed_sections": []
    },
    "kernelspec": {
      "name": "python3",
      "display_name": "Python 3"
    },
    "language_info": {
      "name": "python"
    }
  },
  "cells": [
    {
      "cell_type": "code",
      "metadata": {
        "id": "thkvhp2o6YJw"
      },
      "source": [
        "\"\"\"\n",
        "You are given an integer array cost where cost[i] is the cost of ith step on a staircase. Once you pay the cost, you can either climb one or two steps.\n",
        "\n",
        "You can either start from the step with index 0, or the step with index 1.\n",
        "\n",
        "Return the minimum cost to reach the top of the floor.\n",
        "\n",
        " \n",
        "Example 1:\n",
        "\n",
        "Input: cost = [10,15,20]\n",
        "Output: 15\n",
        "Explanation: Cheapest is: start on cost[1], pay that cost, and go to the top.\n",
        "\n",
        "Example 2:\n",
        "\n",
        "Input: cost = [1,100,1,1,1,100,1,1,100,1]\n",
        "Output: 6\n",
        "Explanation: Cheapest is: start on cost[0], and only step on 1s, skipping cost[3].\n",
        " \n",
        "\n",
        "Constraints:\n",
        "\n",
        "2 <= cost.length <= 1000\n",
        "0 <= cost[i] <= 999\n",
        "\"\"\""
      ],
      "execution_count": null,
      "outputs": []
    },
    {
      "cell_type": "code",
      "metadata": {
        "id": "mDBDO6GV0iJo"
      },
      "source": [
        "class Solution:\n",
        "    def minCostClimbingStairs(self, cost: List[int]) -> int:\n",
        "        if len(cost) == 2:\n",
        "            return min(cost)\n",
        "        min_cost = [cost[0],cost[1]]\n",
        "\n",
        "        for i, p in enumerate(cost[2:],2):\n",
        "            min_cost.append(min(min_cost[i-1] + p,min_cost[i-2] + p))\n",
        "        \n",
        "        return min(min_cost[-1],min_cost[-2])"
      ],
      "execution_count": null,
      "outputs": []
    },
    {
      "cell_type": "code",
      "metadata": {
        "id": "QtE9AlB-6mxv"
      },
      "source": [
        "cost = [1,100,1,1,1,100,1,1,100,1]\n",
        "min_cost = [cost[0],cost[1]]\n",
        "\n",
        "for i, p in enumerate(cost[2:],2):\n",
        "  min_cost.append(min(min_cost[i-1] + p,min_cost[i-2] + p))\n"
      ],
      "execution_count": null,
      "outputs": []
    },
    {
      "cell_type": "code",
      "metadata": {
        "colab": {
          "base_uri": "https://localhost:8080/"
        },
        "id": "RE3lyjlz8r-A",
        "outputId": "415721e5-bd6f-4a4c-af10-4b98a9bb0835"
      },
      "source": [
        "min_cost"
      ],
      "execution_count": null,
      "outputs": [
        {
          "output_type": "execute_result",
          "data": {
            "text/plain": [
              "[1, 100, 2, 3, 3, 103, 4, 5, 104, 6]"
            ]
          },
          "metadata": {
            "tags": []
          },
          "execution_count": 8
        }
      ]
    },
    {
      "cell_type": "code",
      "metadata": {
        "id": "EoTza1jC9T0I"
      },
      "source": [
        ""
      ],
      "execution_count": null,
      "outputs": []
    }
  ]
}
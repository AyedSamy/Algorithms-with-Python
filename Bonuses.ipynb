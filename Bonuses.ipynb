{
  "nbformat": 4,
  "nbformat_minor": 0,
  "metadata": {
    "colab": {
      "name": "Bonuses",
      "provenance": [],
      "collapsed_sections": []
    },
    "kernelspec": {
      "name": "python3",
      "display_name": "Python 3"
    },
    "language_info": {
      "name": "python"
    }
  },
  "cells": [
    {
      "cell_type": "code",
      "metadata": {
        "id": "5wkZjA371TMr"
      },
      "source": [
        "\"\"\"\n",
        "ohn wants to give a total bonus of $851 to his three employees taking fairly as possible into account their number of days of absence during the period under consideration. Employee A was absent 18 days, B 15 days, and C 12 days.\n",
        "\n",
        "The more absences, the lower the bonus ...\n",
        "\n",
        "How much should each employee receive? John thinks A should receive $230, B $276, C $345 since 230 * 18 = 276 * 15 = 345 * 12 and 230 + 276 + 345 = 851.\n",
        "\n",
        "Task:\n",
        "Given an array arr (numbers of days of absence for each employee) and a number s (total bonus) the function bonus(arr, s) will follow John's way and return an array of the fair bonuses of all employees in the same order as their numbers of days of absences.\n",
        "\n",
        "s and all elements of arr are positive integers.\n",
        "\n",
        "Examples:\n",
        "bonus([18, 15, 12], 851) -> [230, 276, 345]\n",
        "\n",
        "bonus([30, 27, 8, 14, 7], 34067) -> [2772, 3080, 10395, 5940, 11880]\n",
        "Notes\n",
        "There are only integers in the kata so no need to use floats.\n",
        "See Example Test Cases for more examples.\n",
        "Please ask before translating.\n",
        "In some tests the number of elements of arr can be big.\n",
        "\"\"\""
      ],
      "execution_count": null,
      "outputs": []
    },
    {
      "cell_type": "code",
      "metadata": {
        "id": "2gjpNwoH0U-6"
      },
      "source": [
        "def bonus(arr, s):\n",
        "    proportion = [min(arr)/n for n in arr]\n",
        "    result = [round(c / sum(proportion) * s) for c in proportion]\n",
        "    return result"
      ],
      "execution_count": null,
      "outputs": []
    },
    {
      "cell_type": "code",
      "metadata": {
        "id": "TzV7o70rwVjM"
      },
      "source": [
        "bonus = 851\n",
        "array = [18, 15, 12]"
      ],
      "execution_count": 14,
      "outputs": []
    },
    {
      "cell_type": "code",
      "metadata": {
        "colab": {
          "base_uri": "https://localhost:8080/"
        },
        "id": "SU_sq1MSyswh",
        "outputId": "57d9bf31-30b2-458e-aaa6-73557130e9b3"
      },
      "source": [
        "min(array)"
      ],
      "execution_count": 4,
      "outputs": [
        {
          "output_type": "execute_result",
          "data": {
            "text/plain": [
              "12"
            ]
          },
          "metadata": {
            "tags": []
          },
          "execution_count": 4
        }
      ]
    },
    {
      "cell_type": "code",
      "metadata": {
        "colab": {
          "base_uri": "https://localhost:8080/"
        },
        "id": "oxE0Rz7dzrzz",
        "outputId": "237b5e35-1c9e-4a34-f747-3531649f2b8d"
      },
      "source": [
        "proportion = [min(array)/n for n in array]\n",
        "proportion"
      ],
      "execution_count": 15,
      "outputs": [
        {
          "output_type": "execute_result",
          "data": {
            "text/plain": [
              "[0.6666666666666666, 0.8, 1.0]"
            ]
          },
          "metadata": {
            "tags": []
          },
          "execution_count": 15
        }
      ]
    },
    {
      "cell_type": "code",
      "metadata": {
        "colab": {
          "base_uri": "https://localhost:8080/"
        },
        "id": "hxUveuXG0A8B",
        "outputId": "fcc8a20d-1b5a-479b-d556-e371d542bf91"
      },
      "source": [
        "[round(c / sum(proportion) * bonus) for c in proportion]"
      ],
      "execution_count": 16,
      "outputs": [
        {
          "output_type": "execute_result",
          "data": {
            "text/plain": [
              "[230, 276, 345]"
            ]
          },
          "metadata": {
            "tags": []
          },
          "execution_count": 16
        }
      ]
    }
  ]
}
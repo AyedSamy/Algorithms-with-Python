{
  "nbformat": 4,
  "nbformat_minor": 0,
  "metadata": {
    "colab": {
      "name": "Sort the odd",
      "provenance": [],
      "collapsed_sections": []
    },
    "kernelspec": {
      "name": "python3",
      "display_name": "Python 3"
    },
    "language_info": {
      "name": "python"
    }
  },
  "cells": [
    {
      "cell_type": "code",
      "metadata": {
        "id": "5dazJu7aUB4A"
      },
      "source": [
        "\"\"\"\n",
        "Task\n",
        "You will be given an array of numbers. You have to sort the odd numbers in ascending order while leaving the even numbers at their original positions.\n",
        "\n",
        "Examples\n",
        "[7, 1]  =>  [1, 7]\n",
        "[5, 8, 6, 3, 4]  =>  [3, 8, 6, 5, 4]\n",
        "[9, 8, 7, 6, 5, 4, 3, 2, 1, 0]  =>  [1, 8, 3, 6, 5, 4, 7, 2, 9, 0]\n",
        "\"\"\""
      ],
      "execution_count": null,
      "outputs": []
    },
    {
      "cell_type": "code",
      "metadata": {
        "id": "zUXq3picU-kb"
      },
      "source": [
        "def sort_array(source_array):\n",
        "    ls = source_array\n",
        "    odds = [n for n in ls if n%2 != 0]\n",
        "    even_index = [i for i, n in enumerate(ls) if n%2 == 0]\n",
        "    odds_sorted = sorted(odds)\n",
        "    result = [-1 for n in range(len(ls))]\n",
        "\n",
        "    for n in even_index:\n",
        "        result[n] = ls[n]\n",
        "\n",
        "    j = 0\n",
        "    for i, n in enumerate(result):\n",
        "        if n == -1:\n",
        "            result[i] = odds_sorted[j]\n",
        "            j += 1\n",
        "    return result"
      ],
      "execution_count": null,
      "outputs": []
    },
    {
      "cell_type": "code",
      "metadata": {
        "colab": {
          "base_uri": "https://localhost:8080/"
        },
        "id": "XjEfPnBdQRbR",
        "outputId": "6bb3f4ba-7a64-4ecb-8b44-5747dfc09732"
      },
      "source": [
        "ls = [9, 8, 7, 6, 5, 4, 3, 2, 1, 0]\n",
        "\n",
        "odds = [n for n in ls if n%2 != 0]\n",
        "even_index = [i for i, n in enumerate(ls) if n%2 == 0]\n",
        "odds_sorted = sorted(odds)\n",
        "result = [-1 for n in range(len(ls))]\n",
        "\n",
        "for n in even_index:\n",
        "  result[n] = ls[n]\n",
        "\n",
        "j = 0\n",
        "for i, n in enumerate(result):\n",
        "  if n == -1:\n",
        "    result[i] = odds_sorted[j]\n",
        "    j += 1\n",
        "\n",
        "print(result)"
      ],
      "execution_count": 10,
      "outputs": [
        {
          "output_type": "stream",
          "text": [
            "[1, 8, 3, 6, 5, 4, 7, 2, 9, 0]\n"
          ],
          "name": "stdout"
        }
      ]
    },
    {
      "cell_type": "code",
      "metadata": {
        "id": "MtlhgVuZRAPN"
      },
      "source": [
        ""
      ],
      "execution_count": null,
      "outputs": []
    }
  ]
}
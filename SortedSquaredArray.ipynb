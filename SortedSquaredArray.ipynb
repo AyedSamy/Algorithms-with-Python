{
  "nbformat": 4,
  "nbformat_minor": 0,
  "metadata": {
    "colab": {
      "name": "SortedSquaredArray",
      "provenance": []
    },
    "kernelspec": {
      "name": "python3",
      "display_name": "Python 3"
    },
    "language_info": {
      "name": "python"
    }
  },
  "cells": [
    {
      "cell_type": "code",
      "metadata": {
        "colab": {
          "base_uri": "https://localhost:8080/"
        },
        "id": "DKjZkZ6_JYB7",
        "outputId": "9a7a9f51-5584-4a33-ed31-0df2c5a244c6"
      },
      "source": [
        "arr = [-6,-4,1,2,3,5]\n",
        "\n",
        "output = [0 for n in range(len(arr))]\n",
        "\n",
        "left = 0\n",
        "right = len(arr)-1\n",
        "stop = False\n",
        "i = len(arr)-1\n",
        "\n",
        "while stop != True:\n",
        "  if arr[left]**2 > arr[right]**2:\n",
        "    output[i] = arr[left]**2\n",
        "    left += 1\n",
        "  else:\n",
        "    output[i] = arr[right]**2\n",
        "    right -= 1\n",
        "  i -= 1\n",
        "  if i < 0:\n",
        "    stop = True\n",
        "\n",
        "output\n"
      ],
      "execution_count": 4,
      "outputs": [
        {
          "output_type": "execute_result",
          "data": {
            "text/plain": [
              "[1, 4, 9, 16, 25, 36]"
            ]
          },
          "metadata": {
            "tags": []
          },
          "execution_count": 4
        }
      ]
    },
    {
      "cell_type": "code",
      "metadata": {
        "id": "kgONp2Y-Lgfp"
      },
      "source": [
        ""
      ],
      "execution_count": null,
      "outputs": []
    }
  ]
}
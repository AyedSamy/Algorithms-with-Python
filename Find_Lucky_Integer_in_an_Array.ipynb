{
  "nbformat": 4,
  "nbformat_minor": 0,
  "metadata": {
    "colab": {
      "name": "Find Lucky Integer in an Array",
      "provenance": [],
      "collapsed_sections": []
    },
    "kernelspec": {
      "name": "python3",
      "display_name": "Python 3"
    },
    "language_info": {
      "name": "python"
    }
  },
  "cells": [
    {
      "cell_type": "code",
      "metadata": {
        "id": "eeW_CzKr_-vT"
      },
      "source": [
        "\"\"\"\n",
        "Given an array of integers arr, a lucky integer is an integer which has a frequency in the array equal to its value.\n",
        "\n",
        "Return a lucky integer in the array. If there are multiple lucky integers return the largest of them. If there is no lucky integer return -1.\n",
        "\n",
        "\n",
        "Example 1:\n",
        "\n",
        "Input: arr = [2,2,3,4]\n",
        "Output: 2\n",
        "Explanation: The only lucky number in the array is 2 because frequency[2] == 2.\n",
        "Example 2:\n",
        "\n",
        "Input: arr = [1,2,2,3,3,3]\n",
        "Output: 3\n",
        "Explanation: 1, 2 and 3 are all lucky numbers, return the largest of them.\n",
        "Example 3:\n",
        "\n",
        "Input: arr = [2,2,2,3,3]\n",
        "Output: -1\n",
        "Explanation: There are no lucky numbers in the array.\n",
        "Example 4:\n",
        "\n",
        "Input: arr = [5]\n",
        "Output: -1\n",
        "Example 5:\n",
        "\n",
        "Input: arr = [7,7,7,7,7,7,7]\n",
        "Output: 7\n",
        " \n",
        "\n",
        "Constraints:\n",
        "\n",
        "1 <= arr.length <= 500\n",
        "1 <= arr[i] <= 500\n",
        "\n",
        "\"\"\""
      ],
      "execution_count": null,
      "outputs": []
    },
    {
      "cell_type": "code",
      "metadata": {
        "colab": {
          "base_uri": "https://localhost:8080/"
        },
        "id": "VLzmx4mBCN69",
        "outputId": "ae169298-0c35-413d-9bbb-2dd7a6cc606e"
      },
      "source": [
        "class Solution:\n",
        "    def findLucky(self, arr: List[int]) -> int:\n",
        "        arr = sorted(arr)\n",
        "        i = len(arr) - 1\n",
        "        count_num = {}\n",
        "\n",
        "        while i >= 0:\n",
        "            if arr[i] not in count_num.keys():\n",
        "                if i < len(arr) - 1 and arr[i+1] == count_num[arr[i+1]]:\n",
        "                    return arr[i+1]\n",
        "                else:\n",
        "                    count_num[arr[i]] = 1\n",
        "            else:\n",
        "                count_num[arr[i]] += 1\n",
        "            if i == 0 and arr[i] == count_num[arr[i]]:\n",
        "                return arr[i]\n",
        "            elif i == 0 and arr[i] != count_num[arr[i]]:\n",
        "                return -1\n",
        "            i -= 1"
      ],
      "execution_count": 5,
      "outputs": [
        {
          "output_type": "execute_result",
          "data": {
            "text/plain": [
              "{3: 3, 4: 1}"
            ]
          },
          "metadata": {},
          "execution_count": 5
        }
      ]
    },
    {
      "cell_type": "code",
      "metadata": {
        "colab": {
          "base_uri": "https://localhost:8080/"
        },
        "id": "oMzM52BvDqHr",
        "outputId": "85ef3c67-7a25-4414-e904-022dc90e35af"
      },
      "source": [
        "arr = [2,2,3,4]\n",
        "arr = sorted(arr)\n",
        "i = len(arr) - 1\n",
        "count_num = {}\n",
        "\n",
        "while i >= 0:\n",
        "    if arr[i] not in count_num.keys():\n",
        "        if i < len(arr) - 1 and arr[i+1] == count_num[arr[i+1]]:\n",
        "            print(arr[i+1])\n",
        "        else:\n",
        "            count_num[arr[i]] = 1\n",
        "    else:\n",
        "        count_num[arr[i]] += 1\n",
        "    if i == 0 and arr[i] == count_num[arr[i]]:\n",
        "        print(arr[i])\n",
        "    elif i == 0 and arr[i] != count_num[arr[i]]:\n",
        "        print(-1)\n",
        "    i -= 1"
      ],
      "execution_count": 14,
      "outputs": [
        {
          "output_type": "stream",
          "name": "stdout",
          "text": [
            "2\n"
          ]
        }
      ]
    },
    {
      "cell_type": "code",
      "metadata": {
        "id": "A5-fr6hpGIWQ"
      },
      "source": [
        ""
      ],
      "execution_count": null,
      "outputs": []
    }
  ]
}
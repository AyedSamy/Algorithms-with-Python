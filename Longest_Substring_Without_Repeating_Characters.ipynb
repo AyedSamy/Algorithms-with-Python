{
  "nbformat": 4,
  "nbformat_minor": 0,
  "metadata": {
    "colab": {
      "name": "Longest Substring Without Repeating Characters",
      "provenance": []
    },
    "kernelspec": {
      "name": "python3",
      "display_name": "Python 3"
    },
    "language_info": {
      "name": "python"
    }
  },
  "cells": [
    {
      "cell_type": "code",
      "metadata": {
        "id": "VuhBRt_l6OoK"
      },
      "source": [
        "\"\"\"\n",
        "3. Longest Substring Without Repeating Characters\n",
        "Medium\n",
        "\n",
        "15487\n",
        "\n",
        "774\n",
        "\n",
        "Add to List\n",
        "\n",
        "Share\n",
        "Given a string s, find the length of the longest substring without repeating characters.\n",
        "\n",
        " \n",
        "\n",
        "Example 1:\n",
        "\n",
        "Input: s = \"abcabcbb\"\n",
        "Output: 3\n",
        "Explanation: The answer is \"abc\", with the length of 3.\n",
        "Example 2:\n",
        "\n",
        "Input: s = \"bbbbb\"\n",
        "Output: 1\n",
        "Explanation: The answer is \"b\", with the length of 1.\n",
        "Example 3:\n",
        "\n",
        "Input: s = \"pwwkew\"\n",
        "Output: 3\n",
        "Explanation: The answer is \"wke\", with the length of 3.\n",
        "Notice that the answer must be a substring, \"pwke\" is a subsequence and not a substring.\n",
        "Example 4:\n",
        "\n",
        "Input: s = \"\"\n",
        "Output: 0\n",
        " \n",
        "\n",
        "Constraints:\n",
        "\n",
        "0 <= s.length <= 5 * 104\n",
        "s consists of English letters, digits, symbols and spaces.\n",
        "\"\"\""
      ],
      "execution_count": null,
      "outputs": []
    },
    {
      "cell_type": "code",
      "metadata": {
        "id": "nadioCzeW5Rd"
      },
      "source": [
        "class Solution:\n",
        "    def lengthOfLongestSubstring(self, s: str) -> int:\n",
        "        current_stored_letters = []\n",
        "        i = 0\n",
        "        j = 0\n",
        "        max_len = 0\n",
        "\n",
        "        while i < len(s):\n",
        "            go = True\n",
        "            while go:\n",
        "                if i+j < len(s) and s[i+j] not in current_stored_letters:\n",
        "                    current_stored_letters.append(s[i+j])\n",
        "                    j += 1\n",
        "                else:\n",
        "                    i += 1\n",
        "                    j = 0\n",
        "                    go = False\n",
        "                    current_len = len(current_stored_letters)\n",
        "                    if current_len > max_len:\n",
        "                        max_len = current_len\n",
        "                    current_stored_letters = []\n",
        "            \n",
        "        return max_len"
      ],
      "execution_count": null,
      "outputs": []
    },
    {
      "cell_type": "code",
      "metadata": {
        "colab": {
          "base_uri": "https://localhost:8080/"
        },
        "id": "GKd3riOtq4sE",
        "outputId": "0d39b1ab-8ef3-46e8-8aa0-9521ecf5f2c6"
      },
      "source": [
        "s = \"abcdeffqrsttuvwabcdefg\"\n",
        "current_stored_letters = []\n",
        "i = 0\n",
        "j = 0\n",
        "max_len = 0\n",
        "\n",
        "while i < len(s):\n",
        "  go = True\n",
        "  while go:\n",
        "    if current_stored_letters == []:\n",
        "      starting_idx = i\n",
        "    if i+j < len(s) and s[i+j] not in current_stored_letters:\n",
        "      current_stored_letters.append(s[i+j])\n",
        "      j += 1\n",
        "    else:\n",
        "      i += 1\n",
        "      j = 0\n",
        "      go = False\n",
        "      current_len = len(current_stored_letters)\n",
        "      if current_len > max_len:\n",
        "        max_len = current_len\n",
        "        best_sub = current_stored_letters\n",
        "      current_stored_letters = []\n",
        "print(max_len)\n",
        "print(best_sub)\n",
        "\n",
        "\n"
      ],
      "execution_count": 12,
      "outputs": [
        {
          "output_type": "stream",
          "text": [
            "11\n",
            "['t', 'u', 'v', 'w', 'a', 'b', 'c', 'd', 'e', 'f', 'g']\n"
          ],
          "name": "stdout"
        }
      ]
    },
    {
      "cell_type": "code",
      "metadata": {
        "id": "4yCDpB2w0b4Z"
      },
      "source": [
        ""
      ],
      "execution_count": null,
      "outputs": []
    }
  ]
}
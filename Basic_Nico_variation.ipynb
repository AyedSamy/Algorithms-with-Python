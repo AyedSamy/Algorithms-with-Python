{
  "nbformat": 4,
  "nbformat_minor": 0,
  "metadata": {
    "colab": {
      "name": "Basic Nico variation",
      "provenance": [],
      "collapsed_sections": []
    },
    "kernelspec": {
      "name": "python3",
      "display_name": "Python 3"
    },
    "language_info": {
      "name": "python"
    }
  },
  "cells": [
    {
      "cell_type": "code",
      "metadata": {
        "id": "2vBvDdkfU-hT"
      },
      "source": [
        "\"\"\"\n",
        "Task\n",
        "Write a function nico/nico() that accepts two parameters:\n",
        "\n",
        "key/$key - string consists of unique letters and digits\n",
        "message/$message - string to encode\n",
        "and encodes the message using the key.\n",
        "\n",
        "First create a numeric key basing on a provided key by assigning each letter position in which it is located after setting the letters from key in an alphabetical order.\n",
        "\n",
        "For example, for the key crazy we will get 23154 because of acryz (sorted letters from the key).\n",
        "Let's encode secretinformation using our crazy key.\n",
        "\n",
        "2 3 1 5 4\n",
        "---------\n",
        "s e c r e\n",
        "t i n f o\n",
        "r m a t i\n",
        "o n\n",
        "After using the key:\n",
        "\n",
        "1 2 3 4 5\n",
        "---------\n",
        "c s e e r\n",
        "n t i o f\n",
        "a r m i t\n",
        "  o n   \n",
        "Examples\n",
        "nico(\"crazy\", \"secretinformation\") => \"cseerntiofarmit on  \"\n",
        "nico(\"abc\", \"abcd\") => \"abcd  \"\n",
        "nico(\"ba\", \"1234567890\") => \"2143658709\" \n",
        "nico(\"key\", \"key\") => \"eky\" \n",
        "Check the test cases for more samples.\n",
        "\"\"\""
      ],
      "execution_count": null,
      "outputs": []
    },
    {
      "cell_type": "code",
      "metadata": {
        "colab": {
          "base_uri": "https://localhost:8080/"
        },
        "id": "hG6uJwYbEo4j",
        "outputId": "18383c7f-849f-4ba5-90ea-a43dea6f9b00"
      },
      "source": [
        "key = \"crazy\"\n",
        "\n",
        "print(''.join([str(''.join(sorted(key)).index(c)+1) for c in key]))\n",
        "\n",
        "indexes = [''.join([str(''.join(sorted(key)).index(c)+1) for c in key]).index(str(i)) for i in range(1,len(key)+1)]\n",
        "\n",
        "indexes"
      ],
      "execution_count": 32,
      "outputs": [
        {
          "output_type": "stream",
          "text": [
            "23154\n"
          ],
          "name": "stdout"
        },
        {
          "output_type": "execute_result",
          "data": {
            "text/plain": [
              "[2, 0, 1, 4, 3]"
            ]
          },
          "metadata": {
            "tags": []
          },
          "execution_count": 32
        }
      ]
    },
    {
      "cell_type": "code",
      "metadata": {
        "colab": {
          "base_uri": "https://localhost:8080/"
        },
        "id": "NZTwzDJjSyBb",
        "outputId": "ff3e7b0e-1bca-4755-89c2-ac307efab334"
      },
      "source": [
        "sorted(key)"
      ],
      "execution_count": 10,
      "outputs": [
        {
          "output_type": "execute_result",
          "data": {
            "text/plain": [
              "['a', 'c', 'r', 'y', 'z']"
            ]
          },
          "metadata": {
            "tags": []
          },
          "execution_count": 10
        }
      ]
    },
    {
      "cell_type": "code",
      "metadata": {
        "colab": {
          "base_uri": "https://localhost:8080/"
        },
        "id": "cLR8_HZTUMXr",
        "outputId": "d85a78dd-5c29-499d-b2b5-cc6528e49cda"
      },
      "source": [
        "message = \"secretinformation\"\n",
        "grid = [[' ' for i in range(len(key))] for j in range(len(message)//len(key) +(len(message)%len(key) != 0)*1)]\n",
        "print(grid)\n",
        "\n",
        "i = 0\n",
        "for x in range(len(grid)):\n",
        "  for y in range(len(key)):\n",
        "    try:\n",
        "      grid[x][y] = message[i]\n",
        "      i+=1\n",
        "    except:\n",
        "      pass\n",
        "\n",
        "grid"
      ],
      "execution_count": 26,
      "outputs": [
        {
          "output_type": "stream",
          "text": [
            "[[' ', ' ', ' ', ' ', ' '], [' ', ' ', ' ', ' ', ' '], [' ', ' ', ' ', ' ', ' '], [' ', ' ', ' ', ' ', ' ']]\n"
          ],
          "name": "stdout"
        },
        {
          "output_type": "execute_result",
          "data": {
            "text/plain": [
              "[['s', 'e', 'c', 'r', 'e'],\n",
              " ['t', 'i', 'n', 'f', 'o'],\n",
              " ['r', 'm', 'a', 't', 'i'],\n",
              " ['o', 'n', ' ', ' ', ' ']]"
            ]
          },
          "metadata": {
            "tags": []
          },
          "execution_count": 26
        }
      ]
    },
    {
      "cell_type": "code",
      "metadata": {
        "colab": {
          "base_uri": "https://localhost:8080/"
        },
        "id": "oOJOzFMIfl0_",
        "outputId": "75d935a5-e956-42a6-c64d-7818a51d368e"
      },
      "source": [
        "new_grid = [[' ' for i in range(len(key))] for j in range(len(message)//len(key) +(len(message)%len(key) != 0)*1)]\n",
        "new_grid"
      ],
      "execution_count": 33,
      "outputs": [
        {
          "output_type": "execute_result",
          "data": {
            "text/plain": [
              "[[' ', ' ', ' ', ' ', ' '],\n",
              " [' ', ' ', ' ', ' ', ' '],\n",
              " [' ', ' ', ' ', ' ', ' '],\n",
              " [' ', ' ', ' ', ' ', ' ']]"
            ]
          },
          "metadata": {
            "tags": []
          },
          "execution_count": 33
        }
      ]
    },
    {
      "cell_type": "code",
      "metadata": {
        "colab": {
          "base_uri": "https://localhost:8080/"
        },
        "id": "Dy9mOgsGmaf0",
        "outputId": "f57fed25-00d0-4713-8060-5dba7f1a2cf1"
      },
      "source": [
        "for i, row in enumerate(grid):\n",
        "  for j, cell in enumerate(row):\n",
        "    new_grid[i][j] = grid[i][indexes[j]]\n",
        "\n",
        "new_grid\n"
      ],
      "execution_count": 34,
      "outputs": [
        {
          "output_type": "execute_result",
          "data": {
            "text/plain": [
              "[['c', 's', 'e', 'e', 'r'],\n",
              " ['n', 't', 'i', 'o', 'f'],\n",
              " ['a', 'r', 'm', 'i', 't'],\n",
              " [' ', 'o', 'n', ' ', ' ']]"
            ]
          },
          "metadata": {
            "tags": []
          },
          "execution_count": 34
        }
      ]
    },
    {
      "cell_type": "code",
      "metadata": {
        "colab": {
          "base_uri": "https://localhost:8080/",
          "height": 35
        },
        "id": "4TE4UH8NoVpK",
        "outputId": "be83ad00-e5e0-494a-cb8b-05d23915c947"
      },
      "source": [
        "''.join([c for t in new_grid for c in t])"
      ],
      "execution_count": 36,
      "outputs": [
        {
          "output_type": "execute_result",
          "data": {
            "application/vnd.google.colaboratory.intrinsic+json": {
              "type": "string"
            },
            "text/plain": [
              "'cseerntiofarmit on  '"
            ]
          },
          "metadata": {
            "tags": []
          },
          "execution_count": 36
        }
      ]
    },
    {
      "cell_type": "code",
      "metadata": {
        "id": "utXz23-3o6l8"
      },
      "source": [
        ""
      ],
      "execution_count": null,
      "outputs": []
    }
  ]
}
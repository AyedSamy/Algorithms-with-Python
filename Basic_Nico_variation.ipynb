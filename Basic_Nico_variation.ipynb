{
  "nbformat": 4,
  "nbformat_minor": 0,
  "metadata": {
    "colab": {
      "name": "Basic Nico variation",
      "provenance": [],
      "collapsed_sections": []
    },
    "kernelspec": {
      "name": "python3",
      "display_name": "Python 3"
    },
    "language_info": {
      "name": "python"
    }
  },
  "cells": [
    {
      "cell_type": "code",
      "metadata": {
        "id": "2vBvDdkfU-hT"
      },
      "source": [
        "\"\"\"\n",
        "Task\n",
        "Write a function nico/nico() that accepts two parameters:\n",
        "\n",
        "key/$key - string consists of unique letters and digits\n",
        "message/$message - string to encode\n",
        "and encodes the message using the key.\n",
        "\n",
        "First create a numeric key basing on a provided key by assigning each letter position in which it is located after setting the letters from key in an alphabetical order.\n",
        "\n",
        "For example, for the key crazy we will get 23154 because of acryz (sorted letters from the key).\n",
        "Let's encode secretinformation using our crazy key.\n",
        "\n",
        "2 3 1 5 4\n",
        "---------\n",
        "s e c r e\n",
        "t i n f o\n",
        "r m a t i\n",
        "o n\n",
        "After using the key:\n",
        "\n",
        "1 2 3 4 5\n",
        "---------\n",
        "c s e e r\n",
        "n t i o f\n",
        "a r m i t\n",
        "  o n   \n",
        "Examples\n",
        "nico(\"crazy\", \"secretinformation\") => \"cseerntiofarmit on  \"\n",
        "nico(\"abc\", \"abcd\") => \"abcd  \"\n",
        "nico(\"ba\", \"1234567890\") => \"2143658709\" \n",
        "nico(\"key\", \"key\") => \"eky\" \n",
        "Check the test cases for more samples.\n",
        "\"\"\""
      ],
      "execution_count": null,
      "outputs": []
    },
    {
      "cell_type": "code",
      "metadata": {
        "id": "x49ciEz52vTr"
      },
      "source": [
        "def nico(key, message):\n",
        "\n",
        "    array = [str(''.join(sorted(key)).index(c)+1) for c in key]\n",
        "    indexes = [array.index(str(i)) for i in range(1,len(key)+1)]\n",
        "    \n",
        "    grid = [[' ' for i in range(len(key))] for j in range(len(message)//len(key) +(len(message)%len(key) != 0)*1)]\n",
        "\n",
        "    i = 0\n",
        "    for x in range(len(grid)):\n",
        "        for y in range(len(key)):\n",
        "            try:\n",
        "                grid[x][y] = message[i]\n",
        "                i+=1\n",
        "            except:\n",
        "                pass\n",
        "\n",
        "    new_grid = [[' ' for i in range(len(key))] for j in range(len(message)//len(key) +(len(message)%len(key) != 0)*1)]\n",
        "\n",
        "    for i, row in enumerate(grid):\n",
        "        for j, cell in enumerate(row):\n",
        "            new_grid[i][j] = grid[i][indexes[j]]\n",
        "\n",
        "    result = ''.join([c for t in new_grid for c in t])\n",
        "    \n",
        "    return result"
      ],
      "execution_count": 57,
      "outputs": []
    },
    {
      "cell_type": "code",
      "metadata": {
        "colab": {
          "base_uri": "https://localhost:8080/",
          "height": 35
        },
        "id": "-Wh-7_jRtExS",
        "outputId": "4b83736f-0321-49e8-f33a-734654eb881b"
      },
      "source": [
        "key = \"uiwnkstcyd\"\n",
        "message = \"jwplcogou nlprfs kefgqpzgjxtny tdd kbvjjnxa\"\n",
        "\n",
        "array = [str(''.join(sorted(key)).index(c)+1) for c in key]\n",
        "\n",
        "indexes = [array.index(str(i)) for i in range(1,len(key)+1)]\n",
        "\n",
        "grid = [[' ' for i in range(len(key))] for j in range(len(message)//len(key) +(len(message)%len(key) != 0)*1)]\n",
        "\n",
        "i = 0\n",
        "for x in range(len(grid)):\n",
        "  for y in range(len(key)):\n",
        "    try:\n",
        "      grid[x][y] = message[i]\n",
        "      i+=1\n",
        "    except:\n",
        "      pass\n",
        "\n",
        "new_grid = [[' ' for i in range(len(key))] for j in range(len(message)//len(key) +(len(message)%len(key) != 0)*1)]\n",
        "\n",
        "for i, row in enumerate(grid):\n",
        "  for j, cell in enumerate(row):\n",
        "    new_grid[i][j] = grid[i][indexes[j]]\n",
        "\n",
        "''.join([c for t in new_grid for c in t])"
      ],
      "execution_count": 56,
      "outputs": [
        {
          "output_type": "execute_result",
          "data": {
            "application/vnd.google.colaboratory.intrinsic+json": {
              "type": "string"
            },
            "text/plain": [
              "'o wclogjpukflfrs npetyqgzjxgpnvjt dkb dj  x    na '"
            ]
          },
          "metadata": {
            "tags": []
          },
          "execution_count": 56
        }
      ]
    },
    {
      "cell_type": "code",
      "metadata": {
        "colab": {
          "base_uri": "https://localhost:8080/"
        },
        "id": "hG6uJwYbEo4j",
        "outputId": "3da21ef4-ca46-422d-cca8-fd8a3040cdf2"
      },
      "source": [
        "key = \"uiwnkstcyd\"\n",
        "print(sorted(key))\n",
        "\n",
        "print(''.join([str(''.join(sorted(key)).index(c)+1) for c in key]))\n",
        "\n",
        "array = [str(''.join(sorted(key)).index(c)+1) for c in key]\n",
        "\n",
        "indexes = [array.index(str(i)) for i in range(1,len(key)+1)]\n",
        "\n",
        "indexes"
      ],
      "execution_count": 54,
      "outputs": [
        {
          "output_type": "stream",
          "text": [
            "['c', 'd', 'i', 'k', 'n', 's', 't', 'u', 'w', 'y']\n",
            "83954671102\n"
          ],
          "name": "stdout"
        },
        {
          "output_type": "execute_result",
          "data": {
            "text/plain": [
              "[7, 9, 1, 4, 3, 5, 6, 0, 2, 8]"
            ]
          },
          "metadata": {
            "tags": []
          },
          "execution_count": 54
        }
      ]
    },
    {
      "cell_type": "code",
      "metadata": {
        "colab": {
          "base_uri": "https://localhost:8080/"
        },
        "id": "NN0wHqdF0O7q",
        "outputId": "c09707ec-e97b-4093-afb0-bcba95d5f98a"
      },
      "source": [
        "[str(''.join(sorted(key)).index(c)+1) for c in key]"
      ],
      "execution_count": 52,
      "outputs": [
        {
          "output_type": "execute_result",
          "data": {
            "text/plain": [
              "['8', '3', '9', '5', '4', '6', '7', '1', '10', '2']"
            ]
          },
          "metadata": {
            "tags": []
          },
          "execution_count": 52
        }
      ]
    },
    {
      "cell_type": "code",
      "metadata": {
        "colab": {
          "base_uri": "https://localhost:8080/"
        },
        "id": "NZTwzDJjSyBb",
        "outputId": "87f25c6b-5b91-48ad-80c1-7f98f86ed3c0"
      },
      "source": [
        "sorted(key)"
      ],
      "execution_count": 41,
      "outputs": [
        {
          "output_type": "execute_result",
          "data": {
            "text/plain": [
              "['c', 'd', 'i', 'k', 'n', 's', 't', 'u', 'w', 'y']"
            ]
          },
          "metadata": {
            "tags": []
          },
          "execution_count": 41
        }
      ]
    },
    {
      "cell_type": "code",
      "metadata": {
        "colab": {
          "base_uri": "https://localhost:8080/"
        },
        "id": "cLR8_HZTUMXr",
        "outputId": "9c5b0b36-9f16-4830-9776-4de3b7dd8c5b"
      },
      "source": [
        "message = \"jwplcogou nlprfs kefgqpzgjxtny tdd kbvjjnxa\"\n",
        "grid = [[' ' for i in range(len(key))] for j in range(len(message)//len(key) +(len(message)%len(key) != 0)*1)]\n",
        "print(grid)\n",
        "\n",
        "i = 0\n",
        "for x in range(len(grid)):\n",
        "  for y in range(len(key)):\n",
        "    try:\n",
        "      grid[x][y] = message[i]\n",
        "      i+=1\n",
        "    except:\n",
        "      pass\n",
        "\n",
        "grid"
      ],
      "execution_count": 58,
      "outputs": [
        {
          "output_type": "stream",
          "text": [
            "[[' ', ' ', ' ', ' ', ' ', ' ', ' ', ' ', ' ', ' '], [' ', ' ', ' ', ' ', ' ', ' ', ' ', ' ', ' ', ' '], [' ', ' ', ' ', ' ', ' ', ' ', ' ', ' ', ' ', ' '], [' ', ' ', ' ', ' ', ' ', ' ', ' ', ' ', ' ', ' '], [' ', ' ', ' ', ' ', ' ', ' ', ' ', ' ', ' ', ' ']]\n"
          ],
          "name": "stdout"
        },
        {
          "output_type": "execute_result",
          "data": {
            "text/plain": [
              "[['j', 'w', 'p', 'l', 'c', 'o', 'g', 'o', 'u', ' '],\n",
              " ['n', 'l', 'p', 'r', 'f', 's', ' ', 'k', 'e', 'f'],\n",
              " ['g', 'q', 'p', 'z', 'g', 'j', 'x', 't', 'n', 'y'],\n",
              " [' ', 't', 'd', 'd', ' ', 'k', 'b', 'v', 'j', 'j'],\n",
              " ['n', 'x', 'a', ' ', ' ', ' ', ' ', ' ', ' ', ' ']]"
            ]
          },
          "metadata": {
            "tags": []
          },
          "execution_count": 58
        }
      ]
    },
    {
      "cell_type": "code",
      "metadata": {
        "colab": {
          "base_uri": "https://localhost:8080/"
        },
        "id": "oOJOzFMIfl0_",
        "outputId": "529076b4-ceae-43aa-d9f5-5811a2b56d5b"
      },
      "source": [
        "new_grid = [[' ' for i in range(len(key))] for j in range(len(message)//len(key) +(len(message)%len(key) != 0)*1)]\n",
        "new_grid"
      ],
      "execution_count": 59,
      "outputs": [
        {
          "output_type": "execute_result",
          "data": {
            "text/plain": [
              "[[' ', ' ', ' ', ' ', ' ', ' ', ' ', ' ', ' ', ' '],\n",
              " [' ', ' ', ' ', ' ', ' ', ' ', ' ', ' ', ' ', ' '],\n",
              " [' ', ' ', ' ', ' ', ' ', ' ', ' ', ' ', ' ', ' '],\n",
              " [' ', ' ', ' ', ' ', ' ', ' ', ' ', ' ', ' ', ' '],\n",
              " [' ', ' ', ' ', ' ', ' ', ' ', ' ', ' ', ' ', ' ']]"
            ]
          },
          "metadata": {
            "tags": []
          },
          "execution_count": 59
        }
      ]
    },
    {
      "cell_type": "code",
      "metadata": {
        "colab": {
          "base_uri": "https://localhost:8080/"
        },
        "id": "Dy9mOgsGmaf0",
        "outputId": "c8454c4e-520e-4ed3-acdb-9576a49f1e78"
      },
      "source": [
        "for i, row in enumerate(grid):\n",
        "  for j, cell in enumerate(row):\n",
        "    new_grid[i][j] = grid[i][indexes[j]]\n",
        "\n",
        "new_grid\n"
      ],
      "execution_count": 62,
      "outputs": [
        {
          "output_type": "execute_result",
          "data": {
            "text/plain": [
              "[['o', ' ', 'w', 'c', 'l', 'o', 'g', 'j', 'p', 'u'],\n",
              " ['k', 'f', 'l', 'f', 'r', 's', ' ', 'n', 'p', 'e'],\n",
              " ['t', 'y', 'q', 'g', 'z', 'j', 'x', 'g', 'p', 'n'],\n",
              " ['v', 'j', 't', ' ', 'd', 'k', 'b', ' ', 'd', 'j'],\n",
              " [' ', ' ', 'x', ' ', ' ', ' ', ' ', 'n', 'a', ' ']]"
            ]
          },
          "metadata": {
            "tags": []
          },
          "execution_count": 62
        }
      ]
    },
    {
      "cell_type": "code",
      "metadata": {
        "colab": {
          "base_uri": "https://localhost:8080/",
          "height": 35
        },
        "id": "4TE4UH8NoVpK",
        "outputId": "36b07aaf-c4fb-48d5-b8bf-04097f367e8f"
      },
      "source": [
        "''.join([c for t in new_grid for c in t])"
      ],
      "execution_count": 61,
      "outputs": [
        {
          "output_type": "execute_result",
          "data": {
            "application/vnd.google.colaboratory.intrinsic+json": {
              "type": "string"
            },
            "text/plain": [
              "'o wclogjpukflfrs npetyqgzjxgpnvjt dkb dj  x    na '"
            ]
          },
          "metadata": {
            "tags": []
          },
          "execution_count": 61
        }
      ]
    },
    {
      "cell_type": "code",
      "metadata": {
        "id": "utXz23-3o6l8"
      },
      "source": [
        ""
      ],
      "execution_count": null,
      "outputs": []
    }
  ]
}
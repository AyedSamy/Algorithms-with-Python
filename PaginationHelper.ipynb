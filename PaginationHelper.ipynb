{
  "nbformat": 4,
  "nbformat_minor": 0,
  "metadata": {
    "colab": {
      "name": "PaginationHelper",
      "provenance": [],
      "collapsed_sections": []
    },
    "kernelspec": {
      "name": "python3",
      "display_name": "Python 3"
    },
    "language_info": {
      "name": "python"
    }
  },
  "cells": [
    {
      "cell_type": "code",
      "metadata": {
        "id": "41M7LkIolPLZ"
      },
      "source": [
        "\"\"\"\n",
        "For this exercise you will be strengthening your page-fu mastery. You will complete the PaginationHelper class, which is a utility class helpful for querying paging information related to an array.\n",
        "\n",
        "The class is designed to take in an array of values and an integer indicating how many items will be allowed per each page. The types of values contained within the collection/array are not relevant.\n",
        "\n",
        "The following are some examples of how this class is used:\n",
        "\n",
        "helper = PaginationHelper(['a','b','c','d','e','f'], 4)\n",
        "helper.page_count() # should == 2\n",
        "helper.item_count() # should == 6\n",
        "helper.page_item_count(0)  # should == 4\n",
        "helper.page_item_count(1) # last page - should == 2\n",
        "helper.page_item_count(2) # should == -1 since the page is invalid\n",
        "\n",
        "# page_index takes an item index and returns the page that it belongs on\n",
        "helper.page_index(5) # should == 1 (zero based index)\n",
        "helper.page_index(2) # should == 0\n",
        "helper.page_index(20) # should == -1\n",
        "helper.page_index(-10) # should == -1 because negative indexes are invalid\n",
        "\"\"\""
      ],
      "execution_count": null,
      "outputs": []
    },
    {
      "cell_type": "code",
      "metadata": {
        "id": "7tfCapyzmOMd"
      },
      "source": [
        "from math import floor, ceil\n",
        "# TODO: complete this class\n",
        "\n",
        "class PaginationHelper:\n",
        "\n",
        "  # The constructor takes in an array of items and a integer indicating\n",
        "  # how many items fit within a single page\n",
        "  def __init__(self, collection, items_per_page):\n",
        "    self.collection = collection\n",
        "    self.items_per_page = items_per_page\n",
        "\n",
        "  # returns the number of items within the entire collection\n",
        "  def item_count(self):\n",
        "    return len(self.collection)\n",
        "\n",
        "  # returns the number of pages\n",
        "  def page_count(self):\n",
        "    return ceil(len(self.collection) / self.items_per_page)\n",
        "\n",
        "  # returns the number of items on the current page. page_index is zero based\n",
        "  # this method should return -1 for page_index values that are out of range\n",
        "  def page_item_count(self,page_index):\n",
        "    if page_index >= self.page_count() or page_index < 0:\n",
        "      return -1\n",
        "    else:\n",
        "      return len(self.collection[page_index*self.items_per_page:(page_index*self.items_per_page+self.items_per_page)])\n",
        "\n",
        "  # determines what page an item is on. Zero based indexes.\n",
        "  # this method should return -1 for item_index values that are out of range\n",
        "  def page_index(self,item_index):\n",
        "    if item_index >= self.item_count() or item_index < 0:\n",
        "      return -1\n",
        "    else:\n",
        "      return floor(item_index / self.items_per_page)"
      ],
      "execution_count": 15,
      "outputs": []
    },
    {
      "cell_type": "code",
      "metadata": {
        "colab": {
          "base_uri": "https://localhost:8080/"
        },
        "id": "7zTdDBg_v8tB",
        "outputId": "b561e15d-fdaa-483b-a427-c59265c80c18"
      },
      "source": [
        "helper = PaginationHelper(['a','b','c','d','e','f'], 4)\n",
        "print(helper.page_count()) # should == 2\n",
        "print(helper.item_count()) # should == 6\n",
        "print(helper.page_item_count(0))  # should == 4\n",
        "print(helper.page_item_count(1)) # last page - should == 2\n",
        "print(helper.page_item_count(2)) # should == -1 since the page is invalid\n",
        "\n",
        "# page_index takes an item index and returns the page that it belongs on\n",
        "print(helper.page_index(5)) # should == 1 (zero based index)\n",
        "print(helper.page_index(2)) # should == 0\n",
        "print(helper.page_index(20)) # should == -1\n",
        "print(helper.page_index(-10)) # should == -1 because negative indexes are invalid"
      ],
      "execution_count": 16,
      "outputs": [
        {
          "output_type": "stream",
          "text": [
            "2\n",
            "6\n",
            "4\n",
            "2\n",
            "-1\n",
            "1\n",
            "0\n",
            "-1\n",
            "-1\n"
          ],
          "name": "stdout"
        }
      ]
    },
    {
      "cell_type": "code",
      "metadata": {
        "id": "nThrv2UvwCfE"
      },
      "source": [
        ""
      ],
      "execution_count": null,
      "outputs": []
    }
  ]
}
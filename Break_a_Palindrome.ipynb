{
  "nbformat": 4,
  "nbformat_minor": 0,
  "metadata": {
    "colab": {
      "name": "Break a Palindrome",
      "provenance": [],
      "collapsed_sections": []
    },
    "kernelspec": {
      "name": "python3",
      "display_name": "Python 3"
    },
    "language_info": {
      "name": "python"
    }
  },
  "cells": [
    {
      "cell_type": "code",
      "metadata": {
        "id": "brtPbkHaSQPq"
      },
      "source": [
        "\"\"\"\n",
        "Given a palindromic string of lowercase English letters palindrome, replace exactly one character with any lowercase English letter so that\n",
        "the resulting string is not a palindrome and that it is the lexicographically smallest one possible.\n",
        "\n",
        "Return the resulting string. If there is no way to replace a character to make it not a palindrome, return an empty string.\n",
        "\n",
        "A string a is lexicographically smaller than a string b (of the same length) if in the first position where a and b differ,\n",
        "a has a character strictly smaller than the corresponding character in b. For example, \"abcc\" is lexicographically smaller than \"abcd\"\n",
        "because the first position they differ is at the fourth character, and 'c' is smaller than 'd'.\n",
        "\"\"\""
      ],
      "execution_count": null,
      "outputs": []
    },
    {
      "cell_type": "code",
      "metadata": {
        "id": "a0IsNegZWlfX"
      },
      "source": [
        "class Solution:\n",
        "    def breakPalindrome(self, palindrome: str) -> str:\n",
        "        palindrome = [c for c in palindrome]\n",
        "        i = 0\n",
        "        not_a = False\n",
        "\n",
        "        while i < len(palindrome):\n",
        "            if i > len(palindrome) // 2 - 1:\n",
        "                break\n",
        "            if palindrome[i] != \"a\":\n",
        "                not_a = True\n",
        "                palindrome[i] = \"a\"\n",
        "                break\n",
        "            i += 1\n",
        "\n",
        "        if not_a == False:\n",
        "            palindrome[-1] = \"b\"\n",
        "\n",
        "        if len(palindrome) == 1 and not_a == False:\n",
        "            return \"\"\n",
        "        \n",
        "        return \"\".join(palindrome)"
      ],
      "execution_count": null,
      "outputs": []
    },
    {
      "cell_type": "code",
      "metadata": {
        "colab": {
          "base_uri": "https://localhost:8080/"
        },
        "id": "E1MgfVJWSGqN",
        "outputId": "551270ed-b264-4eb5-bb10-6ee8144b67d4"
      },
      "source": [
        "palindrome = \"abba\"\n",
        "palindrome = [c for c in palindrome]\n",
        "i = 0\n",
        "not_a = False\n",
        "\n",
        "while i < len(palindrome):\n",
        "  if i > len(palindrome) // 2 - 1:\n",
        "    break\n",
        "  if palindrome[i] != \"a\":\n",
        "    not_a = True\n",
        "    palindrome[i] = \"a\"\n",
        "    break\n",
        "  i += 1\n",
        "\n",
        "if not_a == False:\n",
        "  palindrome[-1] = \"b\"\n",
        "\n",
        "print(\"\".join(palindrome))"
      ],
      "execution_count": null,
      "outputs": [
        {
          "output_type": "stream",
          "name": "stdout",
          "text": [
            "aaba\n"
          ]
        }
      ]
    },
    {
      "cell_type": "code",
      "metadata": {
        "colab": {
          "base_uri": "https://localhost:8080/",
          "height": 201
        },
        "id": "6S2HCcNTSbok",
        "outputId": "e62a3a76-8b0d-41a1-e777-545acee47812"
      },
      "source": [
        "palindrome = \"abccba\"\n",
        "palindrome = [c for c in palindrome]\n",
        "palindrome"
      ],
      "execution_count": null,
      "outputs": [
        {
          "output_type": "error",
          "ename": "TypeError",
          "evalue": "ignored",
          "traceback": [
            "\u001b[0;31m---------------------------------------------------------------------------\u001b[0m",
            "\u001b[0;31mTypeError\u001b[0m                                 Traceback (most recent call last)",
            "\u001b[0;32m<ipython-input-1-37e9319133dd>\u001b[0m in \u001b[0;36m<module>\u001b[0;34m()\u001b[0m\n\u001b[1;32m      1\u001b[0m \u001b[0mpalindrome\u001b[0m \u001b[0;34m=\u001b[0m \u001b[0;34m\"abccba\"\u001b[0m\u001b[0;34m\u001b[0m\u001b[0;34m\u001b[0m\u001b[0m\n\u001b[0;32m----> 2\u001b[0;31m \u001b[0mpalindrome\u001b[0m\u001b[0;34m[\u001b[0m\u001b[0;36m1\u001b[0m\u001b[0;34m]\u001b[0m \u001b[0;34m=\u001b[0m \u001b[0;34m\"a\"\u001b[0m\u001b[0;34m\u001b[0m\u001b[0;34m\u001b[0m\u001b[0m\n\u001b[0m\u001b[1;32m      3\u001b[0m \u001b[0mpalindrome\u001b[0m\u001b[0;34m\u001b[0m\u001b[0;34m\u001b[0m\u001b[0m\n",
            "\u001b[0;31mTypeError\u001b[0m: 'str' object does not support item assignment"
          ]
        }
      ]
    },
    {
      "cell_type": "code",
      "metadata": {
        "id": "LB2Ey_TITfIk"
      },
      "source": [
        "a a a a a"
      ],
      "execution_count": null,
      "outputs": []
    }
  ]
}
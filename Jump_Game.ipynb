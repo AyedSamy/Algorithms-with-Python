{
  "nbformat": 4,
  "nbformat_minor": 0,
  "metadata": {
    "colab": {
      "name": "Jump Game",
      "provenance": [],
      "collapsed_sections": []
    },
    "kernelspec": {
      "name": "python3",
      "display_name": "Python 3"
    },
    "language_info": {
      "name": "python"
    }
  },
  "cells": [
    {
      "cell_type": "code",
      "metadata": {
        "id": "Nn5WetdWaV5t"
      },
      "source": [
        "\"\"\"\n",
        "You are given an integer array nums. You are initially positioned at the array's first index, and each element in the array represents your maximum jump length at that position.\n",
        "\n",
        "Return true if you can reach the last index, or false otherwise.\n",
        "\n",
        "Example 1:\n",
        "\n",
        "Input: nums = [2,3,1,1,4]\n",
        "Output: true\n",
        "Explanation: Jump 1 step from index 0 to 1, then 3 steps to the last index.\n",
        "\n",
        "Example 2:\n",
        "\n",
        "Input: nums = [3,2,1,0,4]\n",
        "Output: false\n",
        "Explanation: You will always arrive at index 3 no matter what. Its maximum jump length is 0, which makes it impossible to reach the last index.\n",
        " \n",
        "\n",
        "Constraints:\n",
        "\n",
        "1 <= nums.length <= 104\n",
        "0 <= nums[i] <= 105\n",
        "\"\"\""
      ],
      "execution_count": null,
      "outputs": []
    },
    {
      "cell_type": "code",
      "metadata": {
        "colab": {
          "base_uri": "https://localhost:8080/"
        },
        "id": "qhYmVichzk6o",
        "outputId": "5792dce1-5e03-47b3-d585-bdbdbf39fec9"
      },
      "source": [
        "nums = [3,2,1,0,4]\n",
        "i = len(nums)-1\n",
        "lastGoodIndex = len(nums)-1\n",
        "while i > 0:\n",
        "  if i + nums[i-1] > lastGoodIndex:\n",
        "    lastGoodIndex = i-1\n",
        "  i -= 1\n",
        "\n",
        "print(lastGoodIndex==0)"
      ],
      "execution_count": 35,
      "outputs": [
        {
          "output_type": "stream",
          "text": [
            "False\n"
          ],
          "name": "stdout"
        }
      ]
    },
    {
      "cell_type": "code",
      "metadata": {
        "id": "JhWHsARES0JJ"
      },
      "source": [
        ""
      ],
      "execution_count": null,
      "outputs": []
    },
    {
      "cell_type": "code",
      "metadata": {
        "colab": {
          "base_uri": "https://localhost:8080/"
        },
        "id": "XbGxQimjab89",
        "outputId": "c4ecc152-dbc3-4a18-e8f0-5931ce67e14b"
      },
      "source": [
        "nums = [3,2,1,0,4]\n",
        "\n",
        "can_go = [1, *[0 for n in range(len(nums)-1)]]\n",
        "\n",
        "visited = []\n",
        "\n",
        "\n",
        "for i, num in enumerate(nums):\n",
        "  for n in [c+i for c in range(1,nums[i]+1) if (c+i < len(can_go) and c+i not in visited)]:\n",
        "    print(n)\n",
        "    visited.append(n)\n",
        "    if n < len(can_go) and can_go[i] == 1:\n",
        "      can_go[n] = 1\n",
        "\n",
        "can_go\n"
      ],
      "execution_count": 23,
      "outputs": [
        {
          "output_type": "stream",
          "text": [
            "1\n",
            "2\n",
            "3\n"
          ],
          "name": "stdout"
        },
        {
          "output_type": "execute_result",
          "data": {
            "text/plain": [
              "[1, 1, 1, 1, 0]"
            ]
          },
          "metadata": {
            "tags": []
          },
          "execution_count": 23
        }
      ]
    },
    {
      "cell_type": "code",
      "metadata": {
        "id": "b-ySPbLJzH6h"
      },
      "source": [
        "can_go = [1, *[0 for n in range(len(nums)-1)]] \n",
        "\n",
        "for i, num in enumerate(nums):\n",
        "    for n in range(1,nums[i]+1):\n",
        "      print(n)\n",
        "      if i+n < len(can_go) and can_go[i] == 1:\n",
        "          can_go[i+n] = 1"
      ],
      "execution_count": null,
      "outputs": []
    },
    {
      "cell_type": "code",
      "metadata": {
        "id": "a_L3o581QpXi"
      },
      "source": [
        ""
      ],
      "execution_count": null,
      "outputs": []
    },
    {
      "cell_type": "code",
      "metadata": {
        "colab": {
          "base_uri": "https://localhost:8080/"
        },
        "id": "mulRFrmmQtXJ",
        "outputId": "4f373acc-b9ca-4f88-9390-f5c291887777"
      },
      "source": [
        ""
      ],
      "execution_count": 33,
      "outputs": [
        {
          "output_type": "execute_result",
          "data": {
            "text/plain": [
              "0"
            ]
          },
          "metadata": {
            "tags": []
          },
          "execution_count": 33
        }
      ]
    },
    {
      "cell_type": "code",
      "metadata": {
        "id": "AdKA3BU5QwCT"
      },
      "source": [
        ""
      ],
      "execution_count": null,
      "outputs": []
    }
  ]
}
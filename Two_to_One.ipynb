{
  "nbformat": 4,
  "nbformat_minor": 0,
  "metadata": {
    "colab": {
      "name": "Two to One",
      "provenance": []
    },
    "kernelspec": {
      "name": "python3",
      "display_name": "Python 3"
    }
  },
  "cells": [
    {
      "cell_type": "code",
      "metadata": {
        "id": "i9uLk6E362fd"
      },
      "source": [
        "\"\"\"\r\n",
        "Take 2 strings s1 and s2 including only letters from ato z. Return a new sorted string,\r\n",
        "the longest possible, containing distinct letters - each taken only once - coming from s1 or s2.\r\n",
        "\r\n",
        "Examples:\r\n",
        "a = \"xyaabbbccccdefww\"\r\n",
        "b = \"xxxxyyyyabklmopq\"\r\n",
        "longest(a, b) -> \"abcdefklmopqwxy\"\r\n",
        "\r\n",
        "a = \"abcdefghijklmnopqrstuvwxyz\"\r\n",
        "longest(a, a) -> \"abcdefghijklmnopqrstuvwxyz\"\r\n",
        "\"\"\""
      ],
      "execution_count": null,
      "outputs": []
    },
    {
      "cell_type": "code",
      "metadata": {
        "colab": {
          "base_uri": "https://localhost:8080/",
          "height": 35
        },
        "id": "5M77SvbA7BeZ",
        "outputId": "e68a0e9f-2278-4973-967e-121ffe3d9f40"
      },
      "source": [
        "a = \"xyaabbbccccdefww\"\r\n",
        "b = \"xxxxyyyyabklmopq\"\r\n",
        "new = sorted(set([*a, *b]))\r\n",
        "''.join(new)"
      ],
      "execution_count": 3,
      "outputs": [
        {
          "output_type": "execute_result",
          "data": {
            "application/vnd.google.colaboratory.intrinsic+json": {
              "type": "string"
            },
            "text/plain": [
              "'abcdefklmopqwxy'"
            ]
          },
          "metadata": {
            "tags": []
          },
          "execution_count": 3
        }
      ]
    },
    {
      "cell_type": "code",
      "metadata": {
        "colab": {
          "base_uri": "https://localhost:8080/"
        },
        "id": "bobBsL_s7Zm-",
        "outputId": "caeb9de8-b588-48bf-c7f3-b72f38a994e7"
      },
      "source": [
        "def longest(a, b):\r\n",
        "  return ''.join(sorted(set([*a, *b])))\r\n",
        "print(longest(\"xyaabbbccccdefww\", \"xxxxyyyyabklmopq\"))\r\n",
        "print(longest(\"abcdefghijklmnopqrstuvwxyz\", \"abcdefghijklmnopqrstuvwxyz\"))"
      ],
      "execution_count": 4,
      "outputs": [
        {
          "output_type": "stream",
          "text": [
            "abcdefklmopqwxy\n",
            "abcdefghijklmnopqrstuvwxyz\n"
          ],
          "name": "stdout"
        }
      ]
    },
    {
      "cell_type": "code",
      "metadata": {
        "id": "l8ENO4U18Ep_"
      },
      "source": [
        ""
      ],
      "execution_count": null,
      "outputs": []
    }
  ]
}
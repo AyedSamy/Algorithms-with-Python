{
  "nbformat": 4,
  "nbformat_minor": 0,
  "metadata": {
    "colab": {
      "name": "Number of trailing zeros of N!",
      "provenance": [],
      "collapsed_sections": []
    },
    "kernelspec": {
      "name": "python3",
      "display_name": "Python 3"
    },
    "language_info": {
      "name": "python"
    }
  },
  "cells": [
    {
      "cell_type": "code",
      "metadata": {
        "id": "g-XnYh1VkX6y"
      },
      "source": [
        "\"\"\"\n",
        "Write a program that will calculate the number of trailing zeros in a factorial of a given number.\n",
        "\n",
        "N! = 1 * 2 * 3 * ... * N\n",
        "\n",
        "Be careful 1000! has 2568 digits...\n",
        "\n",
        "For more info, see: http://mathworld.wolfram.com/Factorial.html\n",
        "\n",
        "Examples\n",
        "zeros(6) = 1\n",
        "# 6! = 1 * 2 * 3 * 4 * 5 * 6 = 720 --> 1 trailing zero\n",
        "\n",
        "zeros(12) = 2\n",
        "# 12! = 479001600 --> 2 trailing zeros\n",
        "Hint: You're not meant to calculate the factorial. Find another way to find the number of zeros.\n",
        "\"\"\""
      ],
      "execution_count": null,
      "outputs": []
    },
    {
      "cell_type": "code",
      "metadata": {
        "id": "ARSwhhJxh6LM"
      },
      "source": [
        "from math import log, floor\n",
        "\n",
        "def zeros(n):\n",
        "  if n < 1:\n",
        "    return 0\n",
        "  else:\n",
        "    kmax = floor(log(n,5))\n",
        "    result = 0\n",
        "    for i in range(1, kmax+1):\n",
        "      result += floor(n / 5**i)\n",
        "    return result\n"
      ],
      "execution_count": 13,
      "outputs": []
    },
    {
      "cell_type": "code",
      "metadata": {
        "colab": {
          "base_uri": "https://localhost:8080/"
        },
        "id": "3xWv0qgciOsd",
        "outputId": "296d6dc8-c8d2-41fd-dba7-8033c9984c6d"
      },
      "source": [
        "print(zeros(6))\n",
        "print(zeros(12))"
      ],
      "execution_count": 14,
      "outputs": [
        {
          "output_type": "stream",
          "text": [
            "1\n",
            "2\n"
          ],
          "name": "stdout"
        }
      ]
    }
  ]
}
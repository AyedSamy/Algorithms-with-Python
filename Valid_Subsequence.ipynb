{
  "nbformat": 4,
  "nbformat_minor": 0,
  "metadata": {
    "colab": {
      "name": "Valid Subsequence.ipynb",
      "provenance": []
    },
    "kernelspec": {
      "name": "python3",
      "display_name": "Python 3"
    }
  },
  "cells": [
    {
      "cell_type": "code",
      "metadata": {
        "id": "jmacjOMzF3pG"
      },
      "source": [
        "\"\"\"\r\n",
        "Given two non-empty arrays of integers, write a function that determines whether the second array is a subsequence of the first one.\r\n",
        "A subsequence of an array is a set of numbers that aren’t necessarily adjacent in the array but that are in the same order as they appear in the array.\r\n",
        "For instance the numbers [1, 4, 6] form a subsequence of the array [1, 2, 3, 4, 5, 6] and so do the numbers [2, 4].\r\n",
        "Note that a single number in an array and the array itself are both valid subsequences of the array.\r\n",
        "\"\"\""
      ],
      "execution_count": null,
      "outputs": []
    },
    {
      "cell_type": "code",
      "metadata": {
        "id": "a_A3afRfGNQj"
      },
      "source": [
        "def isValidSubsequence(array, sequence):\r\n",
        "\tarray = array\r\n",
        "\tsubarray = sequence\r\n",
        "\tresult = []\r\n",
        "\r\n",
        "\tfor n in subarray:\r\n",
        "\t\tif n in array:\r\n",
        "\t\t\tarray = array[array.index(n)+1:]\r\n",
        "\t\t\tresult.append(n)\r\n",
        "\t\telse:\r\n",
        "\t\t\treturn False\r\n",
        "\tif result == subarray:\r\n",
        "\t\treturn True\r\n",
        "\telse:\r\n",
        "\t\treturn False"
      ],
      "execution_count": 11,
      "outputs": []
    },
    {
      "cell_type": "code",
      "metadata": {
        "colab": {
          "base_uri": "https://localhost:8080/"
        },
        "id": "OM65NQWAGPhC",
        "outputId": "74a137da-a44d-4b12-811b-c615a3c325ca"
      },
      "source": [
        "array = [5, 1, 22, 25, 6, -1, 8, 10]\r\n",
        "subarray = [1, 6, 10]\r\n",
        "isValidSubsequence(array, subarray)"
      ],
      "execution_count": 18,
      "outputs": [
        {
          "output_type": "execute_result",
          "data": {
            "text/plain": [
              "True"
            ]
          },
          "metadata": {
            "tags": []
          },
          "execution_count": 18
        }
      ]
    },
    {
      "cell_type": "code",
      "metadata": {
        "colab": {
          "base_uri": "https://localhost:8080/"
        },
        "id": "8hXVcop6GYnA",
        "outputId": "4ad84064-025c-4e5a-c7c8-507e9908d4f5"
      },
      "source": [
        "import unittest\r\n",
        "\r\n",
        "class TestProgram(unittest.TestCase):\r\n",
        "    def test_case_1(self):\r\n",
        "        array = [5, 1, 22, 25, 6, -1, 8, 10]\r\n",
        "        sequence = [1, 6, -1, 10]\r\n",
        "        self.assertTrue(isValidSubsequence(array, sequence))\r\n",
        "\r\n",
        "    def test_case_2(self):\r\n",
        "        array = [5, 1, 22, 25, 6, -1, 8, 10]\r\n",
        "        sequence = [5, 1, 22, 25, 6, -1, 8, 10]\r\n",
        "        self.assertTrue(isValidSubsequence(array, sequence))\r\n",
        "\r\n",
        "    def test_case_3(self):\r\n",
        "        array = [5, 1, 22, 25, 6, -1, 8, 10]\r\n",
        "        sequence = [5, 1, 22, 6, -1, 8, 10]\r\n",
        "        self.assertTrue(isValidSubsequence(array, sequence))\r\n",
        "\r\n",
        "    def test_case_4(self):\r\n",
        "        array = [5, 1, 22, 25, 6, -1, 8, 10]\r\n",
        "        sequence = [22, 25, 6]\r\n",
        "        self.assertTrue(isValidSubsequence(array, sequence))\r\n",
        "\r\n",
        "    def test_case_5(self):\r\n",
        "        array = [5, 1, 22, 25, 6, -1, 8, 10]\r\n",
        "        sequence = [1, 6, 10]\r\n",
        "        self.assertTrue(isValidSubsequence(array, sequence))\r\n",
        "\r\n",
        "    def test_case_6(self):\r\n",
        "        array = [5, 1, 22, 25, 6, -1, 8, 10]\r\n",
        "        sequence = [5, 1, 22, 10]\r\n",
        "        self.assertTrue(isValidSubsequence(array, sequence))\r\n",
        "\r\n",
        "    def test_case_7(self):\r\n",
        "        array = [5, 1, 22, 25, 6, -1, 8, 10]\r\n",
        "        sequence = [5, -1, 8, 10]\r\n",
        "        self.assertTrue(isValidSubsequence(array, sequence))\r\n",
        "\r\n",
        "    def test_case_8(self):\r\n",
        "        array = [5, 1, 22, 25, 6, -1, 8, 10]\r\n",
        "        sequence = [25]\r\n",
        "        self.assertTrue(isValidSubsequence(array, sequence))\r\n",
        "        \r\n",
        "    def test_case_9(self):\r\n",
        "        array = [1, 1, 1, 1, 1]\r\n",
        "        sequence = [1, 1, 1]\r\n",
        "        self.assertTrue(isValidSubsequence(array, sequence))\r\n",
        "\r\n",
        "    def test_case_10(self):\r\n",
        "        array = [5, 1, 22, 25, 6, -1, 8, 10]\r\n",
        "        sequence = [5, 1, 22, 25, 6, -1, 8, 10, 12]\r\n",
        "        self.assertFalse(isValidSubsequence(array, sequence))\r\n",
        "unittest.main(argv=[''], verbosity=2, exit=False)"
      ],
      "execution_count": 17,
      "outputs": [
        {
          "output_type": "stream",
          "text": [
            "test_case_1 (__main__.TestProgram) ... ok\n",
            "test_case_10 (__main__.TestProgram) ... ok\n",
            "test_case_2 (__main__.TestProgram) ... ok\n",
            "test_case_3 (__main__.TestProgram) ... ok\n",
            "test_case_4 (__main__.TestProgram) ... ok\n",
            "test_case_5 (__main__.TestProgram) ... ok\n",
            "test_case_6 (__main__.TestProgram) ... ok\n",
            "test_case_7 (__main__.TestProgram) ... ok\n",
            "test_case_8 (__main__.TestProgram) ... ok\n",
            "test_case_9 (__main__.TestProgram) ... ok\n",
            "\n",
            "----------------------------------------------------------------------\n",
            "Ran 10 tests in 0.013s\n",
            "\n",
            "OK\n"
          ],
          "name": "stderr"
        },
        {
          "output_type": "execute_result",
          "data": {
            "text/plain": [
              "<unittest.main.TestProgram at 0x7ff51dc28910>"
            ]
          },
          "metadata": {
            "tags": []
          },
          "execution_count": 17
        }
      ]
    },
    {
      "cell_type": "code",
      "metadata": {
        "id": "70gEf1qMGwVd"
      },
      "source": [
        ""
      ],
      "execution_count": null,
      "outputs": []
    }
  ]
}
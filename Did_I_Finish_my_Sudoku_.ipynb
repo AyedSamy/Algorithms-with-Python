{
  "nbformat": 4,
  "nbformat_minor": 0,
  "metadata": {
    "colab": {
      "name": "Did I Finish my Sudoku?",
      "provenance": [],
      "collapsed_sections": []
    },
    "kernelspec": {
      "name": "python3",
      "display_name": "Python 3"
    },
    "language_info": {
      "name": "python"
    }
  },
  "cells": [
    {
      "cell_type": "code",
      "metadata": {
        "id": "MDTOHUDMMkRY"
      },
      "source": [
        "\"\"\"\n",
        "Write a function done_or_not/DoneOrNot passing a board (list[list_lines]) as parameter. If the board is valid return 'Finished!', otherwise return 'Try again!'\n",
        "\n",
        "Sudoku rules:\n",
        "\n",
        "Complete the Sudoku puzzle so that each and every row, column, and region contains the numbers one through nine only once.\n",
        "\n",
        "Rows:\n",
        "\n",
        "\n",
        "There are 9 rows in a traditional Sudoku puzzle. Every row must contain the numbers 1, 2, 3, 4, 5, 6, 7, 8, and 9. There may not be any duplicate numbers in any row. In other words, there can not be any rows that are identical.\n",
        "\n",
        "In the illustration the numbers 5, 3, 1, and 2 are the \"givens\". They can not be changed. The remaining numbers in black are the numbers that you fill in to complete the row.\n",
        "\n",
        "Columns:\n",
        "\n",
        "\n",
        "There are 9 columns in a traditional Sudoku puzzle. Like the Sudoku rule for rows, every column must also contain the numbers 1, 2, 3, 4, 5, 6, 7, 8, and 9. Again, there may not be any duplicate numbers in any column. Each column will be unique as a result.\n",
        "\n",
        "In the illustration the numbers 7, 2, and 6 are the \"givens\". They can not be changed. You fill in the remaining numbers as shown in black to complete the column.\n",
        "\n",
        "Regions\n",
        "\n",
        "\n",
        "A region is a 3x3 box like the one shown to the left. There are 9 regions in a traditional Sudoku puzzle.\n",
        "\n",
        "Like the Sudoku requirements for rows and columns, every region must also contain the numbers 1, 2, 3, 4, 5, 6, 7, 8, and 9. Duplicate numbers are not permitted in any region. Each region will differ from the other regions.\n",
        "\n",
        "In the illustration the numbers 1, 2, and 8 are the \"givens\". They can not be changed. Fill in the remaining numbers as shown in black to complete the region.\n",
        "\n",
        "Valid board example:\n",
        "\n",
        "\n",
        "For those who don't know the game, here are some information about rules and how to play Sudoku: http://en.wikipedia.org/wiki/Sudoku and http://www.sudokuessentials.com/\n",
        "\"\"\""
      ],
      "execution_count": null,
      "outputs": []
    },
    {
      "cell_type": "code",
      "metadata": {
        "id": "Nl8IGmgoXCU8",
        "colab": {
          "base_uri": "https://localhost:8080/"
        },
        "outputId": "5ca8f7c0-d67a-4774-896f-abba54d3b8ef"
      },
      "source": [
        "grid = [[1, 3, 2, 5, 7, 9, 4, 6, 8]\n",
        "      ,[4, 9, 8, 2, 6, 1, 3, 7, 5]\n",
        "      ,[7, 5, 6, 3, 8, 4, 2, 1, 9]\n",
        "      ,[6, 4, 3, 1, 5, 8, 7, 9, 2]\n",
        "      ,[5, 2, 1, 7, 9, 3, 8, 4, 6]\n",
        "      ,[9, 8, 7, 4, 2, 6, 5, 3, 1]\n",
        "      ,[2, 1, 4, 9, 3, 5, 6, 8, 7]\n",
        "      ,[3, 6, 5, 8, 1, 7, 9, 2, 4]\n",
        "      ,[8, 7, 9, 6, 4, 2, 1, 5, 3]]\n",
        "\n",
        "if [sum(row) == 45 for row in grid] != [True] * 9:\n",
        "  print(\"Not valid\")\n",
        "\n",
        "zipped = [0]*9\n",
        "for row in grid:\n",
        "  zipped = zip(zipped, row)\n",
        "\n",
        "for a in zipped:\n",
        "  a = [a[0][0][0][0][0][0][0][0][1], a[0][0][0][0][0][0][0][1], a[0][0][0][0][0][0][1], a[0][0][0][0][0][1], a[0][0][0][0][1], a[0][0][0][1], a[0][0][1], a[0][1], a[1]]\n",
        "  if sum(a) != 45:\n",
        "    print(\"Not valid\")\n",
        "\n",
        "diagSum1 = 0\n",
        "diagSum2 = 0\n",
        "i = 0\n",
        "j = 8\n",
        "for row in grid:\n",
        "  diagSum1 += row[i]\n",
        "  diagSum2 += row[j]\n",
        "  i += 1\n",
        "  j -= 1\n",
        "\n",
        "if diagSum1 == 81 or diagSum2 == 81:\n",
        "  print(\"Not valid\")\n",
        "\n",
        "print(\"Valid\")"
      ],
      "execution_count": 1,
      "outputs": [
        {
          "output_type": "stream",
          "text": [
            "Valid\n"
          ],
          "name": "stdout"
        }
      ]
    }
  ]
}
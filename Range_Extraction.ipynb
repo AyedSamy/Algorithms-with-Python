{
  "nbformat": 4,
  "nbformat_minor": 0,
  "metadata": {
    "colab": {
      "name": "Range Extraction",
      "provenance": []
    },
    "kernelspec": {
      "name": "python3",
      "display_name": "Python 3"
    },
    "language_info": {
      "name": "python"
    }
  },
  "cells": [
    {
      "cell_type": "code",
      "metadata": {
        "id": "JdedlP54dnlu"
      },
      "source": [
        "\"\"\"\n",
        "A format for expressing an ordered list of integers is to use a comma separated list of either\n",
        "\n",
        "individual integers\n",
        "or a range of integers denoted by the starting integer separated from the end integer in the range by a dash, '-'. The range includes all integers in the interval including both endpoints. It is not considered a range unless it spans at least 3 numbers. For example \"12,13,15-17\"\n",
        "Complete the solution so that it takes a list of integers in increasing order and returns a correctly formatted string in the range format.\n",
        "\n",
        "Example:\n",
        "\n",
        "solution([-6, -3, -2, -1, 0, 1, 3, 4, 5, 7, 8, 9, 10, 11, 14, 15, 17, 18, 19, 20])\n",
        "# returns \"-6,-3-1,3-5,7-11,14,15,17-20\"\n",
        "Courtesy of rosettacode.org\n",
        "\"\"\""
      ],
      "execution_count": null,
      "outputs": []
    },
    {
      "cell_type": "code",
      "metadata": {
        "id": "UfxtEHFXRXf6"
      },
      "source": [
        "l = [-3,-2,-1,2,10,15,16,18,19,20]"
      ],
      "execution_count": 40,
      "outputs": []
    },
    {
      "cell_type": "code",
      "metadata": {
        "id": "gRwEvpnsdjtZ"
      },
      "source": [
        "def solution(args):\n",
        "    l = args\n",
        "    result = \"\"\n",
        "    streak = 0\n",
        "    for i, n in enumerate(l):\n",
        "        if i < len(l) - 1:\n",
        "            if l[i+1] == n + 1:\n",
        "                streak += 1\n",
        "            else:\n",
        "                if streak > 1:\n",
        "                    result += str(n - streak) + \"-\" + str(n) + \",\"\n",
        "                elif (streak == 1):\n",
        "                    result += str(n-1) + \",\" + str(n) + \",\"\n",
        "                else:\n",
        "                    result += str(n) + \",\"\n",
        "                streak = 0\n",
        "        if i+1 == len(l):\n",
        "            if streak > 1:\n",
        "                result += str(n - streak) + \"-\" + str(n)\n",
        "            elif (streak == 1):\n",
        "                result += str(n-1) + \",\" + str(n)\n",
        "            else:\n",
        "                result += str(n)\n",
        "    return result"
      ],
      "execution_count": null,
      "outputs": []
    },
    {
      "cell_type": "code",
      "metadata": {
        "id": "qhfBvk8GRqVU"
      },
      "source": [
        "result = \"\"\n",
        "start = l[0]\n",
        "streak = 0"
      ],
      "execution_count": 41,
      "outputs": []
    },
    {
      "cell_type": "code",
      "metadata": {
        "id": "bEP4hEfTTgbB"
      },
      "source": [
        "for i, n in enumerate(l):\n",
        "  if i < len(l) - 1:\n",
        "    if l[i+1] == n + 1:\n",
        "      streak += 1\n",
        "    else:\n",
        "      if streak > 1:\n",
        "        result += str(n - streak) + \"-\" + str(n) + \",\"\n",
        "      elif (streak == 1):\n",
        "        result += str(n-1) + \",\" + str(n) + \",\"\n",
        "      else:\n",
        "        result += str(n) + \",\"\n",
        "      streak = 0\n",
        "  if i+1 == len(l):\n",
        "    if streak > 1:\n",
        "      result += str(n - streak) + \"-\" + str(n)\n",
        "    elif (streak == 1):\n",
        "      result += str(n-1) + \",\" + str(n)\n",
        "    else:\n",
        "      result += str(n)"
      ],
      "execution_count": 42,
      "outputs": []
    },
    {
      "cell_type": "code",
      "metadata": {
        "colab": {
          "base_uri": "https://localhost:8080/",
          "height": 35
        },
        "id": "P25OpEErToHy",
        "outputId": "d5121a20-7c11-4289-e58d-1d73db0e08c9"
      },
      "source": [
        "result"
      ],
      "execution_count": 43,
      "outputs": [
        {
          "output_type": "execute_result",
          "data": {
            "application/vnd.google.colaboratory.intrinsic+json": {
              "type": "string"
            },
            "text/plain": [
              "'-3--1,2,10,15,16,18-20'"
            ]
          },
          "metadata": {
            "tags": []
          },
          "execution_count": 43
        }
      ]
    },
    {
      "cell_type": "code",
      "metadata": {
        "id": "EVrnv3fHVzNe"
      },
      "source": [
        ""
      ],
      "execution_count": null,
      "outputs": []
    }
  ]
}
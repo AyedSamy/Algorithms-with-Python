{
  "nbformat": 4,
  "nbformat_minor": 0,
  "metadata": {
    "colab": {
      "name": "River sizes II",
      "provenance": [],
      "collapsed_sections": []
    },
    "kernelspec": {
      "name": "python3",
      "display_name": "Python 3"
    },
    "language_info": {
      "name": "python"
    }
  },
  "cells": [
    {
      "cell_type": "code",
      "metadata": {
        "id": "wtZA1kgkCDPC"
      },
      "source": [
        "matrix = [[1, 0, 0, 1, 0],\n",
        "          [1, 0, 1, 0, 0],\n",
        "          [0, 0, 1, 0, 1],\n",
        "          [1, 0, 1, 0, 1],\n",
        "          [1, 0, 1, 1, 0]]\n"
      ],
      "execution_count": null,
      "outputs": []
    },
    {
      "cell_type": "code",
      "metadata": {
        "colab": {
          "base_uri": "https://localhost:8080/"
        },
        "id": "mQHLFY6wCgn_",
        "outputId": "fd60779f-79c3-4df0-c722-286d1e777696"
      },
      "source": [
        "visited_nodes = [[0 for i in range(len(matrix[0]))] for j in range(len(matrix))]\n",
        "visited_nodes"
      ],
      "execution_count": null,
      "outputs": [
        {
          "output_type": "execute_result",
          "data": {
            "text/plain": [
              "[[0, 0, 0, 0, 0],\n",
              " [0, 0, 0, 0, 0],\n",
              " [0, 0, 0, 0, 0],\n",
              " [0, 0, 0, 0, 0],\n",
              " [0, 0, 0, 0, 0]]"
            ]
          },
          "metadata": {
            "tags": []
          },
          "execution_count": 145
        }
      ]
    },
    {
      "cell_type": "code",
      "metadata": {
        "id": "OcnVyIPlMZz3"
      },
      "source": [
        "def getNodesNeighbours(i, j, matrix, visited_neighbours, nodes_to_visit):\n",
        "  if i>1 and matrix[i-1][j] == 1 and [i-1,j] not in visited_neighbours and [i-1,j] not in nodes_to_visit:\n",
        "    nodes_to_visit.append([i-1,j])\n",
        "    visited_neighbours.append([i-1,j])\n",
        "  if i<len(matrix)-1 and matrix[i+1][j] == 1 and [i+1,j] not in visited_neighbours and [i+1,j] not in nodes_to_visit:\n",
        "    nodes_to_visit.append([i+1,j])\n",
        "    visited_neighbours.append([i+1,j])\n",
        "  if j>0 and matrix[i][j-1] == 1 and [i,j-1] not in visited_neighbours and [i,j-1] not in nodes_to_visit:\n",
        "    nodes_to_visit.append([i,j-1])\n",
        "    visited_neighbours.append([i,j-1])\n",
        "  if j<len(matrix[0])-1 and matrix[i][j+1] == 1 and [i,j+1] not in visited_neighbours and [i,j+1] not in nodes_to_visit:\n",
        "    nodes_to_visit.append([i,j+1])\n",
        "    visited_neighbours.append([i,j+1])\n"
      ],
      "execution_count": null,
      "outputs": []
    },
    {
      "cell_type": "code",
      "metadata": {
        "id": "4PCVtDNfDv3q",
        "colab": {
          "base_uri": "https://localhost:8080/"
        },
        "outputId": "11a9f150-830b-424f-f72f-2a4afed95138"
      },
      "source": [
        "river_sizes = []\n",
        "nodes_to_visit = []\n",
        "visited_neighbours = []\n",
        "\n",
        "for i, row in enumerate(matrix):\n",
        "  for j, node in enumerate(row):\n",
        "    if node == 1 and visited_nodes[i][j] == 0:\n",
        "      river_sizes.append(0)\n",
        "      nodes_to_visit.append([i,j])\n",
        "      visited_nodes[i][j] = 1\n",
        "      getNodesNeighbours(i,j,matrix,visited_neighbours, nodes_to_visit)\n",
        "      while len(nodes_to_visit) != 0:\n",
        "        print(len(river_sizes),nodes_to_visit)\n",
        "        current_node = nodes_to_visit.pop()\n",
        "        #print(current_node)\n",
        "        river_sizes[-1] += 1\n",
        "        visited_nodes[current_node[0]][current_node[1]] = 1\n",
        "        getNodesNeighbours(current_node[0],current_node[1],matrix,visited_neighbours, nodes_to_visit)\n",
        "\n",
        "      \n"
      ],
      "execution_count": null,
      "outputs": [
        {
          "output_type": "stream",
          "text": [
            "1 [[0, 0], [1, 0]]\n",
            "1 [[0, 0]]\n",
            "2 [[0, 3]]\n",
            "3 [[1, 2], [2, 2]]\n",
            "3 [[1, 2], [3, 2]]\n",
            "3 [[1, 2], [4, 2]]\n",
            "3 [[1, 2], [4, 3]]\n",
            "3 [[1, 2]]\n",
            "4 [[2, 4], [3, 4]]\n",
            "4 [[2, 4]]\n",
            "5 [[3, 0], [4, 0]]\n",
            "5 [[3, 0]]\n"
          ],
          "name": "stdout"
        }
      ]
    },
    {
      "cell_type": "code",
      "metadata": {
        "colab": {
          "base_uri": "https://localhost:8080/"
        },
        "id": "_ftv-bCfPIxy",
        "outputId": "d19c8212-6c2a-4f48-c558-6f6ba93db43e"
      },
      "source": [
        "visited_nodes"
      ],
      "execution_count": null,
      "outputs": [
        {
          "output_type": "execute_result",
          "data": {
            "text/plain": [
              "[[1, 0, 0, 1, 0],\n",
              " [1, 0, 1, 0, 0],\n",
              " [0, 0, 1, 0, 1],\n",
              " [1, 0, 1, 0, 1],\n",
              " [1, 0, 1, 1, 0]]"
            ]
          },
          "metadata": {
            "tags": []
          },
          "execution_count": 148
        }
      ]
    },
    {
      "cell_type": "code",
      "metadata": {
        "colab": {
          "base_uri": "https://localhost:8080/"
        },
        "id": "CAe763mhH3Ub",
        "outputId": "9288c8a5-d272-451f-a416-6b755c81a524"
      },
      "source": [
        "river_sizes"
      ],
      "execution_count": null,
      "outputs": [
        {
          "output_type": "execute_result",
          "data": {
            "text/plain": [
              "[2, 1, 5, 2, 2]"
            ]
          },
          "metadata": {
            "tags": []
          },
          "execution_count": 149
        }
      ]
    },
    {
      "cell_type": "code",
      "metadata": {
        "colab": {
          "base_uri": "https://localhost:8080/"
        },
        "id": "ChjFd_50LNkW",
        "outputId": "847b8401-95c3-487e-d453-0c62e6f3bfe1"
      },
      "source": [
        "a = [3]\n",
        "\n",
        "a.pop()"
      ],
      "execution_count": null,
      "outputs": [
        {
          "output_type": "execute_result",
          "data": {
            "text/plain": [
              "3"
            ]
          },
          "metadata": {
            "tags": []
          },
          "execution_count": 116
        }
      ]
    },
    {
      "cell_type": "code",
      "metadata": {
        "id": "Etkz3-M0ShHS"
      },
      "source": [
        ""
      ],
      "execution_count": null,
      "outputs": []
    }
  ]
}
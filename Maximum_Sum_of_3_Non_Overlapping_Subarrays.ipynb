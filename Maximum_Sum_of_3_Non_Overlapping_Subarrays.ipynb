{
  "nbformat": 4,
  "nbformat_minor": 0,
  "metadata": {
    "colab": {
      "name": "Maximum Sum of 3 Non-Overlapping Subarrays",
      "provenance": [],
      "collapsed_sections": []
    },
    "kernelspec": {
      "name": "python3",
      "display_name": "Python 3"
    },
    "language_info": {
      "name": "python"
    }
  },
  "cells": [
    {
      "cell_type": "code",
      "metadata": {
        "colab": {
          "base_uri": "https://localhost:8080/"
        },
        "id": "dvW9q0-aijY5",
        "outputId": "88ab8120-5732-45bd-a74a-26aa223313f5"
      },
      "source": [
        "nums = [1,2,1,2,6,7,5,1]\n",
        "k = 2\n",
        "possible_sums = [0 for i in range(len(nums) - (k-1))]\n",
        "print(possible_sums)\n",
        "\n",
        "i = 0\n",
        "\n",
        "while i < len(possible_sums):\n",
        "  possible_sums[i] = sum(nums[i:i+k])\n",
        "  i += 1\n",
        "\n",
        "print(possible_sums)"
      ],
      "execution_count": null,
      "outputs": [
        {
          "output_type": "stream",
          "name": "stdout",
          "text": [
            "[0, 0, 0, 0, 0, 0, 0]\n",
            "[3, 3, 3, 8, 13, 12, 6]\n"
          ]
        }
      ]
    },
    {
      "cell_type": "code",
      "metadata": {
        "colab": {
          "base_uri": "https://localhost:8080/"
        },
        "id": "F2wmOGLEi-Vg",
        "outputId": "743fe8f4-69b8-45ab-bfdd-bfd9565d22fc"
      },
      "source": [
        "''' result = [nums[0],0,0]\n",
        "\n",
        "i = 1\n",
        "last_added = nums[0]\n",
        "last_added_idx = 0\n",
        "\n",
        "\n",
        "while i < len(possible_sums):\n",
        "  if i > last_added_idx and i < last_added_idx + (k-1) and sum(result) - last_added + possible_sums[i] > sum(result):\n",
        "    result[result.index(last_added)] = possible_sums[i]\n",
        "  if possible_sums[i] > result[0]:\n",
        "    result[0] = possible_sums[i]\n",
        "    last_added = possible_sums[i]\n",
        "    last_added_idx = i\n",
        "    result = sorted(result)\n",
        "  i += 1\n",
        "\n",
        "result '''"
      ],
      "execution_count": null,
      "outputs": [
        {
          "output_type": "execute_result",
          "data": {
            "text/plain": [
              "[8, 12, 13]"
            ]
          },
          "metadata": {},
          "execution_count": 10
        }
      ]
    },
    {
      "cell_type": "code",
      "metadata": {
        "colab": {
          "base_uri": "https://localhost:8080/"
        },
        "id": "XNXjHTXqoMcq",
        "outputId": "570ddd9f-c457-4132-eca5-2ac21aaf2d99"
      },
      "source": [
        "possible_sums"
      ],
      "execution_count": null,
      "outputs": [
        {
          "output_type": "execute_result",
          "data": {
            "text/plain": [
              "[3, 3, 3, 3, 3]"
            ]
          },
          "metadata": {},
          "execution_count": 6
        }
      ]
    },
    {
      "cell_type": "code",
      "metadata": {
        "id": "fyg_0NacoOnT"
      },
      "source": [
        ""
      ],
      "execution_count": null,
      "outputs": []
    }
  ]
}
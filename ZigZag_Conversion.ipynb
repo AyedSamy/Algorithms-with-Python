{
  "nbformat": 4,
  "nbformat_minor": 0,
  "metadata": {
    "colab": {
      "name": "ZigZag Conversion",
      "provenance": [],
      "collapsed_sections": []
    },
    "kernelspec": {
      "name": "python3",
      "display_name": "Python 3"
    },
    "language_info": {
      "name": "python"
    }
  },
  "cells": [
    {
      "cell_type": "code",
      "metadata": {
        "id": "KocI8XITkdiC"
      },
      "source": [
        "\"\"\"\n",
        "The string \"PAYPALISHIRING\" is written in a zigzag pattern on a given number of rows like this: (you may want to display this pattern in a fixed font for better legibility)\n",
        "\n",
        "P   A   H   N\n",
        "A P L S I I G\n",
        "Y   I   R\n",
        "And then read line by line: \"PAHNAPLSIIGYIR\"\n",
        "\n",
        "Write the code that will take a string and make this conversion given a number of rows:\n",
        "\n",
        "string convert(string s, int numRows);\n",
        " \n",
        "\n",
        "Example 1:\n",
        "\n",
        "Input: s = \"PAYPALISHIRING\", numRows = 3\n",
        "Output: \"PAHNAPLSIIGYIR\"\n",
        "Example 2:\n",
        "\n",
        "Input: s = \"PAYPALISHIRING\", numRows = 4\n",
        "Output: \"PINALSIGYAHRPI\"\n",
        "Explanation:\n",
        "P     I    N\n",
        "A   L S  I G\n",
        "Y A   H R\n",
        "P     I\n",
        "Example 3:\n",
        "\n",
        "Input: s = \"A\", numRows = 1\n",
        "Output: \"A\"\n",
        " \n",
        "\n",
        "Constraints:\n",
        "\n",
        "1 <= s.length <= 1000\n",
        "s consists of English letters (lower-case and upper-case), ',' and '.'.\n",
        "1 <= numRows <= 1000\n",
        "\"\"\""
      ],
      "execution_count": null,
      "outputs": []
    },
    {
      "cell_type": "code",
      "metadata": {
        "id": "alBP6Z5MQ7DW"
      },
      "source": [
        "class Solution:\n",
        "    def convert(self, s: str, numRows: int) -> str:\n",
        "        if numRows == 1:\n",
        "            return s\n",
        "        grid = ['' for n in range(numRows)]\n",
        "\n",
        "        i = 0\n",
        "        a = 0\n",
        "        increase = True\n",
        "\n",
        "        while i < len(s):\n",
        "            grid[a] += s[i]\n",
        "            if increase:\n",
        "                a+=1\n",
        "            else:\n",
        "                a-=1\n",
        "            if a == numRows-1:\n",
        "                increase = False\n",
        "            elif a == 0:\n",
        "                increase = True\n",
        "            i += 1\n",
        "\n",
        "        result = ''\n",
        "        for row in grid:\n",
        "            result += row\n",
        "            \n",
        "        return result"
      ],
      "execution_count": null,
      "outputs": []
    },
    {
      "cell_type": "code",
      "metadata": {
        "colab": {
          "base_uri": "https://localhost:8080/",
          "height": 35
        },
        "id": "FsiRpLQVcpa1",
        "outputId": "19abdcb2-4eb1-4732-9686-7426c088d1e2"
      },
      "source": [
        "s = \"PAYPALISHIRING\"\n",
        "numRows = 4\n",
        "grid = ['' for n in range(numRows)]\n",
        "\n",
        "i = 0\n",
        "a = 0\n",
        "increase = True\n",
        "\n",
        "while i < len(s):\n",
        "  grid[a] += s[i]\n",
        "  if increase:\n",
        "    a+=1\n",
        "  else:\n",
        "    a-=1\n",
        "  if a == numRows-1:\n",
        "    increase = False\n",
        "  elif a == 0:\n",
        "    increase = True\n",
        "  i += 1\n",
        "\n",
        "result = ''\n",
        "for row in grid:\n",
        "  result += row\n",
        "\n",
        "result"
      ],
      "execution_count": 46,
      "outputs": [
        {
          "output_type": "execute_result",
          "data": {
            "application/vnd.google.colaboratory.intrinsic+json": {
              "type": "string"
            },
            "text/plain": [
              "'PINALSIGYAHRPI'"
            ]
          },
          "metadata": {
            "tags": []
          },
          "execution_count": 46
        }
      ]
    },
    {
      "cell_type": "code",
      "metadata": {
        "id": "lsgHaBv4PEcS"
      },
      "source": [
        ""
      ],
      "execution_count": null,
      "outputs": []
    },
    {
      "cell_type": "code",
      "metadata": {
        "id": "owAYSVnfOpDy"
      },
      "source": [
        "s = \"PAYPALISHIRING\"\n",
        "numRows = 4\n",
        "grid = ['' for n in range(numRows)]\n",
        "grid"
      ],
      "execution_count": null,
      "outputs": []
    },
    {
      "cell_type": "code",
      "metadata": {
        "colab": {
          "base_uri": "https://localhost:8080/"
        },
        "id": "vUmkz2RbdPpq",
        "outputId": "fd608ac9-cdd2-4632-a6b2-6bbc52c3d009"
      },
      "source": [
        "i = 0\n",
        "a = 0\n",
        "increase = True\n",
        "\n",
        "while i < len(s):\n",
        "  grid[a] += s[i]\n",
        "  for j in range(numRows):\n",
        "    if j != a and grid[j] != '':\n",
        "      grid[j] += ' '\n",
        "  if increase:\n",
        "    a+=1\n",
        "  else:\n",
        "    a-=1\n",
        "  if a == numRows-1:\n",
        "    increase = False\n",
        "  elif a == 0:\n",
        "    increase = True\n",
        "  i += 1\n",
        "\n",
        "result = ''\n",
        "for row in grid:\n",
        "  result += row.strip() + ' \\n'\n",
        "\n",
        "print(result)"
      ],
      "execution_count": 45,
      "outputs": [
        {
          "output_type": "stream",
          "text": [
            "P     I     N \n",
            "A   L S   I G \n",
            "Y A   H R \n",
            "P     I \n",
            "\n"
          ],
          "name": "stdout"
        }
      ]
    },
    {
      "cell_type": "code",
      "metadata": {
        "colab": {
          "base_uri": "https://localhost:8080/"
        },
        "id": "YnkwHoGYVEbK",
        "outputId": "d8cc9d0b-9bae-4a4b-9484-bfdaab37e0b6"
      },
      "source": [
        "increase = True\n",
        "a = 0\n",
        "\n",
        "for i in range(6):\n",
        "  print(a)\n",
        "  if increase:\n",
        "    a+=1\n",
        "  else:\n",
        "    a-=1\n",
        "  if a == 3:\n",
        "    increase = False\n",
        "  elif a == 0:\n",
        "    increase = True\n",
        "\n",
        "\n"
      ],
      "execution_count": 4,
      "outputs": [
        {
          "output_type": "stream",
          "text": [
            "0\n",
            "1\n",
            "2\n",
            "3\n",
            "2\n",
            "1\n"
          ],
          "name": "stdout"
        }
      ]
    },
    {
      "cell_type": "code",
      "metadata": {
        "id": "N1k8BWApzx2h"
      },
      "source": [
        ""
      ],
      "execution_count": null,
      "outputs": []
    }
  ]
}
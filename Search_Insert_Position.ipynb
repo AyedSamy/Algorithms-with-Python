{
  "nbformat": 4,
  "nbformat_minor": 0,
  "metadata": {
    "colab": {
      "name": "Search Insert Position",
      "provenance": []
    },
    "kernelspec": {
      "display_name": "Python 3",
      "name": "python3"
    },
    "language_info": {
      "name": "python"
    }
  },
  "cells": [
    {
      "cell_type": "code",
      "metadata": {
        "id": "e_WZypVbDA8H"
      },
      "source": [
        "nums = [1,3,5,6]\n",
        "target = 2\n",
        "# 1"
      ],
      "execution_count": null,
      "outputs": []
    },
    {
      "cell_type": "code",
      "metadata": {
        "colab": {
          "background_save": true,
          "base_uri": "https://localhost:8080/"
        },
        "id": "SjW6s8BtDIsk",
        "outputId": "1d5384c0-cd30-46de-acb0-a1467850cd91"
      },
      "source": [
        "mid = len(nums)//2\n",
        "stop = False\n",
        "\n",
        "while stop == False:\n",
        "  if nums[mid] == target:\n",
        "    result = mid\n",
        "    stop = True\n",
        "  elif nums[mid] < target:\n",
        "    if mid == 0 or mid == len(nums):\n",
        "      if nums[mid] < target:\n",
        "        result = mid + 1\n",
        "        stop = True\n",
        "        break\n",
        "      else:\n",
        "        result = mid - 1\n",
        "        stop = True\n",
        "        break\n",
        "    nums = nums[mid+1:]\n",
        "    mid = len(nums)//2\n",
        "  elif nums[mid] > target:\n",
        "    if mid == 0 or mid == len(nums):\n",
        "      if nums[mid] < target:\n",
        "        result = mid + 1\n",
        "        stop = True\n",
        "        break\n",
        "      else:\n",
        "        result = mid - 1\n",
        "        stop = True\n",
        "        break\n",
        "    nums = nums[0:mid]\n",
        "    mid = len(nums)//2\n",
        "\n",
        "result"
      ],
      "execution_count": null,
      "outputs": [
        {
          "output_type": "execute_result",
          "data": {
            "text/plain": [
              "-1"
            ]
          },
          "metadata": {
            "tags": []
          },
          "execution_count": 0
        }
      ]
    },
    {
      "cell_type": "code",
      "metadata": {
        "id": "cI9HY4k3EhUu"
      },
      "source": [
        ""
      ],
      "execution_count": null,
      "outputs": []
    }
  ]
}
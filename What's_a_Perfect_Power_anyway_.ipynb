{
  "nbformat": 4,
  "nbformat_minor": 0,
  "metadata": {
    "colab": {
      "name": "What's a Perfect Power anyway?",
      "provenance": [],
      "collapsed_sections": []
    },
    "kernelspec": {
      "name": "python3",
      "display_name": "Python 3"
    },
    "language_info": {
      "name": "python"
    }
  },
  "cells": [
    {
      "cell_type": "code",
      "metadata": {
        "id": "vtsp2E7Z51UZ"
      },
      "source": [
        "\"\"\"\n",
        "A perfect power is a classification of positive integers:\n",
        "\n",
        "In mathematics, a perfect power is a positive integer that can be expressed as an integer power of another positive integer. More formally, n is a perfect power if there exist natural numbers m > 1, and k > 1 such that mk = n.\n",
        "\n",
        "Your task is to check wheter a given integer is a perfect power. If it is a perfect power, return a pair m and k with mk = n as a proof. Otherwise return Nothing, Nil, null, NULL, None or your language's equivalent.\n",
        "\n",
        "Note: For a perfect power, there might be several pairs. For example 81 = 3^4 = 9^2, so (3,4) and (9,2) are valid solutions. However, the tests take care of this, so if a number is a perfect power, return any pair that proves it.\n",
        "\n",
        "Examples\n",
        "isPP(4) => [2,2]\n",
        "isPP(9) => [3,2]\n",
        "isPP(5) => None\n",
        "\"\"\""
      ],
      "execution_count": null,
      "outputs": []
    },
    {
      "cell_type": "code",
      "metadata": {
        "id": "FNg4s8pz5w2F"
      },
      "source": [
        "def isPP(n):\n",
        "    for i in range(2,300):\n",
        "        for j in range(2,100):\n",
        "            if i**j == n:\n",
        "                return [i,j]\n",
        "    return None"
      ],
      "execution_count": null,
      "outputs": []
    },
    {
      "cell_type": "code",
      "metadata": {
        "colab": {
          "base_uri": "https://localhost:8080/"
        },
        "id": "3ANZZMLU1W4W",
        "outputId": "0d215ea1-3eb3-4f36-be99-e45c38c3b68a"
      },
      "source": [
        "n = 81\n",
        "\n",
        "for i in range(2,30):\n",
        "  if str(n**(1/i))[-2:] == '.0':\n",
        "    print([int(n**(1/i)),i])"
      ],
      "execution_count": 18,
      "outputs": [
        {
          "output_type": "stream",
          "text": [
            "[9, 2]\n",
            "[3, 4]\n"
          ],
          "name": "stdout"
        }
      ]
    },
    {
      "cell_type": "code",
      "metadata": {
        "colab": {
          "base_uri": "https://localhost:8080/"
        },
        "id": "0YY4pDZx1kgc",
        "outputId": "e2f28e87-ff86-4455-ed85-60b3f9d4cdd5"
      },
      "source": [
        "27**(1/2)"
      ],
      "execution_count": 4,
      "outputs": [
        {
          "output_type": "execute_result",
          "data": {
            "text/plain": [
              "5.196152422706632"
            ]
          },
          "metadata": {
            "tags": []
          },
          "execution_count": 4
        }
      ]
    },
    {
      "cell_type": "code",
      "metadata": {
        "colab": {
          "base_uri": "https://localhost:8080/"
        },
        "id": "pU0GE0bR1nwp",
        "outputId": "a739abea-6bc2-4385-d951-6dc461f6d7a6"
      },
      "source": [
        "7**3"
      ],
      "execution_count": 16,
      "outputs": [
        {
          "output_type": "execute_result",
          "data": {
            "text/plain": [
              "343"
            ]
          },
          "metadata": {
            "tags": []
          },
          "execution_count": 16
        }
      ]
    },
    {
      "cell_type": "code",
      "metadata": {
        "id": "Y56Ikj543ly1"
      },
      "source": [
        ""
      ],
      "execution_count": null,
      "outputs": []
    }
  ]
}
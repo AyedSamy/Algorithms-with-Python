{
  "nbformat": 4,
  "nbformat_minor": 0,
  "metadata": {
    "colab": {
      "name": "Surrounded Regions",
      "provenance": [],
      "collapsed_sections": []
    },
    "kernelspec": {
      "name": "python3",
      "display_name": "Python 3"
    },
    "language_info": {
      "name": "python"
    }
  },
  "cells": [
    {
      "cell_type": "code",
      "metadata": {
        "id": "TG2KKjSX2jjn"
      },
      "source": [
        "\"\"\"\n",
        "Given an m x n matrix board containing 'X' and 'O', capture all regions that are 4-directionally surrounded by 'X'.\n",
        "\n",
        "A region is captured by flipping all 'O's into 'X's in that surrounded region.\n",
        "\n",
        " \n",
        "\n",
        "Example 1:\n",
        "\n",
        "\n",
        "Input: board = [[\"X\",\"X\",\"X\",\"X\"],[\"X\",\"O\",\"O\",\"X\"],[\"X\",\"X\",\"O\",\"X\"],[\"X\",\"O\",\"X\",\"X\"]]\n",
        "Output: [[\"X\",\"X\",\"X\",\"X\"],[\"X\",\"X\",\"X\",\"X\"],[\"X\",\"X\",\"X\",\"X\"],[\"X\",\"O\",\"X\",\"X\"]]\n",
        "Explanation: Surrounded regions should not be on the border, which means that any 'O' on the border of the board are not flipped to 'X'. Any 'O' that is not on the border and it is not connected to an 'O' on the border will be flipped to 'X'. Two cells are connected if they are adjacent cells connected horizontally or vertically.\n",
        "Example 2:\n",
        "\n",
        "Input: board = [[\"X\"]]\n",
        "Output: [[\"X\"]]\n",
        " \n",
        "\n",
        "Constraints:\n",
        "\n",
        "m == board.length\n",
        "n == board[i].length\n",
        "1 <= m, n <= 200\n",
        "board[i][j] is 'X' or 'O'.\n",
        "\"\"\""
      ],
      "execution_count": null,
      "outputs": []
    },
    {
      "cell_type": "code",
      "metadata": {
        "id": "1YKo12442zAf"
      },
      "source": [
        "board = [[\"O\",\"O\",\"O\"],[\"O\",\"O\",\"O\"],[\"O\",\"O\",\"O\"]]\n",
        "\n",
        "result = [t[:] for t in board]\n",
        "visited_cells = [[0 for i in range(len(board[0]))] for j in range(len(board))]\n",
        "\n",
        "cells_to_visit = []\n",
        "\n",
        "captured_cells = []\n",
        "\n",
        "def get_neighbours(i, j, visited_cells, cells_to_visit):\n",
        "  if i>0 and board[i-1][j] == \"O\" and visited_cells[i-1][j] == 0 and [i-1,j] not in cells_to_visit:\n",
        "    cells_to_visit.append([i-1,j])\n",
        "  if i<len(board)-1 and board[i+1][j] == \"O\" and visited_cells[i+1][j] == 0 and [i+1,j] not in cells_to_visit:\n",
        "    cells_to_visit.append([i+1,j])\n",
        "  if j>0 and board[i][j-1] == \"O\" and visited_cells[i][j-1] == 0 and [i,j-1] not in cells_to_visit:\n",
        "    cells_to_visit.append([i,j-1])\n",
        "  if j<len(board[0])-1 and board[i][j+1] == \"O\" and visited_cells[i][j+1] == 0 and [i,j+1] not in cells_to_visit:\n",
        "    cells_to_visit.append([i,j+1])\n",
        "\n",
        "for i, row in enumerate(board):\n",
        "  for j, cell in enumerate(row):\n",
        "    if i != 0 and i != len(board) - 1 and j != 0 and j != len(board[0])-1 and board[i][j] == \"O\" and visited_cells[i][j] == 0:\n",
        "      get_neighbours(i, j, visited_cells, cells_to_visit)\n",
        "      if cells_to_visit == []:\n",
        "        result[i][j] = \"X\"\n",
        "      potential_captured_cells = []\n",
        "      capture = True\n",
        "      while cells_to_visit != []:\n",
        "        current_cell = cells_to_visit.pop() \n",
        "        visited_cells[current_cell[0]][current_cell[1]] = 1\n",
        "        get_neighbours(current_cell[0], current_cell[1], visited_cells, cells_to_visit)\n",
        "        potential_captured_cells.append(current_cell)\n",
        "        if current_cell[0] == 0 or current_cell[0] == len(board)-1 or current_cell[1] == 0 or current_cell[1] == len(board[0])-1:\n",
        "          capture = False\n",
        "      if capture == True:\n",
        "        for t in potential_captured_cells:\n",
        "          result[t[0]][t[1]] = \"X\"\n",
        "\n"
      ],
      "execution_count": null,
      "outputs": []
    },
    {
      "cell_type": "code",
      "metadata": {
        "colab": {
          "base_uri": "https://localhost:8080/"
        },
        "id": "S5hDVP4d9I4r",
        "outputId": "a4a8caed-ccc1-4e71-80d6-deb25f064bca"
      },
      "source": [
        "result"
      ],
      "execution_count": null,
      "outputs": [
        {
          "output_type": "execute_result",
          "data": {
            "text/plain": [
              "[['O', 'O', 'O'], ['O', 'O', 'O'], ['O', 'O', 'O']]"
            ]
          },
          "metadata": {
            "tags": []
          },
          "execution_count": 47
        }
      ]
    },
    {
      "cell_type": "code",
      "metadata": {
        "id": "ck68MMtR9MwS"
      },
      "source": [
        ""
      ],
      "execution_count": null,
      "outputs": []
    }
  ]
}
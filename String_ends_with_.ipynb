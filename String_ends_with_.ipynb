{
  "nbformat": 4,
  "nbformat_minor": 0,
  "metadata": {
    "colab": {
      "name": "String ends with?",
      "provenance": [],
      "collapsed_sections": []
    },
    "kernelspec": {
      "name": "python3",
      "display_name": "Python 3"
    },
    "language_info": {
      "name": "python"
    }
  },
  "cells": [
    {
      "cell_type": "code",
      "metadata": {
        "id": "Dt0jxvblZNzC"
      },
      "source": [
        "\"\"\"\n",
        "Complete the solution so that it returns true if the first argument(string) passed in ends with the 2nd argument (also a string).\n",
        "\n",
        "Examples:\n",
        "\n",
        "solution('abc', 'bc') # returns true\n",
        "solution('abc', 'd') # returns false\n",
        "\"\"\""
      ],
      "execution_count": null,
      "outputs": []
    },
    {
      "cell_type": "code",
      "metadata": {
        "id": "DYXwIDZEaqUt"
      },
      "source": [
        "def solution(string, ending):\n",
        "    if ending == '':\n",
        "        return True\n",
        "    string_reversed = string[::-1]\n",
        "    end_reversed = ending[::-1]\n",
        "    return string_reversed[0:len(end_reversed)] == end_reversed"
      ],
      "execution_count": null,
      "outputs": []
    },
    {
      "cell_type": "code",
      "metadata": {
        "id": "jdIrf7PwZY7h"
      },
      "source": [
        "string = \"abcde\"\n",
        "end = \"cde\""
      ],
      "execution_count": 1,
      "outputs": []
    },
    {
      "cell_type": "code",
      "metadata": {
        "colab": {
          "base_uri": "https://localhost:8080/",
          "height": 69
        },
        "id": "O475puOGZg3X",
        "outputId": "e5396ce3-0db6-4af7-fb2c-4b56983c753a"
      },
      "source": [
        "string_reversed = string[::-1]\n",
        "end_reversed = end[::-1]\n",
        "print(string_reversed)\n",
        "print(end_reversed)\n",
        "string_reversed[0:len(end_reversed)] == end_reversed\n"
      ],
      "execution_count": 4,
      "outputs": [
        {
          "output_type": "stream",
          "text": [
            "edcba\n",
            "edc\n"
          ],
          "name": "stdout"
        },
        {
          "output_type": "execute_result",
          "data": {
            "application/vnd.google.colaboratory.intrinsic+json": {
              "type": "string"
            },
            "text/plain": [
              "'edc'"
            ]
          },
          "metadata": {
            "tags": []
          },
          "execution_count": 4
        }
      ]
    },
    {
      "cell_type": "code",
      "metadata": {
        "id": "9Fpv5iBYZpvb"
      },
      "source": [
        ""
      ],
      "execution_count": null,
      "outputs": []
    }
  ]
}
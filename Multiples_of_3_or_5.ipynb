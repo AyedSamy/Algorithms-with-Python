{
  "nbformat": 4,
  "nbformat_minor": 0,
  "metadata": {
    "colab": {
      "name": "Multiples of 3 or 5",
      "provenance": []
    },
    "kernelspec": {
      "name": "python3",
      "display_name": "Python 3"
    }
  },
  "cells": [
    {
      "cell_type": "code",
      "metadata": {
        "colab": {
          "base_uri": "https://localhost:8080/",
          "height": 69
        },
        "id": "F6RhCCpMCPHc",
        "outputId": "30b9d865-fb66-4173-fe60-194866147a97"
      },
      "source": [
        "\"\"\"\r\n",
        "If we list all the natural numbers below 10 that are multiples of 3 or 5, we get 3, 5, 6 and 9. The sum of these multiples is 23.\r\n",
        "Finish the solution so that it returns the sum of all the multiples of 3 or 5 below the number passed in.\r\n",
        "Note: If the number is a multiple of both 3 and 5, only count it once. Also, if a number is negative, return 0(for languages that do have them)\r\n",
        "\r\n",
        "Courtesy of projecteuler.net\r\n",
        "\"\"\""
      ],
      "execution_count": 7,
      "outputs": [
        {
          "output_type": "execute_result",
          "data": {
            "application/vnd.google.colaboratory.intrinsic+json": {
              "type": "string"
            },
            "text/plain": [
              "'\\nIf we list all the natural numbers below 10 that are multiples of 3 or 5, we get 3, 5, 6 and 9. The sum of these multiples is 23.\\nFinish the solution so that it returns the sum of all the multiples of 3 or 5 below the number passed in.\\nNote: If the number is a multiple of both 3 and 5, only count it once. Also, if a number is negative, return 0(for languages that do have them)\\n\\nCourtesy of projecteuler.net\\n'"
            ]
          },
          "metadata": {
            "tags": []
          },
          "execution_count": 7
        }
      ]
    },
    {
      "cell_type": "code",
      "metadata": {
        "colab": {
          "base_uri": "https://localhost:8080/"
        },
        "id": "V3lXt__wBa02",
        "outputId": "9ffe9991-3c08-4ca4-cea3-6db8858438d3"
      },
      "source": [
        "def solution(number):\r\n",
        "    sum = 0\r\n",
        "    i = 0\r\n",
        "    while i < number:\r\n",
        "        if i % 3 == 0 or i % 5 == 0:\r\n",
        "            sum += i\r\n",
        "        i += 1\r\n",
        "    return sum\r\n",
        "solution(10)"
      ],
      "execution_count": 8,
      "outputs": [
        {
          "output_type": "execute_result",
          "data": {
            "text/plain": [
              "23"
            ]
          },
          "metadata": {
            "tags": []
          },
          "execution_count": 8
        }
      ]
    },
    {
      "cell_type": "code",
      "metadata": {
        "id": "Y3NR0BLNBnIb"
      },
      "source": [
        ""
      ],
      "execution_count": null,
      "outputs": []
    }
  ]
}
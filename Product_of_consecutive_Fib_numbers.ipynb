{
  "nbformat": 4,
  "nbformat_minor": 0,
  "metadata": {
    "colab": {
      "name": "Product of consecutive Fib numbers",
      "provenance": [],
      "collapsed_sections": []
    },
    "kernelspec": {
      "name": "python3",
      "display_name": "Python 3"
    },
    "language_info": {
      "name": "python"
    }
  },
  "cells": [
    {
      "cell_type": "code",
      "metadata": {
        "id": "PmlCMGPlwQFC"
      },
      "source": [
        "\"\"\"\n",
        "The Fibonacci numbers are the numbers in the following integer sequence (Fn):\n",
        "\n",
        "0, 1, 1, 2, 3, 5, 8, 13, 21, 34, 55, 89, 144, 233, ...\n",
        "\n",
        "such as\n",
        "\n",
        "F(n) = F(n-1) + F(n-2) with F(0) = 0 and F(1) = 1.\n",
        "\n",
        "Given a number, say prod (for product), we search two Fibonacci numbers F(n) and F(n+1) verifying\n",
        "\n",
        "F(n) * F(n+1) = prod.\n",
        "\n",
        "Your function productFib takes an integer (prod) and returns an array:\n",
        "\n",
        "[F(n), F(n+1), true] or {F(n), F(n+1), 1} or (F(n), F(n+1), True)\n",
        "depending on the language if F(n) * F(n+1) = prod.\n",
        "\n",
        "If you don't find two consecutive F(n) verifying F(n) * F(n+1) = prodyou will return\n",
        "\n",
        "[F(n), F(n+1), false] or {F(n), F(n+1), 0} or (F(n), F(n+1), False)\n",
        "F(n) being the smallest one such as F(n) * F(n+1) > prod.\n",
        "\n",
        "Some Examples of Return:\n",
        "(depend on the language)\n",
        "\n",
        "productFib(714) # should return (21, 34, true), \n",
        "                # since F(8) = 21, F(9) = 34 and 714 = 21 * 34\n",
        "\n",
        "productFib(800) # should return (34, 55, false), \n",
        "                # since F(8) = 21, F(9) = 34, F(10) = 55 and 21 * 34 < 800 < 34 * 55\n",
        "-----\n",
        "productFib(714) # should return [21, 34, true], \n",
        "productFib(800) # should return [34, 55, false], \n",
        "-----\n",
        "productFib(714) # should return {21, 34, 1}, \n",
        "productFib(800) # should return {34, 55, 0},        \n",
        "-----\n",
        "productFib(714) # should return {21, 34, true}, \n",
        "productFib(800) # should return {34, 55, false}, \n",
        "\"\"\""
      ],
      "execution_count": null,
      "outputs": []
    },
    {
      "cell_type": "code",
      "metadata": {
        "id": "xjpEGOT811rh"
      },
      "source": [
        "def productFib(prod):\n",
        "    fib_array = [0, 1]\n",
        "    result = []\n",
        "\n",
        "    n = 200\n",
        "\n",
        "    for i in range(n):\n",
        "        fib_array.append(fib_array[i] + fib_array[i+1])\n",
        "        \n",
        "    for i, d in enumerate(fib_array):\n",
        "        if i < len(fib_array)-1:\n",
        "            calc_prod = d * fib_array[i+1]\n",
        "            if calc_prod == prod:\n",
        "                result = [d, fib_array[i+1], True]\n",
        "                break\n",
        "            elif calc_prod > prod:\n",
        "                result = [d, fib_array[i+1], False]\n",
        "                break\n",
        "            \n",
        "    return result"
      ],
      "execution_count": null,
      "outputs": []
    },
    {
      "cell_type": "code",
      "metadata": {
        "id": "7r5C9ePpuuJs"
      },
      "source": [
        "p = 800\n",
        "\n",
        "fib_array = [0, 1]\n",
        "\n",
        "n = 50\n",
        "\n",
        "for i in range(n):\n",
        "  fib_array.append(fib_array[i] + fib_array[i+1])"
      ],
      "execution_count": 51,
      "outputs": []
    },
    {
      "cell_type": "code",
      "metadata": {
        "id": "73v-NgZgvxdF"
      },
      "source": [
        "for i, d in enumerate(fib_array):\n",
        "  if i < len(fib_array)-1:\n",
        "    prod = d * fib_array[i+1]\n",
        "    if prod == p:\n",
        "      result = [d, fib_array[i+1], True]\n",
        "      break\n",
        "    elif prod > p:\n",
        "      result = [d, fib_array[i+1], False]\n",
        "      break"
      ],
      "execution_count": 52,
      "outputs": []
    },
    {
      "cell_type": "code",
      "metadata": {
        "colab": {
          "base_uri": "https://localhost:8080/"
        },
        "id": "ssuUO5h6wIUY",
        "outputId": "19eda6c2-64a0-4e15-e39b-e0b4312f7e59"
      },
      "source": [
        "result"
      ],
      "execution_count": 53,
      "outputs": [
        {
          "output_type": "execute_result",
          "data": {
            "text/plain": [
              "[34, 55, False]"
            ]
          },
          "metadata": {
            "tags": []
          },
          "execution_count": 53
        }
      ]
    },
    {
      "cell_type": "code",
      "metadata": {
        "id": "kl6HFFKn25qE"
      },
      "source": [
        ""
      ],
      "execution_count": null,
      "outputs": []
    }
  ]
}
{
  "nbformat": 4,
  "nbformat_minor": 0,
  "metadata": {
    "colab": {
      "name": "Most frequently used words in a text",
      "provenance": [],
      "collapsed_sections": []
    },
    "kernelspec": {
      "name": "python3",
      "display_name": "Python 3"
    },
    "language_info": {
      "name": "python"
    }
  },
  "cells": [
    {
      "cell_type": "code",
      "metadata": {
        "id": "0HGIg7jUwFDC"
      },
      "source": [
        "\"\"\"\n",
        "Write a function that, given a string of text (possibly with punctuation and line-breaks), returns an array of the top-3 most occurring words, in descending order of the number of occurrences.\n",
        "\n",
        "Assumptions:\n",
        "A word is a string of letters (A to Z) optionally containing one or more apostrophes (') in ASCII. (No need to handle fancy punctuation.)\n",
        "Matches should be case-insensitive, and the words in the result should be lowercased.\n",
        "Ties may be broken arbitrarily.\n",
        "If a text contains fewer than three unique words, then either the top-2 or top-1 words should be returned, or an empty array if a text contains no words.\n",
        "Examples:\n",
        "top_3_words(\"In a village of La Mancha, the name of which I have no desire to call to\n",
        "mind, there lived not long since one of those gentlemen that keep a lance\n",
        "in the lance-rack, an old buckler, a lean hack, and a greyhound for\n",
        "coursing. An olla of rather more beef than mutton, a salad on most\n",
        "nights, scraps on Saturdays, lentils on Fridays, and a pigeon or so extra\n",
        "on Sundays, made away with three-quarters of his income.\")\n",
        "# => [\"a\", \"of\", \"on\"]\n",
        "\n",
        "top_3_words(\"e e e e DDD ddd DdD: ddd ddd aa aA Aa, bb cc cC e e e\")\n",
        "# => [\"e\", \"ddd\", \"aa\"]\n",
        "\n",
        "top_3_words(\"  //wont won't won't\")\n",
        "# => [\"won't\", \"wont\"]\n",
        "\"\"\""
      ],
      "execution_count": null,
      "outputs": []
    },
    {
      "cell_type": "code",
      "metadata": {
        "colab": {
          "base_uri": "https://localhost:8080/"
        },
        "id": "XsovvVLdWWDQ",
        "outputId": "4c4a3372-e339-47eb-a1c9-dc1c3ad5022a"
      },
      "source": [
        "txt = \"\"\"In a village of La Mancha, the name of which I have no desire to call to\n",
        "mind, there lived not long since one of those gentlemen that keep a lance\n",
        "in the lance-rack, an old buckler, a lean hack, and a greyhound for\n",
        "coursing. An olla of rather more beef than mutton, a salad on most\n",
        "nights, scraps on Saturdays, lentils on Fridays, and a pigeon or so extra\n",
        "on Sundays, made away with three-quarters of his income.\"\"\"\n",
        "\n",
        "txt = txt.lower()\n",
        "\n",
        "word_dict = {}\n",
        "\n",
        "split_txt = txt.split()\n",
        "\n",
        "for w in split_txt:\n",
        "  if w not in word_dict.keys():\n",
        "    word_dict[w] = 1\n",
        "  else:\n",
        "    word_dict[w] += 1\n",
        "\n",
        "print(split_txt)\n",
        "print(word_dict)"
      ],
      "execution_count": null,
      "outputs": [
        {
          "output_type": "stream",
          "text": [
            "['in', 'a', 'village', 'of', 'la', 'mancha,', 'the', 'name', 'of', 'which', 'i', 'have', 'no', 'desire', 'to', 'call', 'to', 'mind,', 'there', 'lived', 'not', 'long', 'since', 'one', 'of', 'those', 'gentlemen', 'that', 'keep', 'a', 'lance', 'in', 'the', 'lance-rack,', 'an', 'old', 'buckler,', 'a', 'lean', 'hack,', 'and', 'a', 'greyhound', 'for', 'coursing.', 'an', 'olla', 'of', 'rather', 'more', 'beef', 'than', 'mutton,', 'a', 'salad', 'on', 'most', 'nights,', 'scraps', 'on', 'saturdays,', 'lentils', 'on', 'fridays,', 'and', 'a', 'pigeon', 'or', 'so', 'extra', 'on', 'sundays,', 'made', 'away', 'with', 'three-quarters', 'of', 'his', 'income.']\n",
            "{'in': 2, 'a': 6, 'village': 1, 'of': 5, 'la': 1, 'mancha,': 1, 'the': 2, 'name': 1, 'which': 1, 'i': 1, 'have': 1, 'no': 1, 'desire': 1, 'to': 2, 'call': 1, 'mind,': 1, 'there': 1, 'lived': 1, 'not': 1, 'long': 1, 'since': 1, 'one': 1, 'those': 1, 'gentlemen': 1, 'that': 1, 'keep': 1, 'lance': 1, 'lance-rack,': 1, 'an': 2, 'old': 1, 'buckler,': 1, 'lean': 1, 'hack,': 1, 'and': 2, 'greyhound': 1, 'for': 1, 'coursing.': 1, 'olla': 1, 'rather': 1, 'more': 1, 'beef': 1, 'than': 1, 'mutton,': 1, 'salad': 1, 'on': 4, 'most': 1, 'nights,': 1, 'scraps': 1, 'saturdays,': 1, 'lentils': 1, 'fridays,': 1, 'pigeon': 1, 'or': 1, 'so': 1, 'extra': 1, 'sundays,': 1, 'made': 1, 'away': 1, 'with': 1, 'three-quarters': 1, 'his': 1, 'income.': 1}\n"
          ],
          "name": "stdout"
        }
      ]
    },
    {
      "cell_type": "code",
      "metadata": {
        "id": "fNAGMWZ_YjKB"
      },
      "source": [
        "top_words_count = [0 for i in range(3)]\n",
        "top_words = [0 for i in range(3)] \n",
        "\n",
        "for w in word_dict:\n",
        "  i = 0\n",
        "  while i < len(top_words):\n",
        "    if (word_dict[w] > top_words_count[i]):\n",
        "      top_words[i] = w\n",
        "      top_words_count[i] = word_dict[w]\n",
        "      break\n",
        "    i += 1"
      ],
      "execution_count": null,
      "outputs": []
    },
    {
      "cell_type": "code",
      "metadata": {
        "colab": {
          "base_uri": "https://localhost:8080/"
        },
        "id": "BGqmU_j-Sn97",
        "outputId": "676a09f4-cf54-4ea2-f40a-cf545c35c424"
      },
      "source": [
        "print(top_words_count)\n",
        "print(top_words)"
      ],
      "execution_count": null,
      "outputs": [
        {
          "output_type": "stream",
          "text": [
            "[6, 5, 4]\n",
            "['a', 'of', 'on']\n"
          ],
          "name": "stdout"
        }
      ]
    },
    {
      "cell_type": "code",
      "metadata": {
        "id": "9AWDr0buSHUX"
      },
      "source": [
        ""
      ],
      "execution_count": null,
      "outputs": []
    }
  ]
}
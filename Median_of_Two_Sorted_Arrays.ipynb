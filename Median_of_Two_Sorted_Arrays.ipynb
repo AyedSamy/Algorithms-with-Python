{
  "nbformat": 4,
  "nbformat_minor": 0,
  "metadata": {
    "colab": {
      "name": "Median of Two Sorted Arrays",
      "provenance": [],
      "collapsed_sections": []
    },
    "kernelspec": {
      "name": "python3",
      "display_name": "Python 3"
    },
    "language_info": {
      "name": "python"
    }
  },
  "cells": [
    {
      "cell_type": "code",
      "metadata": {
        "id": "5AUg27CKaO6-"
      },
      "source": [
        "import math"
      ],
      "execution_count": 21,
      "outputs": []
    },
    {
      "cell_type": "code",
      "metadata": {
        "colab": {
          "base_uri": "https://localhost:8080/"
        },
        "id": "AwI-zpZQYIlz",
        "outputId": "04472e0d-400d-47b5-c5db-bdbd14a1fb3d"
      },
      "source": [
        "nums1 = [1,3]\n",
        "nums2 = [2,4]\n",
        "\n",
        "merged = [*sorted(nums1+nums2)]\n",
        "merged"
      ],
      "execution_count": 31,
      "outputs": [
        {
          "output_type": "execute_result",
          "data": {
            "text/plain": [
              "[1, 2, 3, 4]"
            ]
          },
          "metadata": {
            "tags": []
          },
          "execution_count": 31
        }
      ]
    },
    {
      "cell_type": "code",
      "metadata": {
        "colab": {
          "base_uri": "https://localhost:8080/"
        },
        "id": "eTwplMiCYYoe",
        "outputId": "3c91cbcd-9e07-4527-8401-e771549dcb5e"
      },
      "source": [
        "merged_len = len(merged)\n",
        "if merged_len%2 != 0:\n",
        "  print(merged[math.ceil(merged_len/2)-1])\n",
        "else:\n",
        "  print((merged[int(merged_len/2)] + merged[int(merged_len/2 -1)]) / 2)\n"
      ],
      "execution_count": 33,
      "outputs": [
        {
          "output_type": "stream",
          "text": [
            "2.5\n"
          ],
          "name": "stdout"
        }
      ]
    },
    {
      "cell_type": "code",
      "metadata": {
        "colab": {
          "base_uri": "https://localhost:8080/"
        },
        "id": "8iIdLK6mZh-d",
        "outputId": "63492c89-1139-41fe-83f0-19de8cd0d5ab"
      },
      "source": [
        "round(2.5)"
      ],
      "execution_count": 20,
      "outputs": [
        {
          "output_type": "execute_result",
          "data": {
            "text/plain": [
              "2"
            ]
          },
          "metadata": {
            "tags": []
          },
          "execution_count": 20
        }
      ]
    },
    {
      "cell_type": "code",
      "metadata": {
        "id": "C5_GT35KZ4OV"
      },
      "source": [
        ""
      ],
      "execution_count": null,
      "outputs": []
    }
  ]
}
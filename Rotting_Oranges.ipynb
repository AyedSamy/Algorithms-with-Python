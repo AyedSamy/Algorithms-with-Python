{
  "nbformat": 4,
  "nbformat_minor": 0,
  "metadata": {
    "colab": {
      "name": "Rotting Oranges",
      "provenance": [],
      "collapsed_sections": []
    },
    "kernelspec": {
      "name": "python3",
      "display_name": "Python 3"
    },
    "language_info": {
      "name": "python"
    }
  },
  "cells": [
    {
      "cell_type": "code",
      "metadata": {
        "id": "wRXgyV6x_IuL"
      },
      "source": [
        "\"\"\"\n",
        "You are given an m x n grid where each cell can have one of three values:\n",
        "\n",
        "0 representing an empty cell,\n",
        "1 representing a fresh orange, or\n",
        "2 representing a rotten orange.\n",
        "Every minute, any fresh orange that is 4-directionally adjacent to a rotten orange becomes rotten.\n",
        "\n",
        "Return the minimum number of minutes that must elapse until no cell has a fresh orange. If this is impossible, return -1.\n",
        "\n",
        "Example 1:\n",
        "\n",
        "Input: grid = [[2,1,1],[1,1,0],[0,1,1]]\n",
        "Output: 4\n",
        "\n",
        "Example 2:\n",
        "\n",
        "Input: grid = [[2,1,1],[0,1,1],[1,0,1]]\n",
        "Output: -1\n",
        "Explanation: The orange in the bottom left corner (row 2, column 0) is never rotten, because rotting only happens 4-directionally.\n",
        "\n",
        "Example 3:\n",
        "\n",
        "Input: grid = [[0,2]]\n",
        "Output: 0\n",
        "Explanation: Since there are already no fresh oranges at minute 0, the answer is just 0.\n",
        " \n",
        "\n",
        "Constraints:\n",
        "\n",
        "m == grid.length\n",
        "n == grid[i].length\n",
        "1 <= m, n <= 10\n",
        "grid[i][j] is 0, 1, or 2.\n",
        "\"\"\""
      ],
      "execution_count": null,
      "outputs": []
    },
    {
      "cell_type": "code",
      "metadata": {
        "colab": {
          "base_uri": "https://localhost:8080/"
        },
        "id": "oBjTc44lBdzS",
        "outputId": "56171a5e-08f6-4d9a-b2d0-d54f4d7b2ec5"
      },
      "source": [
        "grid = [[2,1,1],[1,1,0],[0,1,1]]\n",
        "\n",
        "grid_copy = [t[:] for t in grid]\n",
        "\n",
        "def check(c):\n",
        "  if c == 1:\n",
        "    return 2\n",
        "  else:\n",
        "    return c\n",
        "\n",
        "grid_result = [[check(c) for c in t] for t in grid]\n",
        "\n",
        "rot = True\n",
        "counter = 0\n",
        "\n",
        "def rot_oranges(i,j,grid):\n",
        "  global rot\n",
        "  if i > 0 and grid[i-1][j] == 1:\n",
        "    grid[i-1][j] = 2\n",
        "    rot = True\n",
        "  if i < len(grid)-1 and grid[i+1][j] == 1:\n",
        "    grid[i+1][j] = 2\n",
        "    rot = True\n",
        "  if j > 0 and grid[i][j-1] == 1:\n",
        "    grid[i][j-1] = 2\n",
        "    rot = True\n",
        "  if j < len(grid[0])-1 and grid[i][j+1] == 1:\n",
        "    grid[i][j+1] = 2\n",
        "    rot = True\n",
        "\n",
        "while rot == True:\n",
        "  print(grid)\n",
        "  rot = False\n",
        "  for i, row in enumerate(grid):\n",
        "    for j, cell in enumerate(row):\n",
        "      if grid[i][j] == 2:\n",
        "        rot_oranges(i,j,grid_copy)\n",
        "  grid = [t[:] for t in grid_copy]\n",
        "  print(rot)\n",
        "  if rot == True:\n",
        "    counter += 1\n",
        "\n",
        "if grid_result == grid:\n",
        "  print(counter)\n",
        "else:\n",
        "  print(-1)"
      ],
      "execution_count": 43,
      "outputs": [
        {
          "output_type": "stream",
          "name": "stdout",
          "text": [
            "[[2, 1, 1], [1, 1, 0], [0, 1, 1]]\n",
            "True\n",
            "[[2, 2, 1], [2, 1, 0], [0, 1, 1]]\n",
            "True\n",
            "[[2, 2, 2], [2, 2, 0], [0, 1, 1]]\n",
            "True\n",
            "[[2, 2, 2], [2, 2, 0], [0, 2, 1]]\n",
            "True\n",
            "[[2, 2, 2], [2, 2, 0], [0, 2, 2]]\n",
            "False\n",
            "4\n"
          ]
        }
      ]
    },
    {
      "cell_type": "code",
      "metadata": {
        "id": "oPMQKD2gNeuo"
      },
      "source": [
        ""
      ],
      "execution_count": null,
      "outputs": []
    }
  ]
}
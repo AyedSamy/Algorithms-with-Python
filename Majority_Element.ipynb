{
  "nbformat": 4,
  "nbformat_minor": 0,
  "metadata": {
    "colab": {
      "name": "Majority Element",
      "provenance": [],
      "collapsed_sections": []
    },
    "kernelspec": {
      "name": "python3",
      "display_name": "Python 3"
    },
    "language_info": {
      "name": "python"
    }
  },
  "cells": [
    {
      "cell_type": "code",
      "metadata": {
        "id": "Vaq0pex-7yu7"
      },
      "source": [
        "\"\"\"\n",
        "Given an array nums of size n, return the majority element.\n",
        "\n",
        "The majority element is the element that appears more than ⌊n / 2⌋ times. You may assume that the majority element always exists in the array.\n",
        "\n",
        "Example 1:\n",
        "\n",
        "Input: nums = [3,2,3]\n",
        "Output: 3\n",
        "Example 2:\n",
        "\n",
        "Input: nums = [2,2,1,1,1,2,2]\n",
        "Output: 2\n",
        " \n",
        "\n",
        "Constraints:\n",
        "\n",
        "n == nums.length\n",
        "1 <= n <= 5 * 104\n",
        "-231 <= nums[i] <= 231 - 1\n",
        " \n",
        "\"\"\""
      ],
      "execution_count": null,
      "outputs": []
    },
    {
      "cell_type": "code",
      "metadata": {
        "id": "yTzhqD6J7qTl"
      },
      "source": [
        "class Solution:\n",
        "    def majorityElement(self, nums: List[int]) -> int:\n",
        "        n_dict = {}\n",
        "        for n in list(set(nums)):\n",
        "            n_dict[n] = nums.count(n)\n",
        "        n_max_occur = max(n_dict.values())\n",
        "        result = list(n_dict.keys())[list(n_dict.values()).index(n_max_occur)]\n",
        "        return result"
      ],
      "execution_count": null,
      "outputs": []
    },
    {
      "cell_type": "code",
      "metadata": {
        "colab": {
          "base_uri": "https://localhost:8080/"
        },
        "id": "xUh7LfBU5Llo",
        "outputId": "daf7c0dc-aad3-4825-d5cc-d3add86d7c27"
      },
      "source": [
        "nums = [2,2,1,1,1,2,2,3,3,3,3]\n",
        "\n",
        "n_dict = {}\n",
        "for n in list(set(nums)):\n",
        "    n_dict[n] = nums.count(n)\n",
        "n_max_occur = max(n_dict.values())\n",
        "result = list(n_dict.keys())[list(n_dict.values()).index(n_max_occur)]\n",
        "result"
      ],
      "execution_count": null,
      "outputs": [
        {
          "output_type": "execute_result",
          "data": {
            "text/plain": [
              "2"
            ]
          },
          "metadata": {
            "tags": []
          },
          "execution_count": 7
        }
      ]
    },
    {
      "cell_type": "code",
      "metadata": {
        "id": "ovyKmosU5VG3"
      },
      "source": [
        ""
      ],
      "execution_count": null,
      "outputs": []
    }
  ]
}
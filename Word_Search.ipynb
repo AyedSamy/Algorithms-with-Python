{
  "nbformat": 4,
  "nbformat_minor": 0,
  "metadata": {
    "colab": {
      "name": "Word Search",
      "provenance": [],
      "collapsed_sections": []
    },
    "kernelspec": {
      "name": "python3",
      "display_name": "Python 3"
    },
    "language_info": {
      "name": "python"
    }
  },
  "cells": [
    {
      "cell_type": "code",
      "metadata": {
        "id": "srRhiyEFtDd5"
      },
      "source": [
        "\"\"\"\n",
        "Given an m x n grid of characters board and a string word, return true if word exists in the grid.\n",
        "\n",
        "The word can be constructed from letters of sequentially adjacent cells, where adjacent cells are horizontally or vertically neighboring. The same letter cell may not be used more than once.  \n",
        "\n",
        "Example 1:\n",
        "\n",
        "\n",
        "Input: board = [[\"A\",\"B\",\"C\",\"E\"],\n",
        "                [\"S\",\"F\",\"C\",\"S\"],\n",
        "                [\"A\",\"D\",\"E\",\"E\"]], \n",
        "\n",
        "word = \"ABCCED\"\n",
        "Output: true\n",
        "Example 2:\n",
        "\n",
        "\n",
        "Input: board = [[\"A\",\"B\",\"C\",\"E\"],\n",
        "                [\"S\",\"F\",\"C\",\"S\"],\n",
        "                [\"A\",\"D\",\"E\",\"E\"]], \n",
        "\n",
        "word = \"SEE\"\n",
        "Output: true\n",
        "Example 3:\n",
        "\n",
        "\n",
        "Input: board = [[\"A\",\"B\",\"C\",\"E\"],\n",
        "                [\"S\",\"F\",\"C\",\"S\"],\n",
        "                [\"A\",\"D\",\"E\",\"E\"]],\n",
        "\n",
        "word = \"ABCB\"\n",
        "Output: false\n",
        " \n",
        "\n",
        "Constraints:\n",
        "\n",
        "m == board.length\n",
        "n = board[i].length\n",
        "1 <= m, n <= 6\n",
        "1 <= word.length <= 15\n",
        "board and word consists of only lowercase and uppercase English letters.\n",
        "\"\"\""
      ],
      "execution_count": null,
      "outputs": []
    },
    {
      "cell_type": "code",
      "metadata": {
        "colab": {
          "base_uri": "https://localhost:8080/"
        },
        "id": "rltNysBD71td",
        "outputId": "c8ed8b7a-939b-4320-b66b-cff98b3199cd"
      },
      "source": [
        "board = [[\"A\",\"B\",\"C\",\"E\"],\n",
        "         [\"S\",\"F\",\"C\",\"S\"],\n",
        "         [\"A\",\"D\",\"E\",\"E\"]]\n",
        "word = \"ABCCED\"\n",
        "result = False\n",
        "\n",
        "for i in range(len(board)):\n",
        "  for j in range(len(board[0])):\n",
        "    if board[i][j] == word[0] and dfs(i, j, board, 0, word) == True:\n",
        "      result = True\n",
        "\n",
        "print(result)"
      ],
      "execution_count": null,
      "outputs": [
        {
          "output_type": "stream",
          "text": [
            "True\n"
          ],
          "name": "stdout"
        }
      ]
    },
    {
      "cell_type": "code",
      "metadata": {
        "id": "l5mnxL4_71lU"
      },
      "source": [
        "def dfs(i, j, board, counter, word):\n",
        "  if counter == len(word):\n",
        "    return True\n",
        "\n",
        "  if i < 0 or i >= len(board) or j < 0 or j >= len(board[0]) or board[i][j] != word[counter]:\n",
        "    return False\n",
        "\n",
        "  temp = board[i][j]\n",
        "  board[i][j] = ' '\n",
        "  \n",
        "  found = dfs(i-1, j, board, counter+1, word) or dfs(i+1, j, board, counter +1, word) or dfs(i, j-1, board, counter +1, word) or dfs(i, j+1, board, counter +1, word)\n",
        "\n",
        "  board[i][j] = temp\n",
        "\n",
        "  return found"
      ],
      "execution_count": null,
      "outputs": []
    },
    {
      "cell_type": "code",
      "metadata": {
        "id": "tNFEOExqtJDd"
      },
      "source": [
        ""
      ],
      "execution_count": null,
      "outputs": []
    }
  ]
}
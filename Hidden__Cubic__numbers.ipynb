{
  "nbformat": 4,
  "nbformat_minor": 0,
  "metadata": {
    "colab": {
      "name": "Hidden \"Cubic\" numbers",
      "provenance": []
    },
    "kernelspec": {
      "name": "python3",
      "display_name": "Python 3"
    },
    "language_info": {
      "name": "python"
    }
  },
  "cells": [
    {
      "cell_type": "code",
      "metadata": {
        "id": "jMILvzBIUYQm"
      },
      "source": [
        "\"\"\"\n",
        "We search non-negative integer numbers, with at most 3 digits, such as the sum of the cubes of their digits is the number itself; we will call them \"cubic\" numbers.\n",
        "\n",
        "153 is such a \"cubic\" number : 1^3 + 5^3 + 3^3 = 153\n",
        "These \"cubic\" numbers of at most 3 digits are easy to find, even by hand, so they are \"hidden\" with other numbers and characters in a string.\n",
        "\n",
        "The task is to find, or not, the \"cubic\" numbers in the string and then to make the sum of these \"cubic\" numbers found in the string, if any, and to return a string such as:\n",
        "\n",
        "\"number1 number2 (and so on if necessary) sumOfCubicNumbers Lucky\" \n",
        "if \"cubic\" numbers number1, number2, ... were found.\n",
        "\n",
        "The numbers in the output are to be in the order in which they are encountered in the input string.\n",
        "\n",
        "If no cubic numbers are found return the string: `\"Unlucky\"``.\n",
        "\n",
        "Examples:\n",
        " - s = \"aqdf&0#1xyz!22[153(777.777\" \n",
        "   the groups of at most 3 digits are 0 and 1 (one digit), 22 (two digits), 153, 777, 777 (3 digits)\n",
        "   Only 0, 1, 153 are cubic and their sum is 154\n",
        "   Return: \"0 1 153 154 Lucky\"\n",
        "\n",
        "- s = \"QK29a45[&erui9026315\"\n",
        "  the groups are 29, 45, 902, 631, 5. None is cubic.\n",
        "  Return: \"Unlucky\"\n",
        "Notes\n",
        "In the string \"001234\" where 3 digits or more follow each other the first group to examine is \"001\" and the following is \"234\". If a packet of at most three digits has been taken, whether or not \"cubic\", it's over for that packet.\n",
        "\n",
        "When a continuous string of digits exceeds 3, the string is split into groups of 3 from the left. The last grouping could have 3, 2 or 1 digits.\n",
        "\n",
        "e.g \"24172410\" becomes 3 strings comprising \"241\", \"724\" and \"10\"\n",
        "\n",
        "e.g \"0785\" becomes 2 strings comprising \"078\" and \"5\".\n",
        "\"\"\""
      ],
      "execution_count": null,
      "outputs": []
    },
    {
      "cell_type": "code",
      "metadata": {
        "colab": {
          "base_uri": "https://localhost:8080/"
        },
        "id": "XGaMRwcl0mg6",
        "outputId": "f3add39b-34f2-498e-8cd3-60e6a2c2893a"
      },
      "source": [
        "a = 153\n",
        "a_sum = 0\n",
        "for n in str(a):\n",
        "  a_sum += int(n)**3\n",
        "a_sum"
      ],
      "execution_count": 13,
      "outputs": [
        {
          "output_type": "execute_result",
          "data": {
            "text/plain": [
              "153"
            ]
          },
          "metadata": {
            "tags": []
          },
          "execution_count": 13
        }
      ]
    },
    {
      "cell_type": "markdown",
      "metadata": {
        "id": "wj4hERrNrZ2E"
      },
      "source": [
        "One step (num_array construction)"
      ]
    },
    {
      "cell_type": "code",
      "metadata": {
        "colab": {
          "base_uri": "https://localhost:8080/"
        },
        "id": "RsoEnhWD0spL",
        "outputId": "b1bf3e9b-40f7-46d1-b4da-6115745913f5"
      },
      "source": [
        "s = \"aqdf&0#1xyz!22[153(77734331.777\"\n",
        "num_array = []\n",
        "num = \"\"\n",
        "for i, c in enumerate(s):\n",
        "  if c in \"1234567890\":\n",
        "    num += c\n",
        "    if len(num) == 3:\n",
        "      num_array.append(num)\n",
        "      num = \"\"\n",
        "  else:\n",
        "    if num != \"\":\n",
        "      num_array.append(num)\n",
        "    num = \"\"\n",
        "  if i == len(s) - 1 and num != \"\":\n",
        "    num_array.append(num)\n",
        "\n",
        "num_array"
      ],
      "execution_count": 1,
      "outputs": [
        {
          "output_type": "execute_result",
          "data": {
            "text/plain": [
              "['0', '1', '22', '153', '777', '343', '31', '777']"
            ]
          },
          "metadata": {
            "tags": []
          },
          "execution_count": 1
        }
      ]
    },
    {
      "cell_type": "code",
      "metadata": {
        "colab": {
          "base_uri": "https://localhost:8080/",
          "height": 35
        },
        "id": "n60cfYjrkeVO",
        "outputId": "7e103626-c620-4bc8-8566-6ebb8d229030"
      },
      "source": [
        "result = []\n",
        "result_txt = \"\"\n",
        "for n in num_array:\n",
        "  n_sum = 0\n",
        "  for c in n:\n",
        "    n_sum += int(c)**3\n",
        "  if n_sum == int(n):\n",
        "    result.append(n)\n",
        "\n",
        "if len(result) == 0:\n",
        "  result_txt = \"Unlucky\"\n",
        "else:\n",
        "  total_sum = 0\n",
        "  for i, n in enumerate(result):\n",
        "    total_sum += int(n)\n",
        "    result_txt += n + \" \"\n",
        "    if i == len(result) - 1:\n",
        "      result_txt += str(total_sum) + \" Lucky\"\n",
        "\n",
        "result_txt"
      ],
      "execution_count": 5,
      "outputs": [
        {
          "output_type": "execute_result",
          "data": {
            "application/vnd.google.colaboratory.intrinsic+json": {
              "type": "string"
            },
            "text/plain": [
              "'0 1 153 154 Lucky'"
            ]
          },
          "metadata": {
            "tags": []
          },
          "execution_count": 5
        }
      ]
    },
    {
      "cell_type": "markdown",
      "metadata": {
        "id": "Rf4FhX9VrWlQ"
      },
      "source": [
        "Two steps (num_array construction)"
      ]
    },
    {
      "cell_type": "code",
      "metadata": {
        "colab": {
          "base_uri": "https://localhost:8080/"
        },
        "id": "DMtQ0T4p3yNk",
        "outputId": "a1aed69d-a93b-444c-b9a4-c7c4e3046cfc"
      },
      "source": [
        "s = \"aqdf&0#1xyz!22[153(77734331.777\"\n",
        "num_array = []\n",
        "num = \"\"\n",
        "for i, c in enumerate(s):\n",
        "  if c in \"1234567890\":\n",
        "    num += c\n",
        "  else:\n",
        "    if num != \"\":\n",
        "      num_array.append(num)\n",
        "    num = \"\"\n",
        "  if i == len(s) - 1 and num != \"\":\n",
        "    num_array.append(num)\n",
        "\n",
        "num_array"
      ],
      "execution_count": 15,
      "outputs": [
        {
          "output_type": "execute_result",
          "data": {
            "text/plain": [
              "['0', '1', '22', '153', '77734331', '777']"
            ]
          },
          "metadata": {
            "tags": []
          },
          "execution_count": 15
        }
      ]
    },
    {
      "cell_type": "code",
      "metadata": {
        "colab": {
          "base_uri": "https://localhost:8080/"
        },
        "id": "rhHHLEimU2gA",
        "outputId": "954ee741-bbce-4173-a9c1-37d9fcf40eb4"
      },
      "source": [
        "for idx, n in enumerate(num_array):\n",
        "  to_add = \"\"\n",
        "  if len(n) > 3:\n",
        "    del num_array[idx]\n",
        "    idx_counter = 0\n",
        "    for i, c in enumerate(n):\n",
        "      to_add += c\n",
        "      if len(to_add) == 3:\n",
        "        num_array.insert(idx + idx_counter, to_add)\n",
        "        to_add = \"\"\n",
        "        idx_counter += 1\n",
        "      if i == len(n) - 1 and len(to_add) > 0 and len(to_add) < 3:\n",
        "        num_array.insert(idx + idx_counter, to_add)\n",
        "\n",
        "num_array"
      ],
      "execution_count": 16,
      "outputs": [
        {
          "output_type": "execute_result",
          "data": {
            "text/plain": [
              "['0', '1', '22', '153', '777', '343', '31', '777']"
            ]
          },
          "metadata": {
            "tags": []
          },
          "execution_count": 16
        }
      ]
    },
    {
      "cell_type": "code",
      "metadata": {
        "id": "nGoYACAvriEh"
      },
      "source": [
        ""
      ],
      "execution_count": null,
      "outputs": []
    }
  ]
}
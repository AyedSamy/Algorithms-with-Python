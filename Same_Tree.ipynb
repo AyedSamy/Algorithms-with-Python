{
  "nbformat": 4,
  "nbformat_minor": 0,
  "metadata": {
    "colab": {
      "name": "Same Tree",
      "provenance": []
    },
    "kernelspec": {
      "name": "python3",
      "display_name": "Python 3"
    },
    "language_info": {
      "name": "python"
    }
  },
  "cells": [
    {
      "cell_type": "code",
      "metadata": {
        "id": "4hGfhw0RRWD4"
      },
      "source": [
        "\"\"\"\n",
        "\n",
        "Given the roots of two binary trees p and q, write a function to check if they are the same or not.\n",
        "\n",
        "Two binary trees are considered the same if they are structurally identical, and the nodes have the same value.\n",
        "\n",
        " \n",
        "\n",
        "Example 1:\n",
        "\n",
        "\n",
        "Input: p = [1,2,3], q = [1,2,3]\n",
        "Output: true\n",
        "Example 2:\n",
        "\n",
        "\n",
        "Input: p = [1,2], q = [1,null,2]\n",
        "Output: false\n",
        "Example 3:\n",
        "\n",
        "\n",
        "Input: p = [1,2,1], q = [1,1,2]\n",
        "Output: false\n",
        " \n",
        "\n",
        "Constraints:\n",
        "\n",
        "The number of nodes in both trees is in the range [0, 100].\n",
        "-104 <= Node.val <= 104\n",
        "\n",
        "\"\"\""
      ],
      "execution_count": null,
      "outputs": []
    },
    {
      "cell_type": "code",
      "metadata": {
        "id": "_0aSnxjJRPOY"
      },
      "source": [
        "# Definition for a binary tree node.\n",
        "# class TreeNode:\n",
        "#     def __init__(self, val=0, left=None, right=None):\n",
        "#         self.val = val\n",
        "#         self.left = left\n",
        "#         self.right = right\n",
        "class Solution:\n",
        "    def isSameTree(self, p: Optional[TreeNode], q: Optional[TreeNode]) -> bool:\n",
        "        nodesToExplore1 = [p]\n",
        "        nodesToExplore2 = [q]\n",
        "\n",
        "        t_values = []\n",
        "        u_values = []\n",
        "\n",
        "        while nodesToExplore1 != [] and nodesToExplore2 != []:\n",
        "            currentNode1 = nodesToExplore1.pop()\n",
        "            if currentNode1 != None:\n",
        "                t_values.append(currentNode1.val)\n",
        "                nodesToExplore1.append(currentNode1.left)\n",
        "                nodesToExplore1.append(currentNode1.right)\n",
        "            currentNode2 = nodesToExplore2.pop()\n",
        "            if currentNode2 != None:\n",
        "                u_values.append(currentNode2.val)\n",
        "                nodesToExplore2.append(currentNode2.left)\n",
        "                nodesToExplore2.append(currentNode2.right)\n",
        "            if t_values != u_values:\n",
        "                return False\n",
        "            \n",
        "        if len(nodesToExplore1) != len(nodesToExplore2):\n",
        "            return False\n",
        "        else:\n",
        "            return True"
      ],
      "execution_count": null,
      "outputs": []
    },
    {
      "cell_type": "code",
      "metadata": {
        "id": "kGYzKTo1HL6B"
      },
      "source": [
        "class TreeNode:\n",
        "  def __init__(self, val=0, left=None, right=None):\n",
        "    self.val = val\n",
        "    self.left = left\n",
        "    self.right = right"
      ],
      "execution_count": 10,
      "outputs": []
    },
    {
      "cell_type": "code",
      "metadata": {
        "colab": {
          "base_uri": "https://localhost:8080/"
        },
        "id": "2OG68R52HcGZ",
        "outputId": "d4465968-a320-46d6-cfc1-4efbe3f9b275"
      },
      "source": [
        "t3 = TreeNode(3)\n",
        "t2 = TreeNode(2)\n",
        "t1 = TreeNode(1, left=t2, right=t3)\n",
        "\n",
        "u3 = TreeNode(3)\n",
        "u2 = TreeNode(2)\n",
        "u1 = TreeNode(1, left=u2, right=u3)\n",
        "\n",
        "nodesToExplore1 = [t1]\n",
        "nodesToExplore2 = [u1]\n",
        "\n",
        "t_values = []\n",
        "u_values = []\n",
        "\n",
        "while nodesToExplore1 != [] and nodesToExplore2 != []:\n",
        "\n",
        "  currentNode1 = nodesToExplore1.pop()\n",
        "  if currentNode1 != None:\n",
        "    t_values.append(currentNode1.val)\n",
        "    nodesToExplore1.append(currentNode1.left)\n",
        "    nodesToExplore1.append(currentNode1.right)\n",
        "  currentNode2 = nodesToExplore2.pop()\n",
        "  if currentNode2 != None:\n",
        "    u_values.append(currentNode2.val)\n",
        "    nodesToExplore2.append(currentNode2.left)\n",
        "    nodesToExplore2.append(currentNode2.right)\n",
        "  if t_values != u_values:\n",
        "    print(t_values, u_values)\n",
        "    print(\"Not same trees\")\n",
        "  else:\n",
        "    print(t_values, u_values)\n",
        "    print(\"Same trees\")"
      ],
      "execution_count": 15,
      "outputs": [
        {
          "output_type": "stream",
          "text": [
            "[1] [1]\n",
            "Same trees\n",
            "[1, 3] [1, 3]\n",
            "Same trees\n",
            "[1, 3] [1, 3]\n",
            "Same trees\n",
            "[1, 3] [1, 3]\n",
            "Same trees\n",
            "[1, 3, 2] [1, 3, 2]\n",
            "Same trees\n",
            "[1, 3, 2] [1, 3, 2]\n",
            "Same trees\n",
            "[1, 3, 2] [1, 3, 2]\n",
            "Same trees\n"
          ],
          "name": "stdout"
        }
      ]
    },
    {
      "cell_type": "code",
      "metadata": {
        "colab": {
          "base_uri": "https://localhost:8080/"
        },
        "id": "JN-39QrbHv4l",
        "outputId": "92342d2d-2ab3-4a92-f225-ece11fe4f290"
      },
      "source": [
        "currentNode = t1"
      ],
      "execution_count": 6,
      "outputs": [
        {
          "output_type": "execute_result",
          "data": {
            "text/plain": [
              "2"
            ]
          },
          "metadata": {
            "tags": []
          },
          "execution_count": 6
        }
      ]
    },
    {
      "cell_type": "code",
      "metadata": {
        "id": "O_TCZg3uHxwv"
      },
      "source": [
        "def exploreTree"
      ],
      "execution_count": null,
      "outputs": []
    }
  ]
}
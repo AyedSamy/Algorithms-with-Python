{
  "nbformat": 4,
  "nbformat_minor": 0,
  "metadata": {
    "colab": {
      "name": "Sum of Digits / Digital Root",
      "provenance": []
    },
    "kernelspec": {
      "name": "python3",
      "display_name": "Python 3"
    },
    "language_info": {
      "name": "python"
    }
  },
  "cells": [
    {
      "cell_type": "code",
      "metadata": {
        "id": "z1xnKWOiRxvw"
      },
      "source": [
        "\"\"\"\n",
        "Digital root is the recursive sum of all the digits in a number.\n",
        "\n",
        "Given n, take the sum of the digits of n. If that value has more than one digit, continue reducing in this way until a single-digit number is produced. The input will be a non-negative integer.\n",
        "\n",
        "Examples\n",
        "    16  -->  1 + 6 = 7\n",
        "   942  -->  9 + 4 + 2 = 15  -->  1 + 5 = 6\n",
        "132189  -->  1 + 3 + 2 + 1 + 8 + 9 = 24  -->  2 + 4 = 6\n",
        "493193  -->  4 + 9 + 3 + 1 + 9 + 3 = 29  -->  2 + 9 = 11  -->  1 + 1 = 2\n",
        "\"\"\""
      ],
      "execution_count": null,
      "outputs": []
    },
    {
      "cell_type": "code",
      "metadata": {
        "colab": {
          "base_uri": "https://localhost:8080/"
        },
        "id": "aMzFxJ1sR8eE",
        "outputId": "a7945ad0-9b13-44e4-bffb-6845c95d7281"
      },
      "source": [
        "def digital_root(n):\n",
        "  n = sum(int(d) for d in str(n))\n",
        "  if len(str(n)) == 1:\n",
        "    return n\n",
        "  else:\n",
        "    return digital_root(n)\n",
        "\n",
        "\n",
        "print(digital_root(16))\n",
        "print(digital_root(942))\n",
        "print(digital_root(132189))\n",
        "print(digital_root(493193))"
      ],
      "execution_count": 6,
      "outputs": [
        {
          "output_type": "stream",
          "text": [
            "7\n",
            "6\n",
            "6\n",
            "2\n"
          ],
          "name": "stdout"
        }
      ]
    },
    {
      "cell_type": "code",
      "metadata": {
        "id": "ZxMeLFCQVM6_"
      },
      "source": [
        ""
      ],
      "execution_count": null,
      "outputs": []
    }
  ]
}
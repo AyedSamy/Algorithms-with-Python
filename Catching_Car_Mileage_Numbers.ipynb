{
  "nbformat": 4,
  "nbformat_minor": 0,
  "metadata": {
    "colab": {
      "name": "Catching Car Mileage Numbers",
      "provenance": [],
      "collapsed_sections": []
    },
    "kernelspec": {
      "name": "python3",
      "display_name": "Python 3"
    },
    "language_info": {
      "name": "python"
    }
  },
  "cells": [
    {
      "cell_type": "code",
      "metadata": {
        "id": "J-jqe4R7H2Ob"
      },
      "source": [
        "\"\"\"\n",
        "\"7777...8?!??!\", exclaimed Bob, \"I missed it again! Argh!\" Every time there's an interesting number coming up, he notices and then promptly forgets. Who doesn't like catching those one-off interesting mileage numbers?\n",
        "\n",
        "Let's make it so Bob never misses another interesting number. We've hacked into his car's computer, and we have a box hooked up that reads mileage numbers. We've got a box glued to his dash that lights up yellow or green depending on whether it receives a 1 or a 2 (respectively).\n",
        "\n",
        "It's up to you, intrepid warrior, to glue the parts together. Write the function that parses the mileage number input, and returns a 2 if the number is \"interesting\" (see below), a 1 if an interesting number occurs within the next two miles, or a 0 if the number is not interesting.\n",
        "\n",
        "Note: In Haskell, we use No, Almost and Yes instead of 0, 1 and 2.\n",
        "\n",
        "\"Interesting\" Numbers\n",
        "Interesting numbers are 3-or-more digit numbers that meet one or more of the following criteria:\n",
        "\n",
        "Any digit followed by all zeros: 100, 90000\n",
        "Every digit is the same number: 1111\n",
        "The digits are sequential, incementing†: 1234\n",
        "The digits are sequential, decrementing‡: 4321\n",
        "The digits are a palindrome: 1221 or 73837\n",
        "The digits match one of the values in the awesome_phrases array\n",
        "† For incrementing sequences, 0 should come after 9, and not before 1, as in 7890.\n",
        "‡ For decrementing sequences, 0 should come after 1, and not before 9, as in 3210.\n",
        "\n",
        "So, you should expect these inputs and outputs:\n",
        "\n",
        "# \"boring\" numbers\n",
        "is_interesting(3, [1337, 256])    # 0\n",
        "is_interesting(3236, [1337, 256]) # 0\n",
        "\n",
        "# progress as we near an \"interesting\" number\n",
        "is_interesting(11207, []) # 0\n",
        "is_interesting(11208, []) # 0\n",
        "is_interesting(11209, []) # 1\n",
        "is_interesting(11210, []) # 1\n",
        "is_interesting(11211, []) # 2\n",
        "\n",
        "# nearing a provided \"awesome phrase\"\n",
        "is_interesting(1335, [1337, 256]) # 1\n",
        "is_interesting(1336, [1337, 256]) # 1\n",
        "is_interesting(1337, [1337, 256]) # 2\n",
        "Error Checking\n",
        "A number is only interesting if it is greater than 99!\n",
        "Input will always be an integer greater than 0, and less than 1,000,000,000.\n",
        "The awesomePhrases array will always be provided, and will always be an array, but may be empty. (Not everyone thinks numbers spell funny words...)\n",
        "You should only ever output 0, 1, or 2.\n",
        "\"\"\""
      ],
      "execution_count": null,
      "outputs": []
    },
    {
      "cell_type": "code",
      "metadata": {
        "colab": {
          "base_uri": "https://localhost:8080/"
        },
        "id": "iYlMgO_Otp79",
        "outputId": "1429ff28-5bac-41a5-fc85-dded86e526cb"
      },
      "source": [
        "def check_interesting(number, awesome_phrases):\n",
        "\n",
        "  if number < 100:\n",
        "    return 0\n",
        "\n",
        "  # Check if the digits are sequential, incrementing\n",
        "  \n",
        "  number = str(number)\n",
        "  seq_inc = '1234567890'\n",
        "\n",
        "  a = seq_inc.index(number[0])\n",
        "  b = seq_inc.index(number[-1])\n",
        "\n",
        "  if seq_inc[a:b+1] == number:\n",
        "    return 2\n",
        "\n",
        "  # Check if the digits are sequential, decrementing\n",
        "\n",
        "  seq_dec = '9876543210'\n",
        "\n",
        "  a = seq_dec.index(number[0])\n",
        "  b = seq_dec.index(number[-1])\n",
        "\n",
        "  if seq_dec[a:b+1] == number:\n",
        "    return 2\n",
        "\n",
        "  # Check if the number is a palindrome\n",
        "\n",
        "  middle_index = int(len(number)/2)\n",
        "\n",
        "  if len(number) % 2 != 0:\n",
        "    if number[:middle_index:-1] == number[0:middle_index]:\n",
        "      return 2\n",
        "  else:\n",
        "    if number[0:middle_index] == number[:middle_index-1:-1]:\n",
        "      return 2\n",
        "\n",
        "  # Check if every number are the same\n",
        "\n",
        "  if len(set(number)) == 1:\n",
        "    return 2\n",
        "\n",
        "  # Check any number ending with zeros\n",
        "\n",
        "  if number[-2:] == '00':\n",
        "    return 2\n",
        "\n",
        "  # Check if the digits match one of the values in the awesome_phrases array\n",
        "\n",
        "  if int(number) in awesome_phrases:\n",
        "    return 2\n",
        "\n",
        "  return 0\n",
        "\n",
        "\n",
        "def is_interesting(number, awesome_phrases):\n",
        "  start = number\n",
        "  while (number < start+3):\n",
        "    result = check_interesting(number, awesome_phrases)\n",
        "    if number == start and result == 2:\n",
        "      return 2\n",
        "    elif number != start and result == 2:\n",
        "      return 1\n",
        "    number += 1\n",
        "  return 0\n",
        "\n",
        "print(is_interesting(90, [550,100]))\n",
        "print(is_interesting(551, [550]))\n",
        "print(is_interesting(553, [550]))\n",
        "print(is_interesting(555, []))\n"
      ],
      "execution_count": 23,
      "outputs": [
        {
          "output_type": "stream",
          "text": [
            "0\n",
            "0\n",
            "1\n",
            "2\n"
          ],
          "name": "stdout"
        }
      ]
    },
    {
      "cell_type": "code",
      "metadata": {
        "colab": {
          "base_uri": "https://localhost:8080/"
        },
        "id": "OWptVVQWGCnE",
        "outputId": "303be98d-d0f1-4562-c0c3-f55e69f8a414"
      },
      "source": [
        "# Check if the digits are sequential, incrementing\n",
        "\n",
        "number = str(90)\n",
        "seq_inc = '1234567890'\n",
        "\n",
        "a = seq_inc.index(number[0])\n",
        "b = seq_inc.index(number[-1])\n",
        "\n",
        "if seq_inc[a:b+1] != number:\n",
        "  print(\"Not sequential incrementing\")\n",
        "else:\n",
        "  print(\"Sequential incrementing\")"
      ],
      "execution_count": null,
      "outputs": [
        {
          "output_type": "stream",
          "text": [
            "Sequential incrementing\n"
          ],
          "name": "stdout"
        }
      ]
    },
    {
      "cell_type": "code",
      "metadata": {
        "colab": {
          "base_uri": "https://localhost:8080/"
        },
        "id": "Vfuzmr4lJDxu",
        "outputId": "c4c78628-4237-4eaf-ff50-4efeac131802"
      },
      "source": [
        "# Check if the digits are sequential, decrementing\n",
        "\n",
        "number = str(9876)\n",
        "seq_dec = '9876543210'\n",
        "\n",
        "a = seq_dec.index(number[0])\n",
        "b = seq_dec.index(number[-1])\n",
        "\n",
        "if seq_dec[a:b+1] != number:\n",
        "  print(\"Not sequential decrementing\")\n",
        "else:\n",
        "  print(\"Sequential decrementing\")"
      ],
      "execution_count": null,
      "outputs": [
        {
          "output_type": "stream",
          "text": [
            "Sequential decrementing\n"
          ],
          "name": "stdout"
        }
      ]
    },
    {
      "cell_type": "code",
      "metadata": {
        "colab": {
          "base_uri": "https://localhost:8080/"
        },
        "id": "bLMcWEEqL_7k",
        "outputId": "2e03206d-52e9-4d84-a069-7984a2819c95"
      },
      "source": [
        "# Check if the number is a palindrome\n",
        "\n",
        "number = str(1231321)\n",
        "middle_index = int(len(number)/2)\n",
        "\n",
        "if len(number) % 2 != 0:\n",
        "  if number[:middle_index:-1] == number[0:middle_index]:\n",
        "    print(\"The number is a palindrome\")\n",
        "  else:\n",
        "    print(\"Not a palindrome\")\n",
        "else:\n",
        "  if number[0:middle_index] == number[:middle_index-1:-1]:\n",
        "    print(\"The number is a palindrome\")\n",
        "  else:\n",
        "    print(\"Not a palindrome\")"
      ],
      "execution_count": 16,
      "outputs": [
        {
          "output_type": "stream",
          "text": [
            "The number is a palindrome\n"
          ],
          "name": "stdout"
        }
      ]
    },
    {
      "cell_type": "code",
      "metadata": {
        "colab": {
          "base_uri": "https://localhost:8080/"
        },
        "id": "qiWHyMj1QKpK",
        "outputId": "e0558f44-a90c-4e65-f81d-4b7b5c4deb89"
      },
      "source": [
        "# Check if every number are the same\n",
        "\n",
        "number = str(5555)\n",
        "if len(set(number)) == 1:\n",
        "  print(\"Every numbers are the same\")\n",
        "else:\n",
        "  print(\"Not every numbers are the same\")"
      ],
      "execution_count": null,
      "outputs": [
        {
          "output_type": "stream",
          "text": [
            "Every numbers are the same\n"
          ],
          "name": "stdout"
        }
      ]
    },
    {
      "cell_type": "code",
      "metadata": {
        "colab": {
          "base_uri": "https://localhost:8080/"
        },
        "id": "35YIbMw8T57b",
        "outputId": "6d4f8f59-4850-4e76-947e-b1b8ef805ef7"
      },
      "source": [
        "# Check any number ending with zeros\n",
        "\n",
        "number = str(555500)\n",
        "if number[-2:] == '00':\n",
        "  print(\"Number ending with zeros\")\n",
        "else:\n",
        "  print(\"Not a number ending with zeros\")"
      ],
      "execution_count": 30,
      "outputs": [
        {
          "output_type": "stream",
          "text": [
            "Number ending with zeros\n"
          ],
          "name": "stdout"
        }
      ]
    },
    {
      "cell_type": "code",
      "metadata": {
        "colab": {
          "base_uri": "https://localhost:8080/"
        },
        "id": "atjydyITV0S3",
        "outputId": "9401b6ca-c495-4979-c872-8d49ec04ff5e"
      },
      "source": [
        "# Check if the digits match one of the values in the awesome_phrases array\n",
        "\n",
        "number = 437\n",
        "awesome_phrases = [120, 315, 437]\n",
        "\n",
        "if number in awesome_phrases:\n",
        "  print(\"Number in awesome_phrases\")\n",
        "else:\n",
        "  print(\"Number not in awesome_phrases\")"
      ],
      "execution_count": 29,
      "outputs": [
        {
          "output_type": "stream",
          "text": [
            "Number in awesome_phrases\n"
          ],
          "name": "stdout"
        }
      ]
    },
    {
      "cell_type": "code",
      "metadata": {
        "id": "nGGgATBbW0sx"
      },
      "source": [
        ""
      ],
      "execution_count": null,
      "outputs": []
    },
    {
      "cell_type": "code",
      "metadata": {
        "id": "XzxfmuIX6sqY"
      },
      "source": [
        ""
      ],
      "execution_count": null,
      "outputs": []
    }
  ]
}
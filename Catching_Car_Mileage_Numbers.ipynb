{
  "nbformat": 4,
  "nbformat_minor": 0,
  "metadata": {
    "colab": {
      "name": "Catching Car Mileage Numbers",
      "provenance": [],
      "collapsed_sections": []
    },
    "kernelspec": {
      "name": "python3",
      "display_name": "Python 3"
    },
    "language_info": {
      "name": "python"
    }
  },
  "cells": [
    {
      "cell_type": "code",
      "metadata": {
        "id": "J-jqe4R7H2Ob"
      },
      "source": [
        "\"\"\"\n",
        "\"7777...8?!??!\", exclaimed Bob, \"I missed it again! Argh!\" Every time there's an interesting number coming up, he notices and then promptly forgets. Who doesn't like catching those one-off interesting mileage numbers?\n",
        "\n",
        "Let's make it so Bob never misses another interesting number. We've hacked into his car's computer, and we have a box hooked up that reads mileage numbers. We've got a box glued to his dash that lights up yellow or green depending on whether it receives a 1 or a 2 (respectively).\n",
        "\n",
        "It's up to you, intrepid warrior, to glue the parts together. Write the function that parses the mileage number input, and returns a 2 if the number is \"interesting\" (see below), a 1 if an interesting number occurs within the next two miles, or a 0 if the number is not interesting.\n",
        "\n",
        "Note: In Haskell, we use No, Almost and Yes instead of 0, 1 and 2.\n",
        "\n",
        "\"Interesting\" Numbers\n",
        "Interesting numbers are 3-or-more digit numbers that meet one or more of the following criteria:\n",
        "\n",
        "Any digit followed by all zeros: 100, 90000\n",
        "Every digit is the same number: 1111\n",
        "The digits are sequential, incementing†: 1234\n",
        "The digits are sequential, decrementing‡: 4321\n",
        "The digits are a palindrome: 1221 or 73837\n",
        "The digits match one of the values in the awesome_phrases array\n",
        "† For incrementing sequences, 0 should come after 9, and not before 1, as in 7890.\n",
        "‡ For decrementing sequences, 0 should come after 1, and not before 9, as in 3210.\n",
        "\n",
        "So, you should expect these inputs and outputs:\n",
        "\n",
        "# \"boring\" numbers\n",
        "is_interesting(3, [1337, 256])    # 0\n",
        "is_interesting(3236, [1337, 256]) # 0\n",
        "\n",
        "# progress as we near an \"interesting\" number\n",
        "is_interesting(11207, []) # 0\n",
        "is_interesting(11208, []) # 0\n",
        "is_interesting(11209, []) # 1\n",
        "is_interesting(11210, []) # 1\n",
        "is_interesting(11211, []) # 2\n",
        "\n",
        "# nearing a provided \"awesome phrase\"\n",
        "is_interesting(1335, [1337, 256]) # 1\n",
        "is_interesting(1336, [1337, 256]) # 1\n",
        "is_interesting(1337, [1337, 256]) # 2\n",
        "Error Checking\n",
        "A number is only interesting if it is greater than 99!\n",
        "Input will always be an integer greater than 0, and less than 1,000,000,000.\n",
        "The awesomePhrases array will always be provided, and will always be an array, but may be empty. (Not everyone thinks numbers spell funny words...)\n",
        "You should only ever output 0, 1, or 2.\n",
        "\"\"\""
      ],
      "execution_count": null,
      "outputs": []
    },
    {
      "cell_type": "code",
      "metadata": {
        "colab": {
          "base_uri": "https://localhost:8080/"
        },
        "id": "OWptVVQWGCnE",
        "outputId": "303be98d-d0f1-4562-c0c3-f55e69f8a414"
      },
      "source": [
        "# Check if the digits are sequential, incrementing\n",
        "\n",
        "number = str(90)\n",
        "seq_inc = '1234567890'\n",
        "\n",
        "a = seq_inc.index(number[0])\n",
        "b = seq_inc.index(number[-1])\n",
        "\n",
        "if seq_inc[a:b+1] != number:\n",
        "  print(\"Not sequential incrementing\")\n",
        "else:\n",
        "  print(\"Sequential incrementing\")"
      ],
      "execution_count": 39,
      "outputs": [
        {
          "output_type": "stream",
          "text": [
            "Sequential incrementing\n"
          ],
          "name": "stdout"
        }
      ]
    },
    {
      "cell_type": "code",
      "metadata": {
        "colab": {
          "base_uri": "https://localhost:8080/"
        },
        "id": "Vfuzmr4lJDxu",
        "outputId": "c4c78628-4237-4eaf-ff50-4efeac131802"
      },
      "source": [
        "# Check if the digits are sequential, decrementing\n",
        "\n",
        "number = str(9876)\n",
        "seq_dec = '9876543210'\n",
        "\n",
        "a = seq_dec.index(number[0])\n",
        "b = seq_dec.index(number[-1])\n",
        "\n",
        "if seq_dec[a:b+1] != number:\n",
        "  print(\"Not sequential decrementing\")\n",
        "else:\n",
        "  print(\"Sequential decrementing\")"
      ],
      "execution_count": 44,
      "outputs": [
        {
          "output_type": "stream",
          "text": [
            "Sequential decrementing\n"
          ],
          "name": "stdout"
        }
      ]
    },
    {
      "cell_type": "code",
      "metadata": {
        "id": "bLMcWEEqL_7k"
      },
      "source": [
        ""
      ],
      "execution_count": null,
      "outputs": []
    }
  ]
}
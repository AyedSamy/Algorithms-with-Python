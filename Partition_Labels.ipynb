{
  "nbformat": 4,
  "nbformat_minor": 0,
  "metadata": {
    "colab": {
      "name": "Partition Labels",
      "provenance": [],
      "collapsed_sections": []
    },
    "kernelspec": {
      "name": "python3",
      "display_name": "Python 3"
    },
    "language_info": {
      "name": "python"
    }
  },
  "cells": [
    {
      "cell_type": "code",
      "metadata": {
        "id": "7dQ22QI1mc98"
      },
      "source": [
        "\"\"\"\n",
        "You are given a string s. We want to partition the string into as many parts as possible so that each letter appears in at most one part.\n",
        "\n",
        "Return a list of integers representing the size of these parts.\n",
        "\n",
        "Example 1:\n",
        "\n",
        "Input: s = \"ababcbacadefegdehijhklij\"\n",
        "Output: [9,7,8]\n",
        "Explanation:\n",
        "The partition is \"ababcbaca\", \"defegde\", \"hijhklij\".\n",
        "This is a partition so that each letter appears in at most one part.\n",
        "A partition like \"ababcbacadefegde\", \"hijhklij\" is incorrect, because it splits s into less parts.\n",
        "Example 2:\n",
        "\n",
        "Input: s = \"eccbbbbdec\"\n",
        "Output: [10]\n",
        " \n",
        "\n",
        "Constraints:\n",
        "\n",
        "1 <= s.length <= 500\n",
        "s consists of lowercase English letters.\n",
        "\"\"\""
      ],
      "execution_count": null,
      "outputs": []
    },
    {
      "cell_type": "code",
      "metadata": {
        "id": "XbknPCqcu9FE"
      },
      "source": [
        "class Solution:\n",
        "    def partitionLabels(self, s: str) -> List[int]:\n",
        "        s_reversed = ''.join(reversed(s))\n",
        "        max_idx = len(s) - s_reversed.index(s[0]) - 1\n",
        "        start_idx = 0\n",
        "\n",
        "        result = []\n",
        "\n",
        "        for i, c in enumerate(s):\n",
        "            current_letter_last_idx = len(s) - s_reversed.index(c) - 1\n",
        "            if current_letter_last_idx > max_idx:\n",
        "                max_idx = current_letter_last_idx\n",
        "  \n",
        "            if i == max_idx:\n",
        "                result.append(s[start_idx:max_idx+1])\n",
        "                if i < len(s)-1:\n",
        "                    start_idx = max_idx+1\n",
        "                    max_idx = len(s) - s_reversed.index(s[max_idx+1]) - 1\n",
        "                    \n",
        "        return [len(s) for s in result]"
      ],
      "execution_count": null,
      "outputs": []
    },
    {
      "cell_type": "code",
      "metadata": {
        "id": "NUT0r1pSmq-8"
      },
      "source": [
        "s = \"ababcbacadefegdehijhklij\"\n",
        "\n",
        "s_reversed = ''.join(reversed(s))"
      ],
      "execution_count": null,
      "outputs": []
    },
    {
      "cell_type": "code",
      "metadata": {
        "id": "myBd50aupCcp"
      },
      "source": [
        "max_idx = len(s) - s_reversed.index(s[0]) - 1\n",
        "start_idx = 0\n",
        "\n",
        "result = []\n",
        "\n",
        "for i, c in enumerate(s):\n",
        "  current_letter_last_idx = len(s) - s_reversed.index(c) - 1\n",
        "  if current_letter_last_idx > max_idx:\n",
        "    max_idx = current_letter_last_idx\n",
        "  \n",
        "  if i == max_idx:\n",
        "    result.append(s[start_idx:max_idx+1])\n",
        "    if i < len(s)-1:\n",
        "      start_idx = max_idx+1\n",
        "      max_idx = len(s) - s_reversed.index(s[max_idx+1]) - 1\n"
      ],
      "execution_count": null,
      "outputs": []
    },
    {
      "cell_type": "code",
      "metadata": {
        "colab": {
          "base_uri": "https://localhost:8080/"
        },
        "id": "zOZN9oM-prDZ",
        "outputId": "a9507f2c-c58e-4f86-8fb7-71896bf68425"
      },
      "source": [
        "result"
      ],
      "execution_count": null,
      "outputs": [
        {
          "output_type": "execute_result",
          "data": {
            "text/plain": [
              "['ababcbaca', 'defegde', 'hijhklij']"
            ]
          },
          "metadata": {
            "tags": []
          },
          "execution_count": 24
        }
      ]
    },
    {
      "cell_type": "code",
      "metadata": {
        "id": "szTGwBNRtcVU"
      },
      "source": [
        ""
      ],
      "execution_count": null,
      "outputs": []
    }
  ]
}
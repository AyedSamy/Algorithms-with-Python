{
  "nbformat": 4,
  "nbformat_minor": 0,
  "metadata": {
    "colab": {
      "name": "Letter Combinations of a Phone Number",
      "provenance": []
    },
    "kernelspec": {
      "name": "python3",
      "display_name": "Python 3"
    },
    "language_info": {
      "name": "python"
    }
  },
  "cells": [
    {
      "cell_type": "code",
      "metadata": {
        "id": "vBp1Xh6LmYxM"
      },
      "source": [
        "\"\"\"\n",
        "Given a string containing digits from 2-9 inclusive, return all possible letter combinations that the number could represent. Return the answer in any order.\n",
        "\n",
        "A mapping of digit to letters (just like on the telephone buttons) is given below. Note that 1 does not map to any letters.\n",
        "\n",
        "\n",
        "Example 1:\n",
        "\n",
        "Input: digits = \"23\"\n",
        "Output: [\"ad\",\"ae\",\"af\",\"bd\",\"be\",\"bf\",\"cd\",\"ce\",\"cf\"]\n",
        "\n",
        "Example 2:\n",
        "\n",
        "Input: digits = \"\"\n",
        "Output: []\n",
        "\n",
        "Example 3:\n",
        "\n",
        "Input: digits = \"2\"\n",
        "Output: [\"a\",\"b\",\"c\"]\n",
        " \n",
        "\n",
        "Constraints:\n",
        "\n",
        "0 <= digits.length <= 4\n",
        "digits[i] is a digit in the range ['2', '9'].\n",
        "\"\"\""
      ],
      "execution_count": null,
      "outputs": []
    },
    {
      "cell_type": "code",
      "metadata": {
        "id": "smLnuviLS86F"
      },
      "source": [
        "import itertools"
      ],
      "execution_count": 1,
      "outputs": []
    },
    {
      "cell_type": "code",
      "metadata": {
        "id": "ioXeq6TiWkWh"
      },
      "source": [
        "class Solution:\n",
        "    def letterCombinations(self, digits: str):\n",
        "        s = \"abcdefghijklmnopqrstuvwxyz\"\n",
        "        counter = 0\n",
        "        current = \"\"\n",
        "        max_l = 3\n",
        "        key_idx = 2\n",
        "        l_dict = {}\n",
        "        \n",
        "        for i, j in enumerate(s):\n",
        "            current += j\n",
        "            counter += 1\n",
        "            if counter == max_l:\n",
        "                l_dict[str(key_idx)] = [c for c in current]\n",
        "                current = \"\"\n",
        "                counter = 0\n",
        "                key_idx += 1\n",
        "            if len(l_dict) == 5 or len(l_dict) == 7:\n",
        "                max_l = 4\n",
        "            else:\n",
        "                max_l = 3\n",
        "            \n",
        "        code_array = []\n",
        "        for c in digits:\n",
        "            code_array.append(l_dict[c])\n",
        "        \n",
        "        if len(digits) == 1:\n",
        "            return l_dict[str(digits)]\n",
        "        elif len(digits) == 0:\n",
        "            return []\n",
        "        else:\n",
        "            result = []\n",
        "            for e in itertools.product(*code_array):\n",
        "                result.append(''.join(e))\n",
        "\n",
        "            return result"
      ],
      "execution_count": 19,
      "outputs": []
    },
    {
      "cell_type": "code",
      "metadata": {
        "colab": {
          "base_uri": "https://localhost:8080/"
        },
        "id": "6E1Vy7beU56K",
        "outputId": "ce3f9610-3069-44a5-f028-7f7d8d1d2d03"
      },
      "source": [
        "s = \"abcdefghijklmnopqrstuvwxyz\"\n",
        "counter = 0\n",
        "current = \"\"\n",
        "max = 3\n",
        "array = []\n",
        "l_dict = {}\n",
        "key_idx = 2\n",
        "\n",
        "for i, j in enumerate(s):\n",
        "  current += j\n",
        "  counter += 1\n",
        "  if counter == max:\n",
        "    l_dict[str(key_idx)] = [c for c in current]\n",
        "    current = \"\"\n",
        "    counter = 0\n",
        "    key_idx += 1\n",
        "  if len(l_dict) == 5 or len(l_dict) == 7:\n",
        "    max = 4\n",
        "  else:\n",
        "    max = 3\n",
        "\n",
        "l_dict\n"
      ],
      "execution_count": 16,
      "outputs": [
        {
          "output_type": "execute_result",
          "data": {
            "text/plain": [
              "{'2': ['a', 'b', 'c'],\n",
              " '3': ['d', 'e', 'f'],\n",
              " '4': ['g', 'h', 'i'],\n",
              " '5': ['j', 'k', 'l'],\n",
              " '6': ['m', 'n', 'o'],\n",
              " '7': ['p', 'q', 'r', 's'],\n",
              " '8': ['t', 'u', 'v'],\n",
              " '9': ['w', 'x', 'y', 'z']}"
            ]
          },
          "metadata": {
            "tags": []
          },
          "execution_count": 16
        }
      ]
    },
    {
      "cell_type": "code",
      "metadata": {
        "colab": {
          "base_uri": "https://localhost:8080/"
        },
        "id": "kznhWjNCam-A",
        "outputId": "10b8cb26-2903-48bb-9de3-18e4c7f87b3a"
      },
      "source": [
        "code = '23'\n",
        "code_array = []\n",
        "for c in code:\n",
        "  code_array.append(l_dict[c])\n",
        "\n",
        "result = []\n",
        "for e in itertools.product(*code_array):\n",
        "  result.append(''.join(e))\n",
        "\n",
        "result\n"
      ],
      "execution_count": 17,
      "outputs": [
        {
          "output_type": "execute_result",
          "data": {
            "text/plain": [
              "['ad', 'ae', 'af', 'bd', 'be', 'bf', 'cd', 'ce', 'cf']"
            ]
          },
          "metadata": {
            "tags": []
          },
          "execution_count": 17
        }
      ]
    },
    {
      "cell_type": "code",
      "metadata": {
        "id": "MTwl_XW1mAz-"
      },
      "source": [
        ""
      ],
      "execution_count": null,
      "outputs": []
    }
  ]
}
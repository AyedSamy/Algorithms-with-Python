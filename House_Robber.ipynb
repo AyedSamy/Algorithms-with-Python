{
  "nbformat": 4,
  "nbformat_minor": 0,
  "metadata": {
    "colab": {
      "name": "House Robber",
      "provenance": [],
      "collapsed_sections": []
    },
    "kernelspec": {
      "name": "python3",
      "display_name": "Python 3"
    },
    "language_info": {
      "name": "python"
    }
  },
  "cells": [
    {
      "cell_type": "code",
      "metadata": {
        "id": "kM8mCRPqsjqm"
      },
      "source": [
        "\"\"\"\n",
        "ou are a professional robber planning to rob houses along a street. Each house has a certain amount of money stashed, the only constraint stopping you from robbing each of them is that adjacent houses have security systems connected and it will automatically contact the police if two adjacent houses were broken into on the same night.\n",
        "\n",
        "Given an integer array nums representing the amount of money of each house, return the maximum amount of money you can rob tonight without alerting the police.\n",
        "\n",
        " \n",
        "\n",
        "Example 1:\n",
        "\n",
        "Input: nums = [1,2,3,1]\n",
        "Output: 4\n",
        "Explanation: Rob house 1 (money = 1) and then rob house 3 (money = 3).\n",
        "Total amount you can rob = 1 + 3 = 4.\n",
        "Example 2:\n",
        "\n",
        "Input: nums = [2,7,9,3,1]\n",
        "Output: 12\n",
        "Explanation: Rob house 1 (money = 2), rob house 3 (money = 9) and rob house 5 (money = 1).\n",
        "Total amount you can rob = 2 + 9 + 1 = 12.\n",
        " \n",
        "\n",
        "Constraints:\n",
        "\n",
        "1 <= nums.length <= 100\n",
        "0 <= nums[i] <= 400\n",
        "\"\"\""
      ],
      "execution_count": null,
      "outputs": []
    },
    {
      "cell_type": "code",
      "metadata": {
        "id": "tlhd6wDcFsTT"
      },
      "source": [
        "class Solution:\n",
        "    def rob(self, nums: List[int]) -> int:\n",
        "        if len(nums) == 0:\n",
        "            return 0\n",
        "        elif len(nums) == 1:\n",
        "            return nums[0]\n",
        "        else:\n",
        "            max_amount = [nums[0],max(nums[0],nums[1])]\n",
        "\n",
        "            for i, p in enumerate(nums[2:],2):\n",
        "                maxv = max(max_amount[i-1],p+max_amount[i-2])\n",
        "                max_amount.append(maxv)\n",
        "            return max_amount[-1]"
      ],
      "execution_count": null,
      "outputs": []
    },
    {
      "cell_type": "code",
      "metadata": {
        "id": "TFhSi7M8-0AB"
      },
      "source": [
        "class Solution:\n",
        "    def rob(self, nums: List[int]) -> int:\n",
        "        max_amount = [nums[0]]\n",
        "\n",
        "        for i, p in enumerate(nums):\n",
        "            if i == 1:\n",
        "                maxv = max(nums[i],nums[i-1])\n",
        "                max_amount.append(maxv)\n",
        "            elif i == 2:\n",
        "                maxv = max(nums[i-1],p+nums[i-2])\n",
        "                max_amount.append(maxv)\n",
        "            elif i > 2:\n",
        "                maxv = max(max_amount[i-1],p+max_amount[i-2],p+max_amount[i-3])\n",
        "                max_amount.append(maxv)\n",
        "        return max_amount[-1]"
      ],
      "execution_count": null,
      "outputs": []
    },
    {
      "cell_type": "code",
      "metadata": {
        "id": "0OksG7KfzgMA"
      },
      "source": [
        "houses = [1,2,3,1]\n",
        "\n",
        "max_amount = [houses[0]]\n",
        "\n",
        "for i, p in enumerate(houses):\n",
        "  if i == 1:\n",
        "    maxv = max(houses[i],houses[i-1])\n",
        "    max_amount.append(maxv)\n",
        "  elif i > 1:\n",
        "    maxv = max(max_amount[i-1],p+max_amount[i-2])\n",
        "    max_amount.append(maxv)\n",
        "\n"
      ],
      "execution_count": 26,
      "outputs": []
    },
    {
      "cell_type": "code",
      "metadata": {
        "colab": {
          "base_uri": "https://localhost:8080/"
        },
        "id": "lQjlv3BT5VKz",
        "outputId": "4a947b6d-6246-4a66-f8b1-aeab08e5bcad"
      },
      "source": [
        "max_amount"
      ],
      "execution_count": 27,
      "outputs": [
        {
          "output_type": "execute_result",
          "data": {
            "text/plain": [
              "[1, 2, 4, 4]"
            ]
          },
          "metadata": {
            "tags": []
          },
          "execution_count": 27
        }
      ]
    },
    {
      "cell_type": "code",
      "metadata": {
        "id": "0F6O0uAU5XLz"
      },
      "source": [
        ""
      ],
      "execution_count": null,
      "outputs": []
    }
  ]
}
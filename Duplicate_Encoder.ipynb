{
  "nbformat": 4,
  "nbformat_minor": 0,
  "metadata": {
    "colab": {
      "name": "Duplicate Encoder",
      "provenance": []
    },
    "kernelspec": {
      "name": "python3",
      "display_name": "Python 3"
    }
  },
  "cells": [
    {
      "cell_type": "code",
      "metadata": {
        "id": "qbvp5ChfFMGa"
      },
      "source": [
        "\"\"\"\r\n",
        "The goal of this exercise is to convert a string to a new string where each character in the new string is \"(\" if\r\n",
        "that character appears only once in the original string, or \")\" if that character appears more than once in the original string.\r\n",
        "Ignore capitalization when determining if a character is a duplicate.\r\n",
        "\"\"\""
      ],
      "execution_count": null,
      "outputs": []
    },
    {
      "cell_type": "code",
      "metadata": {
        "colab": {
          "base_uri": "https://localhost:8080/",
          "height": 35
        },
        "id": "tuudhh8nFUAy",
        "outputId": "1aac9412-930b-4052-acd3-d5ff46a6fc8d"
      },
      "source": [
        "string = 'Success'\r\n",
        "\r\n",
        "string_list = [c.lower() for c in string]\r\n",
        "\r\n",
        "def check_char(c):\r\n",
        "  if string_list.count(c) > 1:\r\n",
        "    return ')'\r\n",
        "  else:\r\n",
        "    return '('\r\n",
        "''.join([check_char(c) for c in string_list])\r\n",
        "\r\n",
        "#''.join(list(map(check_char, string))) > old way"
      ],
      "execution_count": 15,
      "outputs": [
        {
          "output_type": "execute_result",
          "data": {
            "application/vnd.google.colaboratory.intrinsic+json": {
              "type": "string"
            },
            "text/plain": [
              "'()()()'"
            ]
          },
          "metadata": {
            "tags": []
          },
          "execution_count": 15
        }
      ]
    }
  ]
}
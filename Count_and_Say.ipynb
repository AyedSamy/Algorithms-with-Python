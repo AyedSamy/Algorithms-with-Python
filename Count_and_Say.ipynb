{
  "nbformat": 4,
  "nbformat_minor": 0,
  "metadata": {
    "colab": {
      "name": "Count and Say",
      "provenance": [],
      "collapsed_sections": []
    },
    "kernelspec": {
      "name": "python3",
      "display_name": "Python 3"
    },
    "language_info": {
      "name": "python"
    }
  },
  "cells": [
    {
      "cell_type": "code",
      "metadata": {
        "id": "aGJo0TSTSxq-"
      },
      "source": [
        "\"\"\"\n",
        "38. Count and Say\n",
        "\n",
        "The count-and-say sequence is a sequence of digit strings defined by the recursive formula:\n",
        "\n",
        "countAndSay(1) = \"1\"\n",
        "countAndSay(n) is the way you would \"say\" the digit string from countAndSay(n-1), which is then converted into a different digit string.\n",
        "To determine how you \"say\" a digit string, split it into the minimal number of groups so that each group is a contiguous section all of the same character. Then for each group, say the number of characters, then say the character. To convert the saying into a digit string, replace the counts with a number and concatenate every saying.\n",
        "\n",
        "For example, the saying and conversion for digit string \"3322251\":\n",
        "\n",
        "\n",
        "Given a positive integer n, return the nth term of the count-and-say sequence.\n",
        "\n",
        " \n",
        "\n",
        "Example 1:\n",
        "\n",
        "Input: n = 1\n",
        "Output: \"1\"\n",
        "Explanation: This is the base case.\n",
        "Example 2:\n",
        "\n",
        "Input: n = 4\n",
        "Output: \"1211\"\n",
        "Explanation:\n",
        "countAndSay(1) = \"1\"\n",
        "countAndSay(2) = say \"1\" = one 1 = \"11\"\n",
        "countAndSay(3) = say \"11\" = two 1's = \"21\"\n",
        "countAndSay(4) = say \"21\" = one 2 + one 1 = \"12\" + \"11\" = \"1211\"\n",
        " \n",
        "\n",
        "Constraints:\n",
        "\n",
        "1 <= n <= 30\n",
        "\"\"\""
      ],
      "execution_count": null,
      "outputs": []
    },
    {
      "cell_type": "code",
      "metadata": {
        "id": "NGhdGnjMStY4"
      },
      "source": [
        "def say(n):\n",
        "    to_say = \"\"\n",
        "    current_d = n[0]\n",
        "    count = 1\n",
        "    for i, d in enumerate(n):\n",
        "        if i < len(n)-1:\n",
        "            if n[i+1] != current_d:\n",
        "                to_say += str(count) + n[i]\n",
        "                count = 1\n",
        "                current_d = n[i+1]\n",
        "            else:\n",
        "                count += 1\n",
        "        else:\n",
        "            to_say += str(count) + n[i]\n",
        "    return to_say\n",
        "\n",
        "class Solution:\n",
        "    def countAndSay(self, n: int) -> str:\n",
        "        to_say = \"1\"\n",
        "        for i in range(1,n):\n",
        "            to_say = say(to_say)\n",
        "        return to_say\n",
        "        "
      ],
      "execution_count": null,
      "outputs": []
    },
    {
      "cell_type": "code",
      "metadata": {
        "colab": {
          "base_uri": "https://localhost:8080/"
        },
        "id": "YZSi38dQF4M1",
        "outputId": "faa4e482-59e4-4257-dcc0-c817ccec13f7"
      },
      "source": [
        "def say(n):\n",
        "  to_say = \"\"\n",
        "  current_d = n[0]\n",
        "  count = 1\n",
        "  for i, d in enumerate(n):\n",
        "    if i < len(n)-1:\n",
        "      if n[i+1] != current_d:\n",
        "        print(str(count) + \" \" + n[i])\n",
        "        to_say += str(count) + n[i]\n",
        "        count = 1\n",
        "        current_d = n[i+1]\n",
        "      else:\n",
        "        count += 1\n",
        "    else:\n",
        "      to_say += str(count) + n[i]\n",
        "      print(str(count) + \" \" + n[i])\n",
        "  return to_say\n",
        "\n",
        "print(say(\"335\"))"
      ],
      "execution_count": null,
      "outputs": [
        {
          "output_type": "stream",
          "text": [
            "2 3\n",
            "1 5\n",
            "2315\n"
          ],
          "name": "stdout"
        }
      ]
    },
    {
      "cell_type": "code",
      "metadata": {
        "colab": {
          "base_uri": "https://localhost:8080/"
        },
        "id": "2NeNyC0hHI2j",
        "outputId": "72290d44-c879-48f3-db84-bd690562fb3c"
      },
      "source": [
        "n = 4\n",
        "to_say = \"1\"\n",
        "for i in range(1,n):\n",
        "  to_say = say(to_say)\n",
        "\n",
        "print(to_say)\n",
        "\n"
      ],
      "execution_count": null,
      "outputs": [
        {
          "output_type": "stream",
          "text": [
            "1 1\n",
            "2 1\n",
            "1 2\n",
            "1 1\n",
            "1211\n"
          ],
          "name": "stdout"
        }
      ]
    },
    {
      "cell_type": "code",
      "metadata": {
        "id": "W6nab3TaLHOL"
      },
      "source": [
        ""
      ],
      "execution_count": null,
      "outputs": []
    }
  ]
}
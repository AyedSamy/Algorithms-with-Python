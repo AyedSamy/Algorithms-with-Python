{
  "nbformat": 4,
  "nbformat_minor": 0,
  "metadata": {
    "colab": {
      "name": "Power of Two",
      "provenance": [],
      "collapsed_sections": []
    },
    "kernelspec": {
      "name": "python3",
      "display_name": "Python 3"
    },
    "language_info": {
      "name": "python"
    }
  },
  "cells": [
    {
      "cell_type": "code",
      "metadata": {
        "id": "IzCfpzZC6mzh"
      },
      "source": [
        "\"\"\"\n",
        "Given an integer n, return true if it is a power of two. Otherwise, return false.\n",
        "\n",
        "An integer n is a power of two, if there exists an integer x such that n == 2x.\n",
        "\n",
        "Example 1:\n",
        "\n",
        "Input: n = 1\n",
        "Output: true\n",
        "Explanation: 20 = 1\n",
        "Example 2:\n",
        "\n",
        "Input: n = 16\n",
        "Output: true\n",
        "Explanation: 24 = 16\n",
        "Example 3:\n",
        "\n",
        "Input: n = 3\n",
        "Output: false\n",
        "Example 4:\n",
        "\n",
        "Input: n = 4\n",
        "Output: true\n",
        "Example 5:\n",
        "\n",
        "Input: n = 5\n",
        "Output: false\n",
        " \n",
        "\n",
        "Constraints:\n",
        "\n",
        "-231 <= n <= 231 - 1\n",
        "\"\"\""
      ],
      "execution_count": null,
      "outputs": []
    },
    {
      "cell_type": "code",
      "metadata": {
        "id": "KytA11-57IoU"
      },
      "source": [
        "def check_power(n):\n",
        "  if n == 1:\n",
        "    return True\n",
        "  elif n < 1:\n",
        "    return False\n",
        "  else:\n",
        "    return check_power(n/2)"
      ],
      "execution_count": 5,
      "outputs": []
    },
    {
      "cell_type": "code",
      "metadata": {
        "colab": {
          "base_uri": "https://localhost:8080/"
        },
        "id": "aq8nEsjS7ah7",
        "outputId": "87d0023a-a6ae-4ed1-a02d-56293785da83"
      },
      "source": [
        "check_power(16)"
      ],
      "execution_count": 10,
      "outputs": [
        {
          "output_type": "execute_result",
          "data": {
            "text/plain": [
              "True"
            ]
          },
          "metadata": {},
          "execution_count": 10
        }
      ]
    },
    {
      "cell_type": "code",
      "metadata": {
        "id": "lfgGSgaZ7jP5"
      },
      "source": [
        ""
      ],
      "execution_count": null,
      "outputs": []
    }
  ]
}
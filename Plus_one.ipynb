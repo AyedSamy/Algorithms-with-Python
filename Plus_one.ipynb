{
  "nbformat": 4,
  "nbformat_minor": 0,
  "metadata": {
    "colab": {
      "name": "Plus one",
      "provenance": []
    },
    "kernelspec": {
      "name": "python3",
      "display_name": "Python 3"
    },
    "language_info": {
      "name": "python"
    }
  },
  "cells": [
    {
      "cell_type": "code",
      "metadata": {
        "id": "7XFwx_VBEtUO"
      },
      "source": [
        "\"\"\"\n",
        "Given a non-empty array of decimal digits representing a non-negative integer, increment one to the integer.\n",
        "\n",
        "The digits are stored such that the most significant digit is at the head of the list, and each element in the array contains a single digit.\n",
        "\n",
        "You may assume the integer does not contain any leading zero, except the number 0 itself.\n",
        "\"\"\""
      ],
      "execution_count": null,
      "outputs": []
    },
    {
      "cell_type": "code",
      "metadata": {
        "id": "vOnfOmASESuI"
      },
      "source": [
        "digits = [9,9]"
      ],
      "execution_count": null,
      "outputs": []
    },
    {
      "cell_type": "code",
      "metadata": {
        "id": "bW8sNVY5EliV"
      },
      "source": [
        "if digits[-1] <= 8:\n",
        "  digits[-1] += 1\n",
        "else:\n",
        "  array_len = len(digits)\n",
        "  n_nine = 0\n",
        "  i = len(digits) - 1\n",
        "  while i >= 0:\n",
        "    if digits[i] == 9:\n",
        "      n_nine += 1\n",
        "    else:\n",
        "      break\n",
        "    i -= 1\n",
        "  if n_nine == len(digits):\n",
        "    digits.insert(0,1)\n",
        "    i = 1\n",
        "    while i < len(digits):\n",
        "      digits[i] = 0\n",
        "      i += 1\n",
        "  else:\n",
        "    i = array_len - n_nine - 1\n",
        "    digits[i] += 1\n",
        "    i = i + 1\n",
        "    while i < len(digits):\n",
        "      digits[i] = 0\n",
        "      i += 1\n",
        "\n",
        "\n",
        "    \n"
      ],
      "execution_count": null,
      "outputs": []
    },
    {
      "cell_type": "code",
      "metadata": {
        "colab": {
          "base_uri": "https://localhost:8080/"
        },
        "id": "JMgR2IzVHDAh",
        "outputId": "bba0a8a5-a52a-438e-e93e-78b7f4142a4b"
      },
      "source": [
        "digits"
      ],
      "execution_count": null,
      "outputs": [
        {
          "output_type": "execute_result",
          "data": {
            "text/plain": [
              "[1, 0, 0]"
            ]
          },
          "metadata": {
            "tags": []
          },
          "execution_count": 55
        }
      ]
    },
    {
      "cell_type": "code",
      "metadata": {
        "id": "IfTxVEaFHED3"
      },
      "source": [
        ""
      ],
      "execution_count": null,
      "outputs": []
    }
  ]
}
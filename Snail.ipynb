{
  "nbformat": 4,
  "nbformat_minor": 0,
  "metadata": {
    "colab": {
      "name": "Snail",
      "provenance": []
    },
    "kernelspec": {
      "name": "python3",
      "display_name": "Python 3"
    },
    "language_info": {
      "name": "python"
    }
  },
  "cells": [
    {
      "cell_type": "code",
      "metadata": {
        "id": "rHlAqPA51Tsw"
      },
      "source": [
        "\"\"\"\n",
        "Snail Sort\n",
        "Given an n x n array, return the array elements arranged from outermost elements to the middle element, traveling clockwise.\n",
        "\n",
        "array = [[1,2,3],\n",
        "         [4,5,6],\n",
        "         [7,8,9]]\n",
        "snail(array) #=> [1,2,3,6,9,8,7,4,5]\n",
        "For better understanding, please follow the numbers of the next array consecutively:\n",
        "\n",
        "array = [[1,2,3],\n",
        "         [8,9,4],\n",
        "         [7,6,5]]\n",
        "snail(array) #=> [1,2,3,4,5,6,7,8,9]\n",
        "\n",
        "NOTE: The idea is not sort the elements from the lowest value to the highest; the idea is to traverse the 2-d array in a clockwise snailshell pattern.\n",
        "\n",
        "NOTE 2: The 0x0 (empty matrix) is represented as en empty array inside an array [[]].\n",
        "\"\"\""
      ],
      "execution_count": null,
      "outputs": []
    },
    {
      "cell_type": "code",
      "metadata": {
        "id": "LtyEfNnDc193"
      },
      "source": [
        "\"\"\"\n",
        "0,0 0,1 0,2 0,3\n",
        "1,3 2,3 3,3\n",
        "3,2 3,1 3,0\n",
        "2,0 1,0\n",
        "1,1 1,2\n",
        "2,2\n",
        "\"\"\""
      ],
      "execution_count": null,
      "outputs": []
    },
    {
      "cell_type": "code",
      "metadata": {
        "id": "4VIo_4Giu5Yo"
      },
      "source": [
        "\"\"\"\n",
        "0 1 2 3\n",
        "4 5 6 7\n",
        "8 9 10 11\n",
        "12 13 14 15\n",
        "\"\"\""
      ],
      "execution_count": null,
      "outputs": []
    },
    {
      "cell_type": "code",
      "metadata": {
        "id": "DTJ6s4qpwBQE"
      },
      "source": [
        "def snail(snail_map):\n",
        "  if snail_map == [[]]:\n",
        "    return []\n",
        "  visited = [[0] * len(row) for row in snail_map]\n",
        "  result = []\n",
        "  i = 0\n",
        "  j = 0\n",
        "\n",
        "  visited[i][j] = 1\n",
        "  result.append(snail_map[i][j])\n",
        "\n",
        "  while len(result) != len(snail_map[i])**2:\n",
        "    while j < len(visited[i]) - 1 and visited[i][j+1] == 0:\n",
        "      j += 1\n",
        "      visited[i][j] = 1\n",
        "      result.append(snail_map[i][j])\n",
        "    while i < len(visited[i]) - 1 and visited[i+1][j] == 0:\n",
        "      i += 1\n",
        "      visited[i][j] = 1\n",
        "      result.append(snail_map[i][j])\n",
        "    while j > 0 and visited[i][j-1] == 0:\n",
        "      j -= 1\n",
        "      visited[i][j] = 1\n",
        "      result.append(snail_map[i][j])\n",
        "    while i > 0 and visited[i-1][j] == 0:\n",
        "      i -= 1\n",
        "      visited[i][j] = 1\n",
        "      result.append(snail_map[i][j])\n",
        "\n",
        "  return result"
      ],
      "execution_count": 51,
      "outputs": []
    },
    {
      "cell_type": "code",
      "metadata": {
        "colab": {
          "base_uri": "https://localhost:8080/"
        },
        "id": "KLX2J0V50Re3",
        "outputId": "0d572800-5a48-42fa-a05f-c497c8157d75"
      },
      "source": [
        "array1 = [[1,2,3],\n",
        "         [8,9,4],\n",
        "         [7,6,5]]\n",
        "\n",
        "array2 = [[1,2,3],\n",
        "         [4,5,6],\n",
        "         [7,8,9]]\n",
        "\n",
        "print(snail(array1))\n",
        "print(snail(array2))"
      ],
      "execution_count": 52,
      "outputs": [
        {
          "output_type": "stream",
          "text": [
            "[1, 2, 3, 4, 5, 6, 7, 8, 9]\n",
            "[1, 2, 3, 6, 9, 8, 7, 4, 5]\n"
          ],
          "name": "stdout"
        }
      ]
    },
    {
      "cell_type": "code",
      "metadata": {
        "id": "RGRNYabd0Wvz"
      },
      "source": [
        ""
      ],
      "execution_count": null,
      "outputs": []
    }
  ]
}
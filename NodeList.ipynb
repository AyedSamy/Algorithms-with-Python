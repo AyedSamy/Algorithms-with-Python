{
  "nbformat": 4,
  "nbformat_minor": 0,
  "metadata": {
    "colab": {
      "name": "NodeList",
      "provenance": [],
      "collapsed_sections": []
    },
    "kernelspec": {
      "name": "python3",
      "display_name": "Python 3"
    },
    "language_info": {
      "name": "python"
    }
  },
  "cells": [
    {
      "cell_type": "code",
      "metadata": {
        "id": "ytEqT_zlq2Jr"
      },
      "source": [
        "\"\"\"\n",
        "2. Add Two Numbers\n",
        "\n",
        "You are given two non-empty linked lists representing two non-negative integers. The digits are stored in reverse order, and each of their nodes contains a single digit. Add the two numbers and return the sum as a linked list.\n",
        "\n",
        "You may assume the two numbers do not contain any leading zero, except the number 0 itself.\n",
        "\n",
        "\n",
        "Example 1:\n",
        "\n",
        "Input: l1 = [2,4,3], l2 = [5,6,4]\n",
        "Output: [7,0,8]\n",
        "Explanation: 342 + 465 = 807.\n",
        "Example 2:\n",
        "\n",
        "Input: l1 = [0], l2 = [0]\n",
        "Output: [0]\n",
        "Example 3:\n",
        "\n",
        "Input: l1 = [9,9,9,9,9,9,9], l2 = [9,9,9,9]\n",
        "Output: [8,9,9,9,0,0,0,1]\n",
        " \n",
        "#Constraints:\n",
        "\n",
        "The number of nodes in each linked list is in the range [1, 100].\n",
        "0 <= Node.val <= 9\n",
        "It is guaranteed that the list represents a number that does not have leading zeros.\n",
        "\"\"\""
      ],
      "execution_count": null,
      "outputs": []
    },
    {
      "cell_type": "code",
      "metadata": {
        "id": "UxzZF4aAltUa"
      },
      "source": [
        "# Definition for singly-linked list.\n",
        "class ListNode:\n",
        "  def __init__(self, val=0, next=None):\n",
        "    self.val = val\n",
        "    self.next = next\n",
        "\n",
        "class Solution:\n",
        "  def addTwoNumbers(self, l1: ListNode, l2: ListNode) -> ListNode:\n",
        "    pass"
      ],
      "execution_count": null,
      "outputs": []
    },
    {
      "cell_type": "code",
      "metadata": {
        "id": "YKnFE6Akmg98"
      },
      "source": [
        "head = ListNode(9)\n",
        "n2 = ListNode(8, head)\n",
        "n3 = ListNode(0, n2)\n",
        "\n",
        "headb = ListNode(2)\n",
        "n2b = ListNode(0, headb)"
      ],
      "execution_count": null,
      "outputs": []
    },
    {
      "cell_type": "code",
      "metadata": {
        "colab": {
          "base_uri": "https://localhost:8080/"
        },
        "id": "qMdOWncymo7B",
        "outputId": "3cbd5ddb-ee88-409c-b994-c1704fdc301c"
      },
      "source": [
        "num1 = \"\"\n",
        "num2 = \"\"\n",
        "result = None\n",
        "\n",
        "currentNode = n3\n",
        "\n",
        "while (currentNode != None):\n",
        "  num1 += str(currentNode.val)\n",
        "  currentNode = currentNode.next\n",
        "\n",
        "num1 = int(''.join(list(reversed(num1))))\n",
        "num1\n",
        "\n",
        "currentNode = n2b\n",
        "\n",
        "while (currentNode != None):\n",
        "  num2 += str(currentNode.val)\n",
        "  currentNode = currentNode.next\n",
        "\n",
        "num2 = int(''.join(list(reversed(num2))))\n",
        "num2\n",
        "\n",
        "result = num1 + num2\n",
        "\n",
        "result = [d for d in list(reversed(str(result)))]\n",
        "\n",
        "result"
      ],
      "execution_count": null,
      "outputs": [
        {
          "output_type": "execute_result",
          "data": {
            "text/plain": [
              "['0', '0', '0', '1']"
            ]
          },
          "metadata": {
            "tags": []
          },
          "execution_count": 5
        }
      ]
    },
    {
      "cell_type": "code",
      "metadata": {
        "colab": {
          "base_uri": "https://localhost:8080/",
          "height": 35
        },
        "id": "bRLcTgFFJp0O",
        "outputId": "54b00f34-2cb0-49ab-9704-3b04d04a0e7a"
      },
      "source": [
        "def attach_nodes(input_ls):\n",
        "  if len(input_ls) == 1:\n",
        "    return ListNode(input_ls[0],None)\n",
        "  val = input_ls[0]\n",
        "  reduced_ls = input_ls[1:]\n",
        "  return ListNode(val, attach_nodes(reduced_ls))\n",
        "\n",
        "attach_nodes(result).next.next.next.val"
      ],
      "execution_count": null,
      "outputs": [
        {
          "output_type": "execute_result",
          "data": {
            "application/vnd.google.colaboratory.intrinsic+json": {
              "type": "string"
            },
            "text/plain": [
              "'1'"
            ]
          },
          "metadata": {
            "tags": []
          },
          "execution_count": 13
        }
      ]
    },
    {
      "cell_type": "code",
      "metadata": {
        "id": "ZS85asxG570X"
      },
      "source": [
        ""
      ],
      "execution_count": null,
      "outputs": []
    }
  ]
}
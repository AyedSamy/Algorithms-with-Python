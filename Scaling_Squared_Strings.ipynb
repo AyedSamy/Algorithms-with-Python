{
  "nbformat": 4,
  "nbformat_minor": 0,
  "metadata": {
    "colab": {
      "name": "Scaling Squared Strings",
      "provenance": []
    },
    "kernelspec": {
      "name": "python3",
      "display_name": "Python 3"
    },
    "language_info": {
      "name": "python"
    }
  },
  "cells": [
    {
      "cell_type": "code",
      "metadata": {
        "id": "cvTpYyGbPxR3"
      },
      "source": [
        "\"\"\"\n",
        "You are given a string of n lines, each substring being n characters long. For example:\n",
        "\n",
        "s = \"abcd\\nefgh\\nijkl\\nmnop\"\n",
        "\n",
        "We will study the \"horizontal\" and the \"vertical\" scaling of this square of strings.\n",
        "\n",
        "A k-horizontal scaling of a string consists of replicating k times each character of the string (except '\\n').\n",
        "\n",
        "Example: 2-horizontal scaling of s: => \"aabbccdd\\neeffgghh\\niijjkkll\\nmmnnoopp\"\n",
        "A v-vertical scaling of a string consists of replicating v times each part of the squared string.\n",
        "\n",
        "Example: 2-vertical scaling of s: => \"abcd\\nabcd\\nefgh\\nefgh\\nijkl\\nijkl\\nmnop\\nmnop\"\n",
        "Function scale(strng, k, v) will perform a k-horizontal scaling and a v-vertical scaling.\n",
        "\n",
        "Example: a = \"abcd\\nefgh\\nijkl\\nmnop\"\n",
        "scale(a, 2, 3) --> \"aabbccdd\\naabbccdd\\naabbccdd\\neeffgghh\\neeffgghh\\neeffgghh\\niijjkkll\\niijjkkll\\niijjkkll\\nmmnnoopp\\nmmnnoopp\\nmmnnoopp\"\n",
        "Printed:\n",
        "\n",
        "abcd   ----->   aabbccdd\n",
        "efgh            aabbccdd\n",
        "ijkl            aabbccdd\n",
        "mnop            eeffgghh\n",
        "                eeffgghh\n",
        "                eeffgghh\n",
        "                iijjkkll\n",
        "                iijjkkll\n",
        "                iijjkkll\n",
        "                mmnnoopp\n",
        "                mmnnoopp\n",
        "                mmnnoopp\n",
        "Task:\n",
        "Write function scale(strng, k, v) k and v will be positive integers. If strng == \"\" return \"\".\n",
        "\"\"\""
      ],
      "execution_count": null,
      "outputs": []
    },
    {
      "cell_type": "code",
      "metadata": {
        "colab": {
          "base_uri": "https://localhost:8080/",
          "height": 35
        },
        "id": "NRemsEU3xobM",
        "outputId": "7dd4b873-cfd2-4f84-9e1f-1bae25535048"
      },
      "source": [
        "s = \"abcd\\nefgh\\nijkl\\nmnop\"\n",
        "k = 3\n",
        "v = 2\n",
        "h_result = \"\"\n",
        "s = s.split('\\n')\n",
        "for i, e in enumerate(s):\n",
        "  for l in e:\n",
        "    h_result += l * k\n",
        "  if i < len(s)-1:\n",
        "    h_result += '\\n'\n",
        "hv_result = \"\"\n",
        "for i, e in enumerate(h_result.split('\\n')):\n",
        "  hv_result += e * v\n",
        "  if i < len(s)-1:\n",
        "    hv_result +='\\n'\n",
        "\n",
        "hv_result\n",
        "  "
      ],
      "execution_count": 30,
      "outputs": [
        {
          "output_type": "execute_result",
          "data": {
            "application/vnd.google.colaboratory.intrinsic+json": {
              "type": "string"
            },
            "text/plain": [
              "'aaabbbcccdddaaabbbcccddd\\neeefffggghhheeefffggghhh\\niiijjjkkkllliiijjjkkklll\\nmmmnnnooopppmmmnnnoooppp'"
            ]
          },
          "metadata": {
            "tags": []
          },
          "execution_count": 30
        }
      ]
    },
    {
      "cell_type": "code",
      "metadata": {
        "id": "5v4Ib4d2FiEY"
      },
      "source": [
        ""
      ],
      "execution_count": 21,
      "outputs": []
    },
    {
      "cell_type": "code",
      "metadata": {
        "id": "vwqp4dcLG0cW"
      },
      "source": [
        ""
      ],
      "execution_count": null,
      "outputs": []
    }
  ]
}
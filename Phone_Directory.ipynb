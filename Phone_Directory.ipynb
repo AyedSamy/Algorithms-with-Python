{
  "nbformat": 4,
  "nbformat_minor": 0,
  "metadata": {
    "colab": {
      "name": "Phone Directory",
      "provenance": [],
      "collapsed_sections": []
    },
    "kernelspec": {
      "name": "python3",
      "display_name": "Python 3"
    },
    "language_info": {
      "name": "python"
    }
  },
  "cells": [
    {
      "cell_type": "code",
      "metadata": {
        "id": "j-C91sMWZ1te"
      },
      "source": [
        "\"\"\"\n",
        "John keeps a backup of his old personal phone book as a text file. On each line of the file he can find the phone number (formated as +X-abc-def-ghij where X stands for one or two digits), the corresponding name between < and > and the address.\n",
        "\n",
        "Unfortunately everything is mixed, things are not always in the same order; parts of lines are cluttered with non-alpha-numeric characters (except inside phone number and name).\n",
        "\n",
        "Examples of John's phone book lines:\n",
        "\n",
        "\"/+1-541-754-3010 156 Alphand_St. <J Steeve>\\n\"\n",
        "\n",
        "\" 133, Green, Rd. <E Kustur> NY-56423 ;+1-541-914-3010!\\n\"\n",
        "\n",
        "\"<Anastasia> +48-421-674-8974 Via Quirinal Roma\\n\"\n",
        "\n",
        "Could you help John with a program that, given the lines of his phone book and a phone number num returns a string for this number : \"Phone => num, Name => name, Address => adress\"\n",
        "\n",
        "Examples:\n",
        "s = \"/+1-541-754-3010 156 Alphand_St. <J Steeve>\\n 133, Green, Rd. <E Kustur> NY-56423 ;+1-541-914-3010!\\n\"\n",
        "\n",
        "phone(s, \"1-541-754-3010\") should return \"Phone => 1-541-754-3010, Name => J Steeve, Address => 156 Alphand St.\"\n",
        "It can happen that there are many people for a phone number num, then return : \"Error => Too many people: num\"\n",
        "\n",
        "or it can happen that the number num is not in the phone book, in that case return: \"Error => Not found: num\"\n",
        "\n",
        "Notes\n",
        "Codewars stdout doesn't print part of a string when between < and >\n",
        "\n",
        "You can see other examples in the test cases.\n",
        "\n",
        "JavaScript random tests completed by @matt c.\n",
        "\"\"\""
      ],
      "execution_count": null,
      "outputs": []
    },
    {
      "cell_type": "code",
      "metadata": {
        "id": "DlD20i7NQuHE"
      },
      "source": [
        "import regex"
      ],
      "execution_count": 4,
      "outputs": []
    },
    {
      "cell_type": "code",
      "metadata": {
        "colab": {
          "base_uri": "https://localhost:8080/"
        },
        "id": "xcOGONmKQxbT",
        "outputId": "66ab7569-d0b4-497a-96da-5069ad1babe4"
      },
      "source": [
        "text = \"\"\"<C Powel> *+19-421-674-8974 Chateau des Fosses Strasbourg F-68000\\n <Bernard Deltheil> +1-498-512-2222; Mount Av.  Eldorado\\n\n",
        "+1-099-500-8000 <Peter Crush> Labrador Bd.\\n +1-931-512-4855 <William Saurin> Bison Street CQ-23071\\n\"\"\"\n",
        "split_text = text.split(\"\\n\")\n",
        "pattern = regex.compile(r\"<.+>\")\n",
        "pattern2 = regex.compile(r\"\\+\\d+-\\d{3}-\\d{3}-\\d{4}\")\n",
        "\n",
        "data = []\n",
        "\n",
        "for s in split_text:\n",
        "  name = pattern.findall(s)\n",
        "  num = pattern2.findall(s)\n",
        "  if len(name) == 1 and len(num) == 1:\n",
        "    address = s.replace(name[0],'').replace(num[0],'')\n",
        "    data.append([name[0],num[0],address])\n",
        "\n",
        "data"
      ],
      "execution_count": 31,
      "outputs": [
        {
          "output_type": "execute_result",
          "data": {
            "text/plain": [
              "[['<C Powel>', '+19-421-674-8974', ' * Chateau des Fosses Strasbourg F-68000'],\n",
              " ['<Bernard Deltheil>', '+1-498-512-2222', '  ; Mount Av.  Eldorado'],\n",
              " ['<Peter Crush>', '+1-099-500-8000', '  Labrador Bd.'],\n",
              " ['<William Saurin>', '+1-931-512-4855', '   Bison Street CQ-23071']]"
            ]
          },
          "metadata": {
            "tags": []
          },
          "execution_count": 31
        }
      ]
    },
    {
      "cell_type": "code",
      "metadata": {
        "colab": {
          "base_uri": "https://localhost:8080/"
        },
        "id": "dMG4T5OsQB8e",
        "outputId": "39a1a39c-321d-45be-909f-f9ad965fbd2a"
      },
      "source": [
        "print(\"/+1-541-754-3010 156 Alphand_St. <J Steeve>\\n 133, Green, Rd. <E Kustur> NY-56423 ;+1-541-914-3010;\\n\")"
      ],
      "execution_count": 3,
      "outputs": [
        {
          "output_type": "stream",
          "text": [
            "<Anastasia> +48-421-674-8974 Via Quirinal Roma\n",
            " <P Salinger> Main Street, +1-098-512-2222, Denver\n",
            "\n"
          ],
          "name": "stdout"
        }
      ]
    },
    {
      "cell_type": "code",
      "metadata": {
        "id": "iwN5biAWQC-n"
      },
      "source": [
        ""
      ],
      "execution_count": null,
      "outputs": []
    }
  ]
}
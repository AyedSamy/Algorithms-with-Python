{
  "nbformat": 4,
  "nbformat_minor": 0,
  "metadata": {
    "colab": {
      "name": "Set Matrix Zeroes",
      "provenance": [],
      "collapsed_sections": []
    },
    "kernelspec": {
      "name": "python3",
      "display_name": "Python 3"
    },
    "language_info": {
      "name": "python"
    }
  },
  "cells": [
    {
      "cell_type": "code",
      "metadata": {
        "id": "NtXwBSKfx-bb"
      },
      "source": [
        "\"\"\"\n",
        "Given an m x n integer matrix matrix, if an element is 0, set its entire row and column to 0's, and return the matrix.\n",
        "\"\"\""
      ],
      "execution_count": null,
      "outputs": []
    },
    {
      "cell_type": "code",
      "metadata": {
        "id": "qa7rBCDb4Hl_"
      },
      "source": [
        "matrix = [[0,1,2,0],[3,4,5,2],[1,3,1,5]]\n",
        "result = [row[:] for row in matrix]\n",
        "\n",
        "rows = [n for n in range(len(matrix))]\n",
        "columns = [n for n in range(len(matrix[0]))]"
      ],
      "execution_count": 2,
      "outputs": []
    },
    {
      "cell_type": "code",
      "metadata": {
        "id": "x-KLc5WY4NWd"
      },
      "source": [
        "def add_zeros(i,j,result, rows, columns):\n",
        "  if i in rows:\n",
        "    result[i] = [0 for n in range(len(result[i]))]\n",
        "    del rows[rows.index(i)]\n",
        "  if j in columns:\n",
        "    for n in [r for r in range(len(result)) if r != i]:\n",
        "      result[n][j] = 0\n",
        "    del columns[columns.index(j)]\n",
        "  return result"
      ],
      "execution_count": 3,
      "outputs": []
    },
    {
      "cell_type": "code",
      "metadata": {
        "colab": {
          "base_uri": "https://localhost:8080/"
        },
        "id": "YSVi9xdgJhaB",
        "outputId": "2101743a-2c26-46a1-fc46-777e2ef38011"
      },
      "source": [
        "for i in rows:\n",
        "  for j in columns:\n",
        "    print(rows,columns)\n",
        "    if matrix[i][j] == 0:\n",
        "      result = add_zeros(i,j,result, rows, columns)\n",
        "  "
      ],
      "execution_count": 4,
      "outputs": [
        {
          "output_type": "stream",
          "text": [
            "[0, 1, 2] [0, 1, 2, 3]\n",
            "[1, 2] [1, 2, 3]\n",
            "[1, 2] [1, 2, 3]\n",
            "[1, 2] [1, 2]\n",
            "[1, 2] [1, 2]\n"
          ],
          "name": "stdout"
        }
      ]
    },
    {
      "cell_type": "code",
      "metadata": {
        "colab": {
          "base_uri": "https://localhost:8080/"
        },
        "id": "pUEY4c-VQtdm",
        "outputId": "90fdca56-9993-4db5-e30a-72690ea76648"
      },
      "source": [
        "result"
      ],
      "execution_count": 5,
      "outputs": [
        {
          "output_type": "execute_result",
          "data": {
            "text/plain": [
              "[[0, 0, 0, 0], [0, 4, 5, 0], [0, 3, 1, 0]]"
            ]
          },
          "metadata": {
            "tags": []
          },
          "execution_count": 5
        }
      ]
    },
    {
      "cell_type": "code",
      "metadata": {
        "id": "0lhctlmtQedh"
      },
      "source": [
        ""
      ],
      "execution_count": null,
      "outputs": []
    }
  ]
}
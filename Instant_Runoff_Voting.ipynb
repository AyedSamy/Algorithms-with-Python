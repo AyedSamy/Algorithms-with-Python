{
  "nbformat": 4,
  "nbformat_minor": 0,
  "metadata": {
    "colab": {
      "name": "Instant Runoff Voting",
      "provenance": [],
      "collapsed_sections": []
    },
    "kernelspec": {
      "name": "python3",
      "display_name": "Python 3"
    },
    "language_info": {
      "name": "python"
    }
  },
  "cells": [
    {
      "cell_type": "code",
      "metadata": {
        "id": "0V6VSWjnMiDc"
      },
      "source": [
        "\"\"\"\n",
        "Your task is to implement a function that calculates an election winner from a list of voter selections using an Instant Runoff Voting algorithm. If you haven't heard of IRV, here's a basic overview (slightly altered for this kata):\n",
        "\n",
        "Each voter selects several candidates in order of preference.\n",
        "The votes are tallied from the each voter's first choice.\n",
        "If the first-place candidate has more than half the total votes, they win.\n",
        "Otherwise, find the candidate who got the least votes and remove them from each person's voting list.\n",
        "In case of a tie for least, remove all of the tying candidates.\n",
        "In case of a complete tie between every candidate, return nil(Ruby)/None(Python)/undefined(JS).\n",
        "Start over.\n",
        "Continue until somebody has more than half the votes; they are the winner.\n",
        "Your function will be given a list of voter ballots; each ballot will be a list of candidates (symbols) in descending order of preference. You should return the symbol corresponding to the winning candidate. See the default test for an example!\n",
        "\"\"\""
      ],
      "execution_count": null,
      "outputs": []
    },
    {
      "cell_type": "code",
      "metadata": {
        "id": "ciWHnjuUfaXW"
      },
      "source": [
        "def runoff(voters):\n",
        "    stop = False\n",
        "\n",
        "    while stop == False:\n",
        "        vote_dict = {}\n",
        "        \n",
        "        # initialize dictionary\n",
        "\n",
        "        for party in voters[0]:\n",
        "            for i in range(1,len(voters[0])+1):\n",
        "                vote_dict[party + \"_\" + str(i)] = 0\n",
        "\n",
        "        # create a dictionary containing the summary of rankings established by each voter for each party\n",
        "\n",
        "        for vote in voters:\n",
        "            for i, party in enumerate(vote,1):\n",
        "                vote_dict[party + \"_\" + str(i)] += 1\n",
        "\n",
        "\n",
        "      # check what's the minimum number of votes received for the first position\n",
        "\n",
        "        first_place_min_count = 10000\n",
        "        for k in vote_dict.keys():\n",
        "            if k[-2:] == \"_\"+ str(1):\n",
        "                if vote_dict[k] <= first_place_min_count:\n",
        "                    first_place_min_count = vote_dict[k]\n",
        "\n",
        "      # remove parties that have the least first place votes\n",
        "\n",
        "        party_to_remove = []\n",
        "        for k in vote_dict.keys():\n",
        "            if k[-2:] == \"_\"+ str(1) and vote_dict[k] == first_place_min_count :\n",
        "                party_to_remove.append(k[:-2])\n",
        "\n",
        "\n",
        "        voters = [[p for p in v if p not in party_to_remove] for v in voters]\n",
        "\n",
        "        if len(voters[0]) <= 1:\n",
        "            stop = True\n",
        "    \n",
        "    if len(voters[0]) == 0:\n",
        "        return None\n",
        "    else:\n",
        "        return voters[0][0]"
      ],
      "execution_count": null,
      "outputs": []
    },
    {
      "cell_type": "code",
      "metadata": {
        "id": "YlIsZjeruiBo"
      },
      "source": [
        ""
      ],
      "execution_count": null,
      "outputs": []
    },
    {
      "cell_type": "code",
      "metadata": {
        "colab": {
          "base_uri": "https://localhost:8080/"
        },
        "id": "HpP3ZPzXJoEY",
        "outputId": "d234941b-2148-443f-daaf-e41bc4c5e8f8"
      },
      "source": [
        "voters = [['Brian J. Mason', 'Daisuke Aramaki', 'Abelt Dessler', 'Lex Luthor', 'Johan Liebert', 'Reinhard von Musel'],\n",
        " ['Lex Luthor', 'Brian J. Mason', 'Reinhard von Musel', 'Daisuke Aramaki', 'Abelt Dessler', 'Johan Liebert'],\n",
        " ['Abelt Dessler', 'Daisuke Aramaki', 'Johan Liebert', 'Reinhard von Musel', 'Lex Luthor', 'Brian J. Mason'],\n",
        " ['Abelt Dessler', 'Brian J. Mason', 'Daisuke Aramaki', 'Johan Liebert', 'Lex Luthor', 'Reinhard von Musel']]\n",
        "\n",
        "stop = False\n",
        "\n",
        "while stop == False:\n",
        "  vote_dict = {}\n",
        "\n",
        "  # initialize dictionary\n",
        "\n",
        "  for party in voters[0]:\n",
        "    for i in range(1,len(voters[0])+1):\n",
        "      vote_dict[party + \"_\" + str(i)] = 0\n",
        "\n",
        "  # create a dictionary containing the summary of rankings established by each voter for each party\n",
        "\n",
        "  for vote in voters:\n",
        "    for i, party in enumerate(vote,1):\n",
        "      vote_dict[party + \"_\" + str(i)] += 1\n",
        "\n",
        "  print(vote_dict)\n",
        "\n",
        "  # check what's the minimum number of votes received for the first position\n",
        "\n",
        "  first_place_min_count = 10000\n",
        "  for k in vote_dict.keys():\n",
        "    if k[-2:] == \"_\"+ str(1):\n",
        "      if vote_dict[k] <= first_place_min_count:\n",
        "        first_place_min_count = vote_dict[k]\n",
        "\n",
        "  print(first_place_min_count)\n",
        "\n",
        "  # remove parties that have the least first place votes\n",
        "\n",
        "  party_to_remove = []\n",
        "  for k in vote_dict.keys():\n",
        "    if k[-2:] == \"_\"+ str(1) and vote_dict[k] == first_place_min_count :\n",
        "      party_to_remove.append(k[:-2])\n",
        "\n",
        "  print(party_to_remove)\n",
        "\n",
        "  #voters_init = voters\n",
        "  voters = [[p for p in v if p not in party_to_remove] for v in voters]\n",
        "\n",
        "  if len(voters[0]) <= 1:\n",
        "    stop = True\n",
        "\n",
        "  print(voters)\n",
        "\n"
      ],
      "execution_count": 63,
      "outputs": [
        {
          "output_type": "stream",
          "text": [
            "{'Brian J. Mason_1': 1, 'Brian J. Mason_2': 2, 'Brian J. Mason_3': 0, 'Brian J. Mason_4': 0, 'Brian J. Mason_5': 0, 'Brian J. Mason_6': 1, 'Daisuke Aramaki_1': 0, 'Daisuke Aramaki_2': 2, 'Daisuke Aramaki_3': 1, 'Daisuke Aramaki_4': 1, 'Daisuke Aramaki_5': 0, 'Daisuke Aramaki_6': 0, 'Abelt Dessler_1': 2, 'Abelt Dessler_2': 0, 'Abelt Dessler_3': 1, 'Abelt Dessler_4': 0, 'Abelt Dessler_5': 1, 'Abelt Dessler_6': 0, 'Lex Luthor_1': 1, 'Lex Luthor_2': 0, 'Lex Luthor_3': 0, 'Lex Luthor_4': 1, 'Lex Luthor_5': 2, 'Lex Luthor_6': 0, 'Johan Liebert_1': 0, 'Johan Liebert_2': 0, 'Johan Liebert_3': 1, 'Johan Liebert_4': 1, 'Johan Liebert_5': 1, 'Johan Liebert_6': 1, 'Reinhard von Musel_1': 0, 'Reinhard von Musel_2': 0, 'Reinhard von Musel_3': 1, 'Reinhard von Musel_4': 1, 'Reinhard von Musel_5': 0, 'Reinhard von Musel_6': 2}\n",
            "0\n",
            "['Daisuke Aramaki', 'Johan Liebert', 'Reinhard von Musel']\n",
            "[['Brian J. Mason', 'Abelt Dessler', 'Lex Luthor'], ['Lex Luthor', 'Brian J. Mason', 'Abelt Dessler'], ['Abelt Dessler', 'Lex Luthor', 'Brian J. Mason'], ['Abelt Dessler', 'Brian J. Mason', 'Lex Luthor']]\n",
            "{'Brian J. Mason_1': 1, 'Brian J. Mason_2': 2, 'Brian J. Mason_3': 1, 'Abelt Dessler_1': 2, 'Abelt Dessler_2': 1, 'Abelt Dessler_3': 1, 'Lex Luthor_1': 1, 'Lex Luthor_2': 1, 'Lex Luthor_3': 2}\n",
            "1\n",
            "['Brian J. Mason', 'Lex Luthor']\n",
            "[['Abelt Dessler'], ['Abelt Dessler'], ['Abelt Dessler'], ['Abelt Dessler']]\n"
          ],
          "name": "stdout"
        }
      ]
    },
    {
      "cell_type": "code",
      "metadata": {
        "id": "sbQS5NRhUpcz"
      },
      "source": [
        ""
      ],
      "execution_count": null,
      "outputs": []
    },
    {
      "cell_type": "markdown",
      "metadata": {
        "id": "e57kggVTZ6Cr"
      },
      "source": [
        "Different algorithm considering last place"
      ]
    },
    {
      "cell_type": "code",
      "metadata": {
        "colab": {
          "base_uri": "https://localhost:8080/"
        },
        "id": "E9sO0DuCFhpY",
        "outputId": "aa5d0599-8cc5-4ba8-806f-c0aaae1dbf18"
      },
      "source": [
        "voters = [[\"dem\", \"ind\", \"n\", \"rep\"],\n",
        "          [\"rep\", \"ind\", \"n\", \"dem\"],\n",
        "          [\"ind\", \"dem\", \"n\", \"rep\"],\n",
        "          [\"ind\", \"rep\", \"n\", \"dem\"]]\n",
        "\n",
        "vote_dict = {}\n",
        "\n",
        "# initialize dictionary\n",
        "\n",
        "for party in voters[0]:\n",
        "  for i in range(1,len(voters[0])+1):\n",
        "    vote_dict[party + \"_\" + str(i)] = 0\n",
        "\n",
        "# create a dictionary containing the summary of rankings established by each voter for each party\n",
        "\n",
        "for vote in voters:\n",
        "  for i, party in enumerate(vote,1):\n",
        "    vote_dict[party + \"_\" + str(i)] += 1\n",
        "\n",
        "print(vote_dict)"
      ],
      "execution_count": 62,
      "outputs": [
        {
          "output_type": "stream",
          "text": [
            "{'dem_1': 1, 'dem_2': 1, 'dem_3': 0, 'dem_4': 2, 'ind_1': 2, 'ind_2': 2, 'ind_3': 0, 'ind_4': 0, 'n_1': 0, 'n_2': 0, 'n_3': 4, 'n_4': 0, 'rep_1': 1, 'rep_2': 1, 'rep_3': 0, 'rep_4': 2}\n"
          ],
          "name": "stdout"
        }
      ]
    },
    {
      "cell_type": "code",
      "metadata": {
        "colab": {
          "base_uri": "https://localhost:8080/"
        },
        "id": "050m6ruFHw2B",
        "outputId": "b7140ffc-4fe0-49bc-ec3c-fb631359a97e"
      },
      "source": [
        "# check how many times maximum a party arrived in last position\n",
        "\n",
        "last_place_max_count = 0\n",
        "for k in vote_dict.keys():\n",
        "  if k[-2:] == \"_\"+ str(len(voters[0])):\n",
        "    if vote_dict[k] >= last_place_max_count:\n",
        "      last_place_max_count = vote_dict[k]\n",
        "\n",
        "print(last_place_max_count)\n",
        "\n",
        "# remove parties that reached the maximum in last position\n",
        "\n",
        "party_to_remove = []\n",
        "for k in vote_dict.keys():\n",
        "  if k[-2:] == \"_\"+ str(len(voters[0])) and vote_dict[k] == last_place_max_count :\n",
        "    party_to_remove.append(k[:-2])\n",
        "\n",
        "print(party_to_remove)\n",
        "voters_init = voters\n",
        "voters = [[p for p in v if p not in party_to_remove] for v in voters]\n",
        "\n",
        "print(voters)"
      ],
      "execution_count": 60,
      "outputs": [
        {
          "output_type": "stream",
          "text": [
            "2\n",
            "['rep', 'dem']\n",
            "[['ind', 'n'], ['ind', 'n'], ['ind', 'n'], ['ind', 'n']]\n"
          ],
          "name": "stdout"
        }
      ]
    }
  ]
}
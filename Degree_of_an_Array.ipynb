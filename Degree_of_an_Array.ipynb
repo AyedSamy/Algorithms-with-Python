{
  "nbformat": 4,
  "nbformat_minor": 0,
  "metadata": {
    "colab": {
      "name": "Degree of an Array",
      "provenance": [],
      "collapsed_sections": []
    },
    "kernelspec": {
      "name": "python3",
      "display_name": "Python 3"
    },
    "language_info": {
      "name": "python"
    }
  },
  "cells": [
    {
      "cell_type": "code",
      "metadata": {
        "id": "AkeUyaolX_Nh"
      },
      "source": [
        "\"\"\"\n",
        "Given a non-empty array of non-negative integers nums, the degree of this array is defined as the maximum frequency of any one of its elements.\n",
        "\n",
        "Your task is to find the smallest possible length of a (contiguous) subarray of nums, that has the same degree as nums.\n",
        "\n",
        " \n",
        "Example 1:\n",
        "\n",
        "Input: nums = [1,2,2,3,1]\n",
        "Output: 2\n",
        "Explanation: \n",
        "The input array has a degree of 2 because both elements 1 and 2 appear twice.\n",
        "Of the subarrays that have the same degree:\n",
        "[1, 2, 2, 3, 1], [1, 2, 2, 3], [2, 2, 3, 1], [1, 2, 2], [2, 2, 3], [2, 2]\n",
        "The shortest length is 2. So return 2.\n",
        "Example 2:\n",
        "\n",
        "Input: nums = [1,2,2,3,1,4,2]\n",
        "Output: 6\n",
        "Explanation: \n",
        "The degree is 3 because the element 2 is repeated 3 times.\n",
        "So [2,2,3,1,4,2] is the shortest subarray, therefore returning 6.\n",
        " \n",
        "\n",
        "Constraints:\n",
        "\n",
        "nums.length will be between 1 and 50,000.\n",
        "nums[i] will be an integer between 0 and 49,999.\n",
        "\"\"\""
      ],
      "execution_count": null,
      "outputs": []
    },
    {
      "cell_type": "code",
      "metadata": {
        "id": "Q-lm2veOaPid"
      },
      "source": [
        "nums = [1,2,2,3,1,4,2]\n",
        "i = 0\n",
        "min_length = len(nums)\n",
        "max_degree = 0\n",
        "char_dict = {}\n",
        "\n",
        "\n",
        "while i < len(nums):\n",
        "  if nums[i] not in char_dict.keys():\n",
        "    char_dict[nums[i]] = [1,i,i]\n",
        "    if char_dict[nums[i]][0] > max_degree:\n",
        "      max_degree = char_dict[nums[i]][0]\n",
        "      min_length = char_dict[nums[i]][2] - char_dict[nums[i]][1] + 1\n",
        "  else:\n",
        "    char_dict[nums[i]][0] += 1\n",
        "    char_dict[nums[i]][2] = i\n",
        "    if char_dict[nums[i]][0] > max_degree:\n",
        "      max_degree = char_dict[nums[i]][0]\n",
        "      min_length = char_dict[nums[i]][2] - char_dict[nums[i]][1] + 1\n",
        "    elif char_dict[nums[i]][0] == max_degree and char_dict[nums[i]][2] - char_dict[nums[i]][1] + 1 < min_length:\n",
        "      min_length = char_dict[nums[i]][2] - char_dict[nums[i]][1] + 1\n",
        "  i += 1"
      ],
      "execution_count": 8,
      "outputs": []
    },
    {
      "cell_type": "code",
      "metadata": {
        "colab": {
          "base_uri": "https://localhost:8080/"
        },
        "id": "3PvrYMW6c4Q_",
        "outputId": "746a0904-18b6-4efb-e40f-18b42d9425a6"
      },
      "source": [
        "char_dict"
      ],
      "execution_count": 9,
      "outputs": [
        {
          "output_type": "execute_result",
          "data": {
            "text/plain": [
              "{1: [2, 0, 4], 2: [3, 1, 6], 3: [1, 3, 3], 4: [1, 5, 5]}"
            ]
          },
          "metadata": {},
          "execution_count": 9
        }
      ]
    },
    {
      "cell_type": "code",
      "metadata": {
        "colab": {
          "base_uri": "https://localhost:8080/"
        },
        "id": "hTmnlS14dDtc",
        "outputId": "e939def0-ec70-4a92-ffef-5d1c56db2004"
      },
      "source": [
        "min_length"
      ],
      "execution_count": 10,
      "outputs": [
        {
          "output_type": "execute_result",
          "data": {
            "text/plain": [
              "6"
            ]
          },
          "metadata": {},
          "execution_count": 10
        }
      ]
    },
    {
      "cell_type": "code",
      "metadata": {
        "id": "lggpPJ0NdMbP"
      },
      "source": [
        ""
      ],
      "execution_count": null,
      "outputs": []
    }
  ]
}
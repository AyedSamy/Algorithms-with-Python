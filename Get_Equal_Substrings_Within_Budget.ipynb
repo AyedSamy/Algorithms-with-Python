{
  "nbformat": 4,
  "nbformat_minor": 0,
  "metadata": {
    "colab": {
      "name": "Get Equal Substrings Within Budget",
      "provenance": [],
      "collapsed_sections": []
    },
    "kernelspec": {
      "name": "python3",
      "display_name": "Python 3"
    },
    "language_info": {
      "name": "python"
    }
  },
  "cells": [
    {
      "cell_type": "code",
      "metadata": {
        "id": "MSHXkawOkFSo"
      },
      "source": [
        "\"\"\"\n",
        "You are given two strings s and t of the same length. You want to change s to t. Changing the i-th character of s to i-th character of t costs |s[i] - t[i]| that is, the absolute difference between the ASCII values of the characters.\n",
        "\n",
        "You are also given an integer maxCost.\n",
        "\n",
        "Return the maximum length of a substring of s that can be changed to be the same as the corresponding substring of twith a cost less than or equal to maxCost.\n",
        "\n",
        "If there is no substring from s that can be changed to its corresponding substring from t, return 0.\n",
        "\"\"\""
      ],
      "execution_count": null,
      "outputs": []
    },
    {
      "cell_type": "code",
      "metadata": {
        "colab": {
          "base_uri": "https://localhost:8080/"
        },
        "id": "d6rvhZTZha5M",
        "outputId": "cd841a9a-95cd-4d7a-95f3-693b08e38d42"
      },
      "source": [
        "letters = \"abcdefghijklmnopqrstuvwxyz\"\n",
        "dict_letter_val = {}\n",
        "\n",
        "for i, l in enumerate(letters):\n",
        "  dict_letter_val[l] = i\n",
        "\n",
        "dict_letter_val"
      ],
      "execution_count": 1,
      "outputs": [
        {
          "output_type": "execute_result",
          "data": {
            "text/plain": [
              "{'a': 0,\n",
              " 'b': 1,\n",
              " 'c': 2,\n",
              " 'd': 3,\n",
              " 'e': 4,\n",
              " 'f': 5,\n",
              " 'g': 6,\n",
              " 'h': 7,\n",
              " 'i': 8,\n",
              " 'j': 9,\n",
              " 'k': 10,\n",
              " 'l': 11,\n",
              " 'm': 12,\n",
              " 'n': 13,\n",
              " 'o': 14,\n",
              " 'p': 15,\n",
              " 'q': 16,\n",
              " 'r': 17,\n",
              " 's': 18,\n",
              " 't': 19,\n",
              " 'u': 20,\n",
              " 'v': 21,\n",
              " 'w': 22,\n",
              " 'x': 23,\n",
              " 'y': 24,\n",
              " 'z': 25}"
            ]
          },
          "metadata": {},
          "execution_count": 1
        }
      ]
    },
    {
      "cell_type": "code",
      "metadata": {
        "colab": {
          "base_uri": "https://localhost:8080/"
        },
        "id": "ffchuFcphx-u",
        "outputId": "27462385-5e61-4711-cf0e-bb996675ba80"
      },
      "source": [
        "s = \"abcd\"\n",
        "t = \"acde\"\n",
        "maxCost = 0\n",
        "max_letters = 0\n",
        "\n",
        "i = 0\n",
        "while i < len(s):\n",
        "  cost = 0\n",
        "  counter = 0\n",
        "  for idx, c in enumerate(s):\n",
        "    if cost + abs(dict_letter_val[c] - dict_letter_val[t[idx]]) <= maxCost:\n",
        "      cost += abs(dict_letter_val[c] - dict_letter_val[t[idx]])\n",
        "      counter += 1\n",
        "      if counter > max_letters:\n",
        "        max_letters = counter\n",
        "  i += 1\n",
        "\n",
        "max_letters"
      ],
      "execution_count": 5,
      "outputs": [
        {
          "output_type": "execute_result",
          "data": {
            "text/plain": [
              "1"
            ]
          },
          "metadata": {},
          "execution_count": 5
        }
      ]
    },
    {
      "cell_type": "code",
      "metadata": {
        "id": "0mUertX-joUs"
      },
      "source": [
        ""
      ],
      "execution_count": null,
      "outputs": []
    }
  ]
}
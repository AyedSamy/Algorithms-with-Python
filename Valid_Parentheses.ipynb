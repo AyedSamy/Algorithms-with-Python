{
  "nbformat": 4,
  "nbformat_minor": 0,
  "metadata": {
    "colab": {
      "name": "Valid Parentheses",
      "provenance": []
    },
    "kernelspec": {
      "name": "python3",
      "display_name": "Python 3"
    },
    "language_info": {
      "name": "python"
    }
  },
  "cells": [
    {
      "cell_type": "code",
      "metadata": {
        "id": "4NOPGr_oTWOs"
      },
      "source": [
        "def valid_parentheses(string):\n",
        "    word = string\n",
        "    open = []\n",
        "    close = []\n",
        "    \n",
        "    for i, c in enumerate(word):\n",
        "        if c == '(':\n",
        "            open.append('(')\n",
        "        elif c == ')':\n",
        "            close.append(')')\n",
        "            if len(open) > 0:\n",
        "                open.pop()\n",
        "                close.pop()\n",
        "    if len(open) == 0 and len(close) == 0:\n",
        "        return True\n",
        "    else:\n",
        "        return False"
      ],
      "execution_count": 11,
      "outputs": []
    },
    {
      "cell_type": "code",
      "metadata": {
        "colab": {
          "base_uri": "https://localhost:8080/"
        },
        "id": "gwdnjOWncwyG",
        "outputId": "5340395c-1ef4-4469-e3c0-b6cb7ad91db2"
      },
      "source": [
        "print(valid_parentheses(\"  (\"))\n",
        "print(valid_parentheses(\")test\"))\n",
        "print(valid_parentheses(\"\"))\n",
        "print(valid_parentheses(\"hi())(\"))\n",
        "print(valid_parentheses(\"hi(hi)()\"))"
      ],
      "execution_count": 13,
      "outputs": [
        {
          "output_type": "stream",
          "text": [
            "False\n",
            "False\n",
            "True\n",
            "False\n",
            "True\n"
          ],
          "name": "stdout"
        }
      ]
    },
    {
      "cell_type": "code",
      "metadata": {
        "id": "0nrZUN_selA2"
      },
      "source": [
        ""
      ],
      "execution_count": null,
      "outputs": []
    }
  ]
}
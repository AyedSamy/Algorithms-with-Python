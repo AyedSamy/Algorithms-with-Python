{
  "nbformat": 4,
  "nbformat_minor": 0,
  "metadata": {
    "colab": {
      "name": "Group Anagrams",
      "provenance": [],
      "collapsed_sections": []
    },
    "kernelspec": {
      "name": "python3",
      "display_name": "Python 3"
    },
    "language_info": {
      "name": "python"
    }
  },
  "cells": [
    {
      "cell_type": "code",
      "metadata": {
        "id": "9JqSy8IVoGkB"
      },
      "source": [
        "\"\"\"\n",
        "Group Anagrams\n",
        "\n",
        "Given an array of strings strs, group the anagrams together. You can return the answer in any order.\n",
        "\n",
        "An Anagram is a word or phrase formed by rearranging the letters of a different word or phrase, typically using all the original letters exactly once.\n",
        "\n",
        "Example 1:\n",
        "\n",
        "Input: strs = [\"eat\",\"tea\",\"tan\",\"ate\",\"nat\",\"bat\"]\n",
        "Output: [[\"bat\"],[\"nat\",\"tan\"],[\"ate\",\"eat\",\"tea\"]]\n",
        "Example 2:\n",
        "\n",
        "Input: strs = [\"\"]\n",
        "Output: [[\"\"]]\n",
        "Example 3:\n",
        "\n",
        "Input: strs = [\"a\"]\n",
        "Output: [[\"a\"]]\n",
        " \n",
        "\n",
        "Constraints:\n",
        "\n",
        "1 <= strs.length <= 104\n",
        "0 <= strs[i].length <= 100\n",
        "strs[i] consists of lower-case English letters.\n",
        "\"\"\""
      ],
      "execution_count": null,
      "outputs": []
    },
    {
      "cell_type": "code",
      "metadata": {
        "id": "ElXqesL8r_Nn"
      },
      "source": [
        "class Solution:\n",
        "    def groupAnagrams(self, strs: List[str]) -> List[List[str]]:\n",
        "\n",
        "        anagram_dict = {}\n",
        "\n",
        "        for s in strs:\n",
        "            key = ''.join(sorted(s))\n",
        "            if key not in anagram_dict.keys():\n",
        "                anagram_dict[key] = [s]\n",
        "            else:\n",
        "                anagram_dict[key].append(s)\n",
        "        \n",
        "        return list(anagram_dict.values())"
      ],
      "execution_count": null,
      "outputs": []
    },
    {
      "cell_type": "code",
      "metadata": {
        "id": "oed_9A8tm_Re"
      },
      "source": [
        "strs = [\"eat\",\"tea\",\"tan\",\"ate\",\"nat\",\"bat\"]\n",
        "\n",
        "anagram_dict = {}\n",
        "\n",
        "for s in strs:\n",
        "  key = ''.join(set(s))\n",
        "  if key not in anagram_dict.keys():\n",
        "    anagram_dict[key] = [s]\n",
        "  else:\n",
        "    anagram_dict[key].append(s)\n"
      ],
      "execution_count": 9,
      "outputs": []
    },
    {
      "cell_type": "code",
      "metadata": {
        "colab": {
          "base_uri": "https://localhost:8080/"
        },
        "id": "Ki1mxakqqgQJ",
        "outputId": "62fe9411-ef70-4582-c89f-9d3d717021bd"
      },
      "source": [
        "sorted(strs[0])"
      ],
      "execution_count": 11,
      "outputs": [
        {
          "output_type": "execute_result",
          "data": {
            "text/plain": [
              "['a', 'e', 't']"
            ]
          },
          "metadata": {
            "tags": []
          },
          "execution_count": 11
        }
      ]
    },
    {
      "cell_type": "code",
      "metadata": {
        "colab": {
          "base_uri": "https://localhost:8080/"
        },
        "id": "ER_8elFunS9R",
        "outputId": "1fc1ba59-653b-40b1-f060-6409aaca2d40"
      },
      "source": [
        "list(anagram_dict.values())"
      ],
      "execution_count": 10,
      "outputs": [
        {
          "output_type": "execute_result",
          "data": {
            "text/plain": [
              "[['eat', 'tea', 'ate'], ['tan', 'nat'], ['bat']]"
            ]
          },
          "metadata": {
            "tags": []
          },
          "execution_count": 10
        }
      ]
    },
    {
      "cell_type": "code",
      "metadata": {
        "id": "UNswRUtDn3l0"
      },
      "source": [
        ""
      ],
      "execution_count": null,
      "outputs": []
    }
  ]
}
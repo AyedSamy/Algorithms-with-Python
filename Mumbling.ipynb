{
  "nbformat": 4,
  "nbformat_minor": 0,
  "metadata": {
    "colab": {
      "name": "Mumbling",
      "provenance": [],
      "collapsed_sections": []
    },
    "kernelspec": {
      "name": "python3",
      "display_name": "Python 3"
    },
    "language_info": {
      "name": "python"
    }
  },
  "cells": [
    {
      "cell_type": "code",
      "metadata": {
        "id": "rGtlQUSlAgQu"
      },
      "source": [
        "\"\"\"\n",
        "This time no story, no theory. The examples below show you how to write function accum:\n",
        "\n",
        "Examples:\n",
        "accum(\"abcd\") -> \"A-Bb-Ccc-Dddd\"\n",
        "accum(\"RqaEzty\") -> \"R-Qq-Aaa-Eeee-Zzzzz-Tttttt-Yyyyyyy\"\n",
        "accum(\"cwAt\") -> \"C-Ww-Aaa-Tttt\"\n",
        "The parameter of accum is a string which includes only letters from a..z and A..Z.\n",
        "\"\"\""
      ],
      "execution_count": null,
      "outputs": []
    },
    {
      "cell_type": "code",
      "metadata": {
        "colab": {
          "base_uri": "https://localhost:8080/",
          "height": 35
        },
        "id": "r7rhW53KAipX",
        "outputId": "3706d1a0-15ad-40bc-d216-4fc06593eb87"
      },
      "source": [
        "s = \"RqaEzty\"\n",
        "result = \"\"\n",
        "i = 0\n",
        "j = 1\n",
        "\n",
        "while i < len(s):\n",
        "  result += s[i].upper() + s[i].lower() * (j-1) + '-'\n",
        "  i += 1\n",
        "  j += 1\n",
        "\n",
        "result.strip('-')"
      ],
      "execution_count": 4,
      "outputs": [
        {
          "output_type": "execute_result",
          "data": {
            "application/vnd.google.colaboratory.intrinsic+json": {
              "type": "string"
            },
            "text/plain": [
              "'R-Qq-Aaa-Eeee-Zzzzz-Tttttt-Yyyyyyy'"
            ]
          },
          "metadata": {
            "tags": []
          },
          "execution_count": 4
        }
      ]
    },
    {
      "cell_type": "code",
      "metadata": {
        "id": "kU0kShwtBJkE"
      },
      "source": [
        ""
      ],
      "execution_count": null,
      "outputs": []
    }
  ]
}
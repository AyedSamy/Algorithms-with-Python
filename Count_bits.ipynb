{
  "nbformat": 4,
  "nbformat_minor": 0,
  "metadata": {
    "colab": {
      "name": "Count bits",
      "provenance": [],
      "collapsed_sections": []
    },
    "kernelspec": {
      "name": "python3",
      "display_name": "Python 3"
    },
    "language_info": {
      "name": "python"
    }
  },
  "cells": [
    {
      "cell_type": "code",
      "metadata": {
        "id": "5wOPkq4OQJSp"
      },
      "source": [
        "\"\"\"\n",
        "Write a function that takes an integer as input, and returns the number of bits that are equal to one in the binary representation of that number.\n",
        "You can guarantee that input is non-negative.\n",
        "\n",
        "Example: The binary representation of 1234 is 10011010010, so the function should return 5 in this case\n",
        "\"\"\""
      ],
      "execution_count": null,
      "outputs": []
    },
    {
      "cell_type": "code",
      "metadata": {
        "id": "gMcJjE6vOmhg"
      },
      "source": [
        "def count_bits(n):\n",
        "    return sum([int(d) for d in f\"{n:b}\" if d == \"1\"])"
      ],
      "execution_count": 15,
      "outputs": []
    },
    {
      "cell_type": "code",
      "metadata": {
        "colab": {
          "base_uri": "https://localhost:8080/"
        },
        "id": "3AbZ_VKTOp4I",
        "outputId": "e23249b1-9de5-47a2-de26-bebeb0dd8d1f"
      },
      "source": [
        "print(count_bits(0)) # 0\n",
        "print(count_bits(4)) # 1\n",
        "print(count_bits(7)) # 3\n",
        "print(count_bits(1234)) # 5"
      ],
      "execution_count": 16,
      "outputs": [
        {
          "output_type": "stream",
          "text": [
            "0\n",
            "1\n",
            "3\n",
            "5\n"
          ],
          "name": "stdout"
        }
      ]
    },
    {
      "cell_type": "code",
      "metadata": {
        "id": "7dA8CEcDQqF7"
      },
      "source": [
        ""
      ],
      "execution_count": null,
      "outputs": []
    }
  ]
}
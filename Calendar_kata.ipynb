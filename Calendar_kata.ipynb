{
  "nbformat": 4,
  "nbformat_minor": 0,
  "metadata": {
    "colab": {
      "name": "Calendar kata",
      "provenance": [],
      "collapsed_sections": []
    },
    "kernelspec": {
      "name": "python3",
      "display_name": "Python 3"
    },
    "language_info": {
      "name": "python"
    }
  },
  "cells": [
    {
      "cell_type": "code",
      "metadata": {
        "id": "ReaDDAjZ4YOJ"
      },
      "source": [
        "s1 = [['9:00','10:30'],['12:00','13:00'],['16:00','18:00']]\n",
        "t1 = ['9:00','20:00']\n",
        "\n",
        "new_s1 = []\n",
        "for s in s1:\n",
        "  new_s1 += [*range(int(s[0].split(':')[0])*60 + int(s[0].split(':')[1])+1, int(s[1].split(':')[0])*60 + int(s[1].split(':')[1]))]\n",
        "\n",
        "new_t1 = [*range(int(t1[0].split(':')[0])*60 + int(t1[0].split(':')[1]), int(t1[1].split(':')[0])*60 + int(t1[1].split(':')[1])+1)]"
      ],
      "execution_count": 55,
      "outputs": []
    },
    {
      "cell_type": "code",
      "metadata": {
        "id": "gCnS9Whb5aEj"
      },
      "source": [
        "free_time1 = [n for n in new_t1 if n not in new_s1]"
      ],
      "execution_count": 56,
      "outputs": []
    },
    {
      "cell_type": "code",
      "metadata": {
        "id": "5vYLBjJt651I"
      },
      "source": [
        "s2 = [['10:00','11:30'],['12:30','14:30'],['14:30','15:00'],['16:00','17:00']]\n",
        "t2 = ['10:00','18:30']\n",
        "\n",
        "new_s2 = []\n",
        "for s in s2:\n",
        "  new_s2 += [*range(int(s[0].split(':')[0])*60 + int(s[0].split(':')[1])+1, int(s[1].split(':')[0])*60 + int(s[1].split(':')[1]))]\n",
        "\n",
        "new_s2 = list(set(new_s2))\n",
        "new_t2 = [*range(int(t2[0].split(':')[0])*60 + int(t2[0].split(':')[1]), int(t2[1].split(':')[0])*60 + int(t2[1].split(':')[1])+1)]"
      ],
      "execution_count": 57,
      "outputs": []
    },
    {
      "cell_type": "code",
      "metadata": {
        "id": "v1QhxO3v_4NG"
      },
      "source": [
        "free_time2 = [n for n in new_t2 if n not in new_s2]"
      ],
      "execution_count": 49,
      "outputs": []
    },
    {
      "cell_type": "code",
      "metadata": {
        "id": "9ROzhXu0A4UM"
      },
      "source": [
        "merge = list(set(free_time1 + free_time2))\n",
        "\n",
        "available = [n for n in merge if (n in free_time1 and n in free_time2)]\n",
        "\n",
        "available"
      ],
      "execution_count": null,
      "outputs": []
    },
    {
      "cell_type": "code",
      "metadata": {
        "id": "7a8asBJlBYZt"
      },
      "source": [
        "result = []\n",
        "lower = None\n",
        "upper = None\n",
        "i = 0\n",
        "\n",
        "while i < len(available):\n",
        "  lower = available[i]\n",
        "  go = True\n",
        "  while go:\n",
        "    if i+1 == len(available) or available[i+1] != available[i] + 1:\n",
        "      upper = available[i]\n",
        "      go = False\n",
        "      if lower != upper:\n",
        "        result.append([lower, upper])\n",
        "    i += 1\n",
        "      \n"
      ],
      "execution_count": 59,
      "outputs": []
    },
    {
      "cell_type": "code",
      "metadata": {
        "colab": {
          "base_uri": "https://localhost:8080/"
        },
        "id": "tVIWRMp0BZD1",
        "outputId": "82372aa9-3aa6-474f-e2b2-50b61aa5bc65"
      },
      "source": [
        "result"
      ],
      "execution_count": 60,
      "outputs": [
        {
          "output_type": "execute_result",
          "data": {
            "text/plain": [
              "[[690, 720], [900, 960], [1080, 1110]]"
            ]
          },
          "metadata": {
            "tags": []
          },
          "execution_count": 60
        }
      ]
    },
    {
      "cell_type": "code",
      "metadata": {
        "id": "-WFZemPhbxmo"
      },
      "source": [
        ""
      ],
      "execution_count": null,
      "outputs": []
    }
  ]
}
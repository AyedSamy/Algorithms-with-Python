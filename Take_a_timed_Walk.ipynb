{
  "nbformat": 4,
  "nbformat_minor": 0,
  "metadata": {
    "colab": {
      "name": "Take a timed Walk",
      "provenance": []
    },
    "kernelspec": {
      "name": "python3",
      "display_name": "Python 3"
    }
  },
  "cells": [
    {
      "cell_type": "code",
      "metadata": {
        "id": "vUAzjmB-Xzty"
      },
      "source": [
        "\"\"\"\r\n",
        "You live in the city of Cartesia where all roads are laid out in a perfect grid.\r\n",
        "You arrived ten minutes too early to an appointment, so you decided to take the opportunity to go for a short walk.\r\n",
        "The city provides its citizens with a Walk Generating App on their phones -- everytime you press the button it sends\r\n",
        "you an array of one-letter strings representing directions to walk (eg. ['n', 's', 'w', 'e']).\r\n",
        "You always walk only a single block for each letter (direction) and you know it takes you one minute to traverse one city block,\r\n",
        "so create a function that will return true if the walk the app gives you will take you exactly ten minutes (you don't want to be early or late!)\r\n",
        "and will, of course, return you to your starting point. Return false otherwise.\r\n",
        "\r\n",
        "Note: you will always receive a valid array containing a random assortment of direction letters ('n', 's', 'e', or 'w' only).\r\n",
        "It will never give you an empty array (that's not a walk, that's standing still!).\r\n",
        "\"\"\""
      ],
      "execution_count": 20,
      "outputs": []
    },
    {
      "cell_type": "code",
      "metadata": {
        "colab": {
          "base_uri": "https://localhost:8080/"
        },
        "id": "ja9uoQl6eUK9",
        "outputId": "6c66004e-2726-49bb-96a0-fe51474ecfae"
      },
      "source": [
        "def is_valid_walk(walk):\r\n",
        "  directions = walk\r\n",
        "  x = 0\r\n",
        "  y = 0\r\n",
        "  for d in directions:\r\n",
        "    if d == 's':\r\n",
        "      y -= 1\r\n",
        "    elif d == 'n':\r\n",
        "      y += 1\r\n",
        "    elif d == 'e':\r\n",
        "      x -= 1\r\n",
        "    else:\r\n",
        "      x += 1\r\n",
        "  if len(directions) > 10:\r\n",
        "    return False\r\n",
        "  elif x == 0 and y == 0 and len(directions) == 10:\r\n",
        "    return True\r\n",
        "  else:\r\n",
        "    return False\r\n",
        "\r\n",
        "print(is_valid_walk(['n','s','n','s','n','s','n','s','n','s']))\r\n",
        "print(is_valid_walk(['w','e','w','e','w','e','w','e','w','e','w','e']))\r\n",
        "print(is_valid_walk(['w']))\r\n",
        "print(is_valid_walk(['n','n','n','s','n','s','n','s','n','s']))\r\n",
        "print(is_valid_walk(['w', 'n', 'w', 's', 'e', 's', 'e', 'n']))"
      ],
      "execution_count": 27,
      "outputs": [
        {
          "output_type": "stream",
          "text": [
            "True\n",
            "False\n",
            "False\n",
            "False\n",
            "False\n"
          ],
          "name": "stdout"
        }
      ]
    },
    {
      "cell_type": "code",
      "metadata": {
        "id": "l5tvOkbTiBjg"
      },
      "source": [
        "\"\"\"\r\n",
        "Alternatively, return True if it's still possible to come back to the starting point within 10 minutes (this time it can be less than 10 minutes). Otherwise return False.\r\n",
        "\"\"\""
      ],
      "execution_count": null,
      "outputs": []
    },
    {
      "cell_type": "code",
      "metadata": {
        "colab": {
          "base_uri": "https://localhost:8080/"
        },
        "id": "upBGFVPATzMf",
        "outputId": "6a4292ea-b0b5-4a5a-ced4-f88dcb897212"
      },
      "source": [
        "def is_valid_walk(walk):\r\n",
        "  directions = walk\r\n",
        "  x = 0\r\n",
        "  y = 0\r\n",
        "  moves = 10\r\n",
        "  for d in directions:\r\n",
        "    if d == 's':\r\n",
        "      y -= 1\r\n",
        "    elif d == 'n':\r\n",
        "      y += 1\r\n",
        "    elif d == 'e':\r\n",
        "      x -= 1\r\n",
        "    else:\r\n",
        "      x += 1\r\n",
        "    moves -= 1\r\n",
        "  if len(directions) > 10:\r\n",
        "    return \"Impossible\"\r\n",
        "  elif x == 0 and y == 0:\r\n",
        "    return \"Possible\"\r\n",
        "  else:\r\n",
        "    i = 0\r\n",
        "    while i < moves:\r\n",
        "      if x < 0:\r\n",
        "        x += 1\r\n",
        "        i += 1\r\n",
        "      elif x > 0:\r\n",
        "        x -= 1\r\n",
        "        i += 1\r\n",
        "      if y < 0:\r\n",
        "        y += 1\r\n",
        "        i += 1\r\n",
        "      elif y > 0:\r\n",
        "        y -= 1\r\n",
        "        i += 1\r\n",
        "      if x == 0 and y == 0 and i <= moves:\r\n",
        "        return \"Possible\"\r\n",
        "    return \"Impossible\"\r\n",
        "\r\n",
        "print(is_valid_walk(['n','s','n','s','n','s','n','s','n','s']))\r\n",
        "print(is_valid_walk(['w','e','w','e','w','e','w','e','w','e','w','e']))\r\n",
        "print(is_valid_walk(['w']))\r\n",
        "print(is_valid_walk(['n','n','n','s','n','s','n','s','n','s']))\r\n",
        "print(is_valid_walk(['w', 'n', 'w', 's', 'e', 's', 'e', 'n']))"
      ],
      "execution_count": 28,
      "outputs": [
        {
          "output_type": "stream",
          "text": [
            "Possible\n",
            "Impossible\n",
            "Possible\n",
            "Impossible\n",
            "Possible\n"
          ],
          "name": "stdout"
        }
      ]
    },
    {
      "cell_type": "code",
      "metadata": {
        "id": "6cRIpF_zVwAU"
      },
      "source": [
        ""
      ],
      "execution_count": null,
      "outputs": []
    }
  ]
}
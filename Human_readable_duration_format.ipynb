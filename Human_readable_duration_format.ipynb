{
  "nbformat": 4,
  "nbformat_minor": 0,
  "metadata": {
    "colab": {
      "name": "Human readable duration format",
      "provenance": []
    },
    "kernelspec": {
      "name": "python3",
      "display_name": "Python 3"
    },
    "language_info": {
      "name": "python"
    }
  },
  "cells": [
    {
      "cell_type": "code",
      "metadata": {
        "id": "Lxcz9dJvXq6f"
      },
      "source": [
        "\"\"\"\n",
        "Your task in order to complete this Kata is to write a function which formats a duration, given as a number of seconds, in a human-friendly way.\n",
        "\n",
        "The function must accept a non-negative integer. If it is zero, it just returns \"now\". Otherwise, the duration is expressed as a combination of years, days, hours, minutes and seconds.\n",
        "\n",
        "It is much easier to understand with an example:\n",
        "\n",
        "format_duration(62)    # returns \"1 minute and 2 seconds\"\n",
        "format_duration(3662)  # returns \"1 hour, 1 minute and 2 seconds\"\n",
        "For the purpose of this Kata, a year is 365 days and a day is 24 hours.\n",
        "\n",
        "Note that spaces are important.\n",
        "\n",
        "Detailed rules\n",
        "The resulting expression is made of components like 4 seconds, 1 year, etc. In general, a positive integer and one of the valid units of time, separated by a space. The unit of time is used in plural if the integer is greater than 1.\n",
        "\n",
        "The components are separated by a comma and a space (\", \"). Except the last component, which is separated by \" and \", just like it would be written in English.\n",
        "\n",
        "A more significant units of time will occur before than a least significant one. Therefore, 1 second and 1 year is not correct, but 1 year and 1 second is.\n",
        "\n",
        "Different components have different unit of times. So there is not repeated units like in 5 seconds and 1 second.\n",
        "\n",
        "A component will not appear at all if its value happens to be zero. Hence, 1 minute and 0 seconds is not valid, but it should be just 1 minute.\n",
        "\n",
        "A unit of time must be used \"as much as possible\". It means that the function should not return 61 seconds, but 1 minute and 1 second instead. Formally, the duration specified by of a component must not be greater than any valid more significant unit of time.\n",
        "\"\"\""
      ],
      "execution_count": 1,
      "outputs": []
    },
    {
      "cell_type": "code",
      "metadata": {
        "colab": {
          "base_uri": "https://localhost:8080/"
        },
        "id": "4zqEHgweXzQr",
        "outputId": "ec33ace9-327c-4a1e-b933-2d00861fd2d2"
      },
      "source": [
        "t = 31536001\n",
        "years = t // 31536000\n",
        "print(years, \"years\")\n",
        "days = (t - years * 31536000) // 86400\n",
        "print(days, \"days\")\n",
        "hours = (t - years * 31536000 - days * 86400) // 3600\n",
        "print(hours, \"hours\")\n",
        "minutes = (t - years * 31536000 - days * 86400 - hours * 3600)// 60\n",
        "print(minutes, \"minutes\")\n",
        "seconds = (t - years * 31536000 - days * 86400 - hours * 3600 - minutes * 60)\n",
        "print(seconds, \"seconds\")"
      ],
      "execution_count": 16,
      "outputs": [
        {
          "output_type": "stream",
          "text": [
            "1 years\n",
            "0 days\n",
            "0 hours\n",
            "0 minutes\n",
            "1 seconds\n"
          ],
          "name": "stdout"
        }
      ]
    },
    {
      "cell_type": "code",
      "metadata": {
        "colab": {
          "base_uri": "https://localhost:8080/",
          "height": 35
        },
        "id": "eOwuSj4davWQ",
        "outputId": "14493820-e507-4f54-a746-6aac3375425e"
      },
      "source": [
        "result"
      ],
      "execution_count": 10,
      "outputs": [
        {
          "output_type": "execute_result",
          "data": {
            "application/vnd.google.colaboratory.intrinsic+json": {
              "type": "string"
            },
            "text/plain": [
              "''"
            ]
          },
          "metadata": {
            "tags": []
          },
          "execution_count": 10
        }
      ]
    },
    {
      "cell_type": "code",
      "metadata": {
        "colab": {
          "base_uri": "https://localhost:8080/"
        },
        "id": "VKL7zY4FX4-5",
        "outputId": "cf752064-65be-417a-b28b-e333fc8e9ac6"
      },
      "source": [
        "result = \"\"\n",
        "if hours == 1:\n",
        "  result += str(hours) + \" hour\"\n",
        "  if minutes >= 1:\n",
        "    result += ', '\n",
        "elif hours > 1:\n",
        "  result += str(hours) + \" hours\"\n",
        "  if minutes >= 1:\n",
        "    result += ', '\n",
        "\n",
        "if minutes == 1:\n",
        "  result += str(minutes) + \" minute\"\n",
        "  if seconds >= 1:\n",
        "    result += ' and '\n",
        "elif minutes > 1:\n",
        "  result += str(minutes) + \" minutes\"\n",
        "  if seconds >= 1:\n",
        "    result += ' and '\n",
        "\n",
        "if seconds == 1:\n",
        "  result += str(seconds) + \" second\"\n",
        "elif seconds > 1:\n",
        "  result += str(seconds) + \" seconds\"\n",
        "\n",
        "print(result)"
      ],
      "execution_count": 14,
      "outputs": [
        {
          "output_type": "stream",
          "text": [
            "1 minute and 2 seconds\n"
          ],
          "name": "stdout"
        }
      ]
    },
    {
      "cell_type": "code",
      "metadata": {
        "id": "Pj2NlXxUahDc"
      },
      "source": [
        ""
      ],
      "execution_count": null,
      "outputs": []
    }
  ]
}
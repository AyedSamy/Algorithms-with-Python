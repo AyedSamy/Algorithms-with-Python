{
  "nbformat": 4,
  "nbformat_minor": 0,
  "metadata": {
    "colab": {
      "name": "Battleships in a Board",
      "provenance": [],
      "collapsed_sections": []
    },
    "kernelspec": {
      "name": "python3",
      "display_name": "Python 3"
    },
    "language_info": {
      "name": "python"
    }
  },
  "cells": [
    {
      "cell_type": "code",
      "metadata": {
        "id": "xyzmQXZ2weQx"
      },
      "source": [
        "\"\"\"\n",
        "Given an m x n matrix board where each cell is a battleship 'X' or empty '.', return the number of the battleships on board.\n",
        "\n",
        "Battleships can only be placed horizontally or vertically on board. In other words, they can only be made of the shape 1 x k (1 row, k columns) or k x 1 (k rows, 1 column), where k can be of any size. At least one horizontal or vertical cell separates between two battleships (i.e., there are no adjacent battleships).\n",
        "\n",
        "Example 1:\n",
        "\n",
        "Input: board = [[\"X\",\".\",\".\",\"X\"],\n",
        "                [\".\",\".\",\".\",\"X\"],\n",
        "                [\".\",\".\",\".\",\"X\"]]\n",
        "Output: 2\n",
        "\n",
        "Example 2:\n",
        "\n",
        "Input: board = [[\".\"]]\n",
        "Output: 0\n",
        " \n",
        "Constraints:\n",
        "\n",
        "m == board.length\n",
        "n == board[i].length\n",
        "1 <= m, n <= 200\n",
        "board[i][j] is either '.' or 'X'.\n",
        " \n",
        "\n",
        "Follow up: Could you do it in one-pass, using only O(1) extra memory and without modifying the values board?\n",
        "\"\"\""
      ],
      "execution_count": null,
      "outputs": []
    },
    {
      "cell_type": "code",
      "metadata": {
        "id": "76G8Hsb_wPzi"
      },
      "source": [
        "board = [[\"X\",\".\",\".\",\"X\"],\n",
        "         [\".\",\"X\",\".\",\"X\"],\n",
        "         [\".\",\".\",\".\",\"X\"]]\n",
        "\n",
        "visited_cells = [[0 for i in range(len(board[0]))] for j in range(len(board))]\n",
        "\n",
        "cells_to_visit = []\n",
        "count = 0\n",
        "\n",
        "\n",
        "def isVisited(i,j):\n",
        "  return visited_cells[i][j] == 1\n",
        "\n",
        "def get_neighbours(i, j):\n",
        "  global neighbours_count\n",
        "  global col_check\n",
        "  global col_to_have\n",
        "  global row_check\n",
        "  global row_to_have\n",
        "  if i>0 and board[i-1][j] == \"X\" and isVisited(i-1,j) == False and [i-1,j] not in cells_to_visit:\n",
        "    cells_to_visit.append([i-1,j])\n",
        "    neighbours_count += 1\n",
        "    if neighbours_count == 1:\n",
        "      col_to_have = j\n",
        "      col_check = True\n",
        "  if i<len(board)-1 and board[i+1][j] == \"X\" and isVisited(i+1,j) == False and [i+1,j] not in cells_to_visit:\n",
        "    cells_to_visit.append([i+1,j])\n",
        "    neighbours_count += 1\n",
        "    if neighbours_count == 1:\n",
        "      col_to_have = j\n",
        "      col_check = True\n",
        "  if j>0 and board[i][j-1] == \"X\" and isVisited(i,j-1) == False and [i,j-1] not in cells_to_visit:\n",
        "    cells_to_visit.append([i,j-1])\n",
        "    neighbours_count += 1\n",
        "    if neighbours_count == 1:\n",
        "      row_to_have = i\n",
        "      row_check = True\n",
        "  if j<len(board[0])-1 and board[i][j+1] == \"X\" and isVisited(i,j+1) == False and [i,j+1] not in cells_to_visit:\n",
        "    cells_to_visit.append([i,j+1])\n",
        "    neighbours_count += 1\n",
        "    if neighbours_count == 1:\n",
        "      row_to_have = i\n",
        "      row_check = True\n",
        "\n",
        "for i, row in enumerate(board):\n",
        "  for j, cell in enumerate(row):\n",
        "    row_check = False\n",
        "    col_check = False\n",
        "    add_one_to_count = True\n",
        "    neighbours_count = 0\n",
        "    if board[i][j] == \"X\" and visited_cells[i][j] == 0:\n",
        "      visited_cells[i][j] = 1\n",
        "      get_neighbours(i, j)\n",
        "      while cells_to_visit != []:\n",
        "        current_cell = cells_to_visit.pop()\n",
        "        get_neighbours(current_cell[0],current_cell[1])\n",
        "        visited_cells[current_cell[0]][current_cell[1]] = 1\n",
        "        if row_check == True and current_cell[0] != row_to_have:\n",
        "          add_one_to_count = False\n",
        "        elif col_check == True and current_cell[1] != col_to_have:\n",
        "          add_one_to_count = False\n",
        "      if add_one_to_count == True:\n",
        "        count += 1\n"
      ],
      "execution_count": 83,
      "outputs": []
    },
    {
      "cell_type": "code",
      "metadata": {
        "colab": {
          "base_uri": "https://localhost:8080/"
        },
        "id": "Roswg9VbxHey",
        "outputId": "48d785c3-6bdf-4ac5-a32f-6fdac15e6f48"
      },
      "source": [
        "count"
      ],
      "execution_count": 82,
      "outputs": [
        {
          "output_type": "execute_result",
          "data": {
            "text/plain": [
              "4"
            ]
          },
          "metadata": {
            "tags": []
          },
          "execution_count": 82
        }
      ]
    },
    {
      "cell_type": "code",
      "metadata": {
        "id": "QiNamjSv9XMX"
      },
      "source": [
        "c = 0\n",
        "\n",
        "def increase():\n",
        "  global c\n",
        "  c += 1\n",
        "  print(c)"
      ],
      "execution_count": 60,
      "outputs": []
    },
    {
      "cell_type": "code",
      "metadata": {
        "colab": {
          "base_uri": "https://localhost:8080/"
        },
        "id": "HJsquu_ueHoZ",
        "outputId": "4749d758-48d1-40b1-cc2b-8f49aa8b4ff2"
      },
      "source": [
        "increase()"
      ],
      "execution_count": 64,
      "outputs": [
        {
          "output_type": "stream",
          "text": [
            "3\n"
          ],
          "name": "stdout"
        }
      ]
    },
    {
      "cell_type": "code",
      "metadata": {
        "colab": {
          "base_uri": "https://localhost:8080/"
        },
        "id": "cF1i87QDeL5j",
        "outputId": "e8f96e19-a8cd-4b4e-d499-7e6c3ef76309"
      },
      "source": [
        "increase(c)"
      ],
      "execution_count": 58,
      "outputs": [
        {
          "output_type": "stream",
          "text": [
            "1\n"
          ],
          "name": "stdout"
        }
      ]
    },
    {
      "cell_type": "code",
      "metadata": {
        "id": "yV87vNcHeRFu"
      },
      "source": [
        ""
      ],
      "execution_count": null,
      "outputs": []
    }
  ]
}
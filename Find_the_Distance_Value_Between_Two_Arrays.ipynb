{
  "nbformat": 4,
  "nbformat_minor": 0,
  "metadata": {
    "colab": {
      "name": "Find the Distance Value Between Two Arrays",
      "provenance": [],
      "collapsed_sections": []
    },
    "kernelspec": {
      "name": "python3",
      "display_name": "Python 3"
    },
    "language_info": {
      "name": "python"
    }
  },
  "cells": [
    {
      "cell_type": "code",
      "metadata": {
        "id": "LhRHzl4tBhlU"
      },
      "source": [
        "\"\"\"\n",
        "Given two integer arrays arr1 and arr2, and the integer d, return the distance value between the two arrays.\n",
        "\n",
        "The distance value is defined as the number of elements arr1[i] such that there is not any element arr2[j] where |arr1[i]-arr2[j]| <= d.\n",
        "\n",
        " \n",
        "\n",
        "Example 1:\n",
        "\n",
        "Input: arr1 = [4,5,8], arr2 = [10,9,1,8], d = 2\n",
        "Output: 2\n",
        "Explanation: \n",
        "For arr1[0]=4 we have: \n",
        "|4-10|=6 > d=2 \n",
        "|4-9|=5 > d=2 \n",
        "|4-1|=3 > d=2 \n",
        "|4-8|=4 > d=2 \n",
        "For arr1[1]=5 we have: \n",
        "|5-10|=5 > d=2 \n",
        "|5-9|=4 > d=2 \n",
        "|5-1|=4 > d=2 \n",
        "|5-8|=3 > d=2\n",
        "For arr1[2]=8 we have:\n",
        "|8-10|=2 <= d=2\n",
        "|8-9|=1 <= d=2\n",
        "|8-1|=7 > d=2\n",
        "|8-8|=0 <= d=2\n",
        "Example 2:\n",
        "\n",
        "Input: arr1 = [1,4,2,3], arr2 = [-4,-3,6,10,20,30], d = 3\n",
        "Output: 2\n",
        "Example 3:\n",
        "\n",
        "Input: arr1 = [2,1,100,3], arr2 = [-5,-2,10,-3,7], d = 6\n",
        "Output: 1\n",
        " \n",
        "\n",
        "Constraints:\n",
        "\n",
        "1 <= arr1.length, arr2.length <= 500\n",
        "-10^3 <= arr1[i], arr2[j] <= 10^3\n",
        "0 <= d <= 100\n",
        "\"\"\""
      ],
      "execution_count": null,
      "outputs": []
    },
    {
      "cell_type": "code",
      "metadata": {
        "colab": {
          "base_uri": "https://localhost:8080/"
        },
        "id": "wNvbC0QE1KUy",
        "outputId": "dc36c0d5-861e-48c5-a94f-70474d92506e"
      },
      "source": [
        "arr1 = [4,5,8]\n",
        "arr2 = [10,9,1,8]\n",
        "d = 2\n",
        "count = len(arr1)\n",
        "\n",
        "for i in arr1:\n",
        "  for j in list(reversed(sorted(arr2))):\n",
        "    if abs(i - j) <= d:\n",
        "      count -= 1\n",
        "      break\n",
        "print(count)\n"
      ],
      "execution_count": 5,
      "outputs": [
        {
          "output_type": "stream",
          "text": [
            "2\n"
          ],
          "name": "stdout"
        }
      ]
    },
    {
      "cell_type": "code",
      "metadata": {
        "id": "49bNGjG1BkGA"
      },
      "source": [
        ""
      ],
      "execution_count": null,
      "outputs": []
    }
  ]
}
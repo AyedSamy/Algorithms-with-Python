{
  "nbformat": 4,
  "nbformat_minor": 0,
  "metadata": {
    "colab": {
      "name": "Word to initial number",
      "provenance": []
    },
    "kernelspec": {
      "name": "python3",
      "display_name": "Python 3"
    },
    "language_info": {
      "name": "python"
    }
  },
  "cells": [
    {
      "cell_type": "code",
      "metadata": {
        "id": "3UWKwM4jjj_G"
      },
      "source": [
        "\"\"\"\n",
        "Intro:\n",
        "I was doing a coding challenge. It was one of those multi-step challenges. I don't know if my approach was good or bad, but in one of these steps I was writing a function to convert word to numbers. I did it.. eventually, but... I didn't like how it was written. So I thought why not create kata and check how other people do it :) So:\n",
        "\n",
        "Task:\n",
        "Your task is to write the word to number converter. Digits in the number should match letters in the word. Plus generated number should be the smallest possible number you can get.\n",
        "\n",
        "Words will contain of maximum 10 distinct letters, but word can be any length, even longer than 10 characters long.\n",
        "Number can NOT start with 0\n",
        "Same letters share the same digit regardless of case\n",
        "For empty string return 0\n",
        "Examples:\n",
        "\"A\" -> 1 - OK\n",
        "\n",
        "\"ABA\" -> 353 - WRONG ( number is OK, but it's not the smallest number )\n",
        "\n",
        "\"ABA\" -> 333 - WRONG ( different letters map to same digits )\n",
        "\n",
        "\"ABA\" -> 357 - WRONG ( same letters map to different digits )\n",
        "\"\"\""
      ],
      "execution_count": null,
      "outputs": []
    },
    {
      "cell_type": "code",
      "metadata": {
        "id": "GzZlxrQejdU3"
      },
      "source": [
        "def convert(st):\n",
        "    result = \"\"\n",
        "    ldict = {}\n",
        "    nums = [1,0,2,3,4,5,6,7,8,9]\n",
        "    i = 0\n",
        "    for l in st.lower():\n",
        "        if l not in ldict:\n",
        "            ldict[l] = nums[i]\n",
        "            i += 1\n",
        "    for l in st.lower():\n",
        "        result += str(ldict[l])\n",
        "    if result == \"\":\n",
        "        return 0\n",
        "    return int(result)"
      ],
      "execution_count": null,
      "outputs": []
    },
    {
      "cell_type": "code",
      "metadata": {
        "colab": {
          "base_uri": "https://localhost:8080/",
          "height": 35
        },
        "id": "f_Ignel1VXEo",
        "outputId": "600fbb2e-3590-440a-ed4a-5a437915ae2e"
      },
      "source": [
        "t = \"CodeWars\"\n",
        "result = \"\"\n",
        "ldict = {}\n",
        "nums = [1,0,2,3,4,5,6,7,8,9]\n",
        "i = 0\n",
        "for l in t.lower():\n",
        "  if l not in ldict:\n",
        "    ldict[l] = nums[i]\n",
        "    i += 1\n",
        "\n",
        "for l in t.lower():\n",
        "  result += str(ldict[l])\n",
        "\n",
        "result"
      ],
      "execution_count": 20,
      "outputs": [
        {
          "output_type": "execute_result",
          "data": {
            "application/vnd.google.colaboratory.intrinsic+json": {
              "type": "string"
            },
            "text/plain": [
              "'10234567'"
            ]
          },
          "metadata": {
            "tags": []
          },
          "execution_count": 20
        }
      ]
    },
    {
      "cell_type": "code",
      "metadata": {
        "colab": {
          "base_uri": "https://localhost:8080/"
        },
        "id": "4HVkh_UvfDVT",
        "outputId": "f70ff319-5ffa-4742-d62c-45cc29e59e1e"
      },
      "source": [
        "ldict = {\"e\":3}\n",
        "\n",
        "\"f\" in ldict.keys()\n"
      ],
      "execution_count": 8,
      "outputs": [
        {
          "output_type": "execute_result",
          "data": {
            "text/plain": [
              "False"
            ]
          },
          "metadata": {
            "tags": []
          },
          "execution_count": 8
        }
      ]
    },
    {
      "cell_type": "code",
      "metadata": {
        "id": "JneT3bsNfKLt"
      },
      "source": [
        "10234421553674180718\n",
        "10234421553674189718"
      ],
      "execution_count": null,
      "outputs": []
    }
  ]
}
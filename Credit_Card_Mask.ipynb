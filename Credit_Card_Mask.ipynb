{
  "nbformat": 4,
  "nbformat_minor": 0,
  "metadata": {
    "colab": {
      "name": "Credit Card Mask",
      "provenance": [],
      "collapsed_sections": []
    },
    "kernelspec": {
      "name": "python3",
      "display_name": "Python 3"
    },
    "language_info": {
      "name": "python"
    }
  },
  "cells": [
    {
      "cell_type": "code",
      "metadata": {
        "id": "7C33E7jy1GaY"
      },
      "source": [
        "\"\"\"\n",
        "Usually when you buy something, you're asked whether your credit card number, phone number or answer to your most secret question is still correct. However, since someone could look over your shoulder, you don't want that shown on your screen. Instead, we mask it.\n",
        "\n",
        "Your task is to write a function maskify, which changes all but the last four characters into '#'.\n",
        "\n",
        "Examples\n",
        "maskify(\"4556364607935616\") == \"############5616\"\n",
        "maskify(     \"64607935616\") ==      \"#######5616\"\n",
        "maskify(               \"1\") ==                \"1\"\n",
        "maskify(                \"\") ==                 \"\"\n",
        "\n",
        "# \"What was the name of your first pet?\"\n",
        "maskify(\"Skippy\")                                   == \"##ippy\"\n",
        "maskify(\"Nananananananananananananananana Batman!\") == \"#################\n",
        "\"\"\""
      ],
      "execution_count": null,
      "outputs": []
    },
    {
      "cell_type": "code",
      "metadata": {
        "id": "cd1U7DrAySDZ"
      },
      "source": [
        "# return masked string\n",
        "def maskify(cc):\n",
        "    result = \"\"\n",
        "    if len(cc) > 4:\n",
        "        result += \"#\"*len(cc[0:-4])\n",
        "        result += cc[-4:]\n",
        "    else:\n",
        "        result += cc\n",
        "    return result"
      ],
      "execution_count": 10,
      "outputs": []
    },
    {
      "cell_type": "code",
      "metadata": {
        "colab": {
          "base_uri": "https://localhost:8080/",
          "height": 35
        },
        "id": "UcYxTHQnyVIR",
        "outputId": "d3a9d59f-398d-415e-9a59-93c66bd0296d"
      },
      "source": [
        "cc = \"3454356\"\n",
        "result = \"\"\n",
        "if len(cc) > 4:\n",
        "    result += \"#\"*len(cc[0:-4])\n",
        "    result += cc[-4:]\n",
        "else:\n",
        "  result += cc\n",
        "result"
      ],
      "execution_count": 11,
      "outputs": [
        {
          "output_type": "execute_result",
          "data": {
            "application/vnd.google.colaboratory.intrinsic+json": {
              "type": "string"
            },
            "text/plain": [
              "'###4356'"
            ]
          },
          "metadata": {
            "tags": []
          },
          "execution_count": 11
        }
      ]
    },
    {
      "cell_type": "code",
      "metadata": {
        "id": "bbq7rlxWzNii"
      },
      "source": [
        ""
      ],
      "execution_count": null,
      "outputs": []
    }
  ]
}
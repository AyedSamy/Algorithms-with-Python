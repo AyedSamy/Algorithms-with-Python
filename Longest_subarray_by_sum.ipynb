{
  "nbformat": 4,
  "nbformat_minor": 0,
  "metadata": {
    "colab": {
      "name": "Longest subarray by sum",
      "provenance": [],
      "collapsed_sections": []
    },
    "kernelspec": {
      "name": "python3",
      "display_name": "Python 3"
    },
    "language_info": {
      "name": "python"
    }
  },
  "cells": [
    {
      "cell_type": "code",
      "metadata": {
        "id": "WTFrUKqdoCYc"
      },
      "source": [
        "arr = [1,2,3,7,5]\n",
        "\n",
        "s = 12"
      ],
      "execution_count": null,
      "outputs": []
    },
    {
      "cell_type": "code",
      "metadata": {
        "id": "Z9NMjKmooJ09"
      },
      "source": [
        "i = 0\n",
        "j = 0\n",
        "\n",
        "sums = []\n",
        "\n",
        "while i < len(arr):\n",
        "  i_sum = 0\n",
        "  i_sum += arr[i]\n",
        "  sums.append(i_sum)\n",
        "  j = i + 1\n",
        "  while j < len(arr):\n",
        "    i_sum += arr[j]\n",
        "    sums.append(i_sum)\n",
        "    if i_sum == s:\n",
        "      print(i,j)\n",
        "    j += 1\n",
        "  i += 1\n",
        "    \n"
      ],
      "execution_count": null,
      "outputs": []
    },
    {
      "cell_type": "code",
      "metadata": {
        "colab": {
          "base_uri": "https://localhost:8080/"
        },
        "id": "3But71qupwa9",
        "outputId": "daa079dc-cfd2-4b4a-870c-d1645a819b3a"
      },
      "source": [
        "sums"
      ],
      "execution_count": null,
      "outputs": [
        {
          "output_type": "execute_result",
          "data": {
            "text/plain": [
              "[1, 3, 6, 13, 18, 2, 5, 12, 17, 3, 10, 15, 7, 12, 5]"
            ]
          },
          "metadata": {
            "tags": []
          },
          "execution_count": 5
        }
      ]
    },
    {
      "cell_type": "code",
      "metadata": {
        "id": "aDobZkeTpxyx"
      },
      "source": [
        ""
      ],
      "execution_count": null,
      "outputs": []
    }
  ]
}
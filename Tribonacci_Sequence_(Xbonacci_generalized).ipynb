{
  "nbformat": 4,
  "nbformat_minor": 0,
  "metadata": {
    "colab": {
      "name": "Tribonacci Sequence (Xbonacci generalized)",
      "provenance": [],
      "collapsed_sections": []
    },
    "kernelspec": {
      "name": "python3",
      "display_name": "Python 3"
    },
    "language_info": {
      "name": "python"
    }
  },
  "cells": [
    {
      "cell_type": "code",
      "metadata": {
        "id": "Ua2ViXBXc6dt"
      },
      "source": [
        "\"\"\"\n",
        "Well met with Fibonacci bigger brother, AKA Tribonacci.\n",
        "\n",
        "As the name may already reveal, it works basically like a Fibonacci, but summing the last 3 (instead of 2) numbers of the sequence to generate the next.\n",
        "And, worse part of it, regrettably I won't get to hear non-native Italian speakers trying to pronounce it :(\n",
        "\n",
        "So, if we are to start our Tribonacci sequence with [1, 1, 1] as a starting input (AKA signature), we have this sequence:\n",
        "\n",
        "[1, 1 ,1, 3, 5, 9, 17, 31, ...]\n",
        "But what if we started with [0, 0, 1] as a signature? As starting with [0, 1] instead of [1, 1] basically shifts the common Fibonacci\n",
        "sequence by once place, you may be tempted to think that we would get the same sequence shifted by 2 places, but that is not the case and we would get:\n",
        "\n",
        "[0, 0, 1, 1, 2, 4, 7, 13, 24, ...]\n",
        "Well, you may have guessed it by now, but to be clear: you need to create a fibonacci function that given a signature array/list,\n",
        "returns the first n elements - signature included of the so seeded sequence.\n",
        "\n",
        "Signature will always contain 3 numbers; n will always be a non-negative number; if n == 0, then return an empty array (except in C return NULL)\n",
        "and be ready for anything else which is not clearly specified ;)\n",
        "\"\"\""
      ],
      "execution_count": null,
      "outputs": []
    },
    {
      "cell_type": "code",
      "metadata": {
        "id": "dwLbVIB8elkc"
      },
      "source": [
        "def tribonacci(signature, n):\n",
        "  if n == 0:\n",
        "    return []\n",
        "  elif n < len(signature):\n",
        "    return signature[0:n]\n",
        "  else:\n",
        "    array =  signature\n",
        "    i = 3\n",
        "    while (len(array) != n):\n",
        "      current_id = len(array) - 1\n",
        "      array.append(sum(array[current_id - (i-1):current_id+1]))\n",
        "    return array"
      ],
      "execution_count": 61,
      "outputs": []
    },
    {
      "cell_type": "code",
      "metadata": {
        "colab": {
          "base_uri": "https://localhost:8080/"
        },
        "id": "y0geMDjumrL5",
        "outputId": "c53a2a34-a299-415a-cc3b-3b9bdbf83e92"
      },
      "source": [
        "print(tribonacci([1,1,1], 10))\n",
        "print(tribonacci([0,0,1], 10))\n",
        "print(tribonacci([0,0,1], 20))\n",
        "print(tribonacci([300, 200, 100], 2))"
      ],
      "execution_count": 64,
      "outputs": [
        {
          "output_type": "stream",
          "text": [
            "[1, 1, 1, 3, 5, 9, 17, 31, 57, 105]\n",
            "[0, 0, 1, 1, 2, 4, 7, 13, 24, 44]\n",
            "[0, 0, 1, 1, 2, 4, 7, 13, 24, 44, 81, 149, 274, 504, 927, 1705, 3136, 5768, 10609, 19513]\n",
            "[300, 200]\n"
          ],
          "name": "stdout"
        }
      ]
    }
  ]
}
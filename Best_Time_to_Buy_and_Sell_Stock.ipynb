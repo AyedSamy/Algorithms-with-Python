{
  "nbformat": 4,
  "nbformat_minor": 0,
  "metadata": {
    "colab": {
      "name": "Best Time to Buy and Sell Stock",
      "provenance": []
    },
    "kernelspec": {
      "name": "python3",
      "display_name": "Python 3"
    },
    "language_info": {
      "name": "python"
    }
  },
  "cells": [
    {
      "cell_type": "code",
      "metadata": {
        "id": "B4XocIhi3uM9"
      },
      "source": [
        "\"\"\"\n",
        "You are given an array prices where prices[i] is the price of a given stock on the ith day.\n",
        "\n",
        "You want to maximize your profit by choosing a single day to buy one stock and choosing a different day in the future to sell that stock.\n",
        "\n",
        "Return the maximum profit you can achieve from this transaction. If you cannot achieve any profit, return 0.\n",
        "\n",
        "Example 1:\n",
        "\n",
        "Input: prices = [7,1,5,3,6,4]\n",
        "Output: 5\n",
        "Explanation: Buy on day 2 (price = 1) and sell on day 5 (price = 6), profit = 6-1 = 5.\n",
        "Note that buying on day 2 and selling on day 1 is not allowed because you must buy before you sell.\n",
        "Example 2:\n",
        "\n",
        "Input: prices = [7,6,4,3,1]\n",
        "Output: 0\n",
        "Explanation: In this case, no transactions are done and the max profit = 0.\n",
        " \n",
        "\n",
        "Constraints:\n",
        "\n",
        "1 <= prices.length <= 105\n",
        "0 <= prices[i] <= 104\n",
        "\"\"\""
      ],
      "execution_count": null,
      "outputs": []
    },
    {
      "cell_type": "code",
      "metadata": {
        "id": "8Y2WTX8v5lbj"
      },
      "source": [
        "prices = [7,1,5,3,6,4]\n",
        "profits = [[0 for i in range(len(prices))] for j in range(len(prices))]\n",
        "max_profit = 0"
      ],
      "execution_count": 9,
      "outputs": []
    },
    {
      "cell_type": "code",
      "metadata": {
        "id": "7zC-BIl355m8"
      },
      "source": [
        "i = 0\n",
        "\n",
        "while i < len(profits):\n",
        "  j = i + 1\n",
        "  while j < len(prices):\n",
        "    profits[i][j] = prices[j] - prices[i]\n",
        "    if profits[i][j] > max_profit:\n",
        "      max_profit = profits[i][j]\n",
        "    j += 1\n",
        "  i += 1\n"
      ],
      "execution_count": 10,
      "outputs": []
    },
    {
      "cell_type": "code",
      "metadata": {
        "colab": {
          "base_uri": "https://localhost:8080/"
        },
        "id": "_KijMVdc7Zpr",
        "outputId": "b1a30f34-9a92-459a-bbec-dd28de88689f"
      },
      "source": [
        "profits"
      ],
      "execution_count": 11,
      "outputs": [
        {
          "output_type": "execute_result",
          "data": {
            "text/plain": [
              "[[0, -6, -2, -4, -1, -3],\n",
              " [0, 0, 4, 2, 5, 3],\n",
              " [0, 0, 0, -2, 1, -1],\n",
              " [0, 0, 0, 0, 3, 1],\n",
              " [0, 0, 0, 0, 0, -2],\n",
              " [0, 0, 0, 0, 0, 0]]"
            ]
          },
          "metadata": {},
          "execution_count": 11
        }
      ]
    },
    {
      "cell_type": "code",
      "metadata": {
        "colab": {
          "base_uri": "https://localhost:8080/"
        },
        "id": "kbQUSGzA7az6",
        "outputId": "0b2260f1-a256-41d3-b11c-fe8610485bb8"
      },
      "source": [
        "max_profit"
      ],
      "execution_count": 12,
      "outputs": [
        {
          "output_type": "execute_result",
          "data": {
            "text/plain": [
              "5"
            ]
          },
          "metadata": {},
          "execution_count": 12
        }
      ]
    },
    {
      "cell_type": "code",
      "metadata": {
        "id": "ePegT1y38ojJ"
      },
      "source": [
        ""
      ],
      "execution_count": null,
      "outputs": []
    }
  ]
}
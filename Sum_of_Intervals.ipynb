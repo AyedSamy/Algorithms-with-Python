{
  "nbformat": 4,
  "nbformat_minor": 0,
  "metadata": {
    "colab": {
      "name": "Sum of Intervals",
      "provenance": [],
      "collapsed_sections": []
    },
    "kernelspec": {
      "name": "python3",
      "display_name": "Python 3"
    },
    "language_info": {
      "name": "python"
    }
  },
  "cells": [
    {
      "cell_type": "code",
      "metadata": {
        "id": "djElnLGl2Vuy"
      },
      "source": [
        "\"\"\"\n",
        "Write a function called sumIntervals/sum_intervals() that accepts an array of intervals, and returns the sum of all the interval lengths. Overlapping intervals should only be counted once.\n",
        "\n",
        "Intervals\n",
        "Intervals are represented by a pair of integers in the form of an array. The first value of the interval will always be less than the second value. Interval example: [1, 5] is an interval from 1 to 5. The length of this interval is 4.\n",
        "\n",
        "Overlapping Intervals\n",
        "List containing overlapping intervals:\n",
        "\n",
        "[\n",
        "   [1,4],\n",
        "   [7, 10],\n",
        "   [3, 5]\n",
        "]\n",
        "The sum of the lengths of these intervals is 7. Since [1, 4] and [3, 5] overlap, we can treat the interval as [1, 5], which has a length of 4.\n",
        "\n",
        "Examples:\n",
        "sumIntervals( [\n",
        "   [1,2],\n",
        "   [6, 10],\n",
        "   [11, 15]\n",
        "] ); // => 9\n",
        "\n",
        "sumIntervals( [\n",
        "   [1,4],\n",
        "   [7, 10],\n",
        "   [3, 5]\n",
        "] ); // => 7\n",
        "\n",
        "sumIntervals( [\n",
        "   [1,5],\n",
        "   [10, 20],\n",
        "   [1, 6],\n",
        "   [16, 19],\n",
        "   [5, 11]\n",
        "] ); // => 19\n",
        "\"\"\""
      ],
      "execution_count": null,
      "outputs": []
    },
    {
      "cell_type": "code",
      "metadata": {
        "id": "8_7YSLf82tLc"
      },
      "source": [
        "intervals = [\n",
        "   [1, 4],\n",
        "   [7, 10],\n",
        "   [3, 5],\n",
        "   [2, 7],\n",
        "   [5, 10],\n",
        "   [10, 11],\n",
        "   [12,15],\n",
        "   [13,16]\n",
        "]"
      ],
      "execution_count": 65,
      "outputs": []
    },
    {
      "cell_type": "code",
      "metadata": {
        "colab": {
          "base_uri": "https://localhost:8080/"
        },
        "id": "AafaZfd3NIUK",
        "outputId": "c8b09dd0-e5ba-4046-e6d1-a5b98148779d"
      },
      "source": [
        "l = []\n",
        "for s, e in intervals:\n",
        "  l+= range(s, e)\n",
        "print(len(set(l)))"
      ],
      "execution_count": 66,
      "outputs": [
        {
          "output_type": "stream",
          "text": [
            "14\n"
          ],
          "name": "stdout"
        }
      ]
    }
  ]
}
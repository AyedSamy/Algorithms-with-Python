{
  "nbformat": 4,
  "nbformat_minor": 0,
  "metadata": {
    "colab": {
      "name": "Coin change",
      "provenance": [],
      "collapsed_sections": []
    },
    "kernelspec": {
      "name": "python3",
      "display_name": "Python 3"
    },
    "language_info": {
      "name": "python"
    }
  },
  "cells": [
    {
      "cell_type": "code",
      "metadata": {
        "id": "upNOIR0RdORf"
      },
      "source": [
        "\"\"\"\n",
        "You are given an integer array coins representing coins of different denominations and an integer amount representing a total amount of money.\n",
        "\n",
        "Return the fewest number of coins that you need to make up that amount. If that amount of money cannot be made up by any combination of the coins, return -1.\n",
        "\n",
        "You may assume that you have an infinite number of each kind of coin.\n",
        "\n",
        "\n",
        "Example 1:\n",
        "\n",
        "Input: coins = [1,2,5], amount = 11\n",
        "Output: 3\n",
        "Explanation: 11 = 5 + 5 + 1\n",
        "Example 2:\n",
        "\n",
        "Input: coins = [2], amount = 3\n",
        "Output: -1\n",
        "\"\"\""
      ],
      "execution_count": null,
      "outputs": []
    },
    {
      "cell_type": "code",
      "metadata": {
        "colab": {
          "base_uri": "https://localhost:8080/"
        },
        "id": "2Lr9IzlNMi00",
        "outputId": "e585a80c-440c-46a6-9f49-e9edaf8c0d3b"
      },
      "source": [
        "amount = 11\n",
        "coins = [1,2,5]\n",
        "\n",
        "amount_coins = []\n",
        "min_coin_value = min(coins)\n",
        "\n",
        "i = 1\n",
        "while i < amount+1:\n",
        "  if i in coins:\n",
        "    amount_coins.append([i,{i:1, \"n\":1}])\n",
        "  elif i > min_coin_value:\n",
        "    best_n_coins = 10000000\n",
        "    pred_found = False\n",
        "    for c in coins:\n",
        "      len_amount_coins = len(amount_coins)\n",
        "      while len_amount_coins >= 0:\n",
        "        if i-c == amount_coins[len_amount_coins-1][0]:\n",
        "          pred_found = True\n",
        "          current_n_coins = amount_coins[len_amount_coins-1][1][\"n\"]\n",
        "          current_len_amount_coins = len_amount_coins-1\n",
        "          current_c = c\n",
        "          if current_n_coins < best_n_coins:\n",
        "            best_n_coins = current_n_coins\n",
        "            best_len_amount_coins = current_len_amount_coins\n",
        "            best_c = current_c\n",
        "          break\n",
        "        len_amount_coins -= 1\n",
        "\n",
        "    if pred_found == True:\n",
        "      new_dict = amount_coins[best_len_amount_coins][1].copy()\n",
        "      if best_c not in new_dict.keys():\n",
        "        new_dict[best_c] = 1\n",
        "        new_dict[\"n\"] += 1\n",
        "      else:\n",
        "        new_dict[best_c] += 1\n",
        "        new_dict[\"n\"] += 1\n",
        "\n",
        "      amount_coins.append([i,new_dict])\n",
        "  \n",
        "  i+=1\n",
        "\n",
        "amount_coins"
      ],
      "execution_count": null,
      "outputs": [
        {
          "output_type": "execute_result",
          "data": {
            "text/plain": [
              "[[1, {1: 1, 'n': 1}],\n",
              " [2, {2: 1, 'n': 1}],\n",
              " [3, {1: 1, 2: 1, 'n': 2}],\n",
              " [4, {2: 2, 'n': 2}],\n",
              " [5, {5: 1, 'n': 1}],\n",
              " [6, {1: 1, 5: 1, 'n': 2}],\n",
              " [7, {2: 1, 5: 1, 'n': 2}],\n",
              " [8, {1: 1, 2: 1, 5: 1, 'n': 3}],\n",
              " [9, {2: 2, 5: 1, 'n': 3}],\n",
              " [10, {5: 2, 'n': 2}],\n",
              " [11, {1: 1, 5: 2, 'n': 3}]]"
            ]
          },
          "metadata": {
            "tags": []
          },
          "execution_count": 52
        }
      ]
    },
    {
      "cell_type": "code",
      "metadata": {
        "colab": {
          "base_uri": "https://localhost:8080/"
        },
        "id": "LE5jDx63afVi",
        "outputId": "425260bc-74f4-4c92-e7fc-2ceca1e24838"
      },
      "source": [
        "if len(amount_coins) == 0 or amount_coins[-1][0] != amount:\n",
        "  print(-1)\n",
        "else:\n",
        "  print(amount_coins[-1][1][\"n\"])"
      ],
      "execution_count": null,
      "outputs": [
        {
          "output_type": "stream",
          "text": [
            "3\n"
          ],
          "name": "stdout"
        }
      ]
    },
    {
      "cell_type": "code",
      "metadata": {
        "id": "vOg1QK1Pd4UL"
      },
      "source": [
        ""
      ],
      "execution_count": null,
      "outputs": []
    }
  ]
}
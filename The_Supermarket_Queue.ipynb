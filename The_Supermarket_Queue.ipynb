{
  "nbformat": 4,
  "nbformat_minor": 0,
  "metadata": {
    "colab": {
      "name": "The Supermarket Queue",
      "provenance": []
    },
    "kernelspec": {
      "name": "python3",
      "display_name": "Python 3"
    },
    "language_info": {
      "name": "python"
    }
  },
  "cells": [
    {
      "cell_type": "code",
      "metadata": {
        "id": "d34W4NAjwSxa"
      },
      "source": [
        "\"\"\"\n",
        "There is a queue for the self-checkout tills at the supermarket. Your task is write a function to calculate the total time required for all the customers to check out!\n",
        "\n",
        "input\n",
        "customers: an array of positive integers representing the queue. Each integer represents a customer, and its value is the amount of time they require to check out.\n",
        "n: a positive integer, the number of checkout tills.\n",
        "output\n",
        "The function should return an integer, the total time required.\n",
        "\n",
        "Examples\n",
        "\n",
        "queue_time([5,3,4], 1)\n",
        "# should return 12\n",
        "# because when n=1, the total time is just the sum of the times\n",
        "\n",
        "queue_time([10,2,3,3], 2)\n",
        "# should return 10\n",
        "# because here n=2 and the 2nd, 3rd, and 4th people in the \n",
        "# queue finish before the 1st person has finished.\n",
        "\n",
        "queue_time([2,3,10], 2)\n",
        "# should return 12\n",
        "\"\"\""
      ],
      "execution_count": null,
      "outputs": []
    },
    {
      "cell_type": "code",
      "metadata": {
        "id": "9Hv_jVZ_1iDz"
      },
      "source": [
        "def queue_time(customers,n):\n",
        "  tills = [0] * n\n",
        "  for c in customers:\n",
        "    tills[0] += c\n",
        "    tills.sort()\n",
        "  return max(tills)"
      ],
      "execution_count": 9,
      "outputs": []
    },
    {
      "cell_type": "code",
      "metadata": {
        "colab": {
          "base_uri": "https://localhost:8080/"
        },
        "id": "L1Xw2EeZasBg",
        "outputId": "b33dc4f2-a475-44fc-ffff-ae645f1a7a91"
      },
      "source": [
        "print(queue_time([5,3,4], 1))\n",
        "print(queue_time([10,2,3,3], 2))\n",
        "print(queue_time([2,3,10], 2))"
      ],
      "execution_count": 10,
      "outputs": [
        {
          "output_type": "stream",
          "text": [
            "12\n",
            "10\n",
            "12\n"
          ],
          "name": "stdout"
        }
      ]
    },
    {
      "cell_type": "code",
      "metadata": {
        "id": "jFo079av5x9L"
      },
      "source": [
        ""
      ],
      "execution_count": null,
      "outputs": []
    }
  ]
}
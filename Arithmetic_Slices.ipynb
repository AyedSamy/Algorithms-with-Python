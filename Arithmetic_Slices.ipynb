{
  "nbformat": 4,
  "nbformat_minor": 0,
  "metadata": {
    "colab": {
      "name": "Arithmetic Slices",
      "provenance": [],
      "collapsed_sections": []
    },
    "kernelspec": {
      "name": "python3",
      "display_name": "Python 3"
    },
    "language_info": {
      "name": "python"
    }
  },
  "cells": [
    {
      "cell_type": "code",
      "metadata": {
        "id": "v7upLGELisKQ"
      },
      "source": [
        "\"\"\"\n",
        "An integer array is called arithmetic if it consists of at least three elements and if the difference between any two consecutive elements is the same.\n",
        "\n",
        "For example, [1,3,5,7,9], [7,7,7,7], and [3,-1,-5,-9] are arithmetic sequences.\n",
        "Given an integer array nums, return the number of arithmetic subarrays of nums.\n",
        "\n",
        "A subarray is a contiguous subsequence of the array.\n",
        "\n",
        "\n",
        "Example 1:\n",
        "\n",
        "Input: nums = [1,2,3,4]\n",
        "Output: 3\n",
        "Explanation: We have 3 arithmetic slices in nums: [1, 2, 3], [2, 3, 4] and [1,2,3,4] itself.\n",
        "Example 2:\n",
        "\n",
        "Input: nums = [1]\n",
        "Output: 0\n",
        " \n",
        "\n",
        "Constraints:\n",
        "\n",
        "1 <= nums.length <= 5000\n",
        "-1000 <= nums[i] <= 1000\n",
        "\"\"\""
      ],
      "execution_count": null,
      "outputs": []
    },
    {
      "cell_type": "code",
      "metadata": {
        "id": "J8syKtEpCA0v"
      },
      "source": [
        "def count_arithm(j,k,result):\n",
        "    if j != k:\n",
        "        result += 1+(j-k)\n",
        "        k += 1\n",
        "        return count_arithm(j,k,result)\n",
        "    else:\n",
        "        return result + 1\n",
        "\n",
        "class Solution:\n",
        "    def numberOfArithmeticSlices(self, nums: List[int]) -> int:\n",
        "        if len(nums) < 3:\n",
        "            return 0\n",
        "        else:\n",
        "            i = 1\n",
        "            count = 2\n",
        "            diff = nums[1] - nums[0]\n",
        "            result = 0\n",
        "            while i < len(nums)-1:\n",
        "                if nums[i+1] - nums[i] == diff:\n",
        "                    count += 1\n",
        "                    if i == len(nums)-2:\n",
        "                        result += count_arithm(count,3,0)\n",
        "                else:\n",
        "                    diff = nums[i+1] - nums[i]\n",
        "                    if count >= 3:\n",
        "                        result += count_arithm(count,3,0)\n",
        "                    count = 2\n",
        "                i += 1\n",
        "            return result\n",
        "        "
      ],
      "execution_count": null,
      "outputs": []
    },
    {
      "cell_type": "code",
      "metadata": {
        "id": "Sn-iDPtE57R9"
      },
      "source": [
        "[1,2,3,4,5]\n",
        "1 + (5-3) + 1 + (5-4) + 1 + (5-5)\n",
        "6"
      ],
      "execution_count": null,
      "outputs": []
    },
    {
      "cell_type": "code",
      "metadata": {
        "id": "gk9ZeqE-6UWS"
      },
      "source": [
        "nums = [1,2,3,4]\n",
        "count_hist = []\n",
        "i = 1\n",
        "count = 2\n",
        "diff = nums[1] - nums[0]\n",
        "result = 0\n",
        "\n",
        "while i < len(nums)-1:\n",
        "  if nums[i+1] - nums[i] == diff:\n",
        "    count += 1\n",
        "    if i == len(nums)-2:\n",
        "      count_hist.append(count)\n",
        "      result += count_arithm(count,3,0)\n",
        "  else:\n",
        "    diff = nums[i+1] - nums[i]\n",
        "    if count >= 3:\n",
        "      count_hist.append(count)\n",
        "      result += count_arithm(count,3,0)\n",
        "    count = 2\n",
        "  i += 1\n",
        "  \n"
      ],
      "execution_count": null,
      "outputs": []
    },
    {
      "cell_type": "code",
      "metadata": {
        "colab": {
          "base_uri": "https://localhost:8080/"
        },
        "id": "mbTy6CXB8rCa",
        "outputId": "c484b055-830a-4641-c081-3723c0616199"
      },
      "source": [
        "print(count_hist)\n",
        "print(result)"
      ],
      "execution_count": null,
      "outputs": [
        {
          "output_type": "stream",
          "text": [
            "[4]\n",
            "3\n"
          ],
          "name": "stdout"
        }
      ]
    },
    {
      "cell_type": "code",
      "metadata": {
        "id": "jOV1uNLC8xcn"
      },
      "source": [
        "def count_arithm(j,k,result):\n",
        "  if j != k:\n",
        "    result += 1+(j-k)\n",
        "    k += 1\n",
        "    return count_arithm(j,k,result)\n",
        "  else:\n",
        "    return result + 1"
      ],
      "execution_count": null,
      "outputs": []
    }
  ]
}
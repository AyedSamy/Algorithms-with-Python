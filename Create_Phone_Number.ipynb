{
  "nbformat": 4,
  "nbformat_minor": 0,
  "metadata": {
    "colab": {
      "name": "Create Phone Number",
      "provenance": []
    },
    "kernelspec": {
      "name": "python3",
      "display_name": "Python 3"
    }
  },
  "cells": [
    {
      "cell_type": "code",
      "metadata": {
        "id": "4sZBe3hwrWP0"
      },
      "source": [
        "\"\"\"\r\n",
        "Write a function that accepts an array of 10 integers (between 0 and 9), that returns a string of those numbers in the form of a phone number.\r\n",
        "\r\n",
        "Example:\r\n",
        "create_phone_number([1, 2, 3, 4, 5, 6, 7, 8, 9, 0]) # => returns \"(123) 456-7890\"\r\n",
        "The returned format must be correct in order to complete this challenge.\r\n",
        "Don't forget the space after the closing parentheses!\r\n",
        "\"\"\""
      ],
      "execution_count": null,
      "outputs": []
    },
    {
      "cell_type": "code",
      "metadata": {
        "colab": {
          "base_uri": "https://localhost:8080/",
          "height": 35
        },
        "id": "wnPDEyXymrYD",
        "outputId": "fe3baf23-1486-4b74-920c-daa1e68e1dbe"
      },
      "source": [
        "a = [1, 2, 3, 4, 5, 6, 7, 8, 9, 0]\r\n",
        "\r\n",
        "\"(\" + ''.join([str(n) for n in a[0:3]]) + \") \" + ''.join([str(n) for n in a[3:6]]) + \"-\" + ''.join([str(n) for n in a[6:]])"
      ],
      "execution_count": 25,
      "outputs": [
        {
          "output_type": "execute_result",
          "data": {
            "application/vnd.google.colaboratory.intrinsic+json": {
              "type": "string"
            },
            "text/plain": [
              "'(123) 456-7890'"
            ]
          },
          "metadata": {
            "tags": []
          },
          "execution_count": 25
        }
      ]
    },
    {
      "cell_type": "code",
      "metadata": {
        "id": "kJuny9UCmxY_"
      },
      "source": [
        ""
      ],
      "execution_count": null,
      "outputs": []
    }
  ]
}
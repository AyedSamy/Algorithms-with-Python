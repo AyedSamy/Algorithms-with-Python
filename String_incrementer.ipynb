{
  "nbformat": 4,
  "nbformat_minor": 0,
  "metadata": {
    "colab": {
      "name": "String incrementer",
      "provenance": [],
      "collapsed_sections": []
    },
    "kernelspec": {
      "name": "python3",
      "display_name": "Python 3"
    },
    "language_info": {
      "name": "python"
    }
  },
  "cells": [
    {
      "cell_type": "code",
      "metadata": {
        "id": "Rjzd6wtM1C6c"
      },
      "source": [
        "\"\"\"\n",
        "Your job is to write a function which increments a string, to create a new string.\n",
        "\n",
        "If the string already ends with a number, the number should be incremented by 1.\n",
        "If the string does not end with a number. the number 1 should be appended to the new string.\n",
        "Examples:\n",
        "\n",
        "foo -> foo1\n",
        "\n",
        "foobar23 -> foobar24\n",
        "\n",
        "foo0042 -> foo0043\n",
        "\n",
        "foo9 -> foo10\n",
        "\n",
        "foo099 -> foo100\n",
        "\n",
        "Attention: If the number has leading zeros the amount of digits should be considered.\n",
        "\"\"\""
      ],
      "execution_count": null,
      "outputs": []
    },
    {
      "cell_type": "code",
      "metadata": {
        "colab": {
          "base_uri": "https://localhost:8080/",
          "height": 69
        },
        "id": "pYoU-8aTeL7h",
        "outputId": "fb7d2af8-4f5e-40d9-e52b-ce0574c3200f"
      },
      "source": [
        "import re\n",
        "\n",
        "text = \"foobar0099\"\n",
        "result = \"\"\n",
        "\n",
        "pattern = re.compile(r\"\\d+\")\n",
        "matches = pattern.finditer(text)\n",
        "leading_zeros = 0\n",
        "contains_num = 0\n",
        "\n",
        "for m in matches:\n",
        "  number = m.group(0)\n",
        "  starting_index = m.span()[0]\n",
        "  for c in number:\n",
        "    if c == '0':\n",
        "      leading_zeros += 1\n",
        "    else:\n",
        "      break\n",
        "  contains_num += 1\n",
        "\n",
        "print(contains_num)\n",
        "print(leading_zeros)\n",
        "\n",
        "if contains_num == 0:\n",
        "  result += text + \"1\"\n",
        "else:\n",
        "  text = text[:starting_index]\n",
        "  n = str(int(number))\n",
        "  if n == '0' or (leading_zeros > 0 and len(str(int(number)+1)) != len(str(int(number)))):\n",
        "    result += text + \"0\"*(leading_zeros-1) + str(int(number)+1)\n",
        "  else:\n",
        "    result += text + \"0\"*leading_zeros + str(int(number)+1)\n",
        "\n",
        "result"
      ],
      "execution_count": 111,
      "outputs": [
        {
          "output_type": "stream",
          "text": [
            "1\n",
            "2\n"
          ],
          "name": "stdout"
        },
        {
          "output_type": "execute_result",
          "data": {
            "application/vnd.google.colaboratory.intrinsic+json": {
              "type": "string"
            },
            "text/plain": [
              "'foobar0100'"
            ]
          },
          "metadata": {
            "tags": []
          },
          "execution_count": 111
        }
      ]
    },
    {
      "cell_type": "code",
      "metadata": {
        "colab": {
          "base_uri": "https://localhost:8080/"
        },
        "id": "7gnnx36y54-B",
        "outputId": "dc67c1fd-cd0f-43ca-9a23-2ea1187c146a"
      },
      "source": [
        "text = \"3232foo0042\"\n",
        "result = \"\"\n",
        "\n",
        "pattern = re.compile(r\"\\d+\\b\")\n",
        "matches = pattern.finditer(text)\n",
        "\n",
        "for m in matches:\n",
        "  print(m.span()[0])"
      ],
      "execution_count": 101,
      "outputs": [
        {
          "output_type": "stream",
          "text": [
            "7\n"
          ],
          "name": "stdout"
        }
      ]
    },
    {
      "cell_type": "code",
      "metadata": {
        "id": "YcnLL7scGP-t"
      },
      "source": [
        ""
      ],
      "execution_count": null,
      "outputs": []
    }
  ]
}
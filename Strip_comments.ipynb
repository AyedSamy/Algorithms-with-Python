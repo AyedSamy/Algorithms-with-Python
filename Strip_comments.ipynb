{
  "nbformat": 4,
  "nbformat_minor": 0,
  "metadata": {
    "colab": {
      "name": "Strip comments",
      "provenance": [],
      "collapsed_sections": []
    },
    "kernelspec": {
      "name": "python3",
      "display_name": "Python 3"
    },
    "language_info": {
      "name": "python"
    }
  },
  "cells": [
    {
      "cell_type": "code",
      "metadata": {
        "id": "fbVGMEWmL8vk"
      },
      "source": [
        "\"\"\"\n",
        "\n",
        "- Strip Comments -\n",
        "\n",
        "Complete the solution so that it strips all text that follows any of a set of comment markers passed in. Any whitespace at the end of the line should also be stripped out.\n",
        "\n",
        "Example:\n",
        "\n",
        "Given an input string of:\n",
        "\n",
        "apples, pears # and bananas\n",
        "grapes\n",
        "bananas !apples\n",
        "The output expected would be:\n",
        "\n",
        "apples, pears\n",
        "grapes\n",
        "bananas\n",
        "The code would be called like so:\n",
        "\n",
        "result = solution(\"apples, pears # and bananas\\ngrapes\\nbananas !apples\", [\"#\", \"!\"])\n",
        "# result should == \"apples, pears\\ngrapes\\nbananas\"\n",
        "\n",
        "\"\"\"\n"
      ],
      "execution_count": 42,
      "outputs": []
    },
    {
      "cell_type": "code",
      "metadata": {
        "colab": {
          "base_uri": "https://localhost:8080/"
        },
        "id": "Xbqgt1J-JwT3",
        "outputId": "909700dd-3160-475f-bb4d-c21345270b3d"
      },
      "source": [
        "txt = 'oranges pears apples avocados bananas lemons\\nstrawberries lemons watermelons =\\nbananas oranges avocados pears apples\\n@ oranges pears\\n# avocados lemons lemons pears .'\n",
        "markers = ['.', ',', '#', '^', '=']\n",
        "split_txt = txt.split('\\n')\n",
        "split_txt"
      ],
      "execution_count": 63,
      "outputs": [
        {
          "output_type": "execute_result",
          "data": {
            "text/plain": [
              "['oranges pears apples avocados bananas lemons',\n",
              " 'strawberries lemons watermelons =',\n",
              " 'bananas oranges avocados pears apples',\n",
              " '@ oranges pears',\n",
              " '# avocados lemons lemons pears .']"
            ]
          },
          "metadata": {
            "tags": []
          },
          "execution_count": 63
        }
      ]
    },
    {
      "cell_type": "code",
      "metadata": {
        "colab": {
          "base_uri": "https://localhost:8080/"
        },
        "id": "Mr-201yRFfeI",
        "outputId": "d4b2922b-cc07-4e78-dbe8-29fa8583b289"
      },
      "source": [
        "new = []\n",
        "\n",
        "for i, sub in enumerate(split_txt):\n",
        "  no_marker = True\n",
        "  for c in markers:\n",
        "    if c in sub:\n",
        "      sub_split = sub.split(c)\n",
        "      new.append(sub_split)\n",
        "      no_marker = False\n",
        "  if no_marker == True:\n",
        "    new.append([sub])\n",
        "\n",
        "print(new)\n",
        "\n",
        "new_txt = \"\"\n",
        "\n",
        "for i, sub in enumerate(new):\n",
        "  if sub[0] != '' and sub[0][0] not in markers:\n",
        "    new_txt += sub[0].strip()\n",
        "    if (i < len(new)-1):\n",
        "      new_txt += '\\\\n'\n",
        "\n",
        "print(new_txt)\n",
        "\n"
      ],
      "execution_count": 65,
      "outputs": [
        {
          "output_type": "stream",
          "text": [
            "[['oranges pears apples avocados bananas lemons'], ['strawberries lemons watermelons ', ''], ['bananas oranges avocados pears apples'], ['@ oranges pears'], ['# avocados lemons lemons pears ', ''], ['', ' avocados lemons lemons pears .']]\n",
            "oranges pears apples avocados bananas lemons\\nstrawberries lemons watermelons\\nbananas oranges avocados pears apples\\n@ oranges pears\\n\n"
          ],
          "name": "stdout"
        }
      ]
    },
    {
      "cell_type": "code",
      "metadata": {
        "colab": {
          "base_uri": "https://localhost:8080/"
        },
        "id": "AXYYBvnmGhKG",
        "outputId": "be1516d7-6c7c-4527-e019-a84534aed32a"
      },
      "source": [
        "nums"
      ],
      "execution_count": 38,
      "outputs": [
        {
          "output_type": "execute_result",
          "data": {
            "text/plain": [
              "[[14, '#'], [27, '\\n'], [34, '\\n'], [43, '!']]"
            ]
          },
          "metadata": {
            "tags": []
          },
          "execution_count": 38
        }
      ]
    },
    {
      "cell_type": "code",
      "metadata": {
        "colab": {
          "base_uri": "https://localhost:8080/"
        },
        "id": "-79UQvSjG8Gn",
        "outputId": "d7631d1f-b007-48da-d899-fc3dfd2c4d12"
      },
      "source": [
        "a = \" jffjn \"\n",
        "print(len(a))\n",
        "print(len(a.strip()))"
      ],
      "execution_count": 53,
      "outputs": [
        {
          "output_type": "stream",
          "text": [
            "7\n",
            "5\n"
          ],
          "name": "stdout"
        }
      ]
    },
    {
      "cell_type": "code",
      "metadata": {
        "colab": {
          "base_uri": "https://localhost:8080/"
        },
        "id": "6XjaxKAkQwR9",
        "outputId": "c0a4fded-91d3-4b1e-ad30-d3ba1e72add9"
      },
      "source": [
        "a = \"\\n\\n\\n\"\n",
        "a.split(\"\\n\")"
      ],
      "execution_count": 55,
      "outputs": [
        {
          "output_type": "execute_result",
          "data": {
            "text/plain": [
              "['', '', '', '']"
            ]
          },
          "metadata": {
            "tags": []
          },
          "execution_count": 55
        }
      ]
    },
    {
      "cell_type": "code",
      "metadata": {
        "id": "40ls_BwIRWTX"
      },
      "source": [
        "'oranges watermelons watermelons\\nwatermelons\\noranges\\ncherries - lemons\\n?\\n'\n",
        "\n",
        "'oranges watermelons watermelons\\nwatermelons\\noranges\\ncherries - lemons\\n'\n",
        "\n",
        "\n",
        "\n",
        "\n",
        "'oranges pears apples avocados bananas lemons\\nstrawberries lemons watermelons\\nbananas oranges avocados pears apples\\n@ oranges pears\\n# avocados lemons lemons pears\\n'\n",
        "'oranges pears apples avocados bananas lemons\\nstrawberries lemons watermelons\\nbananas oranges avocados pears apples\\n@ oranges pears\\n'"
      ],
      "execution_count": null,
      "outputs": []
    },
    {
      "cell_type": "code",
      "metadata": {
        "id": "UAiwyMiTVtfX"
      },
      "source": [
        "\"\"\"\n",
        "oranges pears apples avocados bananas lemons\\nstrawberries lemons watermelons =\\nbananas oranges avocados pears apples\\n@ oranges pears\\n# avocados lemons lemons pears .\n",
        "\"\"\""
      ],
      "execution_count": null,
      "outputs": []
    }
  ]
}
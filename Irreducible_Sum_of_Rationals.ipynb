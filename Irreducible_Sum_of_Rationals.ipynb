{
  "nbformat": 4,
  "nbformat_minor": 0,
  "metadata": {
    "colab": {
      "name": "Irreducible Sum of Rationals",
      "provenance": []
    },
    "kernelspec": {
      "name": "python3",
      "display_name": "Python 3"
    },
    "language_info": {
      "name": "python"
    }
  },
  "cells": [
    {
      "cell_type": "code",
      "metadata": {
        "id": "f4hjkvbPhp_v"
      },
      "source": [
        "\"\"\"\n",
        "You will have a list of rationals in the form\n",
        "\n",
        "lst = [ [numer_1, denom_1] , ... , [numer_n, denom_n] ]\n",
        "or\n",
        "\n",
        "lst = [ (numer_1, denom_1) , ... , (numer_n, denom_n) ]\n",
        "where all numbers are positive integers. You have to produce their sum N / D in an irreducible form: this means that N and D have only 1 as a common divisor.\n",
        "\n",
        "Return the result in the form:\n",
        "\n",
        "[N, D] in Ruby, Crystal, Python, Clojure, JS, CS, PHP, Julia, Pascal\n",
        "Just \"N D\" in Haskell, PureScript\n",
        "\"[N, D]\" in Java, CSharp, TS, Scala, PowerShell, Kotlin\n",
        "\"N/D\" in Go, Nim\n",
        "{N, D} in C, C++, Elixir, Lua\n",
        "Some((N, D)) in Rust\n",
        "Some \"N D\" in F#, Ocaml\n",
        "c(N, D) in R\n",
        "(N, D) in Swift\n",
        "'(N D) in Racket\n",
        "If the result is an integer (D evenly divides N) return:\n",
        "\n",
        "an integer in Ruby, Crystal, Elixir, Clojure, Python, JS, CS, PHP, R, Julia\n",
        "Just \"n\" (Haskell, PureScript)\n",
        "\"n\" Java, CSharp, TS, Scala, PowerShell, Go, Nim, Kotlin\n",
        "{n, 1} in C, C++, Lua\n",
        "Some((n, 1)) in Rust\n",
        "Some \"n\" in F#, Ocaml,\n",
        "(n, 1) in Swift\n",
        "n in Racket\n",
        "(n, 1) in Pascal\n",
        "If the input list is empty, return\n",
        "\n",
        "nil/None/null/Nothing\n",
        "{0, 1} in C, C++, Lua\n",
        "\"0\" in Scala, PowerShell, Go, Nim\n",
        "O in Racket\n",
        "\"\" in Kotlin\n",
        "[0, 1] in C++\n",
        "Example:\n",
        "[ [1, 2], [1, 3], [1, 4] ]  -->  [13, 12]\n",
        "1/2  +  1/3  +  1/4     =      13/12\n",
        "\n",
        "\"\"\""
      ],
      "execution_count": null,
      "outputs": []
    },
    {
      "cell_type": "code",
      "metadata": {
        "colab": {
          "base_uri": "https://localhost:8080/"
        },
        "id": "NULSz_sXhzVs",
        "outputId": "932b39ef-7b19-4238-8ac3-ab7dcbb10ca6"
      },
      "source": [
        "from fractions import Fraction\n",
        "\n",
        "ls = [ [1, 3], [5, 3] ]\n",
        "total = 0\n",
        "for c in ls:\n",
        "  total += c[0]/c[1]\n",
        "\n",
        "try:\n",
        "  [int(str(Fraction(total).limit_denominator()).split('/')[0]),int(str(Fraction(total).limit_denominator()).split('/')[1])]\n",
        "except:\n",
        "  print(int(Fraction(total).limit_denominator()))"
      ],
      "execution_count": 17,
      "outputs": [
        {
          "output_type": "stream",
          "text": [
            "2\n"
          ],
          "name": "stdout"
        }
      ]
    },
    {
      "cell_type": "code",
      "metadata": {
        "colab": {
          "base_uri": "https://localhost:8080/"
        },
        "id": "4tBb55ZtiFtx",
        "outputId": "f8836592-4282-4a3c-dc73-1a6c78e244d6"
      },
      "source": [
        "2457027 / 460991"
      ],
      "execution_count": 18,
      "outputs": [
        {
          "output_type": "execute_result",
          "data": {
            "text/plain": [
              "5.329880626736748"
            ]
          },
          "metadata": {
            "tags": []
          },
          "execution_count": 18
        }
      ]
    },
    {
      "cell_type": "code",
      "metadata": {
        "colab": {
          "base_uri": "https://localhost:8080/"
        },
        "id": "k0owuZ9AjDse",
        "outputId": "8b614fdc-363b-46dd-9bea-2c0891769859"
      },
      "source": [
        "79677895891146625 / 14949283383840498"
      ],
      "execution_count": 19,
      "outputs": [
        {
          "output_type": "execute_result",
          "data": {
            "text/plain": [
              "5.329880626737924"
            ]
          },
          "metadata": {
            "tags": []
          },
          "execution_count": 19
        }
      ]
    },
    {
      "cell_type": "code",
      "metadata": {
        "id": "QPrKHh4WlbfL"
      },
      "source": [
        ""
      ],
      "execution_count": null,
      "outputs": []
    }
  ]
}
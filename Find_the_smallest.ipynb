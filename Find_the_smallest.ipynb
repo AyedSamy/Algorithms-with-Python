{
  "nbformat": 4,
  "nbformat_minor": 0,
  "metadata": {
    "colab": {
      "name": "Find the smallest",
      "provenance": []
    },
    "kernelspec": {
      "name": "python3",
      "display_name": "Python 3"
    },
    "language_info": {
      "name": "python"
    }
  },
  "cells": [
    {
      "cell_type": "code",
      "metadata": {
        "id": "xYVyu0lMG_h0"
      },
      "source": [
        "\"\"\"\n",
        "You have a positive number n consisting of digits. You can do at most one operation: Choosing the index of a digit in the number, remove this digit at that index and insert it back to another or at the same place in the number in order to find the smallest number you can get.\n",
        "\n",
        "Task:\n",
        "Return an array or a tuple or a string depending on the language (see \"Sample Tests\") with\n",
        "\n",
        "the smallest number you got\n",
        "the index i of the digit d you took, i as small as possible\n",
        "the index j (as small as possible) where you insert this digit d to have the smallest number.\n",
        "Examples:\n",
        "smallest(261235) --> [126235, 2, 0] or (126235, 2, 0) or \"126235, 2, 0\"\n",
        "126235 is the smallest number gotten by taking 1 at index 2 and putting it at index 0\n",
        "\n",
        "smallest(209917) --> [29917, 0, 1] or ...\n",
        "\n",
        "[29917, 1, 0] could be a solution too but index `i` in [29917, 1, 0] is greater than \n",
        "index `i` in [29917, 0, 1].\n",
        "29917 is the smallest number gotten by taking 2 at index 0 and putting it at index 1 which gave 029917 which is the number 29917.\n",
        "\n",
        "smallest(1000000) --> [1, 0, 6] or ...\n",
        "Note\n",
        "Have a look at \"Sample Tests\" to see the input and output in each language\n",
        "\"\"\""
      ],
      "execution_count": null,
      "outputs": []
    },
    {
      "cell_type": "code",
      "metadata": {
        "colab": {
          "base_uri": "https://localhost:8080/"
        },
        "id": "W7N7rPW3HlbI",
        "outputId": "48437c5d-832a-432c-a43a-a0bf86019388"
      },
      "source": [
        "num = \"6012035\"\n",
        "min_sub_d = 10\n",
        "min_idx = 10000\n",
        "\n",
        "for i, d in enumerate(num):\n",
        "  min_d = num[i]\n",
        "  sub_num = num[i+1:]\n",
        "  \n",
        "  for sub_d in sub_num:\n",
        "    if int(sub_d) < int(min_d):\n",
        "      if int(sub_d) < int(min_sub_d):\n",
        "        min_sub_d = sub_d\n",
        "        if i < min_idx:\n",
        "          min_idx = i\n",
        "\n",
        "#num[:0]\n",
        "print(min_sub_d, min_idx)\n",
        "\n",
        "result = num[:min_idx] + str(min_sub_d)+ num[min_idx:].replace(str(min_sub_d),\"\",1)\n",
        "\n",
        "print(result)"
      ],
      "execution_count": 48,
      "outputs": [
        {
          "output_type": "stream",
          "text": [
            "0 0\n",
            "0612035\n"
          ],
          "name": "stdout"
        }
      ]
    },
    {
      "cell_type": "code",
      "metadata": {
        "id": "LQ4Svo0ChVOn"
      },
      "source": [
        ""
      ],
      "execution_count": 25,
      "outputs": []
    }
  ]
}
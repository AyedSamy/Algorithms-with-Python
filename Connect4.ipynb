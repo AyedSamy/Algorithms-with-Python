{
  "nbformat": 4,
  "nbformat_minor": 0,
  "metadata": {
    "colab": {
      "name": "Connect4",
      "provenance": [],
      "collapsed_sections": []
    },
    "kernelspec": {
      "display_name": "Python 3",
      "name": "python3"
    },
    "language_info": {
      "name": "python"
    }
  },
  "cells": [
    {
      "cell_type": "code",
      "metadata": {
        "id": "LeMrPxlJxOKi"
      },
      "source": [
        "\"\"\"\n",
        "Introduction\n",
        "We all love to play games especially as children. I have fond memories playing Connect 4 with my brother so decided to create this Kata based on the classic game. Connect 4 is known as several names such as “Four in a Row” and “Captain’s Mistress\" but was made popular by Hasbro MB Games\n",
        "Connect 4\n",
        "Task\n",
        "The game consists of a grid (7 columns and 6 rows) and two players that take turns to drop their discs. The pieces fall straight down, occupying the next available space within the column. The objective of the game is to be the first to form a horizontal, vertical, or diagonal line of four of one's own discs.\n",
        "\n",
        "Your task is to create a Class called Connect4 that has a method called play which takes one argument for the column where the player is going to place their disc.\n",
        "Rules\n",
        "If a player successfully has 4 discs horizontally, vertically or diagonally then you should return \"Player n wins!” where n is the current player either 1 or 2.\n",
        "\n",
        "If a player attempts to place a disc in a column that is full then you should return ”Column full!” and the next move must be taken by the same player.\n",
        "\n",
        "If the game has been won by a player, any following moves should return ”Game has finished!”.\n",
        "\n",
        "Any other move should return ”Player n has a turn” where n is the current player either 1 or 2.\n",
        " \n",
        "Player 1 starts the game every time and alternates with player 2.\n",
        "\n",
        "The columns are numbered 0-6 left to right.\n",
        "Good luck and enjoy!\n",
        "\"\"\""
      ],
      "execution_count": null,
      "outputs": []
    },
    {
      "cell_type": "code",
      "metadata": {
        "id": "Ocs828bcN0C2"
      },
      "source": [
        "class Connect4():\n",
        "\n",
        "    i = 0\n",
        "    def __init__(self):\n",
        "        super().__init__()\n",
        "        self.ROW_NUMBER = 6\n",
        "        self.COL_NUMBER = 7\n",
        "        self.grid = [[0 for j in range(self.COL_NUMBER)] for i in range(self.ROW_NUMBER)]\n",
        "        self.moves = {}\n",
        "        for i in range(self.COL_NUMBER):\n",
        "            self.moves[i] = 0\n",
        "        self.turn = 1 # starting player\n",
        "        self.end = False\n",
        "    \n",
        "\n",
        "    def check_win(self, piece):\n",
        "        # check horizontal\n",
        "        for row in self.grid:\n",
        "            for i in range(0,len(row)-3):\n",
        "                if row[i] == piece and row[i+1] == piece and row[i+2] == piece and row[i+3] == piece:\n",
        "                    self.end = True\n",
        "                    \n",
        "                    \n",
        "        # check vertical\n",
        "        for i in range(0,self.ROW_NUMBER-3):\n",
        "            for j in range(0,self.COL_NUMBER):\n",
        "                if self.grid[i][j] == piece and self.grid[i+1][j] == piece and self.grid[i+2][j] == piece and self.grid[i+3][j] == piece:\n",
        "                    self.end = True\n",
        "    \n",
        "        # check positive slopes\n",
        "        for i in list(reversed(range(0,self.ROW_NUMBER)))[:-3]:\n",
        "            for j in range(0,self.COL_NUMBER-3):\n",
        "                if self.grid[i][j] == piece and self.grid[i-1][j+1] == piece and self.grid[i-2][j+2] == piece and self.grid[i-3][j+3] == piece:\n",
        "                    self.end = True\n",
        "\n",
        "        # check negative slopes\n",
        "        for i in range(0,self.ROW_NUMBER-3):\n",
        "            for j in range(0,self.COL_NUMBER-3):\n",
        "                if self.grid[i][j] == piece and self.grid[i+1][j+1] == piece and self.grid[i+2][j+2] == piece and self.grid[i+3][j+3] == piece:\n",
        "                    self.end = True\n",
        "                    \n",
        "    def play(self, col):\n",
        "        if not self.end:\n",
        "            if col < self.COL_NUMBER and self.moves[col] < self.ROW_NUMBER:\n",
        "                self.grid[(self.ROW_NUMBER-1)-self.moves[col]][col] = self.turn\n",
        "                self.moves[col] += 1\n",
        "\n",
        "                self.check_win(self.turn)\n",
        "\n",
        "                if self.end == False:\n",
        "                    self.i += 1\n",
        "                    self.turn = self.i%2 + 1\n",
        "                    return \"Player \" + str((self.turn)%2+1) + \" has a turn\"\n",
        "                else:\n",
        "                    return \"Player \" + str(self.turn) + \" wins!\"\n",
        "            else:\n",
        "                return \"Column full!\"\n",
        "        else:\n",
        "            return \"Game has finished!\"\n",
        "    "
      ],
      "execution_count": 124,
      "outputs": []
    },
    {
      "cell_type": "code",
      "metadata": {
        "id": "tgXLS5yabqLk"
      },
      "source": [
        "g = Connect4()"
      ],
      "execution_count": 125,
      "outputs": []
    },
    {
      "cell_type": "code",
      "metadata": {
        "colab": {
          "base_uri": "https://localhost:8080/"
        },
        "id": "jc5wEhzOm_WF",
        "outputId": "283acc19-71f7-4aa7-fa59-a6aecbf5228f"
      },
      "source": [
        "print(g.play(2))\n",
        "g.grid"
      ],
      "execution_count": 123,
      "outputs": [
        {
          "output_type": "stream",
          "text": [
            "Player 2 has a turn\n"
          ],
          "name": "stdout"
        },
        {
          "output_type": "execute_result",
          "data": {
            "text/plain": [
              "[[0, 0, 0, 0, 0, 0, 0],\n",
              " [0, 0, 0, 0, 0, 0, 0],\n",
              " [0, 0, 0, 0, 0, 0, 0],\n",
              " [0, 0, 0, 0, 0, 0, 0],\n",
              " [0, 0, 2, 0, 0, 0, 0],\n",
              " [0, 0, 1, 0, 0, 0, 0]]"
            ]
          },
          "metadata": {
            "tags": []
          },
          "execution_count": 123
        }
      ]
    },
    {
      "cell_type": "code",
      "metadata": {
        "colab": {
          "base_uri": "https://localhost:8080/"
        },
        "id": "1de-GyPkbvUx",
        "outputId": "c1d82b6d-002d-41d0-953c-d2cbeba5113a"
      },
      "source": [
        "print(g.turn)"
      ],
      "execution_count": 122,
      "outputs": [
        {
          "output_type": "stream",
          "text": [
            "2\n"
          ],
          "name": "stdout"
        }
      ]
    },
    {
      "cell_type": "code",
      "metadata": {
        "id": "D_lH8YRlPCss"
      },
      "source": [
        ""
      ],
      "execution_count": null,
      "outputs": []
    }
  ]
}
{
  "nbformat": 4,
  "nbformat_minor": 0,
  "metadata": {
    "colab": {
      "name": "Product Of Array Except Self",
      "provenance": [],
      "collapsed_sections": []
    },
    "kernelspec": {
      "name": "python3",
      "display_name": "Python 3"
    },
    "language_info": {
      "name": "python"
    }
  },
  "cells": [
    {
      "cell_type": "code",
      "metadata": {
        "colab": {
          "base_uri": "https://localhost:8080/"
        },
        "id": "MHfSeGguUMWC",
        "outputId": "8e3b8943-3a7b-4485-c35e-d0eae50471a3"
      },
      "source": [
        "arr = [1,2,3,4]\n",
        "output = [0 for n in range(len(arr))]\n",
        "\n",
        "left_products = [0 for n in range(len(arr))]\n",
        "left_products[0] = 1\n",
        "i = 1\n",
        "\n",
        "while i < len(arr):\n",
        "    left_products[i] = arr[i-1] * left_products[i-1]\n",
        "    i+=1\n",
        "\n",
        "print(left_products)\n",
        "\n",
        "right_products = [0 for n in range(len(arr))]\n",
        "i = len(arr)-1\n",
        "\n",
        "while i >= 0:\n",
        "  if i == len(arr)-1:\n",
        "    right_products[i] = 1\n",
        "    product = 1\n",
        "  else:\n",
        "    product = product * arr[i+1]\n",
        "    right_products[i] = product\n",
        "  i -= 1\n",
        "\n",
        "print(right_products)\n",
        "\n",
        "for i in range(len(arr)):\n",
        "  output[i] = left_products[i] * right_products[i]\n",
        "\n",
        "output\n",
        "\n"
      ],
      "execution_count": null,
      "outputs": [
        {
          "output_type": "stream",
          "text": [
            "[1, 1, 2, 6]\n",
            "[24, 12, 4, 1]\n"
          ],
          "name": "stdout"
        },
        {
          "output_type": "execute_result",
          "data": {
            "text/plain": [
              "[24, 12, 8, 6]"
            ]
          },
          "metadata": {
            "tags": []
          },
          "execution_count": 8
        }
      ]
    },
    {
      "cell_type": "code",
      "metadata": {
        "id": "54vUuLSJmdjG"
      },
      "source": [
        ""
      ],
      "execution_count": null,
      "outputs": []
    }
  ]
}
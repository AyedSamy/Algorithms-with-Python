{
  "nbformat": 4,
  "nbformat_minor": 0,
  "metadata": {
    "colab": {
      "name": "Unique Paths",
      "provenance": [],
      "collapsed_sections": []
    },
    "kernelspec": {
      "name": "python3",
      "display_name": "Python 3"
    },
    "language_info": {
      "name": "python"
    }
  },
  "cells": [
    {
      "cell_type": "code",
      "metadata": {
        "id": "IBD2P0Eb2oaA"
      },
      "source": [
        "\"\"\"\n",
        "A robot is located at the top-left corner of a m x n grid (marked 'Start' in the diagram below).\n",
        "\n",
        "The robot can only move either down or right at any point in time. The robot is trying to reach the bottom-right corner of the grid (marked 'Finish' in the diagram below).\n",
        "\n",
        "How many possible unique paths are there?\n",
        "\n",
        "\n",
        "Example 1:\n",
        "\n",
        "\n",
        "Input: m = 3, n = 7\n",
        "Output: 28\n",
        "\n",
        "Example 2:\n",
        "\n",
        "Input: m = 3, n = 2\n",
        "Output: 3\n",
        "Explanation:\n",
        "From the top-left corner, there are a total of 3 ways to reach the bottom-right corner:\n",
        "1. Right -> Down -> Down\n",
        "2. Down -> Down -> Right\n",
        "3. Down -> Right -> Down\n",
        "\n",
        "Example 3:\n",
        "\n",
        "Input: m = 7, n = 3\n",
        "Output: 28\n",
        "\n",
        "Example 4:\n",
        "\n",
        "Input: m = 3, n = 3\n",
        "Output: 6\n",
        " \n",
        "\n",
        "Constraints:\n",
        "\n",
        "1 <= m, n <= 100\n",
        "It's guaranteed that the answer will be less than or equal to 2 * 109.\n",
        "\"\"\""
      ],
      "execution_count": null,
      "outputs": []
    },
    {
      "cell_type": "code",
      "metadata": {
        "id": "GEsmK8Ru3l_C"
      },
      "source": [
        "class Solution:\n",
        "    def uniquePaths(self, m: int, n: int) -> int:\n",
        "        grid = [[0 for i in range(m)] for j in range(n)]\n",
        "\n",
        "        j = 0\n",
        "        while j < len(grid[0]):\n",
        "            grid[0][j] = 1\n",
        "            j += 1\n",
        "\n",
        "        i = 1\n",
        "        while i < len(grid):\n",
        "            grid[i][0] = 1\n",
        "            i += 1\n",
        "\n",
        "        i = 1\n",
        "        while i < len(grid):\n",
        "            j = 1\n",
        "            while j < len(grid[0]):\n",
        "                grid[i][j] = grid[i-1][j] + grid[i][j-1]\n",
        "                j += 1\n",
        "            i += 1\n",
        "        \n",
        "        return grid[i-1][j-1]"
      ],
      "execution_count": null,
      "outputs": []
    },
    {
      "cell_type": "code",
      "metadata": {
        "colab": {
          "base_uri": "https://localhost:8080/"
        },
        "id": "FtI5B9Tp05dh",
        "outputId": "7812113c-0c7b-46ba-c11c-294057340018"
      },
      "source": [
        "grid = [[0 for i in range(7)] for j in range(3)]\n",
        "\n",
        "j = 0\n",
        "while j < len(grid[0]):\n",
        "  grid[0][j] = 1\n",
        "  j += 1\n",
        "\n",
        "i = 1\n",
        "while i < len(grid):\n",
        "  grid[i][0] = 1\n",
        "  i += 1\n",
        "\n",
        "i = 1\n",
        "while i < len(grid):\n",
        "  j = 1\n",
        "  while j < len(grid[0]):\n",
        "    grid[i][j] = grid[i-1][j] + grid[i][j-1]\n",
        "    j += 1\n",
        "  i += 1\n",
        "\n",
        "print(grid)\n",
        "print(\"Result:\", grid[i-1][j-1])"
      ],
      "execution_count": null,
      "outputs": [
        {
          "output_type": "stream",
          "text": [
            "[[1, 1, 1, 1, 1, 1, 1], [1, 2, 3, 4, 5, 6, 7], [1, 3, 6, 10, 15, 21, 28]]\n",
            "Result: 28\n"
          ],
          "name": "stdout"
        }
      ]
    },
    {
      "cell_type": "code",
      "metadata": {
        "colab": {
          "base_uri": "https://localhost:8080/"
        },
        "id": "eDs4bWDZ1AaK",
        "outputId": "481ae760-82ba-478c-d098-aa496ed3ac2a"
      },
      "source": [
        "\n",
        "grid"
      ],
      "execution_count": null,
      "outputs": [
        {
          "output_type": "execute_result",
          "data": {
            "text/plain": [
              "[[1, 1, 1, 1, 1, 1, 1], [1, 0, 0, 0, 0, 0, 0], [1, 0, 0, 0, 0, 0, 0]]"
            ]
          },
          "metadata": {
            "tags": []
          },
          "execution_count": 3
        }
      ]
    },
    {
      "cell_type": "code",
      "metadata": {
        "id": "iCZnRuQR1ryE"
      },
      "source": [
        ""
      ],
      "execution_count": null,
      "outputs": []
    }
  ]
}
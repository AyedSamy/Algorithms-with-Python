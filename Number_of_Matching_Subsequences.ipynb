{
  "nbformat": 4,
  "nbformat_minor": 0,
  "metadata": {
    "colab": {
      "name": "Number of Matching Subsequences",
      "provenance": [],
      "collapsed_sections": []
    },
    "kernelspec": {
      "name": "python3",
      "display_name": "Python 3"
    },
    "language_info": {
      "name": "python"
    }
  },
  "cells": [
    {
      "cell_type": "code",
      "metadata": {
        "id": "veMI3BY8Ppjl"
      },
      "source": [
        "\"\"\"\n",
        "Given a string s and an array of strings words, return the number of words[i] that is a subsequence of s.\n",
        "\n",
        "A subsequence of a string is a new string generated from the original string with some characters (can be none) deleted without changing the relative order of the remaining characters.\n",
        "\n",
        "For example, \"ace\" is a subsequence of \"abcde\".\n",
        " \n",
        "\n",
        "Example 1:\n",
        "\n",
        "Input: s = \"abcde\", words = [\"a\",\"bb\",\"acd\",\"ace\"]\n",
        "Output: 3\n",
        "Explanation: There are three strings in words that are a subsequence of s: \"a\", \"acd\", \"ace\".\n",
        "Example 2:\n",
        "\n",
        "Input: s = \"dsahjpjauf\", words = [\"ahjpjau\",\"ja\",\"ahbwzgqnuk\",\"tnmlanowax\"]\n",
        "Output: 2\n",
        " \n",
        "\n",
        "Constraints:\n",
        "\n",
        "1 <= s.length <= 5 * 104\n",
        "1 <= words.length <= 5000\n",
        "1 <= words[i].length <= 50\n",
        "s and words[i] consist of only lowercase English letters.\n",
        "\"\"\""
      ],
      "execution_count": null,
      "outputs": []
    },
    {
      "cell_type": "code",
      "metadata": {
        "id": "LTLrW553QAU4"
      },
      "source": [
        "s = \"dsahjpjauf\"\n",
        "words = [\"ahjpjau\",\"ja\",\"ahbwzgqnuk\",\"tnmlanowax\"]\n",
        "result = 0\n",
        "r_words = []"
      ],
      "execution_count": 35,
      "outputs": []
    },
    {
      "cell_type": "code",
      "metadata": {
        "id": "1cRAWBuVQVrP"
      },
      "source": [
        "for w in words:\n",
        "  count = 0\n",
        "  last_i = -1\n",
        "  for c in w:\n",
        "    for i, c2 in enumerate(s):\n",
        "      if c == c2 and i > last_i:\n",
        "        last_i = i\n",
        "        count += 1\n",
        "        break\n",
        "    if count == len(w):\n",
        "      result += 1\n",
        "      r_words.append(w)\n",
        "      break\n",
        "    \n"
      ],
      "execution_count": 36,
      "outputs": []
    },
    {
      "cell_type": "code",
      "metadata": {
        "colab": {
          "base_uri": "https://localhost:8080/"
        },
        "id": "HVY_Ry3LSaHU",
        "outputId": "d04c103c-2402-48a0-a535-c59ba60ac849"
      },
      "source": [
        "result"
      ],
      "execution_count": 37,
      "outputs": [
        {
          "output_type": "execute_result",
          "data": {
            "text/plain": [
              "2"
            ]
          },
          "metadata": {},
          "execution_count": 37
        }
      ]
    },
    {
      "cell_type": "code",
      "metadata": {
        "colab": {
          "base_uri": "https://localhost:8080/"
        },
        "id": "_Ps1_C90Sa67",
        "outputId": "7fcdd3f7-fec9-4052-8a4d-20f3a36a8fb6"
      },
      "source": [
        "r_words"
      ],
      "execution_count": 38,
      "outputs": [
        {
          "output_type": "execute_result",
          "data": {
            "text/plain": [
              "['ahjpjau', 'ja']"
            ]
          },
          "metadata": {},
          "execution_count": 38
        }
      ]
    },
    {
      "cell_type": "code",
      "metadata": {
        "id": "RZL7kLcpSyQf"
      },
      "source": [
        ""
      ],
      "execution_count": 11,
      "outputs": []
    }
  ]
}
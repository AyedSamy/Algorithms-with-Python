{
  "nbformat": 4,
  "nbformat_minor": 0,
  "metadata": {
    "colab": {
      "name": "Remove Nth Node From End of List",
      "provenance": []
    },
    "kernelspec": {
      "name": "python3",
      "display_name": "Python 3"
    },
    "language_info": {
      "name": "python"
    }
  },
  "cells": [
    {
      "cell_type": "code",
      "metadata": {
        "id": "pYmSaTBRwHP_"
      },
      "source": [
        "\"\"\"\n",
        "Given the head of a linked list, remove the nth node from the end of the list and return its head.\n",
        "\n",
        " \n",
        "\n",
        "Example 1:\n",
        "\n",
        "\n",
        "Input: head = [1,2,3,4,5], n = 2\n",
        "Output: [1,2,3,5]\n",
        "Example 2:\n",
        "\n",
        "Input: head = [1], n = 1\n",
        "Output: []\n",
        "Example 3:\n",
        "\n",
        "Input: head = [1,2], n = 1\n",
        "Output: [1]\n",
        " \n",
        "\n",
        "Constraints:\n",
        "\n",
        "The number of nodes in the list is sz.\n",
        "1 <= sz <= 30\n",
        "0 <= Node.val <= 100\n",
        "1 <= n <= sz\n",
        "\"\"\""
      ],
      "execution_count": null,
      "outputs": []
    },
    {
      "cell_type": "code",
      "metadata": {
        "id": "Y9_vUPPYKt6i"
      },
      "source": [
        "# Definition for singly-linked list.\n",
        "# class ListNode:\n",
        "#     def __init__(self, val=0, next=None):\n",
        "#         self.val = val\n",
        "#         self.next = next\n",
        "\n",
        "def build_nodelist(nodeList):\n",
        "    if len(nodeList) == 1:\n",
        "        return ListNode(nodeList[0],None)\n",
        "    else:\n",
        "        current_node_value = nodeList[0]\n",
        "        nodeList = nodeList[1:]\n",
        "        return ListNode(current_node_value,build_nodelist(nodeList))\n",
        "    \n",
        "class Solution:\n",
        "    def removeNthFromEnd(self, head: ListNode, n: int) -> ListNode:\n",
        "        n_nodes = 1\n",
        "        node_to_delete = n\n",
        "\n",
        "        current_node = head\n",
        "        node_array = []\n",
        "        while current_node.next != None:\n",
        "            node_array.append(current_node.val)\n",
        "            current_node = current_node.next\n",
        "            if current_node.next == None:\n",
        "                node_array.append(current_node.val)\n",
        "            n_nodes += 1\n",
        "\n",
        "        node_to_delete_idx = n_nodes - node_to_delete\n",
        "        node_array_deleted = []\n",
        "        for i, node in enumerate(node_array):\n",
        "            if i != node_to_delete_idx:\n",
        "                node_array_deleted.append(node)\n",
        "        if len(node_array_deleted) == 0:\n",
        "            return None\n",
        "        return build_nodelist(node_array_deleted)"
      ],
      "execution_count": null,
      "outputs": []
    },
    {
      "cell_type": "code",
      "metadata": {
        "id": "86QXGDQXi-BW"
      },
      "source": [
        "class NodeList:\n",
        "  def __init__(self, val=0, next=None):\n",
        "    self.val = val\n",
        "    self.next = next"
      ],
      "execution_count": 25,
      "outputs": []
    },
    {
      "cell_type": "code",
      "metadata": {
        "id": "cTtDLBdxjxhP"
      },
      "source": [
        "l1 = NodeList(5)\n",
        "l2 = NodeList(4, l1)\n",
        "l3 = NodeList(3, l2)\n",
        "l4 = NodeList(2, l3)\n",
        "l5 = NodeList(1, l4)"
      ],
      "execution_count": 36,
      "outputs": []
    },
    {
      "cell_type": "code",
      "metadata": {
        "colab": {
          "base_uri": "https://localhost:8080/"
        },
        "id": "oa7d5swWj7ca",
        "outputId": "db025616-779c-4ba8-b786-f70b4c1f2417"
      },
      "source": [
        "n_nodes = 1\n",
        "node_to_delete = 2\n",
        "\n",
        "current_node = l5\n",
        "node_array = []\n",
        "while current_node.next != None:\n",
        "  node_array.append(current_node.val)\n",
        "  current_node = current_node.next\n",
        "  if current_node.next == None:\n",
        "    node_array.append(current_node.val)\n",
        "  n_nodes += 1\n",
        "\n",
        "node_to_delete_idx = n_nodes - node_to_delete\n",
        "print(node_to_delete_idx)\n",
        "node_array_deleted = []\n",
        "for i, node in enumerate(node_array):\n",
        "  if i != node_to_delete_idx:\n",
        "    node_array_deleted.append(node)\n",
        "\n",
        "print(node_array_deleted)\n",
        "\n",
        "def build_nodelist(nodeList):\n",
        "  if len(nodeList) == 1:\n",
        "    return NodeList(nodeList[0],None)\n",
        "  else:\n",
        "    current_node_value = nodeList[0]\n",
        "    nodeList = nodeList[1:]\n",
        "    return NodeList(current_node_value,build_nodelist(nodeList))\n",
        "\n",
        "build_nodelist(node_array_deleted)"
      ],
      "execution_count": 46,
      "outputs": [
        {
          "output_type": "stream",
          "text": [
            "3\n",
            "[1, 2, 3, 5]\n"
          ],
          "name": "stdout"
        },
        {
          "output_type": "execute_result",
          "data": {
            "text/plain": [
              "<__main__.NodeList at 0x7fda5b1a0dd0>"
            ]
          },
          "metadata": {
            "tags": []
          },
          "execution_count": 46
        }
      ]
    },
    {
      "cell_type": "code",
      "metadata": {
        "id": "CLKKhNXFmc7L"
      },
      "source": [
        "5 - (5-2)"
      ],
      "execution_count": null,
      "outputs": []
    }
  ]
}
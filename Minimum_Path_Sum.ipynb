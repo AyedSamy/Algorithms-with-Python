{
  "nbformat": 4,
  "nbformat_minor": 0,
  "metadata": {
    "colab": {
      "name": "Minimum Path Sum",
      "provenance": [],
      "collapsed_sections": []
    },
    "kernelspec": {
      "name": "python3",
      "display_name": "Python 3"
    },
    "language_info": {
      "name": "python"
    }
  },
  "cells": [
    {
      "cell_type": "code",
      "metadata": {
        "id": "EXIjxNRiPe6D"
      },
      "source": [
        "\"\"\"\n",
        "Given a m x n grid filled with non-negative numbers, find a path from top left to bottom right, which minimizes the sum of all numbers along its path.\n",
        "\n",
        "Note: You can only move either down or right at any point in time.\n",
        "\n",
        " \n",
        "Example 1:\n",
        "\n",
        "\n",
        "Input: grid = [[1,3,1],[1,5,1],[4,2,1]]\n",
        "Output: 7\n",
        "Explanation: Because the path 1 → 3 → 1 → 1 → 1 minimizes the sum.\n",
        "\n",
        "Example 2:\n",
        "\n",
        "Input: grid = [[1,2,3],[4,5,6]]\n",
        "Output: 12\n",
        " \n",
        "\n",
        "Constraints:\n",
        "\n",
        "m == grid.length\n",
        "n == grid[i].length\n",
        "1 <= m, n <= 200\n",
        "0 <= grid[i][j] <= 100\n",
        "\"\"\""
      ],
      "execution_count": null,
      "outputs": []
    },
    {
      "cell_type": "code",
      "metadata": {
        "id": "P2778cF8Pdut"
      },
      "source": [
        "class Solution:\n",
        "    def minPathSum(self, grid: List[List[int]]) -> int:\n",
        "        min_grid = [[0 for i in range(len(grid[0]))] for j in range(len(grid))]\n",
        "        \n",
        "        j = 0\n",
        "        while j < len(grid[0]):\n",
        "            if j > 0:\n",
        "                min_grid[0][j] = min_grid[0][j-1] + grid[0][j]\n",
        "            else:\n",
        "                min_grid[0][j] = grid[0][j]\n",
        "            j += 1\n",
        "\n",
        "        i = 0\n",
        "        while i < len(grid):\n",
        "            if i > 0:\n",
        "                min_grid[i][0] = min_grid[i-1][0] + grid[i][0]\n",
        "            else:\n",
        "                min_grid[i][0] = grid[i][0]\n",
        "            i += 1\n",
        "            \n",
        "        i = 1\n",
        "        j = 1\n",
        "        while i < len(grid):\n",
        "            j = 1\n",
        "            while j < len(grid[0]):\n",
        "                min_grid[i][j] = min(min_grid[i-1][j]+grid[i][j], min_grid[i][j-1]+grid[i][j])\n",
        "                j += 1\n",
        "            i += 1\n",
        "        \n",
        "        return min_grid[-1][-1]"
      ],
      "execution_count": null,
      "outputs": []
    },
    {
      "cell_type": "code",
      "metadata": {
        "id": "cZUIS72xYKea"
      },
      "source": [
        "grid = [[1,3,1],\n",
        "        [1,5,1],\n",
        "        [4,2,1]]\n",
        "\n",
        "min_grid = [[0 for i in range(len(grid[0]))] for j in range(len(grid))]"
      ],
      "execution_count": null,
      "outputs": []
    },
    {
      "cell_type": "code",
      "metadata": {
        "id": "hBRIMojHYjIt"
      },
      "source": [
        "j = 0\n",
        "while j < len(grid[0]):\n",
        "  if j > 0:\n",
        "    min_grid[0][j] = min_grid[0][j-1] + grid[0][j]\n",
        "  else:\n",
        "    min_grid[0][j] = grid[0][j]\n",
        "  j += 1\n",
        "\n",
        "i = 0\n",
        "while i < len(grid):\n",
        "  if i > 0:\n",
        "    min_grid[i][0] = min_grid[i-1][0] + grid[i][0]\n",
        "  else:\n",
        "    min_grid[i][0] = grid[i][0]\n",
        "  i += 1"
      ],
      "execution_count": null,
      "outputs": []
    },
    {
      "cell_type": "code",
      "metadata": {
        "id": "29W_Qbl_b701"
      },
      "source": [
        "i = 1\n",
        "j = 1\n",
        "while i < len(grid):\n",
        "  j = 1\n",
        "  while j < len(grid[0]):\n",
        "    min_grid[i][j] = min(min_grid[i-1][j]+grid[i][j], min_grid[i][j-1]+grid[i][j])\n",
        "    j += 1\n",
        "  i += 1"
      ],
      "execution_count": null,
      "outputs": []
    },
    {
      "cell_type": "code",
      "metadata": {
        "colab": {
          "base_uri": "https://localhost:8080/"
        },
        "id": "qqDZLIRSiMrj",
        "outputId": "07f21526-14a4-468c-9698-99c63f487022"
      },
      "source": [
        "min_grid"
      ],
      "execution_count": null,
      "outputs": [
        {
          "output_type": "execute_result",
          "data": {
            "text/plain": [
              "[[1, 4, 5], [2, 7, 6], [6, 8, 7]]"
            ]
          },
          "metadata": {},
          "execution_count": 47
        }
      ]
    },
    {
      "cell_type": "code",
      "metadata": {
        "id": "n_PhUdb8jF2F"
      },
      "source": [
        ""
      ],
      "execution_count": null,
      "outputs": []
    }
  ]
}
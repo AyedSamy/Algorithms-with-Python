{
  "nbformat": 4,
  "nbformat_minor": 0,
  "metadata": {
    "colab": {
      "name": "The Office V - Find a Chair",
      "provenance": [],
      "collapsed_sections": []
    },
    "kernelspec": {
      "name": "python3",
      "display_name": "Python 3"
    },
    "language_info": {
      "name": "python"
    }
  },
  "cells": [
    {
      "cell_type": "code",
      "metadata": {
        "id": "R-erUJYJUqMW"
      },
      "source": [
        "\"\"\"\n",
        "So you've found a meeting room - phew! You arrive there ready to present, and find that someone has taken one or more of the chairs!! You need to find some quick.... check all the other meeting rooms to see if all of the chairs are in use.\n",
        "\n",
        "Your meeting room can take up to 8 chairs. need will tell you how many have been taken. You need to find that many.\n",
        "\n",
        "Find the spare chairs from the array of meeting rooms. Each meeting room tuple will have the number of occupants as a string. Each occupant is represented by 'X'. The room tuple will also have an integer telling you how many chairs there are in the room.\n",
        "\n",
        "You should return an array of integers that shows how many chairs you take from each room in order, up until you have the required amount.\n",
        "\n",
        "example:\n",
        "\n",
        "[['XXX', 3], ['XXXXX', 6], ['XXXXXX', 9], ['XXX',2]] when you need 4 chairs:\n",
        "\n",
        "result -> [0, 1, 3] no chairs free in room 0, take 1 from room 1, take 3 from room 2. no need to consider room 3 as you have your 4 chairs already.\n",
        "\n",
        "If you need no chairs, return \"Game On\". If there aren't enough spare chairs available, return \"Not enough!\".\n",
        "\"\"\""
      ],
      "execution_count": null,
      "outputs": []
    },
    {
      "cell_type": "code",
      "metadata": {
        "id": "qKM4lUYkkinh"
      },
      "source": [
        "def meeting(rooms, number):\n",
        "    needed = number\n",
        "    taken_by_room = []\n",
        "    for room in rooms:\n",
        "        if sum(taken_by_room) < needed:\n",
        "            taken = room[1] - len(room[0])\n",
        "            if taken > 0:\n",
        "                taken_by_room.append(taken)\n",
        "            else:\n",
        "                taken_by_room.append(0)\n",
        "\n",
        "    if sum(taken_by_room) > needed:\n",
        "        taken_by_room[-1] = taken_by_room[-1] - (sum(taken_by_room)-needed)\n",
        "        \n",
        "    if needed == 0:\n",
        "        return \"Game On\"\n",
        "    elif sum(taken_by_room) < needed:\n",
        "        return \"Not enough!\"\n",
        "    else:\n",
        "        return taken_by_room"
      ],
      "execution_count": null,
      "outputs": []
    },
    {
      "cell_type": "code",
      "metadata": {
        "colab": {
          "base_uri": "https://localhost:8080/"
        },
        "id": "_vvxU90oSt7h",
        "outputId": "61e42b41-3945-4a13-dc0f-402ee8b38294"
      },
      "source": [
        "rooms = [['XXXX', 3], ['XXXXXXXXX', 1], ['XXXXXXX', 9], ['XX', 6], ['XXXXXXXXXX', 5], ['X', 5], ['XXXXXX', 6], ['X', 5], ['XXXXXXXXXX', 4]]\n",
        "needed = 8\n",
        "taken_by_room = []\n",
        "for room in rooms:\n",
        "  if sum(taken_by_room) < needed:\n",
        "    taken = room[1] - len(room[0])\n",
        "    if taken > 0:\n",
        "      taken_by_room.append(taken)\n",
        "    else:\n",
        "      taken_by_room.append(0)\n",
        "\n",
        "if sum(taken_by_room) > needed:\n",
        "  taken_by_room[-1] = taken_by_room[-1] - (sum(taken_by_room)-needed)\n",
        "\n",
        "taken_by_room"
      ],
      "execution_count": 4,
      "outputs": [
        {
          "output_type": "execute_result",
          "data": {
            "text/plain": [
              "[0, 0, 2, 4, 0, 2]"
            ]
          },
          "metadata": {
            "tags": []
          },
          "execution_count": 4
        }
      ]
    },
    {
      "cell_type": "code",
      "metadata": {
        "colab": {
          "base_uri": "https://localhost:8080/"
        },
        "id": "y908QDWxTVES",
        "outputId": "3f643009-1097-43a5-cf5b-851cf4df02e5"
      },
      "source": [
        "taken_by_room"
      ],
      "execution_count": 9,
      "outputs": [
        {
          "output_type": "execute_result",
          "data": {
            "text/plain": [
              "[0, 0, 1, 2, 2]"
            ]
          },
          "metadata": {
            "tags": []
          },
          "execution_count": 9
        }
      ]
    },
    {
      "cell_type": "code",
      "metadata": {
        "id": "mLTBebcsTXaw"
      },
      "source": [
        ""
      ],
      "execution_count": null,
      "outputs": []
    }
  ]
}
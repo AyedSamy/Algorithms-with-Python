{
  "nbformat": 4,
  "nbformat_minor": 0,
  "metadata": {
    "colab": {
      "name": "Fruit Into Baskets",
      "provenance": [],
      "collapsed_sections": []
    },
    "kernelspec": {
      "name": "python3",
      "display_name": "Python 3"
    },
    "language_info": {
      "name": "python"
    }
  },
  "cells": [
    {
      "cell_type": "code",
      "metadata": {
        "id": "EBzdDqHHvO4A"
      },
      "source": [
        "\"\"\"\n",
        "ou are visiting a farm that has a single row of fruit trees arranged from left to right. The trees are represented by an integer array fruits where fruits[i] is the type of fruit the ith tree produces.\n",
        "\n",
        "You want to collect as much fruit as possible. However, the owner has some strict rules that you must follow:\n",
        "\n",
        "You only have two baskets, and each basket can only hold a single type of fruit. There is no limit on the amount of fruit each basket can hold.\n",
        "Starting from any tree of your choice, you must pick exactly one fruit from every tree (including the start tree) while moving to the right. The picked fruits must fit in one of your baskets.\n",
        "Once you reach a tree with fruit that cannot fit in your baskets, you must stop.\n",
        "Given the integer array fruits, return the maximum number of fruits you can pick.\n",
        "\n",
        "Example 1:\n",
        "\n",
        "Input: fruits = [1,2,1]\n",
        "Output: 3\n",
        "Explanation: We can pick from all 3 trees.\n",
        "\n",
        "Example 2:\n",
        "\n",
        "Input: fruits = [0,1,2,2]\n",
        "Output: 3\n",
        "Explanation: We can pick from trees [1,2,2].\n",
        "If we had started at the first tree, we would only pick from trees [0,1].\n",
        "\n",
        "Example 3:\n",
        "\n",
        "Input: fruits = [1,2,3,2,2]\n",
        "Output: 4\n",
        "Explanation: We can pick from trees [2,3,2,2].\n",
        "If we had started at the first tree, we would only pick from trees [1,2].\n",
        "\n",
        "Example 4:\n",
        "\n",
        "Input: fruits = [3,3,3,1,2,1,1,2,3,3,4]\n",
        "Output: 5\n",
        "Explanation: We can pick from trees [1,2,1,1,2].\n",
        " \n",
        "\n",
        "Constraints:\n",
        "\n",
        "1 <= fruits.length <= 105\n",
        "0 <= fruits[i] < fruits.length\n",
        "\"\"\""
      ],
      "execution_count": null,
      "outputs": []
    },
    {
      "cell_type": "code",
      "metadata": {
        "id": "0gnKB0w3IvPc"
      },
      "source": [
        "class Solution:\n",
        "    def totalFruit(self, fruits: List[int]) -> int:\n",
        "        current_fruits = [None, None]\n",
        "        i = 0\n",
        "        count = 0\n",
        "        best_count = 0\n",
        "\n",
        "        while i < len(fruits):\n",
        "            if current_fruits == [None, None]:\n",
        "                current_fruits[0] = fruits[i]\n",
        "                count += 1\n",
        "                best_count += 1\n",
        "            elif current_fruits[1] == None and fruits[i] != current_fruits[0]:\n",
        "                current_fruits[1] = fruits[i]\n",
        "                count += 1\n",
        "                best_count += 1\n",
        "            elif fruits[i] not in current_fruits:\n",
        "                count = 1\n",
        "                j = i-1\n",
        "                fruit_to_add = fruits[j]\n",
        "                while j > 0:\n",
        "                    if fruits[j] == fruit_to_add:\n",
        "                        count += 1\n",
        "                    else:\n",
        "                        break\n",
        "                    j-=1\n",
        "                current_fruits = [fruits[i-1], fruits[i]]\n",
        "                if count > best_count:\n",
        "                    best_count = count\n",
        "            else:\n",
        "                count += 1\n",
        "                if count > best_count:\n",
        "                    best_count = count\n",
        "            i += 1\n",
        "\n",
        "        return best_count"
      ],
      "execution_count": null,
      "outputs": []
    },
    {
      "cell_type": "code",
      "metadata": {
        "id": "JSy2TptqU9Yg"
      },
      "source": [
        "class Solution:\n",
        "    def totalFruit(self, fruits: List[int]) -> int:\n",
        "        current_fruits = [None, None]\n",
        "        idx_dict = {}\n",
        "        i = 0\n",
        "        count = 0\n",
        "        best_count = 0\n",
        "\n",
        "        while i < len(fruits):\n",
        "            if current_fruits == [None, None]:\n",
        "                current_fruits[0] = fruits[i]\n",
        "                idx_dict[fruits[i]] = i\n",
        "                count += 1\n",
        "                best_count += 1\n",
        "            elif current_fruits[1] == None and fruits[i] != current_fruits[0]:\n",
        "                current_fruits[1] = fruits[i]\n",
        "                idx_dict[fruits[i]] = i\n",
        "                count += 1\n",
        "                best_count += 1\n",
        "            elif fruits[i] not in current_fruits:\n",
        "                idx_dict[fruits[i]] = i\n",
        "                prev_fruit_idx =  idx_dict[fruits[i-1]]\n",
        "                count = i - prev_fruit_idx +1\n",
        "                current_fruits = [fruits[i-1], fruits[i]]\n",
        "                if count > best_count:\n",
        "                    best_count = count\n",
        "            else:\n",
        "                if fruits[i] != fruits[i-1]:\n",
        "                    idx_dict[fruits[i]] = i\n",
        "                count += 1\n",
        "                if count > best_count:\n",
        "                    best_count = count\n",
        "            i += 1\n",
        "\n",
        "        return best_count"
      ],
      "execution_count": null,
      "outputs": []
    },
    {
      "cell_type": "code",
      "metadata": {
        "colab": {
          "base_uri": "https://localhost:8080/"
        },
        "id": "QKPTe1zqC6ph",
        "outputId": "da3bc1bd-61e2-4fe5-ea5b-637295c10a93"
      },
      "source": [
        "fruits = [3,3,3,1,2,1,1,2,3,3,4]\n",
        "current_fruits = [None, None]\n",
        "i = 0\n",
        "count = 0\n",
        "best_count = 0\n",
        "idx_dict = {}\n",
        "\n",
        "while i < len(fruits):\n",
        "  if current_fruits == [None, None]:\n",
        "    current_fruits[0] = fruits[i]\n",
        "    idx_dict[fruits[i]] = i\n",
        "    count += 1\n",
        "    best_count += 1\n",
        "  elif current_fruits[1] == None and fruits[i] != current_fruits[0]:\n",
        "    current_fruits[1] = fruits[i]\n",
        "    idx_dict[fruits[i]] = i\n",
        "    count += 1\n",
        "    best_count += 1\n",
        "  elif fruits[i] not in current_fruits:\n",
        "    idx_dict[fruits[i]] = i\n",
        "    prev_fruit_idx =  idx_dict[fruits[i-1]]\n",
        "    count = i - prev_fruit_idx +1\n",
        "    current_fruits = [fruits[i-1], fruits[i]]\n",
        "    if count > best_count:\n",
        "      best_count = count\n",
        "  else:\n",
        "    if fruits[i] != fruits[i-1]:\n",
        "      idx_dict[fruits[i]] = i\n",
        "    count += 1\n",
        "    if count > best_count:\n",
        "      best_count = count\n",
        "  i += 1\n",
        "\n",
        "best_count"
      ],
      "execution_count": 24,
      "outputs": [
        {
          "output_type": "execute_result",
          "data": {
            "text/plain": [
              "5"
            ]
          },
          "metadata": {
            "tags": []
          },
          "execution_count": 24
        }
      ]
    },
    {
      "cell_type": "code",
      "metadata": {
        "id": "a8Zyd5w50i93"
      },
      "source": [
        ""
      ],
      "execution_count": null,
      "outputs": []
    }
  ]
}
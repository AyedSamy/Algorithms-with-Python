{
  "nbformat": 4,
  "nbformat_minor": 0,
  "metadata": {
    "colab": {
      "name": "Probabilities for Sums in Rolling Cubic Dice",
      "provenance": [],
      "collapsed_sections": []
    },
    "kernelspec": {
      "name": "python3",
      "display_name": "Python 3"
    },
    "language_info": {
      "name": "python"
    }
  },
  "cells": [
    {
      "cell_type": "code",
      "metadata": {
        "id": "NqWNSg2JMl3o"
      },
      "source": [
        "\"\"\"\n",
        "When we throw 2 classical dice (values on each side from 1 to 6) we have 36 (6 * 6) different results.\n",
        "\n",
        "We want to know the probability of having the sum of the results equals to 11. For that result we have only the combination of 6 and 5. So we will have two events: {5, 6} and {6, 5}\n",
        "\n",
        "So the probability for that result will be:\n",
        "\n",
        "P(11, 2) = 2/(6*6) = 1/18    (The two is because we have 2 dice)\n",
        "Now, we want to calculate the probability of having the sum equals to 8. The combinations for that result will be the following: {4,4}, {3,5}, {5,3}, {2,6}, {6,2} with a total of five combinations.\n",
        "\n",
        "P(8, 2) = 5/36 \n",
        "Things may be more complicated if we have more dices and sum values higher.\n",
        "\n",
        "We want to know the probability of having the sum equals to 8 but having 3 dice.\n",
        "\n",
        "Now the combinations and corresponding events are:\n",
        "\n",
        "{2,3,3}, {3,2,3}, {3,3,2}\n",
        "{2,2,4}, {2,4,2}, {4,2,2}\n",
        "{1,3,4}, {1,4,3}, {3,1,4}, {4,1,3}, {3,4,1}, {4,3,1}\n",
        "{1,2,5}, {1,5,2}, {2,1,5}, {5,1,2}, {2,5,1}, {5,2,1}\n",
        "{1,1,6}, {1,6,1}, {6,1,1}\n",
        "\n",
        "A total amount of 21 different combinations\n",
        "\n",
        "So the probability is:\n",
        "P(8, 3) = 21/(6*6*6) = 0.09722222222222222\n",
        "Summarizing the cases we have seen with a function that receives the two arguments\n",
        "\n",
        "rolldice_sum_prob(11, 2) == 0.0555555555 # or 1/18\n",
        "\n",
        "rolldice_sum_prob(8, 2) ==  0.13888888889# or 5/36\n",
        "\n",
        "rolldice_sum_prob(8, 3) == 0.0972222222222  # or 7/72\n",
        "And think why we have this result:\n",
        "\n",
        "rolldice_sum_prob(22, 3) == 0\n",
        "Create the function rolldice_sum_prob() for this calculation.\n",
        "\n",
        "Have a nice time!\n",
        "\n",
        "(You do not have to round the results)\n",
        "\"\"\""
      ],
      "execution_count": null,
      "outputs": []
    },
    {
      "cell_type": "code",
      "metadata": {
        "colab": {
          "base_uri": "https://localhost:8080/"
        },
        "id": "dWVVvJ-i8fYJ",
        "outputId": "ef729242-a1ac-49b8-9eed-9322e907477f"
      },
      "source": [
        "import itertools\n",
        "\n",
        "k = 2\n",
        "res = 8\n",
        "\n",
        "dices_values = [[c for c in range(1,7)] for n in range(k)]\n",
        "combinations = list(itertools.product(*dices_values))\n",
        "comb_sum = [sum(c) for c in combinations]\n",
        "prob = comb_sum.count(res)/len(comb_sum)\n",
        "prob\n"
      ],
      "execution_count": 36,
      "outputs": [
        {
          "output_type": "execute_result",
          "data": {
            "text/plain": [
              "0.1388888888888889"
            ]
          },
          "metadata": {
            "tags": []
          },
          "execution_count": 36
        }
      ]
    },
    {
      "cell_type": "code",
      "metadata": {
        "id": "TisNGme2__45"
      },
      "source": [
        "def rolldice_sum_prob(sum_, dice_amount):\n",
        "    dices_values = [[c for c in range(1,7)] for n in range(dice_amount)]\n",
        "    combinations = list(itertools.product(*dices_values))\n",
        "    comb_sum = [sum(c) for c in combinations]\n",
        "    prob = comb_sum.count(sum_)/len(comb_sum)\n",
        "    return prob"
      ],
      "execution_count": null,
      "outputs": []
    }
  ]
}
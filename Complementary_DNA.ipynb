{
  "nbformat": 4,
  "nbformat_minor": 0,
  "metadata": {
    "colab": {
      "name": "Complementary DNA",
      "provenance": []
    },
    "kernelspec": {
      "name": "python3",
      "display_name": "Python 3"
    }
  },
  "cells": [
    {
      "cell_type": "code",
      "metadata": {
        "id": "v_jcMDv63f9U"
      },
      "source": [
        "\"\"\"\r\n",
        "Deoxyribonucleic acid (DNA) is a chemical found in the nucleus of cells and carries the \"instructions\" for the development and functioning of living organisms.\r\n",
        "\r\n",
        "If you want to know more http://en.wikipedia.org/wiki/DNA\r\n",
        "\r\n",
        "In DNA strings, symbols \"A\" and \"T\" are complements of each other, as \"C\" and \"G\". You have function with one side of the DNA (string, except for Haskell);\r\n",
        "you need to get the other complementary side. DNA strand is never empty or there is no DNA at all (again, except for Haskell).\r\n",
        "\r\n",
        "More similar exercise are found here http://rosalind.info/problems/list-view/ (source)\r\n",
        "\r\n",
        "DNA_strand (\"ATTGC\") # return \"TAACG\"\r\n",
        "\r\n",
        "DNA_strand (\"GTAT\") # return \"CATA\"\r\n",
        "\"\"\""
      ],
      "execution_count": null,
      "outputs": []
    },
    {
      "cell_type": "code",
      "metadata": {
        "colab": {
          "base_uri": "https://localhost:8080/"
        },
        "id": "hfDEXVEb3tdK",
        "outputId": "897bfe7b-0f40-43c0-eb6a-ce5bb7e4295a"
      },
      "source": [
        "def DNA_strand(dna):\r\n",
        "  relations = {\"A\":\"T\",\"T\":\"A\",\"G\":\"C\",\"C\":\"G\"}\r\n",
        "  complementary = \"\"\r\n",
        "  for c in dna:\r\n",
        "    complementary += relations[c]\r\n",
        "  return complementary\r\n",
        "\r\n",
        "print(DNA_strand(\"ATTGC\"))\r\n",
        "print(DNA_strand(\"GTAT\"))\r\n"
      ],
      "execution_count": 4,
      "outputs": [
        {
          "output_type": "stream",
          "text": [
            "TAACG\n",
            "CATA\n"
          ],
          "name": "stdout"
        }
      ]
    },
    {
      "cell_type": "code",
      "metadata": {
        "id": "eZlhvPZB4WU5"
      },
      "source": [
        ""
      ],
      "execution_count": null,
      "outputs": []
    }
  ]
}
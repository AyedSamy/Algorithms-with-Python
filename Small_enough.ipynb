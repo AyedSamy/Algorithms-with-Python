{
  "nbformat": 4,
  "nbformat_minor": 0,
  "metadata": {
    "colab": {
      "name": "Small enough",
      "provenance": [],
      "collapsed_sections": []
    },
    "kernelspec": {
      "name": "python3",
      "display_name": "Python 3"
    },
    "language_info": {
      "name": "python"
    }
  },
  "cells": [
    {
      "cell_type": "code",
      "metadata": {
        "id": "_xS0s8Yufp0Y"
      },
      "source": [
        "\"\"\"\n",
        "You will be given an array and a limit value. You must check that all values in the array are below or equal to the limit value. If they are, return true. Else, return false.\n",
        "\n",
        "You can assume all values in the array are numbers.\n",
        "\"\"\""
      ],
      "execution_count": null,
      "outputs": []
    },
    {
      "cell_type": "code",
      "metadata": {
        "id": "LH5C7Tn2dMqx"
      },
      "source": [
        "def small_enough(array, limit):\n",
        "    under = True\n",
        "    for n in array:\n",
        "        if n > limit:\n",
        "            under = False\n",
        "    return under"
      ],
      "execution_count": null,
      "outputs": []
    }
  ]
}
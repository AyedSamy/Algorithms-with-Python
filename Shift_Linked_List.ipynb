{
  "nbformat": 4,
  "nbformat_minor": 0,
  "metadata": {
    "colab": {
      "name": "Shift Linked List",
      "provenance": [],
      "collapsed_sections": []
    },
    "kernelspec": {
      "name": "python3",
      "display_name": "Python 3"
    }
  },
  "cells": [
    {
      "cell_type": "code",
      "metadata": {
        "id": "kNr3SnhkL4Uh"
      },
      "source": [
        "class Node:\r\n",
        "  def __init__(self, value, next, prev):\r\n",
        "    self.value = value\r\n",
        "    self.next = next\r\n",
        "    self.prev = prev\r\n",
        "\r\n",
        "class LinkedList:\r\n",
        "    def __init__(self):\r\n",
        "        self.head = None\r\n",
        "        self.tail = None\r\n",
        "\r\n",
        "    def insert_at_the_beginning(self, data):\r\n",
        "      node = Node(data, self.head, None)\r\n",
        "      self.head = node\r\n",
        "      itr = self.head\r\n",
        "      while itr:\r\n",
        "        if itr.next != None:\r\n",
        "          itr.next.prev = itr\r\n",
        "        else:\r\n",
        "          self.tail = itr\r\n",
        "        itr = itr.next\r\n",
        "      \r\n",
        "    def __len__(self):\r\n",
        "      count = 0\r\n",
        "      itr = self.head\r\n",
        "      while itr:\r\n",
        "        count += 1\r\n",
        "        itr = itr.next\r\n",
        "      return count\r\n",
        "\r\n",
        "    def insert_at_the_end(self, data):\r\n",
        "      itr = self.head\r\n",
        "      if itr == None:\r\n",
        "        self.insert_at_the_beginning(data)\r\n",
        "        return\r\n",
        "      while itr:\r\n",
        "        if itr.next == None:\r\n",
        "          itr.next = Node(data, None, itr)\r\n",
        "          self.tail = itr.next\r\n",
        "          break\r\n",
        "        itr = itr.next\r\n",
        "    \r\n",
        "    def insert_values(self, values):\r\n",
        "      self.head = None\r\n",
        "      for value in values:\r\n",
        "        self.insert_at_the_end(value)\r\n",
        "    \r\n",
        "    def insert_values_loop(self, values):\r\n",
        "      self.head = None\r\n",
        "      for value in values:\r\n",
        "        self.insert_at_the_end(value)\r\n",
        "      self.head.prev = self.tail\r\n",
        "      self.tail.next = self.head\r\n",
        "    \r\n",
        "    def delete_at_index(self, idx):\r\n",
        "      if idx < 0 or idx >= self.__len__():\r\n",
        "        print(\"Can't delete at the given index\")\r\n",
        "        return\r\n",
        "      if idx == 0:\r\n",
        "        self.head = self.head.next\r\n",
        "        return\r\n",
        "      i = 0\r\n",
        "      itr = self.head\r\n",
        "      while itr:\r\n",
        "        if i == idx - 1:\r\n",
        "          itr.next = itr.next.next\r\n",
        "          prev_node = itr\r\n",
        "        if i == idx:\r\n",
        "          itr.prev = prev_node\r\n",
        "        if itr.next == None:\r\n",
        "          self.tail = itr\r\n",
        "        itr = itr.next\r\n",
        "        i += 1\r\n",
        "    \r\n",
        "    def insert_at_index(self, idx, data):\r\n",
        "      if idx < 0 or idx > self.__len__():\r\n",
        "        print(\"Can't insert at the given index\")\r\n",
        "        return\r\n",
        "      if idx == 0:\r\n",
        "        self.insert_at_the_beginning(data)\r\n",
        "        return\r\n",
        "      if idx == self.__len__():\r\n",
        "        self.insert_at_the_end(data)\r\n",
        "        return\r\n",
        "      itr = self.head\r\n",
        "      i = 0\r\n",
        "      while itr:\r\n",
        "        if i == idx - 1:\r\n",
        "          itr.next = Node(data,itr.next,itr)\r\n",
        "          prev_node = Node(data,itr.next,itr)\r\n",
        "        if i == idx + 1:\r\n",
        "          itr.prev = prev_node\r\n",
        "        itr = itr.next\r\n",
        "        i += 1\r\n",
        "    \r\n",
        "    def insert_after(self, after, data):\r\n",
        "      itr = self.head\r\n",
        "      i = 0\r\n",
        "      while itr:\r\n",
        "        current_value = itr.value\r\n",
        "        if current_value == after:\r\n",
        "          self.insert_at_index(i+1, data)\r\n",
        "        itr = itr.next\r\n",
        "        i += 1\r\n",
        "    \r\n",
        "    def delete_value(self, value):\r\n",
        "      itr = self.head\r\n",
        "      i = 0\r\n",
        "      while itr:\r\n",
        "        if itr.value == value:\r\n",
        "          self.delete_at_index(i)\r\n",
        "        itr = itr.next\r\n",
        "        i += 1\r\n",
        "\r\n",
        "    def __str__(self):\r\n",
        "      linked_list = '' \r\n",
        "      itr = self.head\r\n",
        "      while itr:\r\n",
        "        if itr.next == None:\r\n",
        "          linked_list += itr.value\r\n",
        "        else:\r\n",
        "          linked_list += itr.value + ' -> '\r\n",
        "        itr = itr.next\r\n",
        "      return linked_list\r\n",
        "    \r\n",
        "    def print_backward(self):\r\n",
        "      linked_list_backward = ''\r\n",
        "      itr = self.tail\r\n",
        "      while itr:\r\n",
        "        if itr.prev == None:\r\n",
        "          linked_list_backward += itr.value\r\n",
        "        else:\r\n",
        "          linked_list_backward += itr.value + ' <- '\r\n",
        "        itr = itr.prev\r\n",
        "      return linked_list_backward\r\n",
        "\r\n",
        "    def shift_list(self, k):\r\n",
        "      i = 0\r\n",
        "      itr_h = self.head\r\n",
        "      itr_t = self.tail\r\n",
        "      if k < 0:\r\n",
        "        while i < -k:\r\n",
        "          self.head = itr_h.next\r\n",
        "          self.tail = itr_t.next\r\n",
        "          itr_h = itr_h.next\r\n",
        "          itr_t = itr_t.next\r\n",
        "          i += 1\r\n",
        "      elif k > 0:\r\n",
        "        while i < k:\r\n",
        "          self.head = itr_h.prev\r\n",
        "          self.tail = itr_t.prev\r\n",
        "          itr_h = itr_h.prev\r\n",
        "          itr_t = itr_t.prev\r\n",
        "          i += 1\r\n",
        "      itr = self.head\r\n",
        "      linked_list = ''\r\n",
        "      while itr != self.tail:\r\n",
        "        linked_list += str(itr.value) + ' -> '\r\n",
        "        itr = itr.next\r\n",
        "        if itr == self.tail:\r\n",
        "          linked_list += str(itr.value)\r\n",
        "      return linked_list"
      ],
      "execution_count": 36,
      "outputs": []
    },
    {
      "cell_type": "code",
      "metadata": {
        "colab": {
          "base_uri": "https://localhost:8080/"
        },
        "id": "ry2cAsGQrCPr",
        "outputId": "7f161820-c7cc-4648-ae3d-15af5daa19c0"
      },
      "source": [
        "l = LinkedList()\r\n",
        "l.insert_at_the_beginning('John')\r\n",
        "l.insert_at_the_beginning('Lucy')\r\n",
        "l.insert_at_the_end('Marc')\r\n",
        "\r\n",
        "print(str(l))\r\n",
        "print('length:', len(l))\r\n",
        "print('head value:', l.head.value)\r\n",
        "\r\n",
        "l.delete_at_index(2)\r\n",
        "\r\n",
        "print('after deletion:', str(l))\r\n",
        "print('length:', len(l))\r\n",
        "print('head value:', l.head.value)\r\n",
        "\r\n",
        "l.insert_at_index(1, 'Kyle')\r\n",
        "\r\n",
        "print('after insertion:', str(l))\r\n",
        "print('length:', len(l))\r\n",
        "print('head value:', l.head.value)\r\n",
        "\r\n",
        "print('----------------------------')\r\n",
        "\r\n",
        "l2 = LinkedList()\r\n",
        "l2.insert_at_the_end('Margot')\r\n",
        "l2.insert_at_the_end('Chris')\r\n",
        "\r\n",
        "print(str(l2))\r\n",
        "print('length:', len(l2))\r\n",
        "print('head value:', l2.head.value)\r\n",
        "\r\n",
        "print('----------------------------')\r\n",
        "\r\n",
        "l3 = LinkedList()\r\n",
        "l3.insert_values(['Dan', 'Sophia', 'Claude'])\r\n",
        "print(str(l3))\r\n",
        "\r\n",
        "print('----------------------------')\r\n",
        "\r\n",
        "l4 = LinkedList()\r\n",
        "l4.insert_values(['Jessie', 'Roger', 'Clyde'])\r\n",
        "print(str(l4))\r\n",
        "print('length:', len(l4))\r\n",
        "l4.insert_after('Jessie', 'Claudia')\r\n",
        "print(str(l4))\r\n",
        "print('length:', len(l4))\r\n",
        "l4.delete_value('Roger')\r\n",
        "print(str(l4))\r\n",
        "print('length:', len(l4))"
      ],
      "execution_count": null,
      "outputs": [
        {
          "output_type": "stream",
          "text": [
            "Lucy -> John -> Marc\n",
            "length: 3\n",
            "head value: Lucy\n",
            "after deletion: Lucy -> John\n",
            "length: 2\n",
            "head value: Lucy\n",
            "after insertion: Lucy -> Kyle -> John\n",
            "length: 3\n",
            "head value: Lucy\n",
            "----------------------------\n",
            "Margot -> Chris\n",
            "length: 2\n",
            "head value: Margot\n",
            "----------------------------\n",
            "Dan -> Sophia -> Claude\n",
            "----------------------------\n",
            "Jessie -> Roger -> Clyde\n",
            "length: 3\n",
            "Jessie -> Claudia -> Roger -> Clyde\n",
            "length: 4\n",
            "Jessie -> Claudia -> Clyde\n",
            "length: 3\n"
          ],
          "name": "stdout"
        }
      ]
    },
    {
      "cell_type": "code",
      "metadata": {
        "colab": {
          "base_uri": "https://localhost:8080/"
        },
        "id": "DnKGw_eUrJWz",
        "outputId": "cdd63349-119c-4038-e1ce-e6838508b1ae"
      },
      "source": [
        "print(str(l4))\r\n",
        "print(l4.head.next.next.value)\r\n",
        "print(l4.head.next.next.prev.value)\r\n",
        "print(l4.head.next.next.prev.prev.value)"
      ],
      "execution_count": null,
      "outputs": [
        {
          "output_type": "stream",
          "text": [
            "Jessie -> Claudia -> Clyde\n",
            "Clyde\n",
            "Claudia\n",
            "Jessie\n"
          ],
          "name": "stdout"
        }
      ]
    },
    {
      "cell_type": "code",
      "metadata": {
        "colab": {
          "base_uri": "https://localhost:8080/"
        },
        "id": "euWeCK1f5qyW",
        "outputId": "e5829e96-8e6a-4c2f-bde7-7b5e344af2ea"
      },
      "source": [
        "l3 = LinkedList()\r\n",
        "l3.insert_values(['Dan', 'Sophia', 'Claude'])\r\n",
        "l3.delete_at_index(1)\r\n",
        "l3.insert_after('Dan', 'Claudia')\r\n",
        "print(str(l3))\r\n",
        "print(l3.head.next.next.prev.value)"
      ],
      "execution_count": null,
      "outputs": [
        {
          "output_type": "stream",
          "text": [
            "Dan -> Claudia -> Claude\n",
            "Claudia\n"
          ],
          "name": "stdout"
        }
      ]
    },
    {
      "cell_type": "code",
      "metadata": {
        "id": "0eACL8iErPjw",
        "colab": {
          "base_uri": "https://localhost:8080/"
        },
        "outputId": "369eb45d-b7c4-47f6-8bd7-acb393ee535c"
      },
      "source": [
        "l3 = LinkedList()\r\n",
        "l3.insert_at_the_beginning('John')\r\n",
        "l3.insert_at_the_beginning('Lucy')\r\n",
        "l3.insert_at_the_end('Marc')\r\n",
        "print(str(l3))\r\n",
        "print(l3.tail.value)\r\n",
        "l3.delete_at_index(2)\r\n",
        "print(str(l3))\r\n",
        "print(l3.tail.value)\r\n",
        "print(l3.head.value)\r\n",
        "l3.insert_at_index(2, 'Marco')\r\n",
        "print(str(l3))\r\n",
        "print(l3.tail.value)\r\n",
        "print(l3.print_backward())\r\n",
        "print(l3.head.value)"
      ],
      "execution_count": null,
      "outputs": [
        {
          "output_type": "stream",
          "text": [
            "Lucy -> John -> Marc\n",
            "Marc\n",
            "Lucy -> John\n",
            "John\n",
            "Lucy\n",
            "Lucy -> John -> Marco\n",
            "Marco\n",
            "Marco <- John <- Lucy\n",
            "Lucy\n"
          ],
          "name": "stdout"
        }
      ]
    },
    {
      "cell_type": "code",
      "metadata": {
        "id": "3pXOBSgwypwu",
        "colab": {
          "base_uri": "https://localhost:8080/"
        },
        "outputId": "fdb08287-75af-4aab-ee00-67fc9f86d0e5"
      },
      "source": [
        "l3 = LinkedList()\r\n",
        "l3.insert_values_loop([0, 1, 2, 3, 4, 5])\r\n",
        "print(l3.shift_list(2))"
      ],
      "execution_count": 39,
      "outputs": [
        {
          "output_type": "stream",
          "text": [
            "4 -> 5 -> 0 -> 1 -> 2 -> 3\n"
          ],
          "name": "stdout"
        }
      ]
    },
    {
      "cell_type": "markdown",
      "metadata": {
        "id": "kVI3XeukE8w1"
      },
      "source": [
        "# Algoexpert.io"
      ]
    },
    {
      "cell_type": "code",
      "metadata": {
        "id": "mdSFO9CJ5NVd"
      },
      "source": [
        "# This is the class of the input linked list.\r\n",
        "class LinkedList:\r\n",
        "  instances = []\r\n",
        "  head = None\r\n",
        "  tail = None\r\n",
        "\r\n",
        "  def __init__(self, value):\r\n",
        "    self.__class__.instances.append(self)\r\n",
        "    self.value = value\r\n",
        "    self.next = None\r\n",
        "\r\n",
        "  @classmethod\r\n",
        "  def printInstances(cls):\r\n",
        "    for instance in cls.instances:\r\n",
        "      print(instance.value)\r\n",
        "  \r\n",
        "  @classmethod\r\n",
        "  def defineNext(cls):\r\n",
        "    i = 0\r\n",
        "    while i < len(cls.instances) - 1:\r\n",
        "      cls.instances[i].next = cls.instances[i + 1]\r\n",
        "      i += 1\r\n",
        "      if i == len(cls.instances) - 1:\r\n",
        "        cls.instances[i].next = cls.instances[0]\r\n",
        "  \r\n",
        "  @classmethod\r\n",
        "  def defineHeadAndTail(cls, k):\r\n",
        "    cls.head = cls.instances[k]\r\n",
        "    cls.tail = cls.instances[k - 1]\r\n",
        "\r\n",
        "  @classmethod\r\n",
        "  def printLinkedList(cls):\r\n",
        "    linked_list = ''\r\n",
        "    itr = cls.head\r\n",
        "    while itr != cls.tail:\r\n",
        "      linked_list += str(itr.value) + ' -> '\r\n",
        "      if itr.next == cls.tail:\r\n",
        "        linked_list += str(cls.tail.value)\r\n",
        "      itr = itr.next\r\n",
        "    return linked_list\r\n",
        "  \r\n",
        "\r\n",
        "def shiftLinkedList(head, k):\r\n",
        "  LinkedList.defineNext()\r\n",
        "  LinkedList.defineHeadAndTail(LinkedList.instances.index(head))\r\n",
        "  itr_h = LinkedList.head\r\n",
        "  itr_t = LinkedList.tail\r\n",
        "  i = 0\r\n",
        "  #k = k % len(LinkedList.instances)\r\n",
        "  if k < 0:\r\n",
        "    k = -k % len(LinkedList.instances)\r\n",
        "    print(k)\r\n",
        "    while i < k:\r\n",
        "      if i + 1 == k:\r\n",
        "        LinkedList.head = itr_h.next\r\n",
        "        LinkedList.tail = itr_t.next\r\n",
        "      itr_h = itr_h.next\r\n",
        "      itr_t = itr_t.next\r\n",
        "      i += 1\r\n",
        "    return\r\n",
        "  if k > 0:\r\n",
        "    k = k % len(LinkedList.instances)\r\n",
        "    k = len(LinkedList.instances) - k\r\n",
        "    while i < k:\r\n",
        "      if i + 1 == k:\r\n",
        "        LinkedList.head = itr_h.next\r\n",
        "        LinkedList.tail = itr_t.next\r\n",
        "      itr_h = itr_h.next\r\n",
        "      itr_t = itr_t.next\r\n",
        "      i += 1"
      ],
      "execution_count": 40,
      "outputs": []
    },
    {
      "cell_type": "code",
      "metadata": {
        "colab": {
          "base_uri": "https://localhost:8080/",
          "height": 107
        },
        "id": "lNrZPOUtFHO8",
        "outputId": "202fe01f-db9c-45ce-be57-376a87f11f39"
      },
      "source": [
        "n0 = LinkedList(0)\r\n",
        "n1 = LinkedList(1)\r\n",
        "n2 = LinkedList(2)\r\n",
        "n3 = LinkedList(3)\r\n",
        "n4 = LinkedList(4)\r\n",
        "n5 = LinkedList(5)\r\n",
        "\r\n",
        "LinkedList.defineNext()\r\n",
        "\r\n",
        "print(LinkedList.instances[0].next.value)\r\n",
        "print(LinkedList.instances[1].next.value)\r\n",
        "print(LinkedList.instances[len(LinkedList.instances) - 1].next.value)\r\n",
        "\r\n",
        "LinkedList.defineHeadAndTail(0)\r\n",
        "\r\n",
        "print(LinkedList.head.value, LinkedList.tail.value)\r\n",
        "\r\n",
        "LinkedList.printLinkedList()"
      ],
      "execution_count": 73,
      "outputs": [
        {
          "output_type": "stream",
          "text": [
            "1\n",
            "2\n",
            "0\n",
            "0 5\n"
          ],
          "name": "stdout"
        },
        {
          "output_type": "execute_result",
          "data": {
            "application/vnd.google.colaboratory.intrinsic+json": {
              "type": "string"
            },
            "text/plain": [
              "'0 -> 1 -> 2 -> 3 -> 4 -> 5'"
            ]
          },
          "metadata": {
            "tags": []
          },
          "execution_count": 73
        }
      ]
    },
    {
      "cell_type": "code",
      "metadata": {
        "colab": {
          "base_uri": "https://localhost:8080/"
        },
        "id": "uNtId_u0qBnn",
        "outputId": "404cd18c-4eea-4d41-d576-1de92f42c3d7"
      },
      "source": [
        "LinkedList.instances = []\r\n",
        "n0 = LinkedList(0)\r\n",
        "n1 = LinkedList(1)\r\n",
        "n2 = LinkedList(2)\r\n",
        "n3 = LinkedList(3)\r\n",
        "n4 = LinkedList(4)\r\n",
        "n5 = LinkedList(5)\r\n",
        "shiftLinkedList(n0, -7)\r\n",
        "print(LinkedList.head.value, LinkedList.tail.value)\r\n",
        "print(LinkedList.printLinkedList())"
      ],
      "execution_count": 45,
      "outputs": [
        {
          "output_type": "stream",
          "text": [
            "1\n",
            "1 0\n",
            "1 -> 2 -> 3 -> 4 -> 5 -> 0\n"
          ],
          "name": "stdout"
        }
      ]
    },
    {
      "cell_type": "code",
      "metadata": {
        "id": "UvDJ5MbBDgq5"
      },
      "source": [
        ""
      ],
      "execution_count": null,
      "outputs": []
    }
  ]
}
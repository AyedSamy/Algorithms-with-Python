{
  "nbformat": 4,
  "nbformat_minor": 0,
  "metadata": {
    "colab": {
      "name": "Shift Linked List",
      "provenance": []
    },
    "kernelspec": {
      "name": "python3",
      "display_name": "Python 3"
    }
  },
  "cells": [
    {
      "cell_type": "code",
      "metadata": {
        "id": "kNr3SnhkL4Uh"
      },
      "source": [
        "class Node:\r\n",
        "  def __init__(self, value, next):\r\n",
        "    self.value = value\r\n",
        "    self.next = next\r\n",
        "\r\n",
        "class LinkedList:\r\n",
        "    def __init__(self):\r\n",
        "        self.head = None\r\n",
        "\r\n",
        "    def insert_at_the_beginning(self, data):\r\n",
        "      node = Node(data, self.head)\r\n",
        "      self.head = node\r\n",
        "\r\n",
        "    def __len__(self):\r\n",
        "      count = 0\r\n",
        "      itr = self.head\r\n",
        "      while itr:\r\n",
        "        count += 1\r\n",
        "        itr = itr.next\r\n",
        "      return count\r\n",
        "\r\n",
        "    def insert_at_the_end(self, data):\r\n",
        "      itr = self.head\r\n",
        "      if itr == None:\r\n",
        "        self.insert_at_the_beginning(data)\r\n",
        "        return\r\n",
        "\r\n",
        "      while itr:\r\n",
        "        if itr.next == None:\r\n",
        "          itr.next = Node(data, None)\r\n",
        "          break\r\n",
        "        itr = itr.next\r\n",
        "    \r\n",
        "    def insert_values(self, values):\r\n",
        "      self.head = None\r\n",
        "      for value in values:\r\n",
        "        self.insert_at_the_end(value)\r\n",
        "\r\n",
        "    def __str__(self):\r\n",
        "      linked_list = '' \r\n",
        "      itr = self.head\r\n",
        "      while itr:\r\n",
        "        if itr.next == None:\r\n",
        "          linked_list += itr.value\r\n",
        "        else:\r\n",
        "          linked_list += itr.value + ' -> '\r\n",
        "        itr = itr.next\r\n",
        "      return linked_list"
      ],
      "execution_count": 67,
      "outputs": []
    },
    {
      "cell_type": "code",
      "metadata": {
        "colab": {
          "base_uri": "https://localhost:8080/"
        },
        "id": "IzdMID6-L8wr",
        "outputId": "dd68820d-6e05-4883-aa0a-6874935aaaba"
      },
      "source": [
        "l = LinkedList()\r\n",
        "l.insert_at_the_beginning('John')\r\n",
        "l.insert_at_the_beginning('Lucy')\r\n",
        "l.insert_at_the_end('Marc')\r\n",
        "\r\n",
        "print(str(l))\r\n",
        "print('length:', len(l))\r\n",
        "print('head value:', l.head.value)\r\n",
        "\r\n",
        "print('----------------------------')\r\n",
        "\r\n",
        "l2 = LinkedList()\r\n",
        "l2.insert_at_the_end('Margot')\r\n",
        "l2.insert_at_the_end('Chris')\r\n",
        "\r\n",
        "print(str(l2))\r\n",
        "print('length:', len(l2))\r\n",
        "print('head value:', l2.head.value)\r\n",
        "\r\n",
        "print('----------------------------')\r\n",
        "\r\n",
        "l3 = LinkedList()\r\n",
        "l3.insert_values(['Dan', 'Sophia', 'Claude'])\r\n",
        "print(str(l3))"
      ],
      "execution_count": 71,
      "outputs": [
        {
          "output_type": "stream",
          "text": [
            "Lucy -> John -> Marc\n",
            "length: 3\n",
            "head value: Lucy\n",
            "----------------------------\n",
            "Margot -> Chris\n",
            "length: 2\n",
            "head value: Margot\n",
            "----------------------------\n",
            "Dan -> Sophia -> Claude\n"
          ],
          "name": "stdout"
        }
      ]
    },
    {
      "cell_type": "code",
      "metadata": {
        "id": "r496BuWcqjER"
      },
      "source": [
        ""
      ],
      "execution_count": null,
      "outputs": []
    }
  ]
}
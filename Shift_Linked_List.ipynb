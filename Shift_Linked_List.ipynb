{
  "nbformat": 4,
  "nbformat_minor": 0,
  "metadata": {
    "colab": {
      "name": "Shift Linked List",
      "provenance": [],
      "collapsed_sections": []
    },
    "kernelspec": {
      "name": "python3",
      "display_name": "Python 3"
    }
  },
  "cells": [
    {
      "cell_type": "code",
      "metadata": {
        "id": "kNr3SnhkL4Uh"
      },
      "source": [
        "class Node:\r\n",
        "  def __init__(self, value, next, prev):\r\n",
        "    self.value = value\r\n",
        "    self.next = next\r\n",
        "    self.prev = prev\r\n",
        "\r\n",
        "class LinkedList:\r\n",
        "    def __init__(self):\r\n",
        "        self.head = None\r\n",
        "        self.tail = None\r\n",
        "\r\n",
        "    def insert_at_the_beginning(self, data):\r\n",
        "      node = Node(data, self.head, None)\r\n",
        "      self.head = node\r\n",
        "      itr = self.head\r\n",
        "      while itr:\r\n",
        "        if itr.next != None:\r\n",
        "          itr.next.prev = itr\r\n",
        "        else:\r\n",
        "          self.tail = itr\r\n",
        "        itr = itr.next\r\n",
        "      \r\n",
        "    def __len__(self):\r\n",
        "      count = 0\r\n",
        "      itr = self.head\r\n",
        "      while itr:\r\n",
        "        count += 1\r\n",
        "        itr = itr.next\r\n",
        "      return count\r\n",
        "\r\n",
        "    def insert_at_the_end(self, data):\r\n",
        "      itr = self.head\r\n",
        "      if itr == None:\r\n",
        "        self.insert_at_the_beginning(data)\r\n",
        "        return\r\n",
        "      while itr:\r\n",
        "        if itr.next == None:\r\n",
        "          itr.next = Node(data, None, itr)\r\n",
        "          self.tail = itr.next\r\n",
        "          break\r\n",
        "        itr = itr.next\r\n",
        "    \r\n",
        "    def insert_values(self, values):\r\n",
        "      self.head = None\r\n",
        "      for value in values:\r\n",
        "        self.insert_at_the_end(value)\r\n",
        "    \r\n",
        "    def delete_at_index(self, idx):\r\n",
        "      if idx < 0 or idx >= self.__len__():\r\n",
        "        print(\"Can't delete at the given index\")\r\n",
        "        return\r\n",
        "      if idx == 0:\r\n",
        "        self.head = self.head.next\r\n",
        "        return\r\n",
        "      i = 0\r\n",
        "      itr = self.head\r\n",
        "      while itr:\r\n",
        "        if i == idx - 1:\r\n",
        "          itr.next = itr.next.next\r\n",
        "          prev_node = itr\r\n",
        "          #if itr.next != None:\r\n",
        "            #itr.next.prev = itr\r\n",
        "        if i == idx:\r\n",
        "          itr.prev = prev_node\r\n",
        "        if itr.next == None:\r\n",
        "          self.tail = itr\r\n",
        "        itr = itr.next\r\n",
        "        i += 1\r\n",
        "    \r\n",
        "    def insert_at_index(self, idx, data):\r\n",
        "      if idx < 0 or idx > self.__len__():\r\n",
        "        print(\"Can't insert at the given index\")\r\n",
        "        return\r\n",
        "      if idx == 0:\r\n",
        "        self.insert_at_the_beginning(data)\r\n",
        "        return\r\n",
        "      if idx == self.__len__():\r\n",
        "        self.insert_at_the_end(data)\r\n",
        "        return\r\n",
        "      itr = self.head\r\n",
        "      i = 0\r\n",
        "      while itr:\r\n",
        "        if i == idx - 1:\r\n",
        "          itr.next = Node(data,itr.next,itr)\r\n",
        "          prev_node = Node(data,itr.next,itr)\r\n",
        "        if i == idx + 1:\r\n",
        "          itr.prev = prev_node\r\n",
        "        itr = itr.next\r\n",
        "        i += 1\r\n",
        "    \r\n",
        "    def insert_after(self, after, data):\r\n",
        "      itr = self.head\r\n",
        "      i = 0\r\n",
        "      while itr:\r\n",
        "        current_value = itr.value\r\n",
        "        if current_value == after:\r\n",
        "          self.insert_at_index(i+1, data)\r\n",
        "        itr = itr.next\r\n",
        "        i += 1\r\n",
        "    \r\n",
        "    def delete_value(self, value):\r\n",
        "      itr = self.head\r\n",
        "      i = 0\r\n",
        "      while itr:\r\n",
        "        if itr.value == value:\r\n",
        "          self.delete_at_index(i)\r\n",
        "        itr = itr.next\r\n",
        "        i += 1\r\n",
        "\r\n",
        "    def __str__(self):\r\n",
        "      linked_list = '' \r\n",
        "      itr = self.head\r\n",
        "      while itr:\r\n",
        "        if itr.next == None:\r\n",
        "          linked_list += itr.value\r\n",
        "        else:\r\n",
        "          linked_list += itr.value + ' -> '\r\n",
        "        itr = itr.next\r\n",
        "      return linked_list\r\n",
        "    \r\n",
        "    def print_backward(self):\r\n",
        "      linked_list_backward = ''\r\n",
        "      itr = self.tail\r\n",
        "      while itr:\r\n",
        "        if itr.prev == None:\r\n",
        "          linked_list_backward += itr.value\r\n",
        "        else:\r\n",
        "          linked_list_backward += itr.value + ' <- '\r\n",
        "        itr = itr.prev\r\n",
        "      return linked_list_backward"
      ],
      "execution_count": 102,
      "outputs": []
    },
    {
      "cell_type": "code",
      "metadata": {
        "colab": {
          "base_uri": "https://localhost:8080/"
        },
        "id": "ry2cAsGQrCPr",
        "outputId": "7f161820-c7cc-4648-ae3d-15af5daa19c0"
      },
      "source": [
        "l = LinkedList()\r\n",
        "l.insert_at_the_beginning('John')\r\n",
        "l.insert_at_the_beginning('Lucy')\r\n",
        "l.insert_at_the_end('Marc')\r\n",
        "\r\n",
        "print(str(l))\r\n",
        "print('length:', len(l))\r\n",
        "print('head value:', l.head.value)\r\n",
        "\r\n",
        "l.delete_at_index(2)\r\n",
        "\r\n",
        "print('after deletion:', str(l))\r\n",
        "print('length:', len(l))\r\n",
        "print('head value:', l.head.value)\r\n",
        "\r\n",
        "l.insert_at_index(1, 'Kyle')\r\n",
        "\r\n",
        "print('after insertion:', str(l))\r\n",
        "print('length:', len(l))\r\n",
        "print('head value:', l.head.value)\r\n",
        "\r\n",
        "print('----------------------------')\r\n",
        "\r\n",
        "l2 = LinkedList()\r\n",
        "l2.insert_at_the_end('Margot')\r\n",
        "l2.insert_at_the_end('Chris')\r\n",
        "\r\n",
        "print(str(l2))\r\n",
        "print('length:', len(l2))\r\n",
        "print('head value:', l2.head.value)\r\n",
        "\r\n",
        "print('----------------------------')\r\n",
        "\r\n",
        "l3 = LinkedList()\r\n",
        "l3.insert_values(['Dan', 'Sophia', 'Claude'])\r\n",
        "print(str(l3))\r\n",
        "\r\n",
        "print('----------------------------')\r\n",
        "\r\n",
        "l4 = LinkedList()\r\n",
        "l4.insert_values(['Jessie', 'Roger', 'Clyde'])\r\n",
        "print(str(l4))\r\n",
        "print('length:', len(l4))\r\n",
        "l4.insert_after('Jessie', 'Claudia')\r\n",
        "print(str(l4))\r\n",
        "print('length:', len(l4))\r\n",
        "l4.delete_value('Roger')\r\n",
        "print(str(l4))\r\n",
        "print('length:', len(l4))"
      ],
      "execution_count": null,
      "outputs": [
        {
          "output_type": "stream",
          "text": [
            "Lucy -> John -> Marc\n",
            "length: 3\n",
            "head value: Lucy\n",
            "after deletion: Lucy -> John\n",
            "length: 2\n",
            "head value: Lucy\n",
            "after insertion: Lucy -> Kyle -> John\n",
            "length: 3\n",
            "head value: Lucy\n",
            "----------------------------\n",
            "Margot -> Chris\n",
            "length: 2\n",
            "head value: Margot\n",
            "----------------------------\n",
            "Dan -> Sophia -> Claude\n",
            "----------------------------\n",
            "Jessie -> Roger -> Clyde\n",
            "length: 3\n",
            "Jessie -> Claudia -> Roger -> Clyde\n",
            "length: 4\n",
            "Jessie -> Claudia -> Clyde\n",
            "length: 3\n"
          ],
          "name": "stdout"
        }
      ]
    },
    {
      "cell_type": "code",
      "metadata": {
        "colab": {
          "base_uri": "https://localhost:8080/"
        },
        "id": "DnKGw_eUrJWz",
        "outputId": "cdd63349-119c-4038-e1ce-e6838508b1ae"
      },
      "source": [
        "print(str(l4))\r\n",
        "print(l4.head.next.next.value)\r\n",
        "print(l4.head.next.next.prev.value)\r\n",
        "print(l4.head.next.next.prev.prev.value)"
      ],
      "execution_count": 42,
      "outputs": [
        {
          "output_type": "stream",
          "text": [
            "Jessie -> Claudia -> Clyde\n",
            "Clyde\n",
            "Claudia\n",
            "Jessie\n"
          ],
          "name": "stdout"
        }
      ]
    },
    {
      "cell_type": "code",
      "metadata": {
        "colab": {
          "base_uri": "https://localhost:8080/"
        },
        "id": "euWeCK1f5qyW",
        "outputId": "e5829e96-8e6a-4c2f-bde7-7b5e344af2ea"
      },
      "source": [
        "l3 = LinkedList()\r\n",
        "l3.insert_values(['Dan', 'Sophia', 'Claude'])\r\n",
        "l3.delete_at_index(1)\r\n",
        "l3.insert_after('Dan', 'Claudia')\r\n",
        "print(str(l3))\r\n",
        "print(l3.head.next.next.prev.value)"
      ],
      "execution_count": 41,
      "outputs": [
        {
          "output_type": "stream",
          "text": [
            "Dan -> Claudia -> Claude\n",
            "Claudia\n"
          ],
          "name": "stdout"
        }
      ]
    },
    {
      "cell_type": "code",
      "metadata": {
        "id": "0eACL8iErPjw",
        "colab": {
          "base_uri": "https://localhost:8080/"
        },
        "outputId": "2425f496-7a70-451e-ed04-6cbe1bbcc11e"
      },
      "source": [
        "l3 = LinkedList()\r\n",
        "l3.insert_at_the_beginning('John')\r\n",
        "l3.insert_at_the_beginning('Lucy')\r\n",
        "l3.insert_at_the_end('Marc')\r\n",
        "print(str(l3))\r\n",
        "print(l3.tail.value)\r\n",
        "l3.delete_at_index(2)\r\n",
        "print(str(l3))\r\n",
        "print(l3.tail.value)\r\n",
        "l3.insert_at_index(2, 'Marco')\r\n",
        "print(str(l3))\r\n",
        "print(l3.tail.value)\r\n",
        "print(l3.print_backward())"
      ],
      "execution_count": 103,
      "outputs": [
        {
          "output_type": "stream",
          "text": [
            "Lucy -> John -> Marc\n",
            "Marc\n",
            "Lucy -> John\n",
            "John\n",
            "Lucy -> John -> Marco\n",
            "Marco\n",
            "Marco <- John <- Lucy\n"
          ],
          "name": "stdout"
        }
      ]
    },
    {
      "cell_type": "code",
      "metadata": {
        "id": "eOcmQfiQcNmZ"
      },
      "source": [
        ""
      ],
      "execution_count": null,
      "outputs": []
    }
  ]
}
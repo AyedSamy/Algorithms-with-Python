{
  "nbformat": 4,
  "nbformat_minor": 0,
  "metadata": {
    "colab": {
      "name": "Best travel",
      "provenance": []
    },
    "kernelspec": {
      "name": "python3",
      "display_name": "Python 3"
    },
    "language_info": {
      "name": "python"
    }
  },
  "cells": [
    {
      "cell_type": "code",
      "metadata": {
        "id": "EDL_nhUalLny"
      },
      "source": [
        "\"\"\"\n",
        "John and Mary want to travel between a few towns A, B, C ... Mary has on a sheet of paper a list of distances between these towns. ls = [50, 55, 57, 58, 60]. John is tired of driving and he says to Mary that he doesn't want to drive more than t = 174 miles and he will visit only 3 towns.\n",
        "\n",
        "Which distances, hence which towns, they will choose so that the sum of the distances is the biggest possible to please Mary and John?\n",
        "\n",
        "Example:\n",
        "With list ls and 3 towns to visit they can make a choice between: [50,55,57],[50,55,58],[50,55,60],[50,57,58],[50,57,60],[50,58,60],[55,57,58],[55,57,60],[55,58,60],[57,58,60].\n",
        "\n",
        "The sums of distances are then: 162, 163, 165, 165, 167, 168, 170, 172, 173, 175.\n",
        "\n",
        "The biggest possible sum taking a limit of 174 into account is then 173 and the distances of the 3 corresponding towns is [55, 58, 60].\n",
        "\n",
        "The function chooseBestSum (or choose_best_sum or ... depending on the language) will take as parameters t (maximum sum of distances, integer >= 0), k (number of towns to visit, k >= 1) and ls (list of distances, all distances are positive or zero integers and this list has at least one element). The function returns the \"best\" sum ie the biggest possible sum of k distances less than or equal to the given limit t, if that sum exists, or otherwise nil, null, None, Nothing, depending on the language.\n",
        "\n",
        "With C++, C, Rust, Swift, Go, Kotlin, Dart return -1.\n",
        "\n",
        "Examples:\n",
        "ts = [50, 55, 56, 57, 58] choose_best_sum(163, 3, ts) -> 163\n",
        "\n",
        "xs = [50] choose_best_sum(163, 3, xs) -> nil (or null or ... or -1 (C++, C, Rust, Swift, Go, ...)\n",
        "\n",
        "ys = [91, 74, 73, 85, 73, 81, 87] choose_best_sum(230, 3, ys) -> 228\n",
        "\n",
        "Notes:\n",
        "try not to modify the input list of distances ls\n",
        "in some languages this \"list\" is in fact a string (see the Sample Tests).\n",
        "\"\"\""
      ],
      "execution_count": 1,
      "outputs": []
    },
    {
      "cell_type": "code",
      "metadata": {
        "colab": {
          "base_uri": "https://localhost:8080/"
        },
        "id": "9_9oJtwwlNs2",
        "outputId": "803ab5fd-c7f6-48e1-df70-da4f311cc88f"
      },
      "source": [
        "import itertools\n",
        "\n",
        "ls = [100, 76, 56, 44, 89, 73, 68, 56, 64, 123, 2333, 144, 50, 132, 123, 34, 89]\n",
        "k = 8\n",
        "combinations = itertools.combinations(ls,k)\n",
        "max_distance = 430\n",
        "best_sum = 0\n",
        "best_tuple = None\n",
        "\n",
        "for c in combinations:\n",
        "  c_sum = sum(c)\n",
        "  if c_sum <= max_distance and c_sum > best_sum:\n",
        "    best_sum = c_sum\n",
        "    best_tuple = c\n",
        "\n",
        "print(best_sum)\n",
        "print(best_tuple)"
      ],
      "execution_count": 24,
      "outputs": [
        {
          "output_type": "stream",
          "text": [
            "0\n",
            "None\n"
          ],
          "name": "stdout"
        }
      ]
    },
    {
      "cell_type": "code",
      "metadata": {
        "id": "Ft1HcvZYn5VN"
      },
      "source": [
        ""
      ],
      "execution_count": null,
      "outputs": []
    }
  ]
}
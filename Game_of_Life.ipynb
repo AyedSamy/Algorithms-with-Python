{
  "nbformat": 4,
  "nbformat_minor": 0,
  "metadata": {
    "colab": {
      "name": "Game of Life",
      "provenance": [],
      "collapsed_sections": []
    },
    "kernelspec": {
      "name": "python3",
      "display_name": "Python 3"
    },
    "language_info": {
      "name": "python"
    }
  },
  "cells": [
    {
      "cell_type": "code",
      "metadata": {
        "id": "rdipTYaRMyim"
      },
      "source": [
        "\"\"\"\n",
        "Game of Life\n",
        "\n",
        "According to Wikipedia's article: \"The Game of Life, also known simply as Life, is a cellular automaton devised by the British mathematician John Horton Conway in 1970.\"\n",
        "\n",
        "The board is made up of an m x n grid of cells, where each cell has an initial state: live (represented by a 1) or dead (represented by a 0). Each cell interacts with its eight neighbors (horizontal, vertical, diagonal) using the following four rules (taken from the above Wikipedia article):\n",
        "\n",
        "Any live cell with fewer than two live neighbors dies as if caused by under-population.\n",
        "Any live cell with two or three live neighbors lives on to the next generation.\n",
        "Any live cell with more than three live neighbors dies, as if by over-population.\n",
        "Any dead cell with exactly three live neighbors becomes a live cell, as if by reproduction.\n",
        "The next state is created by applying the above rules simultaneously to every cell in the current state, where births and deaths occur simultaneously. Given the current state of the m x n grid board, return the next state.\n",
        "\n",
        " \n",
        "\n",
        "Example 1:\n",
        "\n",
        "\n",
        "Input: board = [[0,1,0],[0,0,1],[1,1,1],[0,0,0]]\n",
        "Output: [[0,0,0],[1,0,1],[0,1,1],[0,1,0]]\n",
        "Example 2:\n",
        "\n",
        "\n",
        "Input: board = [[1,1],[1,0]]\n",
        "Output: [[1,1],[1,1]]\n",
        " \n",
        "\n",
        "Constraints:\n",
        "\n",
        "m == board.length\n",
        "n == board[i].length\n",
        "1 <= m, n <= 25\n",
        "board[i][j] is 0 or 1.\n",
        "\"\"\""
      ],
      "execution_count": null,
      "outputs": []
    },
    {
      "cell_type": "code",
      "metadata": {
        "id": "SuDxwEyRFILf"
      },
      "source": [
        "def count_live_cells(i,j,grid):\n",
        "  live_cells = 0\n",
        "  if i>0 and grid[i-1][j] == 1:\n",
        "    live_cells += 1\n",
        "  if i>0 and j>0 and grid[i-1][j-1] == 1:\n",
        "    live_cells += 1\n",
        "  if i>0 and j+1<len(grid[0]) and grid[i-1][j+1] == 1:\n",
        "    live_cells += 1\n",
        "  if i+1<len(grid) and grid[i+1][j] == 1:\n",
        "    live_cells += 1\n",
        "  if i+1<len(grid) and j+1<len(grid[0]) and grid[i+1][j+1] == 1:\n",
        "    live_cells += 1\n",
        "  if i+1<len(grid) and j>0 and grid[i+1][j-1] == 1:\n",
        "    live_cells += 1\n",
        "  if j>0 and grid[i][j-1] == 1:\n",
        "    live_cells += 1\n",
        "  if j+1<len(grid[0]) and grid[i][j+1] == 1:\n",
        "    live_cells += 1\n",
        "  return live_cells"
      ],
      "execution_count": 57,
      "outputs": []
    },
    {
      "cell_type": "code",
      "metadata": {
        "colab": {
          "base_uri": "https://localhost:8080/"
        },
        "id": "xhvWlQr-HrjQ",
        "outputId": "47e65fa6-66b6-4959-839d-8693b91065a3"
      },
      "source": [
        "board = [[0,1,0],\n",
        "         [0,0,1],\n",
        "         [1,1,1],\n",
        "         [0,0,0]]\n",
        "         \n",
        "next_step = [[0 for i in range(len(board[0]))] for j in range(len(board))]\n",
        "\n",
        "gen=0\n",
        "while gen < 10:\n",
        "  for i, row in enumerate(board):\n",
        "    for j, cell in enumerate(row):\n",
        "      live_count = count_live_cells(i,j,board)\n",
        "      if board[i][j] == 1 and live_count < 2:\n",
        "        next_step[i][j] = 0\n",
        "      elif board[i][j] == 1 and live_count in [2,3]:\n",
        "        next_step[i][j] = 1\n",
        "      elif board[i][j] == 1 and live_count > 3:\n",
        "        next_step[i][j] = 0\n",
        "      elif board[i][j] == 0 and live_count == 3:\n",
        "        next_step[i][j] = 1\n",
        "      else:\n",
        "        next_step[i][j] = 0\n",
        "  print(f\"Board at Gen {gen}\")\n",
        "  board = next_step\n",
        "  print(board)\n",
        "  next_step = [[0 for i in range(len(board[0]))] for j in range(len(board))]\n",
        "  gen += 1"
      ],
      "execution_count": 87,
      "outputs": [
        {
          "output_type": "stream",
          "text": [
            "Board at Gen 0\n",
            "[[0, 0, 0], [1, 0, 1], [0, 1, 1], [0, 1, 0]]\n",
            "Board at Gen 1\n",
            "[[0, 0, 0], [0, 0, 1], [1, 0, 1], [0, 1, 1]]\n",
            "Board at Gen 2\n",
            "[[0, 0, 0], [0, 1, 0], [0, 0, 1], [0, 1, 1]]\n",
            "Board at Gen 3\n",
            "[[0, 0, 0], [0, 0, 0], [0, 0, 1], [0, 1, 1]]\n",
            "Board at Gen 4\n",
            "[[0, 0, 0], [0, 0, 0], [0, 1, 1], [0, 1, 1]]\n",
            "Board at Gen 5\n",
            "[[0, 0, 0], [0, 0, 0], [0, 1, 1], [0, 1, 1]]\n",
            "Board at Gen 6\n",
            "[[0, 0, 0], [0, 0, 0], [0, 1, 1], [0, 1, 1]]\n",
            "Board at Gen 7\n",
            "[[0, 0, 0], [0, 0, 0], [0, 1, 1], [0, 1, 1]]\n",
            "Board at Gen 8\n",
            "[[0, 0, 0], [0, 0, 0], [0, 1, 1], [0, 1, 1]]\n",
            "Board at Gen 9\n",
            "[[0, 0, 0], [0, 0, 0], [0, 1, 1], [0, 1, 1]]\n"
          ],
          "name": "stdout"
        }
      ]
    },
    {
      "cell_type": "code",
      "metadata": {
        "id": "g_oHpATFh_0R"
      },
      "source": [
        ""
      ],
      "execution_count": null,
      "outputs": []
    }
  ]
}
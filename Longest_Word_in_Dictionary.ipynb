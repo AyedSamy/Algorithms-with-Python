{
  "nbformat": 4,
  "nbformat_minor": 0,
  "metadata": {
    "colab": {
      "name": "Longest Word in Dictionary",
      "provenance": [],
      "collapsed_sections": []
    },
    "kernelspec": {
      "name": "python3",
      "display_name": "Python 3"
    },
    "language_info": {
      "name": "python"
    }
  },
  "cells": [
    {
      "cell_type": "code",
      "metadata": {
        "id": "fR4IslkSLEy1"
      },
      "source": [
        "\"\"\"\n",
        "Given an array of strings words representing an English Dictionary, return the longest word in words that can be built one character at a time by other words in words.\n",
        "\n",
        "If there is more than one possible answer, return the longest word with the smallest lexicographical order. If there is no answer, return the empty string.\n",
        "\n",
        " \n",
        "\n",
        "Example 1:\n",
        "\n",
        "Input: words = [\"w\",\"wo\",\"wor\",\"worl\",\"world\"]\n",
        "Output: \"world\"\n",
        "Explanation: The word \"world\" can be built one character at a time by \"w\", \"wo\", \"wor\", and \"worl\".\n",
        "Example 2:\n",
        "\n",
        "Input: words = [\"a\",\"banana\",\"app\",\"appl\",\"ap\",\"apply\",\"apple\"]\n",
        "Output: \"apple\"\n",
        "Explanation: Both \"apply\" and \"apple\" can be built from other words in the dictionary. However, \"apple\" is lexicographically smaller than \"apply\".\n",
        " \n",
        "\n",
        "Constraints:\n",
        "\n",
        "1 <= words.length <= 1000\n",
        "1 <= words[i].length <= 30\n",
        "words[i] consists of lowercase English letters.\n",
        "\"\"\""
      ],
      "execution_count": null,
      "outputs": []
    },
    {
      "cell_type": "code",
      "metadata": {
        "id": "Wx02XGXiK-ld"
      },
      "source": [
        "class Solution:\n",
        "    def longestWord(self, words: List[str]) -> str:\n",
        "        words = sorted(words)\n",
        "        i = 0\n",
        "        count = 0\n",
        "        best_count = 0\n",
        "        visited_words = []\n",
        "        start_word = False\n",
        "        best_word = \"\"\n",
        "\n",
        "        while i < len(words):\n",
        "            visited_words.append(words[i])\n",
        "            if len(words[i]) == 1:\n",
        "                start_word = True\n",
        "            if start_word == True and i < len(words)-1 and len(words[i+1]) == len(words[i]) + 1 and words[i+1][0:len(words[i])] == words[i]:\n",
        "                count += 1\n",
        "                if count > best_count:\n",
        "                    best_count = count\n",
        "                    best_word = words[i+1]\n",
        "            else:\n",
        "                if i < len(words)-1 and words[i+1][0] in visited_words:\n",
        "                    start_word = True\n",
        "                    temp = \"\"\n",
        "                    for c in words[i+1][0:len(words[i+1])-1]:\n",
        "                        temp += c\n",
        "                        if temp not in visited_words:\n",
        "                            start_word = False\n",
        "                            count = 0\n",
        "                if i < len(words)-1 and start_word == True:\n",
        "                    count = len(words[i+1])-1\n",
        "                    word = words[i+1]\n",
        "                    #print(count,best_count,word,best_word)\n",
        "                    if count > best_count:\n",
        "                        best_count = count\n",
        "                        best_word = word\n",
        "                start_word = False\n",
        "                count = 0\n",
        "            i+=1\n",
        "        \n",
        "        if best_word == \"\":\n",
        "            if len(min(words)) == 1:\n",
        "                return min(words)\n",
        "            else:\n",
        "                return \"\"\n",
        "        return best_word"
      ],
      "execution_count": null,
      "outputs": []
    },
    {
      "cell_type": "code",
      "metadata": {
        "colab": {
          "base_uri": "https://localhost:8080/"
        },
        "id": "bIiu2IpmZOM2",
        "outputId": "fd1f380d-6ab4-4e42-f23e-83d558f48cef"
      },
      "source": [
        "words = [\"rac\",\"rs\",\"ra\",\"on\",\"r\",\"otif\",\"o\",\"onpdu\",\"rsf\",\"rs\",\"ot\",\"oti\",\"racy\",\"onpd\"]\n",
        "words = sorted(words)\n",
        "words"
      ],
      "execution_count": null,
      "outputs": [
        {
          "output_type": "execute_result",
          "data": {
            "text/plain": [
              "['o',\n",
              " 'on',\n",
              " 'onpd',\n",
              " 'onpdu',\n",
              " 'ot',\n",
              " 'oti',\n",
              " 'otif',\n",
              " 'r',\n",
              " 'ra',\n",
              " 'rac',\n",
              " 'racy',\n",
              " 'rs',\n",
              " 'rs',\n",
              " 'rsf']"
            ]
          },
          "metadata": {
            "tags": []
          },
          "execution_count": 84
        }
      ]
    },
    {
      "cell_type": "code",
      "metadata": {
        "colab": {
          "base_uri": "https://localhost:8080/"
        },
        "id": "JdywZSaKZV8g",
        "outputId": "1bfe1af5-f1ff-474f-9767-787782768037"
      },
      "source": [
        "i = 0\n",
        "count = 0\n",
        "best_count = 0\n",
        "visited_words = []\n",
        "\n",
        "while i < len(words):\n",
        "  visited_words.append(words[i])\n",
        "  if len(words[i]) == 1:\n",
        "    start_word = True\n",
        "  if start_word == True and i < len(words)-1 and len(words[i+1]) == len(words[i]) + 1 and words[i+1][0:len(words[i])] == words[i]:\n",
        "    count += 1\n",
        "    if count > best_count:\n",
        "      best_count = count\n",
        "      best_word = words[i+1]\n",
        "  else:\n",
        "    if i < len(words)-1 and words[i+1][0] in visited_words:\n",
        "      start_word = True\n",
        "      temp = \"\"\n",
        "      for c in words[i+1][0:len(words[i+1])-1]:\n",
        "        temp += c\n",
        "        if temp not in visited_words:\n",
        "          start_word = False\n",
        "          count = 0\n",
        "    if i < len(words)-1 and start_word == True:\n",
        "      count = len(words[i+1])-1\n",
        "      word = words[i+1]\n",
        "      #print(count,best_count,word,best_word)\n",
        "      if count > best_count:\n",
        "        best_count = count\n",
        "        best_word = word\n",
        "    start_word = False\n",
        "    count = 0\n",
        "  i+=1\n"
      ],
      "execution_count": null,
      "outputs": [
        {
          "output_type": "stream",
          "text": [
            "1 1 ot on\n",
            "2 1 oti on\n",
            "3 2 otif oti\n",
            "1 3 rs otif\n",
            "1 3 rs otif\n",
            "2 3 rsf otif\n"
          ],
          "name": "stdout"
        }
      ]
    },
    {
      "cell_type": "code",
      "metadata": {
        "colab": {
          "base_uri": "https://localhost:8080/",
          "height": 35
        },
        "id": "4IvXDduXcX-D",
        "outputId": "aec50c02-9f3a-4cf4-d709-71a17cc89260"
      },
      "source": [
        "best_word"
      ],
      "execution_count": null,
      "outputs": [
        {
          "output_type": "execute_result",
          "data": {
            "application/vnd.google.colaboratory.intrinsic+json": {
              "type": "string"
            },
            "text/plain": [
              "'otif'"
            ]
          },
          "metadata": {
            "tags": []
          },
          "execution_count": 86
        }
      ]
    },
    {
      "cell_type": "code",
      "metadata": {
        "colab": {
          "base_uri": "https://localhost:8080/"
        },
        "id": "xhRWK3pga2jk",
        "outputId": "047ac504-223f-4b54-e8b8-24b6b842055c"
      },
      "source": [
        "best_count"
      ],
      "execution_count": null,
      "outputs": [
        {
          "output_type": "execute_result",
          "data": {
            "text/plain": [
              "3"
            ]
          },
          "metadata": {
            "tags": []
          },
          "execution_count": 59
        }
      ]
    },
    {
      "cell_type": "code",
      "metadata": {
        "colab": {
          "base_uri": "https://localhost:8080/"
        },
        "id": "Q9-esDPpdffd",
        "outputId": "301ac7e9-94ed-48c7-a255-eed7aa3b7817"
      },
      "source": [
        "visited_words"
      ],
      "execution_count": null,
      "outputs": [
        {
          "output_type": "execute_result",
          "data": {
            "text/plain": [
              "['o',\n",
              " 'on',\n",
              " 'onpd',\n",
              " 'onpdu',\n",
              " 'ot',\n",
              " 'oti',\n",
              " 'otif',\n",
              " 'r',\n",
              " 'ra',\n",
              " 'rac',\n",
              " 'racy',\n",
              " 'rs',\n",
              " 'rs',\n",
              " 'rsf']"
            ]
          },
          "metadata": {
            "tags": []
          },
          "execution_count": 50
        }
      ]
    },
    {
      "cell_type": "code",
      "metadata": {
        "id": "cNKHqIgJjlKO"
      },
      "source": [
        ""
      ],
      "execution_count": null,
      "outputs": []
    }
  ]
}
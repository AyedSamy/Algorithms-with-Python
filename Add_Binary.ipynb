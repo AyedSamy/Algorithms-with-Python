{
  "nbformat": 4,
  "nbformat_minor": 0,
  "metadata": {
    "colab": {
      "name": "Add Binary",
      "provenance": [],
      "collapsed_sections": []
    },
    "kernelspec": {
      "name": "python3",
      "display_name": "Python 3"
    },
    "language_info": {
      "name": "python"
    }
  },
  "cells": [
    {
      "cell_type": "code",
      "metadata": {
        "id": "ghc1mUBngFF6"
      },
      "source": [
        "\"\"\"\n",
        "Given two binary strings a and b, return their sum as a binary string.\n",
        "\n",
        "Example 1:\n",
        "\n",
        "Input: a = \"11\", b = \"1\"\n",
        "Output: \"100\"\n",
        "Example 2:\n",
        "\n",
        "Input: a = \"1010\", b = \"1011\"\n",
        "Output: \"10101\"\n",
        " \n",
        "\n",
        "Constraints:\n",
        "\n",
        "1 <= a.length, b.length <= 104\n",
        "a and b consist only of '0' or '1' characters.\n",
        "Each string does not contain leading zeros except for the zero itself.\n",
        "\"\"\""
      ],
      "execution_count": null,
      "outputs": []
    },
    {
      "cell_type": "code",
      "metadata": {
        "colab": {
          "base_uri": "https://localhost:8080/"
        },
        "id": "1ltW4zVedGuz",
        "outputId": "088600c5-087c-4f53-d8dd-37ef3fb39491"
      },
      "source": [
        "def binary_to_decimal(s):\n",
        "  j = 0\n",
        "  i = 0\n",
        "  while i < len(s):\n",
        "    j = j*2 + int(s[i])\n",
        "    i += 1\n",
        "  return j\n",
        "\n",
        "\n",
        "def decimal_to_binary(x,binary_result):\n",
        "  if x == 0:\n",
        "    return \"0\" + binary_result\n",
        "  elif x == 1:\n",
        "    return \"1\" + binary_result\n",
        "  else:\n",
        "    binary_result = str(x%2) + binary_result\n",
        "    x = x // 2\n",
        "    return decimal_to_binary(x, binary_result)\n",
        "\n",
        "a = \"11\"\n",
        "b = \"1\"\n",
        "print(decimal_to_binary(binary_to_decimal(a) + binary_to_decimal(b),\"\"))\n",
        "\n",
        "a = \"1010\"\n",
        "b = \"1011\"\n",
        "print(decimal_to_binary(binary_to_decimal(a) + binary_to_decimal(b),\"\"))"
      ],
      "execution_count": 13,
      "outputs": [
        {
          "output_type": "stream",
          "name": "stdout",
          "text": [
            "100\n",
            "10101\n"
          ]
        }
      ]
    },
    {
      "cell_type": "code",
      "metadata": {
        "id": "FzKG8dxtfg4X"
      },
      "source": [
        ""
      ],
      "execution_count": null,
      "outputs": []
    }
  ]
}
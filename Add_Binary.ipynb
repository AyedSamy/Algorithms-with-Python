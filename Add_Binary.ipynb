{
  "nbformat": 4,
  "nbformat_minor": 0,
  "metadata": {
    "colab": {
      "name": "Add Binary",
      "provenance": [],
      "collapsed_sections": []
    },
    "kernelspec": {
      "name": "python3",
      "display_name": "Python 3"
    },
    "language_info": {
      "name": "python"
    }
  },
  "cells": [
    {
      "cell_type": "code",
      "metadata": {
        "id": "ghc1mUBngFF6"
      },
      "source": [
        "\"\"\"\n",
        "Given two binary strings a and b, return their sum as a binary string.\n",
        "\n",
        "Example 1:\n",
        "\n",
        "Input: a = \"11\", b = \"1\"\n",
        "Output: \"100\"\n",
        "Example 2:\n",
        "\n",
        "Input: a = \"1010\", b = \"1011\"\n",
        "Output: \"10101\"\n",
        " \n",
        "\n",
        "Constraints:\n",
        "\n",
        "1 <= a.length, b.length <= 104\n",
        "a and b consist only of '0' or '1' characters.\n",
        "Each string does not contain leading zeros except for the zero itself.\n",
        "\"\"\""
      ],
      "execution_count": null,
      "outputs": []
    },
    {
      "cell_type": "code",
      "metadata": {
        "id": "NYTLibn7bMmI"
      },
      "source": [
        "def decimal_to_binary(x,binary_result):\n",
        "  if x == 0:\n",
        "    return \"0\" + binary_result\n",
        "  elif x == 1:\n",
        "    return \"1\" + binary_result\n",
        "  else:\n",
        "    binary_result = str(x%2) + binary_result\n",
        "    x = x // 2\n",
        "    return get_binary(x, binary_result)\n"
      ],
      "execution_count": 14,
      "outputs": []
    },
    {
      "cell_type": "code",
      "metadata": {
        "colab": {
          "base_uri": "https://localhost:8080/",
          "height": 35
        },
        "id": "yERxZVPwdDbs",
        "outputId": "c4ed8191-aab7-47bc-8713-c558f610872b"
      },
      "source": [
        "get_binary(11,\"\")"
      ],
      "execution_count": 18,
      "outputs": [
        {
          "output_type": "execute_result",
          "data": {
            "application/vnd.google.colaboratory.intrinsic+json": {
              "type": "string"
            },
            "text/plain": [
              "'1011'"
            ]
          },
          "metadata": {},
          "execution_count": 18
        }
      ]
    },
    {
      "cell_type": "code",
      "metadata": {
        "colab": {
          "base_uri": "https://localhost:8080/"
        },
        "id": "1ltW4zVedGuz",
        "outputId": "f42e2dcd-9ec8-4ebb-94f1-281095eda9ee"
      },
      "source": [
        "def binary_to_decimal(s):\n",
        "  j = 0\n",
        "  i = 0\n",
        "  while i < len(s):\n",
        "    j = j*2 + int(s[i])\n",
        "    i += 1\n",
        "  return j\n",
        "\n",
        "binary_to_decimal(\"100\")"
      ],
      "execution_count": 26,
      "outputs": [
        {
          "output_type": "execute_result",
          "data": {
            "text/plain": [
              "4"
            ]
          },
          "metadata": {},
          "execution_count": 26
        }
      ]
    },
    {
      "cell_type": "code",
      "metadata": {
        "id": "FzKG8dxtfg4X"
      },
      "source": [
        ""
      ],
      "execution_count": null,
      "outputs": []
    }
  ]
}
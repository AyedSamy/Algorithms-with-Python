{
  "nbformat": 4,
  "nbformat_minor": 0,
  "metadata": {
    "colab": {
      "name": "Remove islands",
      "provenance": []
    },
    "kernelspec": {
      "name": "python3",
      "display_name": "Python 3"
    },
    "language_info": {
      "name": "python"
    }
  },
  "cells": [
    {
      "cell_type": "code",
      "metadata": {
        "id": "AQO0HR9zkmvN"
      },
      "source": [
        "grid = [[1,0,0,0,0,0],\n",
        "        [0,1,0,1,1,1],\n",
        "        [0,0,1,0,1,0],\n",
        "        [1,1,0,0,1,0],\n",
        "        [1,0,1,1,0,0],\n",
        "        [1,0,0,0,0,1]]\n",
        "\n",
        "visited_cells = [[0 for i in range(len(grid[0]))] for j in range(len(grid))]\n",
        "\n",
        "nodes_to_visit = []\n",
        "\n",
        "one_indexes_to_keep = []"
      ],
      "execution_count": 24,
      "outputs": []
    },
    {
      "cell_type": "code",
      "metadata": {
        "id": "IasU0dVynYUD"
      },
      "source": [
        "def valid_index(i,j):\n",
        "  if i == 0 or i == len(grid)-1:\n",
        "    return True\n",
        "  elif j == 0 or j == len(grid[0])-1:\n",
        "    return True\n",
        "  return False"
      ],
      "execution_count": 25,
      "outputs": []
    },
    {
      "cell_type": "code",
      "metadata": {
        "id": "zt4fNx34p459"
      },
      "source": [
        "def get_neighbours(i,j,nodes_to_visit,visited_cells,grid):\n",
        "  if i+1 < len(grid) and grid[i+1][j] == 1 and [i+1,j] not in nodes_to_visit and visited_cells[i+1][j] == 0:\n",
        "    nodes_to_visit.append([i+1,j])\n",
        "  if i>0 and grid[i-1][j] == 1 and [i-1,j] not in nodes_to_visit and visited_cells[i-1][j] == 0:\n",
        "    nodes_to_visit.append([i-1,j])\n",
        "  if j+1 < len(grid[0]) and grid[i][j+1] == 1 and [i,j+1] not in nodes_to_visit and visited_cells[i][j+1] == 0:\n",
        "    nodes_to_visit.append([i,j+1])\n",
        "  if j>0 and grid[i][j-1] == 1 and [i,j-1] not in nodes_to_visit and visited_cells[i][j-1] == 0:\n",
        "    nodes_to_visit.append([i,j-1])"
      ],
      "execution_count": 26,
      "outputs": []
    },
    {
      "cell_type": "code",
      "metadata": {
        "id": "fPG-_bZelvOH"
      },
      "source": [
        "for i, row in enumerate(grid):\n",
        "  for j, cell in enumerate(row):\n",
        "    if valid_index(i,j) and visited_cells[i][j] == 0 and grid[i][j] == 1:\n",
        "      visited_cells[i][j] = 1\n",
        "      get_neighbours(i,j,nodes_to_visit,visited_cells,grid)\n",
        "      while nodes_to_visit != []:\n",
        "        current_node = nodes_to_visit.pop()\n",
        "        current_node_i = current_node[0]\n",
        "        current_node_j = current_node[1]\n",
        "        visited_cells[current_node_i][current_node_j] = 1\n",
        "        get_neighbours(current_node_i,current_node_j,nodes_to_visit,visited_cells,grid)\n",
        "        if current_node_i > 0 and current_node_i < len(grid)-1 and current_node_j > 0 and current_node_j < len(grid[0])-1:\n",
        "          one_indexes_to_keep.append([current_node_i,current_node_j])\n",
        "      "
      ],
      "execution_count": 27,
      "outputs": []
    },
    {
      "cell_type": "code",
      "metadata": {
        "colab": {
          "base_uri": "https://localhost:8080/"
        },
        "id": "bYiKaMxdm8s4",
        "outputId": "58377a42-d5f9-4452-f42d-fd861bfff208"
      },
      "source": [
        "one_indexes_to_keep"
      ],
      "execution_count": 28,
      "outputs": [
        {
          "output_type": "execute_result",
          "data": {
            "text/plain": [
              "[[1, 4], [1, 3], [2, 4], [3, 4], [3, 1]]"
            ]
          },
          "metadata": {},
          "execution_count": 28
        }
      ]
    },
    {
      "cell_type": "code",
      "metadata": {
        "colab": {
          "base_uri": "https://localhost:8080/"
        },
        "id": "fYO1SxySuQQ1",
        "outputId": "ae00b303-4392-465f-bac1-b8fb1c221d67"
      },
      "source": [
        "for i, row in enumerate(grid):\n",
        "  for j, cell in enumerate(row):\n",
        "    if valid_index(i,j) == False and [i,j] not in one_indexes_to_keep:\n",
        "      grid[i][j] = 0\n",
        "\n",
        "grid"
      ],
      "execution_count": 29,
      "outputs": [
        {
          "output_type": "execute_result",
          "data": {
            "text/plain": [
              "[[1, 0, 0, 0, 0, 0],\n",
              " [0, 0, 0, 1, 1, 1],\n",
              " [0, 0, 0, 0, 1, 0],\n",
              " [1, 1, 0, 0, 1, 0],\n",
              " [1, 0, 0, 0, 0, 0],\n",
              " [1, 0, 0, 0, 0, 1]]"
            ]
          },
          "metadata": {},
          "execution_count": 29
        }
      ]
    },
    {
      "cell_type": "code",
      "metadata": {
        "id": "J801cUomvAPd"
      },
      "source": [
        ""
      ],
      "execution_count": null,
      "outputs": []
    }
  ]
}